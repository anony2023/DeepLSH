{
 "cells": [
  {
   "cell_type": "code",
   "execution_count": 1,
   "id": "bb7e69c2-b065-46fa-b6eb-7ea56ae43f35",
   "metadata": {},
   "outputs": [],
   "source": [
    "import os\n",
    "import sys\n",
    "import numpy as np\n",
    "import pandas as pd\n",
    "import random\n",
    "import matplotlib.pyplot as plt\n",
    "import seaborn as sns\n",
    "import warnings\n",
    "import pickle\n",
    "warnings.filterwarnings(\"ignore\")\n",
    "from sklearn.feature_extraction.text import CountVectorizer\n",
    "from sklearn.model_selection import train_test_split"
   ]
  },
  {
   "cell_type": "code",
   "execution_count": 2,
   "id": "1014d33e-c803-41ce-be12-ab1c3f929253",
   "metadata": {},
   "outputs": [],
   "source": [
    "sys.path.append(os.path.join(os.path.dirname(os.path.dirname(os.getcwd())),'python-packages/'))\n",
    "from deep_hashing_models import *\n",
    "from similarities import *\n",
    "from lsh_search import *"
   ]
  },
  {
   "cell_type": "markdown",
   "id": "627c738c-cd1f-4e1b-ae93-1aa3d25882aa",
   "metadata": {},
   "source": [
    "# 1. Data Preparation"
   ]
  },
  {
   "cell_type": "code",
   "execution_count": 3,
   "id": "e96659a4-eea0-48d9-8977-fecba559b78d",
   "metadata": {},
   "outputs": [],
   "source": [
    "data_repo = os.path.join(os.path.dirname(os.path.dirname(os.path.dirname(os.getcwd()))),'data/')"
   ]
  },
  {
   "cell_type": "code",
   "execution_count": 4,
   "id": "d2874701-b390-405b-9001-822faf31ade5",
   "metadata": {},
   "outputs": [],
   "source": [
    "df_distinct_stacks = pd.read_csv(data_repo + 'frequent_stack_traces.csv', index_col = [0])\n",
    "df_measures = pd.read_csv(data_repo + 'similarity-measures-pairs.csv', index_col = [0])"
   ]
  },
  {
   "cell_type": "code",
   "execution_count": 5,
   "id": "7b4772e1-6603-4344-a277-70d9728c61ea",
   "metadata": {},
   "outputs": [
    {
     "data": {
      "text/plain": [
       "1000"
      ]
     },
     "execution_count": 5,
     "metadata": {},
     "output_type": "execute_result"
    }
   ],
   "source": [
    "n_stacks = df_distinct_stacks.shape[0]\n",
    "n_stacks"
   ]
  },
  {
   "cell_type": "code",
   "execution_count": 6,
   "id": "e515f018-4609-4487-8d87-d707ca6347da",
   "metadata": {},
   "outputs": [],
   "source": [
    "vectorizer_bag_of_frames = CountVectorizer(token_pattern = r\"(?u)\\b[a-zA-Z0-9_.]{2,}\\b\")\n",
    "s = df_distinct_stacks['stackTraceCusto'].apply(lambda x : x.replace('\\n',' '))\n",
    "s = s.apply(lambda x : x.replace('$',''))\n",
    "s = s.apply(lambda x : x.replace('/',''))\n",
    "s = s.apply(lambda x : x.replace('<',''))\n",
    "s = s.apply(lambda x : x.replace('>',''))\n",
    "X_bag_of_frames = vectorizer_bag_of_frames.fit_transform(list(s)).toarray()\n",
    "df_bag_of_frames = pd.DataFrame(data = X_bag_of_frames, columns = vectorizer_bag_of_frames.get_feature_names())"
   ]
  },
  {
   "cell_type": "code",
   "execution_count": 7,
   "id": "50aa90c2-205c-4f47-8230-4da0ea7d618f",
   "metadata": {},
   "outputs": [],
   "source": [
    "X_train, X_validation, Y_train, Y_validation = train_test_split(df_measures.index, df_measures['Jaccard'], test_size = 0.2) "
   ]
  },
  {
   "cell_type": "code",
   "execution_count": 8,
   "id": "9b5ac005-aa8f-47fe-a5cf-ece206be1621",
   "metadata": {},
   "outputs": [],
   "source": [
    "indexes_train_1 = X_train.to_series().apply(lambda x : get_two_indexes(x, df_distinct_stacks.shape[0])[0]).to_list()\n",
    "indexes_train_2 = X_train.to_series().apply(lambda x : get_two_indexes(x, df_distinct_stacks.shape[0])[1]).to_list()\n",
    "indexes_validation_1 = X_validation.to_series().apply(lambda x : get_two_indexes(x, df_distinct_stacks.shape[0])[0]).to_list()\n",
    "indexes_validation_2 = X_validation.to_series().apply(lambda x : get_two_indexes(x, df_distinct_stacks.shape[0])[1]).to_list()"
   ]
  },
  {
   "cell_type": "code",
   "execution_count": 9,
   "id": "ed7fad07-aacc-453c-beba-7b0123b67c82",
   "metadata": {},
   "outputs": [],
   "source": [
    "X_train = dict()\n",
    "X_train['stack_1'] = df_bag_of_frames.loc[indexes_train_1].values\n",
    "X_train['stack_2'] = df_bag_of_frames.loc[indexes_train_2].values\n",
    "\n",
    "X_validation = dict()\n",
    "X_validation['stack_1'] = df_bag_of_frames.loc[indexes_validation_1].values\n",
    "X_validation['stack_2'] = df_bag_of_frames.loc[indexes_validation_2].values"
   ]
  },
  {
   "cell_type": "code",
   "execution_count": 10,
   "id": "7a79ade3-db36-4098-9c5a-109ec33a37eb",
   "metadata": {},
   "outputs": [],
   "source": [
    "Y_train = Y_train.values\n",
    "Y_validation = Y_validation.values"
   ]
  },
  {
   "cell_type": "code",
   "execution_count": 11,
   "id": "5f8cc839-bd54-4630-8f35-2a89bb19c00d",
   "metadata": {},
   "outputs": [],
   "source": [
    "assert X_train['stack_1'].shape == X_train['stack_2'].shape\n",
    "assert len(X_train['stack_1']) == len(Y_train)"
   ]
  },
  {
   "cell_type": "markdown",
   "id": "753999cd-6682-4263-b38e-1865140e6708",
   "metadata": {},
   "source": [
    "### Distribution of training data"
   ]
  },
  {
   "cell_type": "code",
   "execution_count": 12,
   "id": "3db6e7b6-ff7f-4089-be9b-af02e34646ed",
   "metadata": {},
   "outputs": [
    {
     "data": {
      "image/png": "[encoded data removed]",
      "text/plain": [
       "<Figure size 720x360 with 1 Axes>"
      ]
     },
     "metadata": {
      "needs_background": "light"
     },
     "output_type": "display_data"
    }
   ],
   "source": [
    "plt.rcParams[\"figure.figsize\"] = [10, 5]\n",
    "plt.hist(Y_train, 20, alpha = 1, density = False)\n",
    "plt.show()"
   ]
  },
  {
   "cell_type": "markdown",
   "id": "3a910820-e364-426d-9cbd-411794637bc8",
   "metadata": {},
   "source": [
    "### Distribution of test data"
   ]
  },
  {
   "cell_type": "code",
   "execution_count": 13,
   "id": "c242807e-a11b-43e2-82a0-aed22cbdefbc",
   "metadata": {},
   "outputs": [
    {
     "data": {
      "image/png": "[encoded data removed]",
      "text/plain": [
       "<Figure size 720x360 with 1 Axes>"
      ]
     },
     "metadata": {
      "needs_background": "light"
     },
     "output_type": "display_data"
    }
   ],
   "source": [
    "plt.rcParams[\"figure.figsize\"] = [10, 5]\n",
    "plt.hist(Y_validation, 20, alpha = 1, density = False)\n",
    "plt.show()"
   ]
  },
  {
   "cell_type": "markdown",
   "id": "19aa15e5-aee6-46ea-9c52-d1fa077b05dc",
   "metadata": {},
   "source": [
    "# 2. Model Design"
   ]
  },
  {
   "cell_type": "code",
   "execution_count": 14,
   "id": "02a2362d-059a-44b7-94f7-24e03680eef0",
   "metadata": {},
   "outputs": [],
   "source": [
    "'Number of hash tables functions' \n",
    "m = 64"
   ]
  },
  {
   "cell_type": "code",
   "execution_count": 15,
   "id": "6ea1ca10-c9ff-4735-ae80-e03691eb16ba",
   "metadata": {},
   "outputs": [],
   "source": [
    "'Number of bits per hash function' \n",
    "b = 16"
   ]
  },
  {
   "cell_type": "code",
   "execution_count": 16,
   "id": "06478197-071f-4395-804f-cbc171aadbd5",
   "metadata": {},
   "outputs": [
    {
     "data": {
      "text/plain": [
       "1024"
      ]
     },
     "execution_count": 16,
     "metadata": {},
     "output_type": "execute_result"
    }
   ],
   "source": [
    "'Size hash vector'\n",
    "size_hash_vector = m * b\n",
    "size_hash_vector"
   ]
  },
  {
   "cell_type": "markdown",
   "id": "0d60851f-b05f-4bc6-80f0-ce736180afe0",
   "metadata": {},
   "source": [
    "## 2.1. Feature learning phase"
   ]
  },
  {
   "cell_type": "code",
   "execution_count": 17,
   "id": "d9893ed6-5d0b-41b2-816b-b410e1c07910",
   "metadata": {},
   "outputs": [],
   "source": [
    "x = Sequential()\n",
    "x.add(Dense(2048, input_dim = X_train['stack_1'].shape[1], activation = 'sigmoid'))\n",
    "x.add(Dense(1024, activation = 'sigmoid'))\n",
    "x.add(Dense(size_hash_vector, activation = 'tanh'))\n",
    "shared_model = x"
   ]
  },
  {
   "cell_type": "markdown",
   "id": "279ba874-5ea0-4a94-83a1-f7f7c9ca8e0e",
   "metadata": {},
   "source": [
    "## 2.2. Siamese Model "
   ]
  },
  {
   "cell_type": "code",
   "execution_count": 18,
   "id": "d1d8a570-b1a8-489c-8312-e78dca471a63",
   "metadata": {
    "tags": []
   },
   "outputs": [
    {
     "name": "stdout",
     "output_type": "stream",
     "text": [
      "Model: \"model\"\n",
      "__________________________________________________________________________________________________\n",
      "Layer (type)                    Output Shape         Param #     Connected to                     \n",
      "==================================================================================================\n",
      "input_1 (InputLayer)            [(None, 2249)]       0                                            \n",
      "__________________________________________________________________________________________________\n",
      "input_2 (InputLayer)            [(None, 2249)]       0                                            \n",
      "__________________________________________________________________________________________________\n",
      "sequential (Sequential)         (None, 1024)         7755776     input_1[0][0]                    \n",
      "                                                                 input_2[0][0]                    \n",
      "                                                                 input_1[0][0]                    \n",
      "                                                                 input_2[0][0]                    \n",
      "__________________________________________________________________________________________________\n",
      "manh_dist (ManhDist)            (None, 1)            0           sequential[0][0]                 \n",
      "                                                                 sequential[1][0]                 \n",
      "__________________________________________________________________________________________________\n",
      "abs_vect (AbsVect)              (None, 1024)         0           sequential[2][0]                 \n",
      "__________________________________________________________________________________________________\n",
      "abs_vect_1 (AbsVect)            (None, 1024)         0           sequential[3][0]                 \n",
      "==================================================================================================\n",
      "Total params: 7,755,776\n",
      "Trainable params: 7,755,776\n",
      "Non-trainable params: 0\n",
      "__________________________________________________________________________________________________\n",
      "None\n",
      "Model: \"sequential\"\n",
      "_________________________________________________________________\n",
      "Layer (type)                 Output Shape              Param #   \n",
      "=================================================================\n",
      "dense (Dense)                (None, 2048)              4608000   \n",
      "_________________________________________________________________\n",
      "dense_1 (Dense)              (None, 1024)              2098176   \n",
      "_________________________________________________________________\n",
      "dense_2 (Dense)              (None, 1024)              1049600   \n",
      "=================================================================\n",
      "Total params: 7,755,776\n",
      "Trainable params: 7,755,776\n",
      "Non-trainable params: 0\n",
      "_________________________________________________________________\n",
      "None\n"
     ]
    }
   ],
   "source": [
    "input_shape = (X_train['stack_1'].shape[1],)\n",
    "model = siamese_model_baseline(shared_model, input_shape, is_sparse = True, print_summary = True)"
   ]
  },
  {
   "cell_type": "markdown",
   "id": "0bb438cf-7efb-4603-aab4-1364b187938f",
   "metadata": {},
   "source": [
    "## 2.3. Model training "
   ]
  },
  {
   "cell_type": "code",
   "execution_count": 19,
   "id": "3c6beca4-2caa-4c8c-8ca9-c3dfaedffbdc",
   "metadata": {},
   "outputs": [
    {
     "name": "stdout",
     "output_type": "stream",
     "text": [
      "Epoch 1/20\n",
      "781/781 [==============================] - 18s 21ms/step - loss: -0.4693 - manh_dist_loss: 0.0468 - abs_vect_loss: -0.9852 - abs_vect_1_loss: -0.9855 - manh_dist_rmse: 0.2164 - manh_dist_mae: 0.1358 - val_loss: -0.4831 - val_manh_dist_loss: 0.0241 - val_abs_vect_loss: -0.9903 - val_abs_vect_1_loss: -0.9903 - val_manh_dist_rmse: 0.1553 - val_manh_dist_mae: 0.1044\n",
      "Epoch 2/20\n",
      "781/781 [==============================] - 15s 19ms/step - loss: -0.4853 - manh_dist_loss: 0.0214 - abs_vect_loss: -0.9919 - abs_vect_1_loss: -0.9920 - manh_dist_rmse: 0.1463 - manh_dist_mae: 0.0982 - val_loss: -0.4860 - val_manh_dist_loss: 0.0202 - val_abs_vect_loss: -0.9922 - val_abs_vect_1_loss: -0.9922 - val_manh_dist_rmse: 0.1421 - val_manh_dist_mae: 0.0948\n",
      "Epoch 3/20\n",
      "781/781 [==============================] - 14s 18ms/step - loss: -0.4868 - manh_dist_loss: 0.0191 - abs_vect_loss: -0.9928 - abs_vect_1_loss: -0.9927 - manh_dist_rmse: 0.1381 - manh_dist_mae: 0.0931 - val_loss: -0.4872 - val_manh_dist_loss: 0.0173 - val_abs_vect_loss: -0.9916 - val_abs_vect_1_loss: -0.9915 - val_manh_dist_rmse: 0.1313 - val_manh_dist_mae: 0.0874\n",
      "Epoch 4/20\n",
      "781/781 [==============================] - 15s 19ms/step - loss: -0.4891 - manh_dist_loss: 0.0156 - abs_vect_loss: -0.9938 - abs_vect_1_loss: -0.9936 - manh_dist_rmse: 0.1249 - manh_dist_mae: 0.0847 - val_loss: -0.4896 - val_manh_dist_loss: 0.0143 - val_abs_vect_loss: -0.9936 - val_abs_vect_1_loss: -0.9935 - val_manh_dist_rmse: 0.1197 - val_manh_dist_mae: 0.0808\n",
      "Epoch 5/20\n",
      "781/781 [==============================] - 14s 19ms/step - loss: -0.4905 - manh_dist_loss: 0.0134 - abs_vect_loss: -0.9945 - abs_vect_1_loss: -0.9943 - manh_dist_rmse: 0.1159 - manh_dist_mae: 0.0799 - val_loss: -0.4905 - val_manh_dist_loss: 0.0137 - val_abs_vect_loss: -0.9948 - val_abs_vect_1_loss: -0.9946 - val_manh_dist_rmse: 0.1169 - val_manh_dist_mae: 0.0804\n",
      "Epoch 6/20\n",
      "781/781 [==============================] - 14s 18ms/step - loss: -0.4911 - manh_dist_loss: 0.0124 - abs_vect_loss: -0.9947 - abs_vect_1_loss: -0.9945 - manh_dist_rmse: 0.1115 - manh_dist_mae: 0.0781 - val_loss: -0.4910 - val_manh_dist_loss: 0.0132 - val_abs_vect_loss: -0.9954 - val_abs_vect_1_loss: -0.9952 - val_manh_dist_rmse: 0.1149 - val_manh_dist_mae: 0.0803\n",
      "Epoch 7/20\n",
      "781/781 [==============================] - 15s 19ms/step - loss: -0.4915 - manh_dist_loss: 0.0118 - abs_vect_loss: -0.9949 - abs_vect_1_loss: -0.9947 - manh_dist_rmse: 0.1086 - manh_dist_mae: 0.0768 - val_loss: -0.4913 - val_manh_dist_loss: 0.0124 - val_abs_vect_loss: -0.9951 - val_abs_vect_1_loss: -0.9948 - val_manh_dist_rmse: 0.1112 - val_manh_dist_mae: 0.0778\n",
      "Epoch 8/20\n",
      "781/781 [==============================] - 15s 19ms/step - loss: -0.4917 - manh_dist_loss: 0.0115 - abs_vect_loss: -0.9950 - abs_vect_1_loss: -0.9949 - manh_dist_rmse: 0.1071 - manh_dist_mae: 0.0761 - val_loss: -0.4913 - val_manh_dist_loss: 0.0136 - val_abs_vect_loss: -0.9963 - val_abs_vect_1_loss: -0.9962 - val_manh_dist_rmse: 0.1165 - val_manh_dist_mae: 0.0821\n",
      "Epoch 9/20\n",
      "781/781 [==============================] - 15s 19ms/step - loss: -0.4919 - manh_dist_loss: 0.0112 - abs_vect_loss: -0.9951 - abs_vect_1_loss: -0.9950 - manh_dist_rmse: 0.1059 - manh_dist_mae: 0.0756 - val_loss: -0.4916 - val_manh_dist_loss: 0.0120 - val_abs_vect_loss: -0.9953 - val_abs_vect_1_loss: -0.9953 - val_manh_dist_rmse: 0.1096 - val_manh_dist_mae: 0.0776\n",
      "Epoch 10/20\n",
      "781/781 [==============================] - 15s 19ms/step - loss: -0.4921 - manh_dist_loss: 0.0109 - abs_vect_loss: -0.9951 - abs_vect_1_loss: -0.9951 - manh_dist_rmse: 0.1044 - manh_dist_mae: 0.0749 - val_loss: -0.4918 - val_manh_dist_loss: 0.0114 - val_abs_vect_loss: -0.9951 - val_abs_vect_1_loss: -0.9951 - val_manh_dist_rmse: 0.1069 - val_manh_dist_mae: 0.0758\n",
      "Epoch 11/20\n",
      "781/781 [==============================] - 15s 19ms/step - loss: -0.4922 - manh_dist_loss: 0.0107 - abs_vect_loss: -0.9952 - abs_vect_1_loss: -0.9951 - manh_dist_rmse: 0.1034 - manh_dist_mae: 0.0744 - val_loss: -0.4920 - val_manh_dist_loss: 0.0109 - val_abs_vect_loss: -0.9949 - val_abs_vect_1_loss: -0.9949 - val_manh_dist_rmse: 0.1043 - val_manh_dist_mae: 0.0742\n",
      "Epoch 12/20\n",
      "781/781 [==============================] - 15s 19ms/step - loss: -0.4924 - manh_dist_loss: 0.0105 - abs_vect_loss: -0.9952 - abs_vect_1_loss: -0.9952 - manh_dist_rmse: 0.1022 - manh_dist_mae: 0.0738 - val_loss: -0.4921 - val_manh_dist_loss: 0.0104 - val_abs_vect_loss: -0.9946 - val_abs_vect_1_loss: -0.9946 - val_manh_dist_rmse: 0.1018 - val_manh_dist_mae: 0.0725\n",
      "Epoch 13/20\n",
      "781/781 [==============================] - 14s 19ms/step - loss: -0.4925 - manh_dist_loss: 0.0103 - abs_vect_loss: -0.9953 - abs_vect_1_loss: -0.9953 - manh_dist_rmse: 0.1015 - manh_dist_mae: 0.0735 - val_loss: -0.4923 - val_manh_dist_loss: 0.0109 - val_abs_vect_loss: -0.9955 - val_abs_vect_1_loss: -0.9954 - val_manh_dist_rmse: 0.1044 - val_manh_dist_mae: 0.0747\n",
      "Epoch 14/20\n",
      "781/781 [==============================] - 14s 19ms/step - loss: -0.4926 - manh_dist_loss: 0.0101 - abs_vect_loss: -0.9953 - abs_vect_1_loss: -0.9953 - manh_dist_rmse: 0.1006 - manh_dist_mae: 0.0730 - val_loss: -0.4924 - val_manh_dist_loss: 0.0103 - val_abs_vect_loss: -0.9950 - val_abs_vect_1_loss: -0.9950 - val_manh_dist_rmse: 0.1013 - val_manh_dist_mae: 0.0724\n",
      "Epoch 15/20\n",
      "781/781 [==============================] - 15s 19ms/step - loss: -0.4927 - manh_dist_loss: 0.0099 - abs_vect_loss: -0.9954 - abs_vect_1_loss: -0.9954 - manh_dist_rmse: 0.0995 - manh_dist_mae: 0.0725 - val_loss: -0.4925 - val_manh_dist_loss: 0.0098 - val_abs_vect_loss: -0.9947 - val_abs_vect_1_loss: -0.9949 - val_manh_dist_rmse: 0.0990 - val_manh_dist_mae: 0.0713\n",
      "Epoch 16/20\n",
      "781/781 [==============================] - 15s 19ms/step - loss: -0.4929 - manh_dist_loss: 0.0097 - abs_vect_loss: -0.9955 - abs_vect_1_loss: -0.9955 - manh_dist_rmse: 0.0983 - manh_dist_mae: 0.0718 - val_loss: -0.4927 - val_manh_dist_loss: 0.0102 - val_abs_vect_loss: -0.9955 - val_abs_vect_1_loss: -0.9956 - val_manh_dist_rmse: 0.1009 - val_manh_dist_mae: 0.0729\n",
      "Epoch 17/20\n",
      "781/781 [==============================] - 15s 19ms/step - loss: -0.4931 - manh_dist_loss: 0.0094 - abs_vect_loss: -0.9956 - abs_vect_1_loss: -0.9956 - manh_dist_rmse: 0.0971 - manh_dist_mae: 0.0713 - val_loss: -0.4928 - val_manh_dist_loss: 0.0093 - val_abs_vect_loss: -0.9950 - val_abs_vect_1_loss: -0.9950 - val_manh_dist_rmse: 0.0966 - val_manh_dist_mae: 0.0698\n",
      "Epoch 18/20\n",
      "781/781 [==============================] - 15s 19ms/step - loss: -0.4932 - manh_dist_loss: 0.0092 - abs_vect_loss: -0.9957 - abs_vect_1_loss: -0.9957 - manh_dist_rmse: 0.0961 - manh_dist_mae: 0.0706 - val_loss: -0.4929 - val_manh_dist_loss: 0.0101 - val_abs_vect_loss: -0.9957 - val_abs_vect_1_loss: -0.9960 - val_manh_dist_rmse: 0.1005 - val_manh_dist_mae: 0.0726\n",
      "Epoch 19/20\n",
      "781/781 [==============================] - 15s 19ms/step - loss: -0.4933 - manh_dist_loss: 0.0091 - abs_vect_loss: -0.9957 - abs_vect_1_loss: -0.9958 - manh_dist_rmse: 0.0954 - manh_dist_mae: 0.0701 - val_loss: -0.4931 - val_manh_dist_loss: 0.0090 - val_abs_vect_loss: -0.9951 - val_abs_vect_1_loss: -0.9951 - val_manh_dist_rmse: 0.0949 - val_manh_dist_mae: 0.0685\n",
      "Epoch 20/20\n",
      "781/781 [==============================] - 15s 19ms/step - loss: -0.4934 - manh_dist_loss: 0.0090 - abs_vect_loss: -0.9958 - abs_vect_1_loss: -0.9958 - manh_dist_rmse: 0.0948 - manh_dist_mae: 0.0697 - val_loss: -0.4931 - val_manh_dist_loss: 0.0104 - val_abs_vect_loss: -0.9966 - val_abs_vect_1_loss: -0.9965 - val_manh_dist_rmse: 0.1021 - val_manh_dist_mae: 0.0741\n"
     ]
    }
   ],
   "source": [
    "siamese_model = train_siamese_model_baseline(model, X_train, X_validation, Y_train, Y_validation, size_hash_vector, batch_size = 512, epochs = 20)"
   ]
  },
  {
   "cell_type": "markdown",
   "id": "8de2153c-d75d-41be-848b-d503f6c36239",
   "metadata": {},
   "source": [
    "# 3. Model Evaluation"
   ]
  },
  {
   "cell_type": "code",
   "execution_count": 20,
   "id": "a3c3519a-cf27-413e-b267-6504149deb2d",
   "metadata": {},
   "outputs": [
    {
     "data": {
      "text/plain": [
       "[<tensorflow.python.keras.engine.input_layer.InputLayer at 0x7fc41cb8f8d0>,\n",
       " <tensorflow.python.keras.engine.input_layer.InputLayer at 0x7fc41d069090>,\n",
       " <tensorflow.python.keras.engine.sequential.Sequential at 0x7fc41d168710>,\n",
       " <deep_hashing_models.ManhDist at 0x7fc41cb8f910>,\n",
       " <deep_hashing_models.AbsVect at 0x7fc41cb44790>,\n",
       " <deep_hashing_models.AbsVect at 0x7fc41cb5d050>]"
      ]
     },
     "execution_count": 20,
     "metadata": {},
     "output_type": "execute_result"
    }
   ],
   "source": [
    "model.layers"
   ]
  },
  {
   "cell_type": "markdown",
   "id": "6e08e438-f7db-4ffd-a703-c050649eed80",
   "metadata": {},
   "source": [
    "## 3.1. Loss functions"
   ]
  },
  {
   "cell_type": "markdown",
   "id": "2ba523e6-4b29-4979-9739-3840a9d279e5",
   "metadata": {},
   "source": [
    "#### 3.1.1. MSE of $\\mathcal{L}_{Baseline}$"
   ]
  },
  {
   "cell_type": "code",
   "execution_count": 21,
   "id": "78fa1d12-53e0-4b18-bd6d-b49e0ac5a173",
   "metadata": {},
   "outputs": [
    {
     "data": {
      "text/plain": [
       "<matplotlib.legend.Legend at 0x7fbfbc70b650>"
      ]
     },
     "execution_count": 21,
     "metadata": {},
     "output_type": "execute_result"
    },
    {
     "data": {
      "image/png": "[encoded data removed]",
      "text/plain": [
       "<Figure size 576x360 with 1 Axes>"
      ]
     },
     "metadata": {
      "needs_background": "light"
     },
     "output_type": "display_data"
    }
   ],
   "source": [
    "plt.rcParams[\"figure.figsize\"] = (8,5)\n",
    "plt.plot(siamese_model.history['loss'], linewidth = 2)\n",
    "plt.plot(siamese_model.history['val_loss'], linewidth = 2)\n",
    "plt.title('Jaccard (Baseline)', fontsize = 18)\n",
    "plt.ylabel('MSE (Model)', fontsize = 12)\n",
    "plt.xlabel('Epochs', fontsize = 12)\n",
    "plt.ticklabel_format(style='', scilimits=(0,0))\n",
    "plt.legend(['Train', 'Validation'], loc='upper right', fontsize=15)"
   ]
  },
  {
   "cell_type": "markdown",
   "id": "05afb4e6-9037-456a-9663-060eb611c0b8",
   "metadata": {},
   "source": [
    "#### 3.1.2. RMSE of Similarity preserving loss"
   ]
  },
  {
   "cell_type": "code",
   "execution_count": 22,
   "id": "9cd1cda5-36b1-41ab-8dc3-2ebfe56fd4d9",
   "metadata": {},
   "outputs": [
    {
     "data": {
      "text/plain": [
       "<matplotlib.legend.Legend at 0x7fbfbc5bebd0>"
      ]
     },
     "execution_count": 22,
     "metadata": {},
     "output_type": "execute_result"
    },
    {
     "data": {
      "image/png": "[encoded data removed]",
      "text/plain": [
       "<Figure size 576x360 with 1 Axes>"
      ]
     },
     "metadata": {
      "needs_background": "light"
     },
     "output_type": "display_data"
    }
   ],
   "source": [
    "plt.rcParams[\"figure.figsize\"] = (8,5)\n",
    "plt.plot(siamese_model.history[model.layers[3].name + '_rmse'], linewidth = 2)\n",
    "plt.plot(siamese_model.history['val_' + model.layers[3].name + '_rmse'], linewidth = 2)\n",
    "plt.title('Jaccard (Baseline)', fontsize = 18)\n",
    "plt.ylabel('RMSE (Similarity-preserving)', fontsize = 12)\n",
    "plt.xlabel('Epochs', fontsize = 12)\n",
    "plt.ticklabel_format(style='', scilimits=(0,0))\n",
    "plt.legend(['Train', 'Validation'], loc='upper right', fontsize=15)"
   ]
  },
  {
   "cell_type": "markdown",
   "id": "ac94472b-7465-4ab0-99dd-c042b4a32572",
   "metadata": {},
   "source": [
    "#### 3.1.3. MAE of LSH preserving loss"
   ]
  },
  {
   "cell_type": "code",
   "execution_count": 23,
   "id": "c4c8e448-e36f-4a8d-8d5f-a5da5c4d5019",
   "metadata": {},
   "outputs": [
    {
     "data": {
      "text/plain": [
       "<matplotlib.legend.Legend at 0x7fbfbc55eb90>"
      ]
     },
     "execution_count": 23,
     "metadata": {},
     "output_type": "execute_result"
    },
    {
     "data": {
      "image/png": "[encoded data removed]",
      "text/plain": [
       "<Figure size 576x360 with 1 Axes>"
      ]
     },
     "metadata": {
      "needs_background": "light"
     },
     "output_type": "display_data"
    }
   ],
   "source": [
    "plt.rcParams[\"figure.figsize\"] = (8,5)\n",
    "plt.plot(siamese_model.history[model.layers[3].name + '_mae'], linewidth = 2)\n",
    "plt.plot(siamese_model.history['val_' + model.layers[3].name + '_mae'], linewidth = 2)\n",
    "plt.title('Jaccard (Baseline)', fontsize = 20)\n",
    "plt.ylabel('MAE (Similarity-preserving)', fontsize = 12)\n",
    "plt.xlabel('Epochs', fontsize = 12)\n",
    "plt.ticklabel_format(style='', scilimits=(0,0))\n",
    "plt.legend(['Train', 'Validation'], loc='upper right', fontsize=15)"
   ]
  },
  {
   "cell_type": "markdown",
   "id": "f8f7f1d0-62b0-4612-ab39-9c38fad06a4c",
   "metadata": {},
   "source": [
    "## 3.2. Model Predictions"
   ]
  },
  {
   "cell_type": "code",
   "execution_count": 24,
   "id": "1f089e9c-7bbd-40fb-90f3-3e4c7a2798d2",
   "metadata": {},
   "outputs": [],
   "source": [
    "predictions = predict(model, X_validation)"
   ]
  },
  {
   "cell_type": "markdown",
   "id": "19834dba-ff8b-45fa-aead-ac2e6d099273",
   "metadata": {},
   "source": [
    "### 3.2.1. Examples"
   ]
  },
  {
   "cell_type": "code",
   "execution_count": 25,
   "id": "eade347d-6ee3-4fa3-ba1a-c5298f94c96e",
   "metadata": {},
   "outputs": [
    {
     "data": {
      "text/plain": [
       "array([0.063, 0.623, 0.021, 0.376, 0.07 , 0.099, 0.071, 0.205, 0.306,\n",
       "       0.07 , 0.308, 0.195, 0.248, 0.214, 0.063, 0.089, 0.026, 0.383,\n",
       "       0.981, 0.258, 0.022, 0.041, 0.024, 0.141, 0.068, 0.166, 0.063,\n",
       "       0.058, 0.166, 0.057, 0.264, 0.69 , 0.035, 0.154, 0.031, 0.125,\n",
       "       0.419, 0.058, 0.067, 0.531, 0.077, 0.041, 0.081, 0.034, 0.413,\n",
       "       0.361, 0.038, 0.322, 0.066, 0.031], dtype=float32)"
      ]
     },
     "execution_count": 25,
     "metadata": {},
     "output_type": "execute_result"
    }
   ],
   "source": [
    "np.around(predictions[0][:50],3) "
   ]
  },
  {
   "cell_type": "code",
   "execution_count": 26,
   "id": "8f18d2a7-c115-4a7c-9492-facb302c578b",
   "metadata": {},
   "outputs": [
    {
     "data": {
      "text/plain": [
       "array([0.   , 0.419, 0.   , 0.069, 0.   , 0.097, 0.   , 0.208, 0.28 ,\n",
       "       0.073, 0.286, 0.   , 0.194, 0.208, 0.   , 0.   , 0.   , 0.379,\n",
       "       0.875, 0.286, 0.   , 0.   , 0.   , 0.   , 0.   , 0.   , 0.   ,\n",
       "       0.032, 0.143, 0.083, 0.065, 0.088, 0.   , 0.097, 0.   , 0.24 ,\n",
       "       0.375, 0.   , 0.   , 0.364, 0.   , 0.   , 0.   , 0.   , 0.129,\n",
       "       0.364, 0.   , 0.207, 0.069, 0.   ])"
      ]
     },
     "execution_count": 26,
     "metadata": {},
     "output_type": "execute_result"
    }
   ],
   "source": [
    "np.around(Y_validation[:50],3) "
   ]
  },
  {
   "cell_type": "markdown",
   "id": "98409488-ca93-4cd3-b71c-547fa4baa6ef",
   "metadata": {},
   "source": [
    "### 3.2.2. Spearman $\\rho$ and Kendall $\\tau$ correlation"
   ]
  },
  {
   "cell_type": "code",
   "execution_count": 27,
   "id": "01573553-5d50-49eb-aa52-c480c0de67f0",
   "metadata": {},
   "outputs": [
    {
     "data": {
      "image/png": "[encoded data removed]",
      "text/plain": [
       "<Figure size 288x288 with 1 Axes>"
      ]
     },
     "metadata": {
      "needs_background": "light"
     },
     "output_type": "display_data"
    }
   ],
   "source": [
    "plt.rcParams[\"figure.figsize\"] = (4,4)\n",
    "plt.scatter(Y_validation, predictions[0], alpha = 0.5, marker = 'x', c = '#227093')\n",
    "plt.title('Jaccard (Baseline)', fontsize = 20)\n",
    "plt.xlabel(\"Jaccard similarity values\", fontsize = 12)\n",
    "plt.ylabel(\"Collision probability\", fontsize = 12)\n",
    "plt.savefig('Results/Baseline/Jaccard-correlation', bbox_inches='tight')\n",
    "plt.show()"
   ]
  },
  {
   "cell_type": "code",
   "execution_count": 28,
   "id": "f80a43e7-b4b5-4956-9b3d-6a1457a6ee92",
   "metadata": {},
   "outputs": [
    {
     "data": {
      "text/plain": [
       "0.7442191764866607"
      ]
     },
     "execution_count": 28,
     "metadata": {},
     "output_type": "execute_result"
    }
   ],
   "source": [
    "rho, p_value = spearman_rho(predictions, Y_validation)\n",
    "rho"
   ]
  },
  {
   "cell_type": "code",
   "execution_count": 29,
   "id": "7f6dc861-28aa-4f3d-b0fb-7f5caf453280",
   "metadata": {},
   "outputs": [
    {
     "data": {
      "text/plain": [
       "0.5915171501556682"
      ]
     },
     "execution_count": 29,
     "metadata": {},
     "output_type": "execute_result"
    }
   ],
   "source": [
    "tau, p_value = kendall_tau(predictions, Y_validation)\n",
    "tau"
   ]
  },
  {
   "cell_type": "markdown",
   "id": "895fc952-6e22-451a-abd2-86de43e87328",
   "metadata": {},
   "source": [
    "## 3.3. Approximate Hamming Evaluation"
   ]
  },
  {
   "cell_type": "code",
   "execution_count": 30,
   "id": "6b9edd91-5e15-4aa8-8a05-4985b8623897",
   "metadata": {},
   "outputs": [
    {
     "data": {
      "text/plain": [
       "<tensorflow.python.keras.engine.sequential.Sequential at 0x7fc41d168710>"
      ]
     },
     "execution_count": 30,
     "metadata": {},
     "output_type": "execute_result"
    }
   ],
   "source": [
    "output_layer = 2\n",
    "model.layers[output_layer]"
   ]
  },
  {
   "cell_type": "code",
   "execution_count": 31,
   "id": "acaf1823-ca3b-4d6c-9a71-a6c9acf5e1f5",
   "metadata": {},
   "outputs": [],
   "source": [
    "intermediate_model = intermediate_model_trained(shared_model, output_layer)"
   ]
  },
  {
   "cell_type": "code",
   "execution_count": 32,
   "id": "346ee1c3-5c1c-43b0-877f-7bb065ce5ac4",
   "metadata": {},
   "outputs": [
    {
     "name": "stdout",
     "output_type": "stream",
     "text": [
      "WARNING:tensorflow:Compiled the loaded model, but the compiled metrics have yet to be built. `model.compile_metrics` will be empty until you train or evaluate the model.\n",
      "INFO:tensorflow:Assets written to: Models/model-deep-hash.model/assets\n"
     ]
    }
   ],
   "source": [
    "intermediate_model.save('Models/model-baseline.model')"
   ]
  },
  {
   "cell_type": "code",
   "execution_count": 33,
   "id": "bc07ec86-2949-42b7-8fbc-6c331cc967a8",
   "metadata": {},
   "outputs": [],
   "source": [
    "#intermediate_model = keras.models.load_model('Models/model-baseline.model')"
   ]
  },
  {
   "cell_type": "markdown",
   "id": "b4d1758f-ff99-49fc-b85c-4fe66560da40",
   "metadata": {},
   "source": [
    "### 3.3.1. Example of a hash vector provided by the model (in the last epoch)"
   ]
  },
  {
   "cell_type": "code",
   "execution_count": 34,
   "id": "ec686420-c52a-4925-852f-939cfe007904",
   "metadata": {
    "tags": []
   },
   "outputs": [
    {
     "data": {
      "text/plain": [
       "array([-0.8982379 ,  0.9999993 , -0.99811006,  0.92509335,  0.88368213,\n",
       "       -0.8427009 ,  0.83566105,  0.99999577, -0.9999995 ,  0.9999987 ,\n",
       "       -0.8928796 ,  0.9999123 , -0.8130302 ,  0.8237904 , -0.9999997 ,\n",
       "        0.90402865, -0.99998605, -0.99642867,  0.9999883 ,  0.9999989 ,\n",
       "       -0.99985856, -0.99998933, -1.        ,  0.92533195, -0.99999875,\n",
       "       -1.        , -0.8317841 , -0.99793226, -0.9982966 ,  0.89059186,\n",
       "       -1.        , -0.9999149 ,  0.9107281 , -0.9999992 ,  0.99999654,\n",
       "       -0.99993753,  0.8163208 ,  1.        ,  0.9999993 ,  0.9999757 ,\n",
       "       -0.85498935,  0.9999889 , -0.89204586, -1.        ,  1.        ,\n",
       "        0.99994755,  0.9999328 , -1.        , -0.99998957,  1.        ,\n",
       "       -0.99998814, -0.99999917, -0.99999356,  0.9999982 ,  0.99996346,\n",
       "       -0.99993545, -0.99995613,  0.8700783 , -1.        , -0.8031237 ,\n",
       "       -0.9999977 ,  0.821039  , -0.99998105,  0.85695094], dtype=float32)"
      ]
     },
     "execution_count": 34,
     "metadata": {},
     "output_type": "execute_result"
    }
   ],
   "source": [
    "'First 64 bits'\n",
    "intermediate_model.predict(df_bag_of_frames.iloc[[10]])[0][:64]"
   ]
  },
  {
   "cell_type": "markdown",
   "id": "4ec939b1-4814-49cd-80ff-ee2bad747358",
   "metadata": {},
   "source": [
    "### 3.3.2. Average value of the absolute hash values"
   ]
  },
  {
   "cell_type": "code",
   "execution_count": 35,
   "id": "f54a9180-f4a4-4e0c-94ed-e36df291b072",
   "metadata": {},
   "outputs": [],
   "source": [
    "hash_vectors = intermediate_model.predict(df_bag_of_frames)"
   ]
  },
  {
   "cell_type": "code",
   "execution_count": 36,
   "id": "0fd308c0-f913-4d55-b45b-01f976a62e0b",
   "metadata": {},
   "outputs": [
    {
     "data": {
      "text/plain": [
       "0.9250309"
      ]
     },
     "execution_count": 36,
     "metadata": {},
     "output_type": "execute_result"
    }
   ],
   "source": [
    "np.mean(np.abs(hash_vectors))"
   ]
  },
  {
   "cell_type": "markdown",
   "id": "2ca2d6a3-75da-472a-99bb-b25ece9df8a7",
   "metadata": {},
   "source": [
    "### 3.3.3. Ratio of binary values from hash vectors provided by the model"
   ]
  },
  {
   "cell_type": "code",
   "execution_count": 37,
   "id": "5bb9bdd7-c931-4db2-8a89-b20c7fb92d9e",
   "metadata": {},
   "outputs": [
    {
     "data": {
      "text/plain": [
       "0.0929541015625"
      ]
     },
     "execution_count": 37,
     "metadata": {},
     "output_type": "execute_result"
    }
   ],
   "source": [
    "hash_vectors[(hash_vectors == 1) | (hash_vectors == -1)].size / hash_vectors.size"
   ]
  },
  {
   "cell_type": "markdown",
   "id": "5a606dc1-dd06-4376-9f33-1254286c701d",
   "metadata": {},
   "source": [
    "### 3.3.4. Comparison between approximate hamming and real hamming"
   ]
  },
  {
   "cell_type": "code",
   "execution_count": 38,
   "id": "03dd89e8-82d7-47c2-8c33-a0652d3ec536",
   "metadata": {},
   "outputs": [],
   "source": [
    "df_hamming = compare_hamming(X_validation, intermediate_model, b, size_hash_vector)"
   ]
  },
  {
   "cell_type": "code",
   "execution_count": 39,
   "id": "3ba16852-6f34-4400-b198-c8f631e82d6d",
   "metadata": {},
   "outputs": [
    {
     "data": {
      "text/html": [
       "<div>\n",
       "<style scoped>\n",
       "    .dataframe tbody tr th:only-of-type {\n",
       "        vertical-align: middle;\n",
       "    }\n",
       "\n",
       "    .dataframe tbody tr th {\n",
       "        vertical-align: top;\n",
       "    }\n",
       "\n",
       "    .dataframe thead th {\n",
       "        text-align: right;\n",
       "    }\n",
       "</style>\n",
       "<table border=\"1\" class=\"dataframe\">\n",
       "  <thead>\n",
       "    <tr style=\"text-align: right;\">\n",
       "      <th></th>\n",
       "      <th>embedding_stack_1</th>\n",
       "      <th>embedding_stack_2</th>\n",
       "      <th>hamming</th>\n",
       "    </tr>\n",
       "  </thead>\n",
       "  <tbody>\n",
       "    <tr>\n",
       "      <th>0</th>\n",
       "      <td>[-1, 1, -1, 1, 1, -1, 1, 1, -1, -1, -1, 1, -1,...</td>\n",
       "      <td>[-1, 1, -1, 1, 1, -1, 1, 1, -1, 1, -1, 1, -1, ...</td>\n",
       "      <td>0.046875</td>\n",
       "    </tr>\n",
       "    <tr>\n",
       "      <th>1</th>\n",
       "      <td>[-1, 1, 1, 1, 1, -1, 1, 1, -1, 1, -1, -1, -1, ...</td>\n",
       "      <td>[-1, 1, 1, 1, 1, -1, 1, 1, -1, 1, -1, -1, -1, ...</td>\n",
       "      <td>0.875000</td>\n",
       "    </tr>\n",
       "    <tr>\n",
       "      <th>2</th>\n",
       "      <td>[-1, -1, 1, 1, 1, -1, 1, 1, -1, -1, 1, -1, -1,...</td>\n",
       "      <td>[-1, 1, -1, 1, 1, -1, 1, 1, -1, 1, -1, 1, -1, ...</td>\n",
       "      <td>0.000000</td>\n",
       "    </tr>\n",
       "    <tr>\n",
       "      <th>3</th>\n",
       "      <td>[-1, 1, -1, 1, 1, -1, 1, 1, -1, -1, -1, 1, -1,...</td>\n",
       "      <td>[-1, 1, -1, 1, 1, -1, 1, 1, -1, -1, -1, 1, -1,...</td>\n",
       "      <td>0.359375</td>\n",
       "    </tr>\n",
       "    <tr>\n",
       "      <th>4</th>\n",
       "      <td>[-1, 1, -1, 1, 1, -1, 1, 1, -1, 1, -1, 1, -1, ...</td>\n",
       "      <td>[-1, -1, 1, 1, 1, -1, 1, 1, -1, 1, 1, -1, -1, ...</td>\n",
       "      <td>0.000000</td>\n",
       "    </tr>\n",
       "    <tr>\n",
       "      <th>...</th>\n",
       "      <td>...</td>\n",
       "      <td>...</td>\n",
       "      <td>...</td>\n",
       "    </tr>\n",
       "    <tr>\n",
       "      <th>99895</th>\n",
       "      <td>[-1, 1, 1, 1, 1, -1, 1, 1, -1, -1, 1, -1, -1, ...</td>\n",
       "      <td>[-1, 1, -1, 1, 1, -1, 1, 1, -1, 1, 1, 1, -1, 1...</td>\n",
       "      <td>0.015625</td>\n",
       "    </tr>\n",
       "    <tr>\n",
       "      <th>99896</th>\n",
       "      <td>[-1, 1, -1, 1, 1, -1, 1, 1, -1, -1, -1, 1, -1,...</td>\n",
       "      <td>[-1, 1, -1, 1, 1, -1, 1, 1, -1, 1, -1, 1, -1, ...</td>\n",
       "      <td>0.031250</td>\n",
       "    </tr>\n",
       "    <tr>\n",
       "      <th>99897</th>\n",
       "      <td>[-1, 1, -1, 1, 1, -1, 1, 1, -1, 1, 1, 1, -1, 1...</td>\n",
       "      <td>[-1, -1, 1, 1, 1, -1, 1, 1, -1, 1, 1, -1, -1, ...</td>\n",
       "      <td>0.015625</td>\n",
       "    </tr>\n",
       "    <tr>\n",
       "      <th>99898</th>\n",
       "      <td>[-1, 1, -1, 1, 1, -1, 1, 1, -1, -1, 1, 1, -1, ...</td>\n",
       "      <td>[-1, 1, -1, 1, 1, -1, 1, 1, -1, 1, -1, 1, -1, ...</td>\n",
       "      <td>0.046875</td>\n",
       "    </tr>\n",
       "    <tr>\n",
       "      <th>99899</th>\n",
       "      <td>[-1, -1, 1, 1, 1, -1, 1, 1, -1, 1, 1, -1, -1, ...</td>\n",
       "      <td>[-1, 1, 1, 1, 1, -1, 1, 1, -1, 1, -1, 1, -1, 1...</td>\n",
       "      <td>0.031250</td>\n",
       "    </tr>\n",
       "  </tbody>\n",
       "</table>\n",
       "<p>99900 rows × 3 columns</p>\n",
       "</div>"
      ],
      "text/plain": [
       "                                       embedding_stack_1  \\\n",
       "0      [-1, 1, -1, 1, 1, -1, 1, 1, -1, -1, -1, 1, -1,...   \n",
       "1      [-1, 1, 1, 1, 1, -1, 1, 1, -1, 1, -1, -1, -1, ...   \n",
       "2      [-1, -1, 1, 1, 1, -1, 1, 1, -1, -1, 1, -1, -1,...   \n",
       "3      [-1, 1, -1, 1, 1, -1, 1, 1, -1, -1, -1, 1, -1,...   \n",
       "4      [-1, 1, -1, 1, 1, -1, 1, 1, -1, 1, -1, 1, -1, ...   \n",
       "...                                                  ...   \n",
       "99895  [-1, 1, 1, 1, 1, -1, 1, 1, -1, -1, 1, -1, -1, ...   \n",
       "99896  [-1, 1, -1, 1, 1, -1, 1, 1, -1, -1, -1, 1, -1,...   \n",
       "99897  [-1, 1, -1, 1, 1, -1, 1, 1, -1, 1, 1, 1, -1, 1...   \n",
       "99898  [-1, 1, -1, 1, 1, -1, 1, 1, -1, -1, 1, 1, -1, ...   \n",
       "99899  [-1, -1, 1, 1, 1, -1, 1, 1, -1, 1, 1, -1, -1, ...   \n",
       "\n",
       "                                       embedding_stack_2   hamming  \n",
       "0      [-1, 1, -1, 1, 1, -1, 1, 1, -1, 1, -1, 1, -1, ...  0.046875  \n",
       "1      [-1, 1, 1, 1, 1, -1, 1, 1, -1, 1, -1, -1, -1, ...  0.875000  \n",
       "2      [-1, 1, -1, 1, 1, -1, 1, 1, -1, 1, -1, 1, -1, ...  0.000000  \n",
       "3      [-1, 1, -1, 1, 1, -1, 1, 1, -1, -1, -1, 1, -1,...  0.359375  \n",
       "4      [-1, -1, 1, 1, 1, -1, 1, 1, -1, 1, 1, -1, -1, ...  0.000000  \n",
       "...                                                  ...       ...  \n",
       "99895  [-1, 1, -1, 1, 1, -1, 1, 1, -1, 1, 1, 1, -1, 1...  0.015625  \n",
       "99896  [-1, 1, -1, 1, 1, -1, 1, 1, -1, 1, -1, 1, -1, ...  0.031250  \n",
       "99897  [-1, -1, 1, 1, 1, -1, 1, 1, -1, 1, 1, -1, -1, ...  0.015625  \n",
       "99898  [-1, 1, -1, 1, 1, -1, 1, 1, -1, 1, -1, 1, -1, ...  0.046875  \n",
       "99899  [-1, 1, 1, 1, 1, -1, 1, 1, -1, 1, -1, 1, -1, 1...  0.031250  \n",
       "\n",
       "[99900 rows x 3 columns]"
      ]
     },
     "execution_count": 39,
     "metadata": {},
     "output_type": "execute_result"
    }
   ],
   "source": [
    "df_hamming"
   ]
  },
  {
   "cell_type": "code",
   "execution_count": 42,
   "id": "3fdc0913-64e8-4b05-a1fd-75f20c1a418a",
   "metadata": {},
   "outputs": [
    {
     "data": {
      "image/png": "[encoded data removed]",
      "text/plain": [
       "<Figure size 288x288 with 1 Axes>"
      ]
     },
     "metadata": {
      "needs_background": "light"
     },
     "output_type": "display_data"
    }
   ],
   "source": [
    "plt.rcParams[\"figure.figsize\"] = (4,4)\n",
    "plt.scatter(predictions[0], df_hamming['hamming'], alpha = 0.5, marker = 'x', c = '#b33939')\n",
    "plt.xlabel(\"Distance between vectors\", fontsize = 12)\n",
    "plt.ylabel(\"Hamming Similarity\", fontsize = 12)\n",
    "plt.title('Jaccard (Baseline)', fontsize = 16)\n",
    "plt.savefig('Results/Baseline/Jaccard-hamming-comparison', bbox_inches='tight')\n",
    "plt.show()"
   ]
  },
  {
   "cell_type": "markdown",
   "id": "b030832c-7872-45da-8698-a0bbf16fe3cb",
   "metadata": {},
   "source": [
    "# 4. Locality Sensitive Hashing"
   ]
  },
  {
   "cell_type": "code",
   "execution_count": 24,
   "id": "2aacdd9c-73d0-4257-af38-1768e9f4aa05",
   "metadata": {},
   "outputs": [],
   "source": [
    "hash_vectors_hamming = convert_to_hamming(hash_vectors)"
   ]
  },
  {
   "cell_type": "code",
   "execution_count": 26,
   "id": "f3bb826f-5e0d-4d6e-8356-d1f3315d6ebd",
   "metadata": {},
   "outputs": [
    {
     "data": {
      "text/plain": [
       "[(1, 64), (2, 32), (4, 16), (8, 8), (16, 4), (32, 2), (64, 1)]"
      ]
     },
     "execution_count": 26,
     "metadata": {},
     "output_type": "execute_result"
    }
   ],
   "source": [
    "params = lsh_hyperparams(m)\n",
    "'(K,L)'\n",
    "params "
   ]
  },
  {
   "cell_type": "markdown",
   "id": "cabab99d-9820-4b91-a6ed-6f2b3b38b0b9",
   "metadata": {},
   "source": [
    "## 4.1. Choose the best combination (L, K)"
   ]
  },
  {
   "cell_type": "code",
   "execution_count": 43,
   "id": "1aeac3ba-cb08-4e8a-913b-1dbd0529c782",
   "metadata": {},
   "outputs": [
    {
     "data": {
      "text/plain": [
       "<matplotlib.legend.Legend at 0x7f6c8c7fa290>"
      ]
     },
     "execution_count": 43,
     "metadata": {},
     "output_type": "execute_result"
    },
    {
     "data": {
      "image/png": "[encoded data removed]",
      "text/plain": [
       "<Figure size 648x360 with 1 Axes>"
      ]
     },
     "metadata": {
      "needs_background": "light"
     },
     "output_type": "display_data"
    }
   ],
   "source": [
    "plt.rcParams[\"figure.figsize\"] = [9, 5]\n",
    "x = np.linspace(0, 1, 100)\n",
    "for param in params:\n",
    "    y = 1 - (1 - (x)**param[1])**param[0]\n",
    "    plt.plot(x, y, label = 'L = %d, r = %d' %param)\n",
    "plt.xlabel(\"similarity values\", fontsize = 12)\n",
    "plt.ylabel(\"hash probability in at least 1 bucket\", fontsize = 12)\n",
    "plt.title('Probability-similarity relation', fontsize = 20)\n",
    "plt.legend()"
   ]
  },
  {
   "cell_type": "code",
   "execution_count": 44,
   "id": "b931100a-06bb-4748-80a8-e09f31905b2a",
   "metadata": {},
   "outputs": [],
   "source": [
    "df_probLSH = mean_prob_hashing_smallest_elt(n_stacks, params, hash_vectors_hamming, b, df_measures, 'Jaccard', trace = False)"
   ]
  },
  {
   "cell_type": "code",
   "execution_count": 45,
   "id": "98685548-ab7a-4bb4-a39c-61f448d1c42b",
   "metadata": {},
   "outputs": [
    {
     "data": {
      "image/png": "[encoded data removed]",
      "text/plain": [
       "<Figure size 432x288 with 1 Axes>"
      ]
     },
     "metadata": {
      "needs_background": "light"
     },
     "output_type": "display_data"
    }
   ],
   "source": [
    "f, ax = plt.subplots(figsize=(6, 4))\n",
    "ax = sns.boxplot(data = df_probLSH, palette=\"Set3\")\n",
    "plt.title('Jaccard(Relation Prob-Sim)', fontsize = 20)\n",
    "plt.savefig('Results/Baseline/Jaccard-Relation-Prob-Sim', bbox_inches='tight')\n",
    "plt.show()"
   ]
  },
  {
   "cell_type": "code",
   "execution_count": 46,
   "id": "0e85f833-8a8c-4fe7-803d-52c4a8d78194",
   "metadata": {},
   "outputs": [
    {
     "data": {
      "text/plain": [
       "(8, 8)"
      ]
     },
     "execution_count": 46,
     "metadata": {},
     "output_type": "execute_result"
    }
   ],
   "source": [
    "'L = K = 8'\n",
    "L, K = params[3]\n",
    "L, K"
   ]
  },
  {
   "cell_type": "markdown",
   "id": "dc0d84af-ec41-43dc-b1cd-73e92cd96894",
   "metadata": {},
   "source": [
    "### 4.1.1 Mean and Median probability for all stack traces for the best combination of $K$ and $L$"
   ]
  },
  {
   "cell_type": "code",
   "execution_count": 47,
   "id": "3a414e49-3f64-4aa0-b2aa-c7d12490eb15",
   "metadata": {},
   "outputs": [
    {
     "data": {
      "text/plain": [
       "0.1244768772958984"
      ]
     },
     "execution_count": 47,
     "metadata": {},
     "output_type": "execute_result"
    }
   ],
   "source": [
    "df_probLSH.mean()['(8, 8)']"
   ]
  },
  {
   "cell_type": "code",
   "execution_count": 48,
   "id": "4381a53d-2b3b-438b-afb7-b91389db8a45",
   "metadata": {},
   "outputs": [
    {
     "data": {
      "text/plain": [
       "2.838930063209233e-05"
      ]
     },
     "execution_count": 48,
     "metadata": {},
     "output_type": "execute_result"
    }
   ],
   "source": [
    "df_probLSH.median()['(8, 8)']"
   ]
  },
  {
   "cell_type": "markdown",
   "id": "6ebdb37a-a88b-46f1-8a22-1c0f872f6cd6",
   "metadata": {},
   "source": [
    "## 4.2. Build hash tables with binary hash vectors w.r.t $K$ and $L$"
   ]
  },
  {
   "cell_type": "code",
   "execution_count": 49,
   "id": "fb84b5ab-519b-4dd1-bb5e-5ced695bf3a4",
   "metadata": {},
   "outputs": [],
   "source": [
    "hash_tables = create_hash_tables(L, K, b, hash_vectors_hamming)"
   ]
  },
  {
   "cell_type": "code",
   "execution_count": 50,
   "id": "89365da1-5823-4433-a0b1-1aacf8ba66ff",
   "metadata": {},
   "outputs": [],
   "source": [
    "with open('Hash-Tables/hash_tables_baseline.pkl', 'wb') as f:\n",
    "    pickle.dump(hash_tables, f)"
   ]
  },
  {
   "cell_type": "markdown",
   "id": "70f264b8-e59e-4995-b416-f8966cfc4d8f",
   "metadata": {},
   "source": [
    "## 4.3. Search for approximate nearest neighbors (this procedure need to be explained in the paper) "
   ]
  },
  {
   "cell_type": "code",
   "execution_count": 51,
   "id": "46bdb33d-c680-4242-919e-cd2dfd73e353",
   "metadata": {},
   "outputs": [
    {
     "data": {
      "text/plain": [
       "812"
      ]
     },
     "execution_count": 51,
     "metadata": {},
     "output_type": "execute_result"
    }
   ],
   "source": [
    "'pointer to the stack trace'\n",
    "index = random.randint(0,n_stacks)\n",
    "index"
   ]
  },
  {
   "cell_type": "code",
   "execution_count": 52,
   "id": "ce6258ad-9458-4e9b-867a-d3b4fc675966",
   "metadata": {
    "collapsed": true,
    "jupyter": {
     "outputs_hidden": true
    },
    "tags": []
   },
   "outputs": [
    {
     "data": {
      "text/plain": [
       "{62,\n",
       " 68,\n",
       " 100,\n",
       " 135,\n",
       " 148,\n",
       " 150,\n",
       " 169,\n",
       " 180,\n",
       " 192,\n",
       " 215,\n",
       " 260,\n",
       " 273,\n",
       " 284,\n",
       " 285,\n",
       " 289,\n",
       " 297,\n",
       " 318,\n",
       " 338,\n",
       " 340,\n",
       " 378,\n",
       " 393,\n",
       " 414,\n",
       " 423,\n",
       " 424,\n",
       " 445,\n",
       " 454,\n",
       " 455,\n",
       " 457,\n",
       " 468,\n",
       " 478,\n",
       " 487,\n",
       " 523,\n",
       " 563,\n",
       " 595,\n",
       " 673,\n",
       " 697,\n",
       " 702,\n",
       " 733,\n",
       " 734,\n",
       " 735,\n",
       " 787,\n",
       " 812,\n",
       " 853,\n",
       " 857,\n",
       " 888,\n",
       " 917,\n",
       " 921,\n",
       " 977,\n",
       " 979}"
      ]
     },
     "execution_count": 52,
     "metadata": {},
     "output_type": "execute_result"
    }
   ],
   "source": [
    "set_near_duplicates = near_duplicates(L, K, b, index, hash_vectors_hamming, hash_tables)\n",
    "set_near_duplicates"
   ]
  },
  {
   "cell_type": "code",
   "execution_count": 53,
   "id": "d3c836e7-fc34-47cd-9889-f76db2bc71a2",
   "metadata": {},
   "outputs": [],
   "source": [
    "list_near_duplicate_pairs = near_duplicate_pairs(index, set_near_duplicates, n_stacks)\n",
    "n_duplicate_pairs = len(list_near_duplicate_pairs)"
   ]
  },
  {
   "cell_type": "code",
   "execution_count": 54,
   "id": "561cd65b-4aa5-4f8c-b4a2-423baa352721",
   "metadata": {
    "collapsed": true,
    "jupyter": {
     "outputs_hidden": true
    },
    "tags": []
   },
   "outputs": [
    {
     "data": {
      "text/plain": [
       "346131    0.923077\n",
       "464332    0.923077\n",
       "363852    0.923077\n",
       "446337    0.923077\n",
       "244057    0.923077\n",
       "481962    0.846154\n",
       "481997    0.846154\n",
       "481966    0.846154\n",
       "164341    0.846154\n",
       "306802    0.785714\n",
       "404482    0.785714\n",
       "60796     0.785714\n",
       "247617    0.714286\n",
       "334287    0.714286\n",
       "482030    0.666667\n",
       "482086    0.666667\n",
       "464596    0.666667\n",
       "358597    0.666667\n",
       "174091    0.095238\n",
       "417906    0.095238\n",
       "281182    0.095238\n",
       "282501    0.095238\n",
       "482088    0.095238\n",
       "267772    0.095238\n",
       "455356    0.095238\n",
       "126496    0.095238\n",
       "315997    0.095238\n",
       "253261    0.095238\n",
       "328492    0.095238\n",
       "482026    0.095238\n",
       "236137    0.090909\n",
       "192376    0.086957\n",
       "95661     0.086957\n",
       "476946    0.086957\n",
       "464067    0.086957\n",
       "137637    0.086957\n",
       "139336    0.086957\n",
       "453861    0.086957\n",
       "351616    0.086957\n",
       "66397     0.086957\n",
       "226621    0.086957\n",
       "244771    0.080000\n",
       "333712    0.080000\n",
       "155277    0.080000\n",
       "352701    0.080000\n",
       "386262    0.080000\n",
       "351072    0.080000\n",
       "368496    0.080000\n",
       "Name: Jaccard, dtype: float64"
      ]
     },
     "execution_count": 54,
     "metadata": {},
     "output_type": "execute_result"
    }
   ],
   "source": [
    "near_duplicates_sim = df_measures['Jaccard'][list_near_duplicate_pairs].sort_values(ascending = False)\n",
    "near_duplicates_sim"
   ]
  },
  {
   "cell_type": "code",
   "execution_count": 55,
   "id": "6510bce7-6663-4db3-8455-0b846720c6f1",
   "metadata": {
    "collapsed": true,
    "jupyter": {
     "outputs_hidden": true
    },
    "tags": []
   },
   "outputs": [
    {
     "data": {
      "text/plain": [
       "{62,\n",
       " 135,\n",
       " 180,\n",
       " 251,\n",
       " 277,\n",
       " 283,\n",
       " 284,\n",
       " 289,\n",
       " 295,\n",
       " 297,\n",
       " 318,\n",
       " 376,\n",
       " 378,\n",
       " 393,\n",
       " 394,\n",
       " 400,\n",
       " 408,\n",
       " 414,\n",
       " 424,\n",
       " 445,\n",
       " 450,\n",
       " 453,\n",
       " 460,\n",
       " 466,\n",
       " 468,\n",
       " 478,\n",
       " 481,\n",
       " 563,\n",
       " 595,\n",
       " 645,\n",
       " 649,\n",
       " 673,\n",
       " 702,\n",
       " 705,\n",
       " 734,\n",
       " 735,\n",
       " 742,\n",
       " 853,\n",
       " 857,\n",
       " 866,\n",
       " 888,\n",
       " 913,\n",
       " 917,\n",
       " 921,\n",
       " 927,\n",
       " 977,\n",
       " 979,\n",
       " 980}"
      ]
     },
     "execution_count": 55,
     "metadata": {},
     "output_type": "execute_result"
    }
   ],
   "source": [
    "set_real_nns, real_nns_sim = real_nns(index, df_measures, 'Jaccard', n_stacks, n_duplicate_pairs)\n",
    "set_real_nns"
   ]
  },
  {
   "cell_type": "code",
   "execution_count": 56,
   "id": "0c2d9881-6df4-463f-9dd1-7d02a9fd1347",
   "metadata": {
    "collapsed": true,
    "jupyter": {
     "outputs_hidden": true
    },
    "tags": []
   },
   "outputs": [
    {
     "data": {
      "text/plain": [
       "446337    0.923077\n",
       "464332    0.923077\n",
       "244057    0.923077\n",
       "363852    0.923077\n",
       "346131    0.923077\n",
       "481962    0.846154\n",
       "164341    0.846154\n",
       "481966    0.846154\n",
       "481997    0.846154\n",
       "60796     0.785714\n",
       "306802    0.785714\n",
       "404482    0.785714\n",
       "334287    0.714286\n",
       "247617    0.714286\n",
       "482030    0.666667\n",
       "464596    0.666667\n",
       "482086    0.666667\n",
       "358597    0.666667\n",
       "320211    0.388889\n",
       "365409    0.388889\n",
       "482089    0.350000\n",
       "348886    0.333333\n",
       "438237    0.277778\n",
       "466416    0.222222\n",
       "239031    0.111111\n",
       "219934    0.105263\n",
       "357534    0.100000\n",
       "316602    0.095238\n",
       "456241    0.095238\n",
       "315997    0.095238\n",
       "267772    0.095238\n",
       "481975    0.095238\n",
       "253261    0.095238\n",
       "417906    0.095238\n",
       "455356    0.095238\n",
       "482022    0.095238\n",
       "324967    0.095238\n",
       "436831    0.095238\n",
       "126496    0.095238\n",
       "482036    0.095238\n",
       "482026    0.095238\n",
       "251856    0.095238\n",
       "305559    0.095238\n",
       "243342    0.095238\n",
       "354321    0.095238\n",
       "350527    0.095238\n",
       "482088    0.095238\n",
       "328492    0.095238\n",
       "dtype: float64"
      ]
     },
     "execution_count": 56,
     "metadata": {},
     "output_type": "execute_result"
    }
   ],
   "source": [
    "real_nns_sim[:n_duplicate_pairs]"
   ]
  },
  {
   "cell_type": "markdown",
   "id": "47aa72d7-020e-4a46-9f1c-f95ea57c3a2b",
   "metadata": {},
   "source": [
    "## 4.4. Metrics"
   ]
  },
  {
   "cell_type": "markdown",
   "id": "108a4d18-597e-4a51-9f51-940a80fd0be8",
   "metadata": {},
   "source": [
    "### 4.4.1. Ratio of finding the $k$ real nearest neighbor with the Least $L$ (Recal rate at $k$ first positions)"
   ]
  },
  {
   "cell_type": "code",
   "execution_count": 57,
   "id": "55ad1f38-83e2-4e55-8483-c7971ede8ec2",
   "metadata": {},
   "outputs": [
    {
     "data": {
      "text/plain": [
       "0.782"
      ]
     },
     "execution_count": 57,
     "metadata": {},
     "output_type": "execute_result"
    }
   ],
   "source": [
    "'All params'\n",
    "k_first_positions = 1\n",
    "recal_rate(n_stacks, params, hash_vectors_hamming, b, df_measures, k_first_positions, 'Jaccard')"
   ]
  },
  {
   "cell_type": "code",
   "execution_count": 58,
   "id": "7424b84d-1066-4e2c-a6ec-4c67d448440c",
   "metadata": {},
   "outputs": [
    {
     "data": {
      "text/plain": [
       "0.866734486266531"
      ]
     },
     "execution_count": 58,
     "metadata": {},
     "output_type": "execute_result"
    }
   ],
   "source": [
    "'Best param'\n",
    "k_first_positions = 1\n",
    "recal_rate_one_param(n_stacks, params[3], hash_vectors_hamming, b, df_measures, k_first_positions, 'Jaccard')"
   ]
  },
  {
   "cell_type": "markdown",
   "id": "b20f2315-986c-4bc2-89dc-9dd1757a8c78",
   "metadata": {},
   "source": [
    "-----------------------------------------------------------------"
   ]
  },
  {
   "cell_type": "code",
   "execution_count": 59,
   "id": "aa6e30e1-37f9-45cc-8356-2df3ce14f4c1",
   "metadata": {},
   "outputs": [
    {
     "data": {
      "text/plain": [
       "0.7306666666666679"
      ]
     },
     "execution_count": 59,
     "metadata": {},
     "output_type": "execute_result"
    }
   ],
   "source": [
    "'All params'\n",
    "k_first_positions = 3\n",
    "recal_rate(n_stacks, params, hash_vectors_hamming, b, df_measures, k_first_positions, 'Jaccard')"
   ]
  },
  {
   "cell_type": "code",
   "execution_count": 60,
   "id": "d85c52a9-2948-44cd-94d8-62c40b7b8b8c",
   "metadata": {},
   "outputs": [
    {
     "data": {
      "text/plain": [
       "0.8308404558404565"
      ]
     },
     "execution_count": 60,
     "metadata": {},
     "output_type": "execute_result"
    }
   ],
   "source": [
    "'Best param'\n",
    "k_first_positions = 3\n",
    "recal_rate_one_param(n_stacks, params[3], hash_vectors_hamming, b, df_measures, k_first_positions, 'Jaccard')"
   ]
  },
  {
   "cell_type": "markdown",
   "id": "de7a74bc-5737-406e-b30e-d09834d1d6c5",
   "metadata": {},
   "source": [
    "-----------------------------------------------------------------"
   ]
  },
  {
   "cell_type": "code",
   "execution_count": 61,
   "id": "f3c6cd88-f248-41f1-8eac-74f36dcbd2cc",
   "metadata": {},
   "outputs": [
    {
     "data": {
      "text/plain": [
       "0.7105999999999999"
      ]
     },
     "execution_count": 61,
     "metadata": {},
     "output_type": "execute_result"
    }
   ],
   "source": [
    "'All params'\n",
    "k_first_positions = 5\n",
    "recal_rate(n_stacks, params, hash_vectors_hamming, b, df_measures, k_first_positions, 'Jaccard')"
   ]
  },
  {
   "cell_type": "code",
   "execution_count": 62,
   "id": "cd421b6d-9527-41f4-80c4-bd20572a75b9",
   "metadata": {},
   "outputs": [
    {
     "data": {
      "text/plain": [
       "0.8125142207053473"
      ]
     },
     "execution_count": 62,
     "metadata": {},
     "output_type": "execute_result"
    }
   ],
   "source": [
    "'Best param'\n",
    "k_first_positions = 5\n",
    "recal_rate_one_param(n_stacks, params[3], hash_vectors_hamming, b, df_measures, k_first_positions, 'Jaccard')"
   ]
  },
  {
   "cell_type": "markdown",
   "id": "78b9f9fc-d7c0-46a0-afc0-9d6295866fbf",
   "metadata": {},
   "source": [
    "### 4.4.2. Accuracy of finding the real nearest neighbors (Generalized MRR)"
   ]
  },
  {
   "cell_type": "markdown",
   "id": "81af2e1e-b878-4f18-95b7-4b4d35b5cb3f",
   "metadata": {},
   "source": [
    "$ \\frac{1}{|\\mathcal{R}_i|} \\sum_{s' \\in \\mathcal{R}_i} \\frac{\\text{rank}(s',\\mathcal{R}_i)}{\\text{rank}(s',NNs(s_i))} $"
   ]
  },
  {
   "cell_type": "code",
   "execution_count": 63,
   "id": "8d572df0-2963-4794-b603-a642a1c3422f",
   "metadata": {
    "tags": []
   },
   "outputs": [
    {
     "data": {
      "text/plain": [
       "0.7480254230523627"
      ]
     },
     "execution_count": 63,
     "metadata": {},
     "output_type": "execute_result"
    }
   ],
   "source": [
    "generalized_mrr(near_duplicates_sim, real_nns_sim)"
   ]
  },
  {
   "cell_type": "code",
   "execution_count": 64,
   "id": "20822989-304f-4ebf-b661-355b72deb819",
   "metadata": {
    "tags": []
   },
   "outputs": [
    {
     "data": {
      "text/plain": [
       "(1, 64)    0.824198\n",
       "(2, 32)    0.803366\n",
       "(4, 16)    0.735647\n",
       "(8, 8)     0.658857\n",
       "(16, 4)    0.663283\n",
       "(32, 2)    0.830065\n",
       "(64, 1)    0.990882\n",
       "dtype: float64"
      ]
     },
     "execution_count": 64,
     "metadata": {},
     "output_type": "execute_result"
    }
   ],
   "source": [
    "df_knns = mean_generalized_mrr(n_stacks, params, hash_vectors_hamming, b, df_measures ,'Jaccard', trace = False)\n",
    "df_knns.mean(skipna = True, axis = 0)"
   ]
  },
  {
   "cell_type": "code",
   "execution_count": 65,
   "id": "8cdd4039-1cc9-40d8-b096-84771b011940",
   "metadata": {},
   "outputs": [
    {
     "data": {
      "text/plain": [
       "0.6588574533774387"
      ]
     },
     "execution_count": 65,
     "metadata": {},
     "output_type": "execute_result"
    }
   ],
   "source": [
    "df_knns.mean()['(8, 8)']"
   ]
  },
  {
   "cell_type": "code",
   "execution_count": 27,
   "id": "d27df214-c289-4b5d-8cc8-af5010b5a417",
   "metadata": {},
   "outputs": [
    {
     "data": {
      "text/plain": [
       "(1, 64)    0.015055\n",
       "(2, 32)    0.010900\n",
       "(4, 16)    0.068756\n",
       "(8, 8)     0.275363\n",
       "(16, 4)    0.317691\n",
       "(32, 2)    0.509821\n",
       "(64, 1)    0.558690\n",
       "dtype: float64"
      ]
     },
     "execution_count": 27,
     "metadata": {},
     "output_type": "execute_result"
    }
   ],
   "source": [
    "df_precision = precision_all(n_stacks, params, hash_vectors_hamming, b, df_measures ,'Jaccard', trace = False)\n",
    "df_precision.mean(skipna = True, axis = 0)"
   ]
  },
  {
   "cell_type": "code",
   "execution_count": 30,
   "id": "a27a6866-87e7-46b5-9235-e79b5769c17e",
   "metadata": {},
   "outputs": [
    {
     "data": {
      "text/plain": [
       "(1, 64)    0.007282\n",
       "(2, 32)    0.002301\n",
       "(4, 16)    0.011715\n",
       "(8, 8)     0.122845\n",
       "(16, 4)    0.042298\n",
       "(32, 2)    0.327974\n",
       "(64, 1)    0.017880\n",
       "dtype: float64"
      ]
     },
     "execution_count": 30,
     "metadata": {},
     "output_type": "execute_result"
    }
   ],
   "source": [
    "df_recall = recall_all(n_stacks, params, hash_vectors_hamming, b, df_measures ,'Jaccard', trace = False)\n",
    "df_recall.mean(skipna = True)"
   ]
  }
 ],
 "metadata": {
  "kernelspec": {
   "display_name": "split-sd4x",
   "language": "python",
   "name": "split-sd4x"
  },
  "language_info": {
   "codemirror_mode": {
    "name": "ipython",
    "version": 3
   },
   "file_extension": ".py",
   "mimetype": "text/x-python",
   "name": "python",
   "nbconvert_exporter": "python",
   "pygments_lexer": "ipython3",
   "version": "3.7.10"
  }
 },
 "nbformat": 4,
 "nbformat_minor": 5
}
