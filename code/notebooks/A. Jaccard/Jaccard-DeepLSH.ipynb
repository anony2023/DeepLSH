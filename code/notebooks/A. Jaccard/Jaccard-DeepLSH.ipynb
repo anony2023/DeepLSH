{
 "cells": [
  {
   "cell_type": "code",
   "execution_count": 1,
   "id": "bb7e69c2-b065-46fa-b6eb-7ea56ae43f35",
   "metadata": {},
   "outputs": [],
   "source": [
    "import os\n",
    "import sys\n",
    "import numpy as np\n",
    "import pandas as pd\n",
    "import random\n",
    "import matplotlib.pyplot as plt\n",
    "import seaborn as sns\n",
    "import warnings\n",
    "import pickle\n",
    "from tensorflow import keras \n",
    "warnings.filterwarnings(\"ignore\")\n",
    "from sklearn.feature_extraction.text import CountVectorizer\n",
    "from sklearn.model_selection import train_test_split"
   ]
  },
  {
   "cell_type": "code",
   "execution_count": 2,
   "id": "1014d33e-c803-41ce-be12-ab1c3f929253",
   "metadata": {},
   "outputs": [],
   "source": [
    "sys.path.append(os.path.join(os.path.dirname(os.path.dirname(os.getcwd())),'python-packages/'))\n",
    "from deep_hashing_models import *\n",
    "from similarities import *\n",
    "from lsh_search import *"
   ]
  },
  {
   "cell_type": "markdown",
   "id": "627c738c-cd1f-4e1b-ae93-1aa3d25882aa",
   "metadata": {},
   "source": [
    "# 1. Data Preparation"
   ]
  },
  {
   "cell_type": "code",
   "execution_count": 3,
   "id": "e96659a4-eea0-48d9-8977-fecba559b78d",
   "metadata": {},
   "outputs": [],
   "source": [
    "data_repo = os.path.join(os.path.dirname(os.path.dirname(os.path.dirname(os.getcwd()))),'data/')"
   ]
  },
  {
   "cell_type": "code",
   "execution_count": 4,
   "id": "d2874701-b390-405b-9001-822faf31ade5",
   "metadata": {},
   "outputs": [],
   "source": [
    "df_distinct_stacks = pd.read_csv(data_repo + 'frequent_stack_traces.csv', index_col = [0])\n",
    "df_measures = pd.read_csv(data_repo + 'similarity-measures-pairs.csv', index_col = [0])"
   ]
  },
  {
   "cell_type": "code",
   "execution_count": 5,
   "id": "7b4772e1-6603-4344-a277-70d9728c61ea",
   "metadata": {},
   "outputs": [
    {
     "data": {
      "text/plain": [
       "1000"
      ]
     },
     "execution_count": 5,
     "metadata": {},
     "output_type": "execute_result"
    }
   ],
   "source": [
    "n_stacks = df_distinct_stacks.shape[0]\n",
    "n_stacks"
   ]
  },
  {
   "cell_type": "code",
   "execution_count": 6,
   "id": "e515f018-4609-4487-8d87-d707ca6347da",
   "metadata": {},
   "outputs": [],
   "source": [
    "vectorizer_bag_of_frames = CountVectorizer(token_pattern = r\"(?u)\\b[a-zA-Z0-9_.]{2,}\\b\")\n",
    "s = df_distinct_stacks['stackTraceCusto'].apply(lambda x : x.replace('\\n',' '))\n",
    "s = s.apply(lambda x : x.replace('$',''))\n",
    "s = s.apply(lambda x : x.replace('/',''))\n",
    "s = s.apply(lambda x : x.replace('<',''))\n",
    "s = s.apply(lambda x : x.replace('>',''))\n",
    "X_bag_of_frames = vectorizer_bag_of_frames.fit_transform(list(s)).toarray()\n",
    "df_bag_of_frames = pd.DataFrame(data = X_bag_of_frames, columns = vectorizer_bag_of_frames.get_feature_names())"
   ]
  },
  {
   "cell_type": "code",
   "execution_count": 7,
   "id": "50aa90c2-205c-4f47-8230-4da0ea7d618f",
   "metadata": {},
   "outputs": [],
   "source": [
    "X_train, X_validation, Y_train, Y_validation = train_test_split(df_measures.index, df_measures['Jaccard'], test_size = 0.2) "
   ]
  },
  {
   "cell_type": "code",
   "execution_count": 8,
   "id": "9b5ac005-aa8f-47fe-a5cf-ece206be1621",
   "metadata": {},
   "outputs": [],
   "source": [
    "indexes_train_1 = X_train.to_series().apply(lambda x : get_two_indexes(x, df_distinct_stacks.shape[0])[0]).to_list()\n",
    "indexes_train_2 = X_train.to_series().apply(lambda x : get_two_indexes(x, df_distinct_stacks.shape[0])[1]).to_list()\n",
    "indexes_validation_1 = X_validation.to_series().apply(lambda x : get_two_indexes(x, df_distinct_stacks.shape[0])[0]).to_list()\n",
    "indexes_validation_2 = X_validation.to_series().apply(lambda x : get_two_indexes(x, df_distinct_stacks.shape[0])[1]).to_list()"
   ]
  },
  {
   "cell_type": "code",
   "execution_count": 9,
   "id": "ed7fad07-aacc-453c-beba-7b0123b67c82",
   "metadata": {},
   "outputs": [],
   "source": [
    "X_train = dict()\n",
    "X_train['stack_1'] = df_bag_of_frames.loc[indexes_train_1].values\n",
    "X_train['stack_2'] = df_bag_of_frames.loc[indexes_train_2].values\n",
    "\n",
    "X_validation = dict()\n",
    "X_validation['stack_1'] = df_bag_of_frames.loc[indexes_validation_1].values\n",
    "X_validation['stack_2'] = df_bag_of_frames.loc[indexes_validation_2].values"
   ]
  },
  {
   "cell_type": "code",
   "execution_count": 10,
   "id": "7a79ade3-db36-4098-9c5a-109ec33a37eb",
   "metadata": {},
   "outputs": [],
   "source": [
    "Y_train = Y_train.values\n",
    "Y_validation = Y_validation.values"
   ]
  },
  {
   "cell_type": "code",
   "execution_count": 11,
   "id": "5f8cc839-bd54-4630-8f35-2a89bb19c00d",
   "metadata": {},
   "outputs": [],
   "source": [
    "assert X_train['stack_1'].shape == X_train['stack_2'].shape\n",
    "assert len(X_train['stack_1']) == len(Y_train)"
   ]
  },
  {
   "cell_type": "markdown",
   "id": "753999cd-6682-4263-b38e-1865140e6708",
   "metadata": {},
   "source": [
    "### Distribution of training data"
   ]
  },
  {
   "cell_type": "code",
   "execution_count": 12,
   "id": "3db6e7b6-ff7f-4089-be9b-af02e34646ed",
   "metadata": {},
   "outputs": [
    {
     "data": {
      "image/png": "[encoded data removed]",
      "text/plain": [
       "<Figure size 720x360 with 1 Axes>"
      ]
     },
     "metadata": {
      "needs_background": "light"
     },
     "output_type": "display_data"
    }
   ],
   "source": [
    "plt.rcParams[\"figure.figsize\"] = [10, 5]\n",
    "plt.hist(Y_train, 20, alpha = 1, density = False)\n",
    "plt.show()"
   ]
  },
  {
   "cell_type": "markdown",
   "id": "3a910820-e364-426d-9cbd-411794637bc8",
   "metadata": {},
   "source": [
    "### Distribution of test data"
   ]
  },
  {
   "cell_type": "code",
   "execution_count": 13,
   "id": "c242807e-a11b-43e2-82a0-aed22cbdefbc",
   "metadata": {},
   "outputs": [
    {
     "data": {
      "image/png": "[encoded data removed]",
      "text/plain": [
       "<Figure size 720x360 with 1 Axes>"
      ]
     },
     "metadata": {
      "needs_background": "light"
     },
     "output_type": "display_data"
    }
   ],
   "source": [
    "plt.rcParams[\"figure.figsize\"] = [10, 5]\n",
    "plt.hist(Y_validation, 20, alpha = 1, density = False)\n",
    "plt.show()"
   ]
  },
  {
   "cell_type": "markdown",
   "id": "19aa15e5-aee6-46ea-9c52-d1fa077b05dc",
   "metadata": {},
   "source": [
    "# 2. Model Design"
   ]
  },
  {
   "cell_type": "code",
   "execution_count": 14,
   "id": "02a2362d-059a-44b7-94f7-24e03680eef0",
   "metadata": {},
   "outputs": [],
   "source": [
    "'Number of hash functions' \n",
    "m = 64"
   ]
  },
  {
   "cell_type": "code",
   "execution_count": 15,
   "id": "6ea1ca10-c9ff-4735-ae80-e03691eb16ba",
   "metadata": {},
   "outputs": [],
   "source": [
    "'Number of bits per hash function' \n",
    "b = 16"
   ]
  },
  {
   "cell_type": "code",
   "execution_count": 16,
   "id": "06478197-071f-4395-804f-cbc171aadbd5",
   "metadata": {},
   "outputs": [
    {
     "data": {
      "text/plain": [
       "1024"
      ]
     },
     "execution_count": 16,
     "metadata": {},
     "output_type": "execute_result"
    }
   ],
   "source": [
    "'Size hash vector'\n",
    "size_hash_vector = m * b\n",
    "size_hash_vector"
   ]
  },
  {
   "cell_type": "markdown",
   "id": "0d60851f-b05f-4bc6-80f0-ce736180afe0",
   "metadata": {},
   "source": [
    "## 2.1. Feature learning phase"
   ]
  },
  {
   "cell_type": "code",
   "execution_count": 17,
   "id": "d9893ed6-5d0b-41b2-816b-b410e1c07910",
   "metadata": {},
   "outputs": [],
   "source": [
    "x = Sequential()\n",
    "x.add(Dense(2048, input_dim = X_train['stack_1'].shape[1], activation = 'tanh'))\n",
    "x.add(Dense(1024, activation = 'tanh'))\n",
    "x.add(Dense(size_hash_vector, activation = 'tanh'))\n",
    "shared_model = x"
   ]
  },
  {
   "cell_type": "markdown",
   "id": "279ba874-5ea0-4a94-83a1-f7f7c9ca8e0e",
   "metadata": {},
   "source": [
    "## 2.2. Siamese Model "
   ]
  },
  {
   "cell_type": "code",
   "execution_count": 18,
   "id": "d1d8a570-b1a8-489c-8312-e78dca471a63",
   "metadata": {
    "tags": []
   },
   "outputs": [],
   "source": [
    "input_shape = (X_train['stack_1'].shape[1],)\n",
    "model = siamese_model(shared_model, input_shape, b, m, is_sparse = True, print_summary = False)"
   ]
  },
  {
   "cell_type": "markdown",
   "id": "0bb438cf-7efb-4603-aab4-1364b187938f",
   "metadata": {},
   "source": [
    "## 2.3. Model training "
   ]
  },
  {
   "cell_type": "code",
   "execution_count": 19,
   "id": "3c6beca4-2caa-4c8c-8ca9-c3dfaedffbdc",
   "metadata": {},
   "outputs": [
    {
     "name": "stdout",
     "output_type": "stream",
     "text": [
      "Epoch 1/20\n",
      "781/781 [==============================] - 30s 31ms/step - loss: 0.0039 - ham_dist_loss: 0.0038 - prod_vec_loss: 0.0121 - prod_vec_1_loss: 0.0118 - sum_vec_loss: 1.1007e-04 - sum_vec_1_loss: 1.0923e-04 - ham_dist_rmse: 0.0616 - ham_dist_mae: 0.0211 - val_loss: 6.2342e-04 - val_ham_dist_loss: 5.7121e-04 - val_prod_vec_loss: 0.0028 - val_prod_vec_1_loss: 0.0027 - val_sum_vec_loss: 4.8293e-05 - val_sum_vec_1_loss: 4.4367e-05 - val_ham_dist_rmse: 0.0239 - val_ham_dist_mae: 0.0112\n",
      "Epoch 2/20\n",
      "781/781 [==============================] - 23s 29ms/step - loss: 4.4612e-04 - ham_dist_loss: 4.0802e-04 - prod_vec_loss: 0.0020 - prod_vec_1_loss: 0.0019 - sum_vec_loss: 5.9906e-05 - sum_vec_1_loss: 5.4805e-05 - ham_dist_rmse: 0.0202 - ham_dist_mae: 0.0093 - val_loss: 3.8640e-04 - val_ham_dist_loss: 3.6129e-04 - val_prod_vec_loss: 0.0015 - val_prod_vec_1_loss: 0.0014 - val_sum_vec_loss: 6.0562e-05 - val_sum_vec_1_loss: 5.9985e-05 - val_ham_dist_rmse: 0.0190 - val_ham_dist_mae: 0.0085\n",
      "Epoch 3/20\n",
      "781/781 [==============================] - 22s 28ms/step - loss: 3.0450e-04 - ham_dist_loss: 2.8293e-04 - prod_vec_loss: 0.0012 - prod_vec_1_loss: 0.0012 - sum_vec_loss: 5.9339e-05 - sum_vec_1_loss: 5.7940e-05 - ham_dist_rmse: 0.0168 - ham_dist_mae: 0.0077 - val_loss: 3.1344e-04 - val_ham_dist_loss: 2.9934e-04 - val_prod_vec_loss: 9.9195e-04 - val_prod_vec_1_loss: 9.9658e-04 - val_sum_vec_loss: 5.5346e-05 - val_sum_vec_1_loss: 5.6238e-05 - val_ham_dist_rmse: 0.0173 - val_ham_dist_mae: 0.0076\n",
      "Epoch 4/20\n",
      "781/781 [==============================] - 22s 28ms/step - loss: 2.4626e-04 - ham_dist_loss: 2.3273e-04 - prod_vec_loss: 8.4463e-04 - prod_vec_1_loss: 8.4575e-04 - sum_vec_loss: 5.4862e-05 - sum_vec_1_loss: 5.1846e-05 - ham_dist_rmse: 0.0153 - ham_dist_mae: 0.0069 - val_loss: 2.8140e-04 - val_ham_dist_loss: 2.7250e-04 - val_prod_vec_loss: 7.8955e-04 - val_prod_vec_1_loss: 7.6430e-04 - val_sum_vec_loss: 5.3315e-05 - val_sum_vec_1_loss: 5.2463e-05 - val_ham_dist_rmse: 0.0165 - val_ham_dist_mae: 0.0073\n",
      "Epoch 5/20\n",
      "781/781 [==============================] - 22s 28ms/step - loss: 2.2073e-04 - ham_dist_loss: 2.1147e-04 - prod_vec_loss: 6.6468e-04 - prod_vec_1_loss: 6.6919e-04 - sum_vec_loss: 5.2257e-05 - sum_vec_1_loss: 5.2723e-05 - ham_dist_rmse: 0.0145 - ham_dist_mae: 0.0066 - val_loss: 2.5666e-04 - val_ham_dist_loss: 2.5176e-04 - val_prod_vec_loss: 5.9569e-04 - val_prod_vec_1_loss: 6.0639e-04 - val_sum_vec_loss: 5.7256e-05 - val_sum_vec_1_loss: 6.1039e-05 - val_ham_dist_rmse: 0.0159 - val_ham_dist_mae: 0.0069\n",
      "Epoch 6/20\n",
      "781/781 [==============================] - 22s 29ms/step - loss: 2.0431e-04 - ham_dist_loss: 1.9875e-04 - prod_vec_loss: 5.1965e-04 - prod_vec_1_loss: 5.2948e-04 - sum_vec_loss: 5.0912e-05 - sum_vec_1_loss: 5.0907e-05 - ham_dist_rmse: 0.0141 - ham_dist_mae: 0.0064 - val_loss: 2.4577e-04 - val_ham_dist_loss: 2.4369e-04 - val_prod_vec_loss: 5.0227e-04 - val_prod_vec_1_loss: 5.0040e-04 - val_sum_vec_loss: 5.2786e-05 - val_sum_vec_1_loss: 5.2328e-05 - val_ham_dist_rmse: 0.0156 - val_ham_dist_mae: 0.0068\n",
      "Epoch 7/20\n",
      "781/781 [==============================] - 22s 29ms/step - loss: 1.9745e-04 - ham_dist_loss: 1.9424e-04 - prod_vec_loss: 4.3355e-04 - prod_vec_1_loss: 4.5201e-04 - sum_vec_loss: 4.9145e-05 - sum_vec_1_loss: 4.8136e-05 - ham_dist_rmse: 0.0139 - ham_dist_mae: 0.0063 - val_loss: 2.2501e-04 - val_ham_dist_loss: 2.2508e-04 - val_prod_vec_loss: 3.9694e-04 - val_prod_vec_1_loss: 4.0598e-04 - val_sum_vec_loss: 4.6280e-05 - val_sum_vec_1_loss: 4.6591e-05 - val_ham_dist_rmse: 0.0150 - val_ham_dist_mae: 0.0064\n",
      "Epoch 8/20\n",
      "781/781 [==============================] - 22s 28ms/step - loss: 1.8565e-04 - ham_dist_loss: 1.8396e-04 - prod_vec_loss: 3.5996e-04 - prod_vec_1_loss: 3.7688e-04 - sum_vec_loss: 5.4646e-05 - sum_vec_1_loss: 5.2747e-05 - ham_dist_rmse: 0.0136 - ham_dist_mae: 0.0061 - val_loss: 2.2197e-04 - val_ham_dist_loss: 2.2360e-04 - val_prod_vec_loss: 3.4455e-04 - val_prod_vec_1_loss: 3.4792e-04 - val_sum_vec_loss: 4.7978e-05 - val_sum_vec_1_loss: 4.9701e-05 - val_ham_dist_rmse: 0.0150 - val_ham_dist_mae: 0.0064\n",
      "Epoch 9/20\n",
      "781/781 [==============================] - 22s 28ms/step - loss: 1.8086e-04 - ham_dist_loss: 1.8048e-04 - prod_vec_loss: 3.1323e-04 - prod_vec_1_loss: 3.3103e-04 - sum_vec_loss: 5.1282e-05 - sum_vec_1_loss: 5.0672e-05 - ham_dist_rmse: 0.0134 - ham_dist_mae: 0.0060 - val_loss: 2.1189e-04 - val_ham_dist_loss: 2.1402e-04 - val_prod_vec_loss: 3.0080e-04 - val_prod_vec_1_loss: 3.2055e-04 - val_sum_vec_loss: 4.7337e-05 - val_sum_vec_1_loss: 5.0548e-05 - val_ham_dist_rmse: 0.0146 - val_ham_dist_mae: 0.0063\n",
      "Epoch 10/20\n",
      "781/781 [==============================] - 22s 29ms/step - loss: 1.6708e-04 - ham_dist_loss: 1.6740e-04 - prod_vec_loss: 2.6508e-04 - prod_vec_1_loss: 2.8442e-04 - sum_vec_loss: 5.0121e-05 - sum_vec_1_loss: 4.9282e-05 - ham_dist_rmse: 0.0129 - ham_dist_mae: 0.0058 - val_loss: 2.0407e-04 - val_ham_dist_loss: 2.0747e-04 - val_prod_vec_loss: 2.4238e-04 - val_prod_vec_1_loss: 2.6318e-04 - val_sum_vec_loss: 5.3226e-05 - val_sum_vec_1_loss: 5.3451e-05 - val_ham_dist_rmse: 0.0144 - val_ham_dist_mae: 0.0061\n",
      "Epoch 11/20\n",
      "781/781 [==============================] - 23s 29ms/step - loss: 1.5670e-04 - ham_dist_loss: 1.5757e-04 - prod_vec_loss: 2.2529e-04 - prod_vec_1_loss: 2.4555e-04 - sum_vec_loss: 5.2610e-05 - sum_vec_1_loss: 5.1153e-05 - ham_dist_rmse: 0.0126 - ham_dist_mae: 0.0056 - val_loss: 1.9411e-04 - val_ham_dist_loss: 1.9773e-04 - val_prod_vec_loss: 2.1537e-04 - val_prod_vec_1_loss: 2.3155e-04 - val_sum_vec_loss: 5.4433e-05 - val_sum_vec_1_loss: 5.7562e-05 - val_ham_dist_rmse: 0.0141 - val_ham_dist_mae: 0.0060\n",
      "Epoch 12/20\n",
      "781/781 [==============================] - 22s 29ms/step - loss: 1.5459e-04 - ham_dist_loss: 1.5601e-04 - prod_vec_loss: 2.0791e-04 - prod_vec_1_loss: 2.2647e-04 - sum_vec_loss: 5.0198e-05 - sum_vec_1_loss: 4.8871e-05 - ham_dist_rmse: 0.0125 - ham_dist_mae: 0.0056 - val_loss: 1.9154e-04 - val_ham_dist_loss: 1.9600e-04 - val_prod_vec_loss: 2.0117e-04 - val_prod_vec_1_loss: 2.1053e-04 - val_sum_vec_loss: 4.4057e-05 - val_sum_vec_1_loss: 4.2971e-05 - val_ham_dist_rmse: 0.0140 - val_ham_dist_mae: 0.0060\n",
      "Epoch 13/20\n",
      "781/781 [==============================] - 22s 29ms/step - loss: 1.4705e-04 - ham_dist_loss: 1.4892e-04 - prod_vec_loss: 1.7884e-04 - prod_vec_1_loss: 1.9723e-04 - sum_vec_loss: 5.1211e-05 - sum_vec_1_loss: 4.8657e-05 - ham_dist_rmse: 0.0122 - ham_dist_mae: 0.0055 - val_loss: 1.9142e-04 - val_ham_dist_loss: 1.9630e-04 - val_prod_vec_loss: 1.7202e-04 - val_prod_vec_1_loss: 1.8610e-04 - val_sum_vec_loss: 5.4543e-05 - val_sum_vec_1_loss: 6.0056e-05 - val_ham_dist_rmse: 0.0140 - val_ham_dist_mae: 0.0059\n",
      "Epoch 14/20\n",
      "781/781 [==============================] - 23s 29ms/step - loss: 1.4273e-04 - ham_dist_loss: 1.4494e-04 - prod_vec_loss: 1.6187e-04 - prod_vec_1_loss: 1.7970e-04 - sum_vec_loss: 4.8792e-05 - sum_vec_1_loss: 4.7725e-05 - ham_dist_rmse: 0.0120 - ham_dist_mae: 0.0054 - val_loss: 1.7050e-04 - val_ham_dist_loss: 1.7437e-04 - val_prod_vec_loss: 1.6495e-04 - val_prod_vec_1_loss: 1.8631e-04 - val_sum_vec_loss: 5.2219e-05 - val_sum_vec_1_loss: 4.6467e-05 - val_ham_dist_rmse: 0.0132 - val_ham_dist_mae: 0.0056\n",
      "Epoch 15/20\n",
      "781/781 [==============================] - 23s 29ms/step - loss: 1.3477e-04 - ham_dist_loss: 1.3707e-04 - prod_vec_loss: 1.4821e-04 - prod_vec_1_loss: 1.6542e-04 - sum_vec_loss: 4.4813e-05 - sum_vec_1_loss: 4.2703e-05 - ham_dist_rmse: 0.0117 - ham_dist_mae: 0.0052 - val_loss: 1.6918e-04 - val_ham_dist_loss: 1.7385e-04 - val_prod_vec_loss: 1.4867e-04 - val_prod_vec_1_loss: 1.6068e-04 - val_sum_vec_loss: 4.2353e-05 - val_sum_vec_1_loss: 4.4572e-05 - val_ham_dist_rmse: 0.0132 - val_ham_dist_mae: 0.0056\n",
      "Epoch 16/20\n",
      "781/781 [==============================] - 23s 29ms/step - loss: 1.3051e-04 - ham_dist_loss: 1.3280e-04 - prod_vec_loss: 1.4000e-04 - prod_vec_1_loss: 1.5719e-04 - sum_vec_loss: 4.4805e-05 - sum_vec_1_loss: 4.2648e-05 - ham_dist_rmse: 0.0115 - ham_dist_mae: 0.0052 - val_loss: 1.6371e-04 - val_ham_dist_loss: 1.6866e-04 - val_prod_vec_loss: 1.3354e-04 - val_prod_vec_1_loss: 1.4673e-04 - val_sum_vec_loss: 3.9919e-05 - val_sum_vec_1_loss: 3.7538e-05 - val_ham_dist_rmse: 0.0130 - val_ham_dist_mae: 0.0054\n",
      "Epoch 17/20\n",
      "781/781 [==============================] - 23s 29ms/step - loss: 1.2245e-04 - ham_dist_loss: 1.2494e-04 - prod_vec_loss: 1.2472e-04 - prod_vec_1_loss: 1.3710e-04 - sum_vec_loss: 4.0214e-05 - sum_vec_1_loss: 3.8188e-05 - ham_dist_rmse: 0.0112 - ham_dist_mae: 0.0050 - val_loss: 1.6264e-04 - val_ham_dist_loss: 1.6795e-04 - val_prod_vec_loss: 1.2333e-04 - val_prod_vec_1_loss: 1.3572e-04 - val_sum_vec_loss: 3.8228e-05 - val_sum_vec_1_loss: 3.4292e-05 - val_ham_dist_rmse: 0.0130 - val_ham_dist_mae: 0.0054\n",
      "Epoch 18/20\n",
      "781/781 [==============================] - 22s 29ms/step - loss: 1.2256e-04 - ham_dist_loss: 1.2535e-04 - prod_vec_loss: 1.1638e-04 - prod_vec_1_loss: 1.3075e-04 - sum_vec_loss: 3.9498e-05 - sum_vec_1_loss: 3.6099e-05 - ham_dist_rmse: 0.0112 - ham_dist_mae: 0.0050 - val_loss: 1.5914e-04 - val_ham_dist_loss: 1.6424e-04 - val_prod_vec_loss: 1.1993e-04 - val_prod_vec_1_loss: 1.2933e-04 - val_sum_vec_loss: 4.3645e-05 - val_sum_vec_1_loss: 3.7529e-05 - val_ham_dist_rmse: 0.0128 - val_ham_dist_mae: 0.0053\n",
      "Epoch 19/20\n",
      "781/781 [==============================] - 22s 29ms/step - loss: 1.2135e-04 - ham_dist_loss: 1.2423e-04 - prod_vec_loss: 1.1081e-04 - prod_vec_1_loss: 1.2357e-04 - sum_vec_loss: 4.0648e-05 - sum_vec_1_loss: 3.7223e-05 - ham_dist_rmse: 0.0111 - ham_dist_mae: 0.0050 - val_loss: 1.5990e-04 - val_ham_dist_loss: 1.6525e-04 - val_prod_vec_loss: 1.1267e-04 - val_prod_vec_1_loss: 1.2577e-04 - val_sum_vec_loss: 4.3676e-05 - val_sum_vec_1_loss: 3.6082e-05 - val_ham_dist_rmse: 0.0129 - val_ham_dist_mae: 0.0053\n",
      "Epoch 20/20\n",
      "781/781 [==============================] - 22s 28ms/step - loss: 1.1805e-04 - ham_dist_loss: 1.2094e-04 - prod_vec_loss: 1.0367e-04 - prod_vec_1_loss: 1.1783e-04 - sum_vec_loss: 4.0329e-05 - sum_vec_1_loss: 3.6644e-05 - ham_dist_rmse: 0.0110 - ham_dist_mae: 0.0049 - val_loss: 1.5547e-04 - val_ham_dist_loss: 1.6103e-04 - val_prod_vec_loss: 1.0002e-04 - val_prod_vec_1_loss: 1.1417e-04 - val_sum_vec_loss: 3.7759e-05 - val_sum_vec_1_loss: 3.6660e-05 - val_ham_dist_rmse: 0.0127 - val_ham_dist_mae: 0.0051\n"
     ]
    }
   ],
   "source": [
    "siamese_model = train_siamese_model(model, X_train, X_validation, Y_train, Y_validation, batch_size = 512, epochs = 20)"
   ]
  },
  {
   "cell_type": "markdown",
   "id": "8de2153c-d75d-41be-848b-d503f6c36239",
   "metadata": {},
   "source": [
    "# 3. Model Evaluation"
   ]
  },
  {
   "cell_type": "code",
   "execution_count": 20,
   "id": "70c8adc8-2869-4868-b036-a328d003da67",
   "metadata": {},
   "outputs": [
    {
     "data": {
      "text/plain": [
       "[<tensorflow.python.keras.engine.input_layer.InputLayer at 0x7f0aeebede10>,\n",
       " <tensorflow.python.keras.engine.input_layer.InputLayer at 0x7f0aeeacdfd0>,\n",
       " <tensorflow.python.keras.engine.sequential.Sequential at 0x7f0aeebedf10>,\n",
       " <deep_hashing_models.HamDist at 0x7f0aeec289d0>,\n",
       " <deep_hashing_models.ProdVec at 0x7f0aeead5250>,\n",
       " <deep_hashing_models.ProdVec at 0x7f0aee3d50d0>,\n",
       " <deep_hashing_models.SumVec at 0x7f0aee5447d0>,\n",
       " <deep_hashing_models.SumVec at 0x7f0af8c26190>]"
      ]
     },
     "execution_count": 20,
     "metadata": {},
     "output_type": "execute_result"
    }
   ],
   "source": [
    "model.layers"
   ]
  },
  {
   "cell_type": "markdown",
   "id": "6e08e438-f7db-4ffd-a703-c050649eed80",
   "metadata": {},
   "source": [
    "## 3.1. Loss functions"
   ]
  },
  {
   "cell_type": "markdown",
   "id": "2ba523e6-4b29-4979-9739-3840a9d279e5",
   "metadata": {},
   "source": [
    "#### 3.1.1. MSE of $\\mathcal{L}_{DeepLSH}$"
   ]
  },
  {
   "cell_type": "code",
   "execution_count": 23,
   "id": "c5e56e1b-7ea1-4fcd-a2fe-d260ee48693a",
   "metadata": {},
   "outputs": [
    {
     "data": {
      "text/plain": [
       "<matplotlib.legend.Legend at 0x7f0aeebd2ad0>"
      ]
     },
     "execution_count": 23,
     "metadata": {},
     "output_type": "execute_result"
    },
    {
     "data": {
      "image/png": "[encoded data removed]",
      "text/plain": [
       "<Figure size 324x288 with 1 Axes>"
      ]
     },
     "metadata": {
      "needs_background": "light"
     },
     "output_type": "display_data"
    }
   ],
   "source": [
    "plt.rcParams[\"figure.figsize\"] = (4.5,4)\n",
    "plt.plot(siamese_model.history['loss'], linewidth = 2.5)\n",
    "plt.plot(siamese_model.history['val_loss'], linewidth = 2.5)\n",
    "plt.title('Jaccard (DeepLSH)', fontsize = 18)\n",
    "plt.ylabel('Mean Squared Error', fontsize = 13)\n",
    "plt.xlabel('Epochs', fontsize = 13)\n",
    "plt.xticks(fontsize= 12)\n",
    "plt.yticks(fontsize= 12)\n",
    "plt.ticklabel_format(axis = 'y', style='', scilimits=(0,0))\n",
    "plt.savefig('Results/DeepLSH/loss-MSE.png', bbox_inches='tight')\n",
    "plt.legend(['Train', 'Validation'], loc='upper right', fontsize=15)"
   ]
  },
  {
   "cell_type": "code",
   "execution_count": 21,
   "id": "78fa1d12-53e0-4b18-bd6d-b49e0ac5a173",
   "metadata": {},
   "outputs": [
    {
     "data": {
      "text/plain": [
       "<matplotlib.legend.Legend at 0x7fe3581b8910>"
      ]
     },
     "execution_count": 21,
     "metadata": {},
     "output_type": "execute_result"
    },
    {
     "data": {
      "image/png": "[encoded data removed]",
      "text/plain": [
       "<Figure size 576x360 with 1 Axes>"
      ]
     },
     "metadata": {
      "needs_background": "light"
     },
     "output_type": "display_data"
    }
   ],
   "source": [
    "plt.rcParams[\"figure.figsize\"] = (8,5)\n",
    "plt.plot(siamese_model.history['loss'], linewidth = 2)\n",
    "plt.plot(siamese_model.history['val_loss'], linewidth = 2)\n",
    "plt.title('Jaccard (DeepLSH)', fontsize = 20)\n",
    "plt.ylabel('MSE (Model)', fontsize = 12)\n",
    "plt.xlabel('Epochs', fontsize = 12)\n",
    "plt.ticklabel_format(style='', scilimits=(0,0))\n",
    "plt.legend(['Train', 'Validation'], loc='upper right', fontsize=15)"
   ]
  },
  {
   "cell_type": "markdown",
   "id": "05afb4e6-9037-456a-9663-060eb611c0b8",
   "metadata": {},
   "source": [
    "#### 3.1.2. RMSE of LSH preserving loss"
   ]
  },
  {
   "cell_type": "code",
   "execution_count": 22,
   "id": "9cd1cda5-36b1-41ab-8dc3-2ebfe56fd4d9",
   "metadata": {},
   "outputs": [
    {
     "data": {
      "text/plain": [
       "<matplotlib.legend.Legend at 0x7fe358147510>"
      ]
     },
     "execution_count": 22,
     "metadata": {},
     "output_type": "execute_result"
    },
    {
     "data": {
      "image/png": "[encoded data removed]",
      "text/plain": [
       "<Figure size 576x360 with 1 Axes>"
      ]
     },
     "metadata": {
      "needs_background": "light"
     },
     "output_type": "display_data"
    }
   ],
   "source": [
    "plt.rcParams[\"figure.figsize\"] = (8,5)\n",
    "plt.plot(siamese_model.history[model.layers[3].name + '_rmse'], linewidth = 2)\n",
    "plt.plot(siamese_model.history['val_' + model.layers[3].name + '_rmse'], linewidth = 2)\n",
    "plt.title('Jaccard (DeepLSH)', fontsize = 20)\n",
    "plt.ylabel('RMSE (LSH-preserving)', fontsize = 12)\n",
    "plt.xlabel('Epochs', fontsize = 12)\n",
    "plt.ticklabel_format(style='', scilimits=(0,0))\n",
    "plt.legend(['Train', 'Validation'], loc='upper right', fontsize=15)"
   ]
  },
  {
   "cell_type": "markdown",
   "id": "ac94472b-7465-4ab0-99dd-c042b4a32572",
   "metadata": {},
   "source": [
    "#### 3.1.3. MAE of LSH preserving loss"
   ]
  },
  {
   "cell_type": "code",
   "execution_count": 23,
   "id": "c4c8e448-e36f-4a8d-8d5f-a5da5c4d5019",
   "metadata": {},
   "outputs": [
    {
     "data": {
      "text/plain": [
       "<matplotlib.legend.Legend at 0x7fe35805ed10>"
      ]
     },
     "execution_count": 23,
     "metadata": {},
     "output_type": "execute_result"
    },
    {
     "data": {
      "image/png": "[encoded data removed]",
      "text/plain": [
       "<Figure size 576x360 with 1 Axes>"
      ]
     },
     "metadata": {
      "needs_background": "light"
     },
     "output_type": "display_data"
    }
   ],
   "source": [
    "plt.rcParams[\"figure.figsize\"] = (8,5)\n",
    "plt.plot(siamese_model.history[model.layers[3].name + '_mae'], linewidth = 2)\n",
    "plt.plot(siamese_model.history['val_' + model.layers[3].name + '_mae'], linewidth = 2)\n",
    "plt.title('Jaccard (DeepLSH)', fontsize = 20)\n",
    "plt.ylabel('MAE (LSH-preserving)', fontsize = 12)\n",
    "plt.xlabel('Epochs', fontsize = 12)\n",
    "plt.ticklabel_format(style='', scilimits=(0,0))\n",
    "plt.legend(['Train', 'Validation'], loc='upper right', fontsize=15)"
   ]
  },
  {
   "cell_type": "markdown",
   "id": "f8f7f1d0-62b0-4612-ab39-9c38fad06a4c",
   "metadata": {},
   "source": [
    "## 3.2. Model Predictions"
   ]
  },
  {
   "cell_type": "code",
   "execution_count": 24,
   "id": "1f089e9c-7bbd-40fb-90f3-3e4c7a2798d2",
   "metadata": {},
   "outputs": [],
   "source": [
    "predictions = predict(model, X_validation)"
   ]
  },
  {
   "cell_type": "markdown",
   "id": "19834dba-ff8b-45fa-aead-ac2e6d099273",
   "metadata": {},
   "source": [
    "### 3.2.1. Examples"
   ]
  },
  {
   "cell_type": "code",
   "execution_count": 25,
   "id": "eade347d-6ee3-4fa3-ba1a-c5298f94c96e",
   "metadata": {},
   "outputs": [
    {
     "data": {
      "text/plain": [
       "array([0.141, 0.125, 0.609, 0.172, 0.094, 0.203, 0.   , 0.   , 0.   ,\n",
       "       0.   , 0.   , 0.   , 0.   , 0.141, 0.015, 0.   , 0.   , 0.219,\n",
       "       0.031, 0.   , 0.   , 0.   , 0.   , 0.068, 0.   , 0.063, 0.   ,\n",
       "       0.318, 0.   , 0.   , 0.   , 0.   , 0.   , 0.156, 0.   , 0.878,\n",
       "       0.   , 0.016, 0.   , 0.111, 0.   , 0.   , 0.235, 0.141, 0.049,\n",
       "       0.276, 0.139, 0.078, 0.   , 0.   ], dtype=float32)"
      ]
     },
     "execution_count": 25,
     "metadata": {},
     "output_type": "execute_result"
    }
   ],
   "source": [
    "np.around(predictions[0][:50],3) "
   ]
  },
  {
   "cell_type": "code",
   "execution_count": 26,
   "id": "8f18d2a7-c115-4a7c-9492-facb302c578b",
   "metadata": {},
   "outputs": [
    {
     "data": {
      "text/plain": [
       "array([0.129, 0.111, 0.6  , 0.162, 0.118, 0.192, 0.   , 0.   , 0.   ,\n",
       "       0.   , 0.   , 0.   , 0.   , 0.125, 0.031, 0.   , 0.   , 0.217,\n",
       "       0.036, 0.   , 0.   , 0.   , 0.   , 0.107, 0.   , 0.054, 0.   ,\n",
       "       0.304, 0.   , 0.   , 0.   , 0.   , 0.   , 0.179, 0.   , 0.875,\n",
       "       0.   , 0.   , 0.   , 0.12 , 0.   , 0.   , 0.241, 0.129, 0.053,\n",
       "       0.241, 0.125, 0.086, 0.   , 0.   ])"
      ]
     },
     "execution_count": 26,
     "metadata": {},
     "output_type": "execute_result"
    }
   ],
   "source": [
    "np.around(Y_validation[:50],3) "
   ]
  },
  {
   "cell_type": "markdown",
   "id": "98409488-ca93-4cd3-b71c-547fa4baa6ef",
   "metadata": {},
   "source": [
    "### 3.2.2. Spearman $\\rho$ and Kendall $\\tau$ correlation"
   ]
  },
  {
   "cell_type": "code",
   "execution_count": 27,
   "id": "01573553-5d50-49eb-aa52-c480c0de67f0",
   "metadata": {},
   "outputs": [
    {
     "data": {
      "image/png": "[encoded data removed]",
      "text/plain": [
       "<Figure size 288x288 with 1 Axes>"
      ]
     },
     "metadata": {
      "needs_background": "light"
     },
     "output_type": "display_data"
    }
   ],
   "source": [
    "plt.rcParams[\"figure.figsize\"] = (4,4)\n",
    "plt.scatter(Y_validation, predictions[0], alpha = 0.5, marker = 'x', c = '#227093')\n",
    "plt.title('Jaccard (DeepLSH)', fontsize = 16)\n",
    "plt.xlabel(\"Jaccard similarity values\", fontsize = 12)\n",
    "plt.ylabel(\"Collision probability\", fontsize = 12)\n",
    "plt.savefig('Results/DeepLSH/Jaccard-correlation', bbox_inches='tight')\n",
    "plt.show()"
   ]
  },
  {
   "cell_type": "code",
   "execution_count": 28,
   "id": "f80a43e7-b4b5-4956-9b3d-6a1457a6ee92",
   "metadata": {},
   "outputs": [
    {
     "data": {
      "text/plain": [
       "0.9398734502224406"
      ]
     },
     "execution_count": 28,
     "metadata": {},
     "output_type": "execute_result"
    }
   ],
   "source": [
    "rho, p_value = spearman_rho(predictions, Y_validation)\n",
    "rho"
   ]
  },
  {
   "cell_type": "code",
   "execution_count": 29,
   "id": "7f6dc861-28aa-4f3d-b0fb-7f5caf453280",
   "metadata": {},
   "outputs": [
    {
     "data": {
      "text/plain": [
       "0.8861164755998336"
      ]
     },
     "execution_count": 29,
     "metadata": {},
     "output_type": "execute_result"
    }
   ],
   "source": [
    "tau, p_value = kendall_tau(predictions, Y_validation)\n",
    "tau"
   ]
  },
  {
   "cell_type": "markdown",
   "id": "895fc952-6e22-451a-abd2-86de43e87328",
   "metadata": {},
   "source": [
    "## 3.3. Approximate Hamming Evaluation"
   ]
  },
  {
   "cell_type": "code",
   "execution_count": 21,
   "id": "6b9edd91-5e15-4aa8-8a05-4985b8623897",
   "metadata": {},
   "outputs": [
    {
     "data": {
      "text/plain": [
       "<tensorflow.python.keras.engine.sequential.Sequential at 0x7f0dae347b50>"
      ]
     },
     "execution_count": 21,
     "metadata": {},
     "output_type": "execute_result"
    }
   ],
   "source": [
    "output_layer = 2\n",
    "model.layers[output_layer]"
   ]
  },
  {
   "cell_type": "code",
   "execution_count": 22,
   "id": "acaf1823-ca3b-4d6c-9a71-a6c9acf5e1f5",
   "metadata": {},
   "outputs": [],
   "source": [
    "intermediate_model = intermediate_model_trained(shared_model, output_layer)"
   ]
  },
  {
   "cell_type": "code",
   "execution_count": 32,
   "id": "af463035-c96a-4c73-b86b-88d4008062f4",
   "metadata": {},
   "outputs": [
    {
     "name": "stdout",
     "output_type": "stream",
     "text": [
      "WARNING:tensorflow:Compiled the loaded model, but the compiled metrics have yet to be built. `model.compile_metrics` will be empty until you train or evaluate the model.\n",
      "INFO:tensorflow:Assets written to: Models/model-deep-lsh.model/assets\n"
     ]
    }
   ],
   "source": [
    "intermediate_model.save('Models/model-deep-lsh.model')"
   ]
  },
  {
   "cell_type": "code",
   "execution_count": null,
   "id": "e1d76839-294e-46e9-9318-89ef7ee93f72",
   "metadata": {},
   "outputs": [],
   "source": [
    "#intermediate_model = keras.models.load_model('Models/model-deep-lsh.model')"
   ]
  },
  {
   "cell_type": "markdown",
   "id": "b4d1758f-ff99-49fc-b85c-4fe66560da40",
   "metadata": {},
   "source": [
    "### 3.3.1. Example of a hash vector provided by the model (in the last epoch)"
   ]
  },
  {
   "cell_type": "code",
   "execution_count": 33,
   "id": "ec686420-c52a-4925-852f-939cfe007904",
   "metadata": {
    "tags": []
   },
   "outputs": [
    {
     "data": {
      "text/plain": [
       "array([ 1.       , -1.       ,  1.       ,  1.       ,  1.       ,\n",
       "       -1.       ,  1.       , -1.       ,  1.       , -1.       ,\n",
       "       -1.       ,  1.       ,  1.       , -1.       ,  1.       ,\n",
       "       -1.       , -1.       , -1.       , -1.       , -1.       ,\n",
       "       -1.       ,  1.       , -1.       ,  1.       ,  1.       ,\n",
       "       -1.       ,  1.       ,  1.       ,  1.       , -1.       ,\n",
       "       -1.       ,  1.       , -1.       ,  1.       ,  1.       ,\n",
       "        1.       ,  1.       , -1.       , -1.       ,  1.       ,\n",
       "        1.       , -1.       , -1.       , -1.       , -1.       ,\n",
       "        1.       , -1.       ,  1.       ,  1.       , -1.       ,\n",
       "        1.       , -1.       ,  1.       ,  1.       ,  1.       ,\n",
       "       -1.       , -1.       , -1.       , -1.       ,  1.       ,\n",
       "       -1.       ,  0.8177532,  1.       ,  1.       ], dtype=float32)"
      ]
     },
     "execution_count": 33,
     "metadata": {},
     "output_type": "execute_result"
    }
   ],
   "source": [
    "'First 64 bits'\n",
    "intermediate_model.predict(df_bag_of_frames.iloc[[10]])[0][:64]"
   ]
  },
  {
   "cell_type": "markdown",
   "id": "4ec939b1-4814-49cd-80ff-ee2bad747358",
   "metadata": {},
   "source": [
    "### 3.3.2. Average value of the absolute hash values"
   ]
  },
  {
   "cell_type": "code",
   "execution_count": 23,
   "id": "f54a9180-f4a4-4e0c-94ed-e36df291b072",
   "metadata": {},
   "outputs": [],
   "source": [
    "hash_vectors = intermediate_model.predict(df_bag_of_frames)"
   ]
  },
  {
   "cell_type": "code",
   "execution_count": 35,
   "id": "b5607102-bb85-46a9-9551-045f437edfcf",
   "metadata": {
    "tags": []
   },
   "outputs": [
    {
     "data": {
      "text/plain": [
       "array([[ 1.        , -1.        ,  1.        , ...,  0.9979848 ,\n",
       "         1.        , -1.        ],\n",
       "       [ 1.        , -1.        ,  1.        , ...,  0.9995847 ,\n",
       "         1.        , -1.        ],\n",
       "       [ 1.        , -1.        ,  1.        , ..., -1.        ,\n",
       "         1.        , -1.        ],\n",
       "       ...,\n",
       "       [ 1.        , -1.        ,  1.        , ..., -0.98309964,\n",
       "         1.        , -1.        ],\n",
       "       [-1.        , -0.98654354,  0.999865  , ...,  1.        ,\n",
       "         1.        , -1.        ],\n",
       "       [ 1.        , -1.        ,  1.        , ..., -1.        ,\n",
       "         1.        ,  1.        ]], dtype=float32)"
      ]
     },
     "execution_count": 35,
     "metadata": {},
     "output_type": "execute_result"
    }
   ],
   "source": [
    "hash_vectors"
   ]
  },
  {
   "cell_type": "code",
   "execution_count": 36,
   "id": "0fd308c0-f913-4d55-b45b-01f976a62e0b",
   "metadata": {},
   "outputs": [
    {
     "data": {
      "text/plain": [
       "0.99392885"
      ]
     },
     "execution_count": 36,
     "metadata": {},
     "output_type": "execute_result"
    }
   ],
   "source": [
    "np.mean(np.abs(hash_vectors))"
   ]
  },
  {
   "cell_type": "markdown",
   "id": "2ca2d6a3-75da-472a-99bb-b25ece9df8a7",
   "metadata": {},
   "source": [
    "### 3.3.3. Ratio of binary values from hash vectors provided by the model"
   ]
  },
  {
   "cell_type": "code",
   "execution_count": 37,
   "id": "5bb9bdd7-c931-4db2-8a89-b20c7fb92d9e",
   "metadata": {},
   "outputs": [
    {
     "data": {
      "text/plain": [
       "0.8610341796875"
      ]
     },
     "execution_count": 37,
     "metadata": {},
     "output_type": "execute_result"
    }
   ],
   "source": [
    "hash_vectors[(hash_vectors == 1) | (hash_vectors == -1)].size / hash_vectors.size"
   ]
  },
  {
   "cell_type": "markdown",
   "id": "5a606dc1-dd06-4376-9f33-1254286c701d",
   "metadata": {},
   "source": [
    "### 3.3.4. Comparison between approximate hamming and real hamming"
   ]
  },
  {
   "cell_type": "code",
   "execution_count": 38,
   "id": "03dd89e8-82d7-47c2-8c33-a0652d3ec536",
   "metadata": {},
   "outputs": [],
   "source": [
    "df_hamming = compare_hamming(X_validation, intermediate_model, b, size_hash_vector)"
   ]
  },
  {
   "cell_type": "code",
   "execution_count": 39,
   "id": "3fdc0913-64e8-4b05-a1fd-75f20c1a418a",
   "metadata": {},
   "outputs": [
    {
     "data": {
      "image/png": "[encoded data removed]",
      "text/plain": [
       "<Figure size 288x288 with 1 Axes>"
      ]
     },
     "metadata": {
      "needs_background": "light"
     },
     "output_type": "display_data"
    }
   ],
   "source": [
    "plt.rcParams[\"figure.figsize\"] = (4,4)\n",
    "plt.scatter(predictions[0], df_hamming['hamming'], alpha = 0.5, marker = 'x', c = '#b33939')\n",
    "plt.xlabel(\"Approximate Hamming Similariy\", fontsize = 12)\n",
    "plt.ylabel(\"Hamming Similarity\", fontsize = 12)\n",
    "plt.title('Jaccard (DeepLSH)', fontsize = 16)\n",
    "plt.savefig('Results/DeepLSH/Jaccard-hamming-comparison', bbox_inches='tight')\n",
    "plt.show()"
   ]
  },
  {
   "cell_type": "markdown",
   "id": "b030832c-7872-45da-8698-a0bbf16fe3cb",
   "metadata": {},
   "source": [
    "# 4. Locality Sensitive Hashing"
   ]
  },
  {
   "cell_type": "code",
   "execution_count": 24,
   "id": "2aacdd9c-73d0-4257-af38-1768e9f4aa05",
   "metadata": {},
   "outputs": [],
   "source": [
    "hash_vectors_hamming = convert_to_hamming(hash_vectors)"
   ]
  },
  {
   "cell_type": "code",
   "execution_count": 25,
   "id": "f3bb826f-5e0d-4d6e-8356-d1f3315d6ebd",
   "metadata": {},
   "outputs": [
    {
     "data": {
      "text/plain": [
       "[(1, 64), (2, 32), (4, 16), (8, 8), (16, 4), (32, 2), (64, 1)]"
      ]
     },
     "execution_count": 25,
     "metadata": {},
     "output_type": "execute_result"
    }
   ],
   "source": [
    "params = lsh_hyperparams(m)\n",
    "'(K,L)'\n",
    "params "
   ]
  },
  {
   "cell_type": "markdown",
   "id": "cabab99d-9820-4b91-a6ed-6f2b3b38b0b9",
   "metadata": {},
   "source": [
    "## 4.1. Choose the best combination (L, K)"
   ]
  },
  {
   "cell_type": "code",
   "execution_count": 42,
   "id": "1aeac3ba-cb08-4e8a-913b-1dbd0529c782",
   "metadata": {},
   "outputs": [
    {
     "data": {
      "text/plain": [
       "<matplotlib.legend.Legend at 0x7fe7f7739610>"
      ]
     },
     "execution_count": 42,
     "metadata": {},
     "output_type": "execute_result"
    },
    {
     "data": {
      "image/png": "[encoded data removed]",
      "text/plain": [
       "<Figure size 648x360 with 1 Axes>"
      ]
     },
     "metadata": {
      "needs_background": "light"
     },
     "output_type": "display_data"
    }
   ],
   "source": [
    "plt.rcParams[\"figure.figsize\"] = [9, 5]\n",
    "x = np.linspace(0, 1, 100)\n",
    "for param in params:\n",
    "    y = 1 - (1 - (x)**param[1])**param[0]\n",
    "    plt.plot(x, y, label = 'L = %d, r = %d' %param)\n",
    "plt.xlabel(\"similarity values\", fontsize = 12)\n",
    "plt.ylabel(\"hash probability in at least 1 bucket\", fontsize = 12)\n",
    "plt.title('Probability-similarity relation', fontsize = 18)\n",
    "plt.legend()"
   ]
  },
  {
   "cell_type": "code",
   "execution_count": 43,
   "id": "b931100a-06bb-4748-80a8-e09f31905b2a",
   "metadata": {},
   "outputs": [],
   "source": [
    "df_probLSH = mean_prob_hashing_smallest_elt(n_stacks, params, hash_vectors_hamming, b, df_measures, 'Jaccard', trace = False)"
   ]
  },
  {
   "cell_type": "code",
   "execution_count": 44,
   "id": "98685548-ab7a-4bb4-a39c-61f448d1c42b",
   "metadata": {},
   "outputs": [
    {
     "data": {
      "image/png": "[encoded data removed]",
      "text/plain": [
       "<Figure size 432x288 with 1 Axes>"
      ]
     },
     "metadata": {
      "needs_background": "light"
     },
     "output_type": "display_data"
    }
   ],
   "source": [
    "f, ax = plt.subplots(figsize=(6, 4))\n",
    "ax = sns.boxplot(data = df_probLSH, palette=\"Set3\")\n",
    "plt.xlabel(\"Hyperparameters of LSH (L,K)\", fontsize = 12)\n",
    "plt.ylabel(\"Prob hashing smallest elt in buckets\", fontsize = 12)\n",
    "plt.title('Jaccard (DeepLSH) [Relation Prob-Sim]', fontsize = 16)\n",
    "plt.savefig('Results/DeepLSH/Jaccard-Relation-Prob-Sim', bbox_inches='tight')\n",
    "plt.show()"
   ]
  },
  {
   "cell_type": "code",
   "execution_count": 26,
   "id": "0e85f833-8a8c-4fe7-803d-52c4a8d78194",
   "metadata": {},
   "outputs": [
    {
     "data": {
      "text/plain": [
       "(8, 8)"
      ]
     },
     "execution_count": 26,
     "metadata": {},
     "output_type": "execute_result"
    }
   ],
   "source": [
    "'L = K = 8'\n",
    "L, K = params[3]\n",
    "L, K"
   ]
  },
  {
   "cell_type": "markdown",
   "id": "dc0d84af-ec41-43dc-b1cd-73e92cd96894",
   "metadata": {},
   "source": [
    "### 4.1.1. Mean and Median probability for all stack traces for a the best combination of $K$ and $L$"
   ]
  },
  {
   "cell_type": "code",
   "execution_count": 46,
   "id": "3a414e49-3f64-4aa0-b2aa-c7d12490eb15",
   "metadata": {},
   "outputs": [
    {
     "data": {
      "text/plain": [
       "0.580227635605384"
      ]
     },
     "execution_count": 46,
     "metadata": {},
     "output_type": "execute_result"
    }
   ],
   "source": [
    "df_probLSH.mean()['(8, 8)']"
   ]
  },
  {
   "cell_type": "code",
   "execution_count": 47,
   "id": "4381a53d-2b3b-438b-afb7-b91389db8a45",
   "metadata": {},
   "outputs": [
    {
     "data": {
      "text/plain": [
       "0.6302315952536182"
      ]
     },
     "execution_count": 47,
     "metadata": {},
     "output_type": "execute_result"
    }
   ],
   "source": [
    "df_probLSH.median()['(8, 8)']"
   ]
  },
  {
   "cell_type": "markdown",
   "id": "6ebdb37a-a88b-46f1-8a22-1c0f872f6cd6",
   "metadata": {},
   "source": [
    "## 4.2. Build hash tables with binary hash vectors w.r.t $K$ and $L$"
   ]
  },
  {
   "cell_type": "code",
   "execution_count": 27,
   "id": "fb84b5ab-519b-4dd1-bb5e-5ced695bf3a4",
   "metadata": {},
   "outputs": [],
   "source": [
    "hash_tables = create_hash_tables(L, K, b, hash_vectors_hamming)"
   ]
  },
  {
   "cell_type": "code",
   "execution_count": 49,
   "id": "990e3198-6b1b-44a3-bac0-a5f66a91e4eb",
   "metadata": {},
   "outputs": [],
   "source": [
    "with open('Hash-Tables/hash_tables_deeplsh.pkl', 'wb') as f:\n",
    "    pickle.dump(hash_tables, f)"
   ]
  },
  {
   "cell_type": "markdown",
   "id": "70f264b8-e59e-4995-b416-f8966cfc4d8f",
   "metadata": {},
   "source": [
    "## 4.3. Search for approximate nearest neighbors (this procedure need to be explained in the paper) "
   ]
  },
  {
   "cell_type": "code",
   "execution_count": 113,
   "id": "46bdb33d-c680-4242-919e-cd2dfd73e353",
   "metadata": {},
   "outputs": [
    {
     "data": {
      "text/plain": [
       "311"
      ]
     },
     "execution_count": 113,
     "metadata": {},
     "output_type": "execute_result"
    }
   ],
   "source": [
    "'pointer to the stack trace'\n",
    "index = random.randint(0,n_stacks)\n",
    "index"
   ]
  },
  {
   "cell_type": "code",
   "execution_count": 114,
   "id": "ce6258ad-9458-4e9b-867a-d3b4fc675966",
   "metadata": {},
   "outputs": [
    {
     "data": {
      "text/plain": [
       "{311, 572}"
      ]
     },
     "execution_count": 114,
     "metadata": {},
     "output_type": "execute_result"
    }
   ],
   "source": [
    "set_near_duplicates = near_duplicates(L, K, b, index, hash_vectors_hamming, hash_tables)\n",
    "set_near_duplicates"
   ]
  },
  {
   "cell_type": "code",
   "execution_count": 115,
   "id": "d3c836e7-fc34-47cd-9889-f76db2bc71a2",
   "metadata": {},
   "outputs": [],
   "source": [
    "list_near_duplicate_pairs = near_duplicate_pairs(index, set_near_duplicates, n_stacks)\n",
    "n_duplicate_pairs = len(list_near_duplicate_pairs)"
   ]
  },
  {
   "cell_type": "code",
   "execution_count": 116,
   "id": "561cd65b-4aa5-4f8c-b4a2-423baa352721",
   "metadata": {},
   "outputs": [
    {
     "data": {
      "text/plain": [
       "262744    0.857143\n",
       "Name: Jaccard, dtype: float64"
      ]
     },
     "execution_count": 116,
     "metadata": {},
     "output_type": "execute_result"
    }
   ],
   "source": [
    "near_duplicates_sim = df_measures['Jaccard'][list_near_duplicate_pairs].sort_values(ascending = False)\n",
    "near_duplicates_sim"
   ]
  },
  {
   "cell_type": "code",
   "execution_count": 117,
   "id": "6510bce7-6663-4db3-8455-0b846720c6f1",
   "metadata": {
    "tags": []
   },
   "outputs": [
    {
     "data": {
      "text/plain": [
       "{572}"
      ]
     },
     "execution_count": 117,
     "metadata": {},
     "output_type": "execute_result"
    }
   ],
   "source": [
    "set_real_nns, real_nns_sim = real_nns(index, df_measures, 'Jaccard', n_stacks, n_duplicate_pairs)\n",
    "set_real_nns"
   ]
  },
  {
   "cell_type": "code",
   "execution_count": 118,
   "id": "0c2d9881-6df4-463f-9dd1-7d02a9fd1347",
   "metadata": {},
   "outputs": [
    {
     "data": {
      "text/plain": [
       "262744    0.857143\n",
       "dtype: float64"
      ]
     },
     "execution_count": 118,
     "metadata": {},
     "output_type": "execute_result"
    }
   ],
   "source": [
    "real_nns_sim[:n_duplicate_pairs]"
   ]
  },
  {
   "cell_type": "markdown",
   "id": "47aa72d7-020e-4a46-9f1c-f95ea57c3a2b",
   "metadata": {},
   "source": [
    "## 4.4. Metrics"
   ]
  },
  {
   "cell_type": "markdown",
   "id": "108a4d18-597e-4a51-9f51-940a80fd0be8",
   "metadata": {},
   "source": [
    "### 4.4.1. Ratio of finding the $k$ real nearest neighbor with the Least $L$ (Recal rate at $k$ first positions)"
   ]
  },
  {
   "cell_type": "code",
   "execution_count": 56,
   "id": "55ad1f38-83e2-4e55-8483-c7971ede8ec2",
   "metadata": {},
   "outputs": [
    {
     "data": {
      "text/plain": [
       "0.872"
      ]
     },
     "execution_count": 56,
     "metadata": {},
     "output_type": "execute_result"
    }
   ],
   "source": [
    "'All params'\n",
    "k_first_positions = 1\n",
    "recal_rate(n_stacks, params, hash_vectors_hamming, b, df_measures, k_first_positions, 'Jaccard')"
   ]
  },
  {
   "cell_type": "code",
   "execution_count": null,
   "id": "7424b84d-1066-4e2c-a6ec-4c67d448440c",
   "metadata": {},
   "outputs": [],
   "source": [
    "'Best param'\n",
    "k_first_positions = 1\n",
    "recal_rate_one_param(n_stacks, params[3], hash_vectors_hamming, b, df_measures, k_first_positions, 'Jaccard')"
   ]
  },
  {
   "cell_type": "markdown",
   "id": "b20f2315-986c-4bc2-89dc-9dd1757a8c78",
   "metadata": {},
   "source": [
    "-----------------------------------------------------------------"
   ]
  },
  {
   "cell_type": "code",
   "execution_count": 57,
   "id": "aa6e30e1-37f9-45cc-8356-2df3ce14f4c1",
   "metadata": {},
   "outputs": [
    {
     "data": {
      "text/plain": [
       "0.9173333333333323"
      ]
     },
     "execution_count": 57,
     "metadata": {},
     "output_type": "execute_result"
    }
   ],
   "source": [
    "'All params'\n",
    "k_first_positions = 3\n",
    "recal_rate(n_stacks, params, hash_vectors_hamming, b, df_measures, k_first_positions, 'Jaccard')"
   ]
  },
  {
   "cell_type": "code",
   "execution_count": null,
   "id": "d85c52a9-2948-44cd-94d8-62c40b7b8b8c",
   "metadata": {},
   "outputs": [],
   "source": [
    "'Best param'\n",
    "k_first_positions = 3\n",
    "recal_rate_one_param(n_stacks, params[3], hash_vectors_hamming, b, df_measures, k_first_positions, 'Jaccard')"
   ]
  },
  {
   "cell_type": "markdown",
   "id": "de7a74bc-5737-406e-b30e-d09834d1d6c5",
   "metadata": {},
   "source": [
    "-----------------------------------------------------------------"
   ]
  },
  {
   "cell_type": "code",
   "execution_count": 58,
   "id": "f3c6cd88-f248-41f1-8eac-74f36dcbd2cc",
   "metadata": {},
   "outputs": [
    {
     "data": {
      "text/plain": [
       "0.9257999999999997"
      ]
     },
     "execution_count": 58,
     "metadata": {},
     "output_type": "execute_result"
    }
   ],
   "source": [
    "'All params'\n",
    "k_first_positions = 5\n",
    "recal_rate(n_stacks, params, hash_vectors_hamming, b, df_measures, k_first_positions, 'Jaccard')"
   ]
  },
  {
   "cell_type": "code",
   "execution_count": null,
   "id": "cd421b6d-9527-41f4-80c4-bd20572a75b9",
   "metadata": {},
   "outputs": [],
   "source": [
    "'Best param'\n",
    "k_first_positions = 5\n",
    "recal_rate_one_param(n_stacks, params[3], hash_vectors_hamming, b, df_measures, k_first_positions, 'Jaccard')"
   ]
  },
  {
   "cell_type": "markdown",
   "id": "78b9f9fc-d7c0-46a0-afc0-9d6295866fbf",
   "metadata": {},
   "source": [
    "### 4.4.2. Generalized MRR"
   ]
  },
  {
   "cell_type": "markdown",
   "id": "81af2e1e-b878-4f18-95b7-4b4d35b5cb3f",
   "metadata": {},
   "source": [
    "$ \\frac{1}{|\\mathcal{R}_i|} \\sum_{s' \\in \\mathcal{R}_i} \\frac{\\text{rank}(s',\\mathcal{R}_i)}{\\text{rank}(s',NNs(s_i))}$"
   ]
  },
  {
   "cell_type": "code",
   "execution_count": 119,
   "id": "8d572df0-2963-4794-b603-a642a1c3422f",
   "metadata": {
    "tags": []
   },
   "outputs": [
    {
     "data": {
      "text/plain": [
       "1.0"
      ]
     },
     "execution_count": 119,
     "metadata": {},
     "output_type": "execute_result"
    }
   ],
   "source": [
    "generalized_mrr(near_duplicates_sim, real_nns_sim)"
   ]
  },
  {
   "cell_type": "code",
   "execution_count": 120,
   "id": "20822989-304f-4ebf-b661-355b72deb819",
   "metadata": {
    "collapsed": true,
    "jupyter": {
     "outputs_hidden": true
    },
    "tags": []
   },
   "outputs": [
    {
     "name": "stdout",
     "output_type": "stream",
     "text": [
      "(1, 64)\n",
      "0\n",
      "100\n",
      "200\n",
      "300\n",
      "400\n",
      "500\n",
      "600\n",
      "700\n",
      "800\n",
      "900\n",
      "-----------------------------\n",
      "(2, 32)\n",
      "0\n",
      "100\n",
      "200\n",
      "300\n",
      "400\n",
      "500\n",
      "600\n",
      "700\n",
      "800\n",
      "900\n",
      "-----------------------------\n",
      "(4, 16)\n",
      "0\n",
      "100\n",
      "200\n",
      "300\n",
      "400\n",
      "500\n",
      "600\n",
      "700\n",
      "800\n",
      "900\n",
      "-----------------------------\n",
      "(8, 8)\n",
      "0\n",
      "100\n",
      "200\n",
      "300\n",
      "400\n",
      "500\n",
      "600\n",
      "700\n",
      "800\n",
      "900\n",
      "-----------------------------\n",
      "(16, 4)\n",
      "0\n",
      "100\n",
      "200\n",
      "300\n",
      "400\n",
      "500\n",
      "600\n",
      "700\n",
      "800\n",
      "900\n",
      "-----------------------------\n",
      "(32, 2)\n",
      "0\n",
      "100\n",
      "200\n",
      "300\n",
      "400\n",
      "500\n",
      "600\n",
      "700\n",
      "800\n",
      "900\n",
      "-----------------------------\n",
      "(64, 1)\n",
      "0\n",
      "100\n",
      "200\n",
      "300\n",
      "400\n",
      "500\n",
      "600\n",
      "700\n",
      "800\n",
      "900\n",
      "-----------------------------\n"
     ]
    },
    {
     "data": {
      "text/plain": [
       "(1, 64)    0.972727\n",
       "(2, 32)    0.974702\n",
       "(4, 16)    0.962168\n",
       "(8, 8)     0.948303\n",
       "(16, 4)    0.898774\n",
       "(32, 2)    0.934398\n",
       "(64, 1)    0.995334\n",
       "dtype: float64"
      ]
     },
     "execution_count": 120,
     "metadata": {},
     "output_type": "execute_result"
    }
   ],
   "source": [
    "df_knns = mean_generalized_mrr(n_stacks, params, hash_vectors_hamming, b, df_measures ,'Jaccard', trace = True)"
   ]
  },
  {
   "cell_type": "code",
   "execution_count": 121,
   "id": "7ecba7d5-a1cc-4a31-bd78-c47d5677d281",
   "metadata": {},
   "outputs": [
    {
     "data": {
      "text/plain": [
       "(1, 64)    0.972727\n",
       "(2, 32)    0.974702\n",
       "(4, 16)    0.962168\n",
       "(8, 8)     0.948303\n",
       "(16, 4)    0.898774\n",
       "(32, 2)    0.934398\n",
       "(64, 1)    0.995334\n",
       "dtype: float64"
      ]
     },
     "execution_count": 121,
     "metadata": {},
     "output_type": "execute_result"
    }
   ],
   "source": [
    "df_knns.mean(skipna = True, axis = 0)"
   ]
  },
  {
   "cell_type": "code",
   "execution_count": 28,
   "id": "e2751f72-958f-41e7-80d1-eb62c8b5e3f2",
   "metadata": {},
   "outputs": [],
   "source": [
    "df_precision = precision_all(n_stacks, params, hash_vectors_hamming, b, df_measures ,'Jaccard', trace = False)"
   ]
  },
  {
   "cell_type": "code",
   "execution_count": 29,
   "id": "c6243320-6bb6-4725-b6d1-a4565a9aac85",
   "metadata": {},
   "outputs": [
    {
     "data": {
      "text/plain": [
       "(1, 64)    0.448276\n",
       "(2, 32)    0.176796\n",
       "(4, 16)    0.388712\n",
       "(8, 8)     0.794716\n",
       "(16, 4)    0.779083\n",
       "(32, 2)    0.890329\n",
       "(64, 1)    0.954409\n",
       "dtype: float64"
      ]
     },
     "execution_count": 29,
     "metadata": {},
     "output_type": "execute_result"
    }
   ],
   "source": [
    "df_precision.mean(skipna = True, axis = 0)"
   ]
  },
  {
   "cell_type": "code",
   "execution_count": 30,
   "id": "fb1dec06-373c-4442-a97c-5047fd0b13bd",
   "metadata": {
    "collapsed": true,
    "jupyter": {
     "outputs_hidden": true
    },
    "tags": []
   },
   "outputs": [
    {
     "name": "stdout",
     "output_type": "stream",
     "text": [
      "(1, 64)\n",
      "0\n",
      "100\n",
      "200\n",
      "300\n",
      "400\n",
      "500\n",
      "600\n",
      "700\n",
      "800\n",
      "900\n",
      "-----------------------------\n",
      "(2, 32)\n",
      "0\n",
      "100\n",
      "200\n",
      "300\n",
      "400\n",
      "500\n",
      "600\n",
      "700\n",
      "800\n",
      "900\n",
      "-----------------------------\n",
      "(4, 16)\n",
      "0\n",
      "100\n",
      "200\n",
      "300\n",
      "400\n",
      "500\n",
      "600\n",
      "700\n",
      "800\n",
      "900\n",
      "-----------------------------\n",
      "(8, 8)\n",
      "0\n",
      "100\n",
      "200\n",
      "300\n",
      "400\n",
      "500\n",
      "600\n",
      "700\n",
      "800\n",
      "900\n",
      "-----------------------------\n",
      "(16, 4)\n",
      "0\n",
      "100\n",
      "200\n",
      "300\n",
      "400\n",
      "500\n",
      "600\n",
      "700\n",
      "800\n",
      "900\n",
      "-----------------------------\n",
      "(32, 2)\n",
      "0\n",
      "100\n",
      "200\n",
      "300\n",
      "400\n",
      "500\n",
      "600\n",
      "700\n",
      "800\n",
      "900\n",
      "-----------------------------\n",
      "(64, 1)\n",
      "0\n",
      "100\n",
      "200\n",
      "300\n",
      "400\n",
      "500\n",
      "600\n",
      "700\n",
      "800\n",
      "900\n",
      "-----------------------------\n"
     ]
    }
   ],
   "source": [
    "df_recall = recall_all(n_stacks, params, hash_vectors_hamming, b, df_measures ,'Jaccard', trace = True)"
   ]
  },
  {
   "cell_type": "code",
   "execution_count": 31,
   "id": "aa4cb784-4665-42e9-8266-9f187384591c",
   "metadata": {},
   "outputs": [
    {
     "data": {
      "text/plain": [
       "(1, 64)    0.448276\n",
       "(2, 32)    0.165746\n",
       "(4, 16)    0.284059\n",
       "(8, 8)     0.619327\n",
       "(16, 4)    0.459367\n",
       "(32, 2)    0.681919\n",
       "(64, 1)    0.324299\n",
       "dtype: float64"
      ]
     },
     "execution_count": 31,
     "metadata": {},
     "output_type": "execute_result"
    }
   ],
   "source": [
    "df_recall.mean(skipna = True)"
   ]
  },
  {
   "cell_type": "code",
   "execution_count": 35,
   "id": "d4ef7b7e-8af4-458e-b4fe-24e124b97413",
   "metadata": {
    "collapsed": true,
    "jupyter": {
     "outputs_hidden": true
    },
    "tags": []
   },
   "outputs": [
    {
     "name": "stdout",
     "output_type": "stream",
     "text": [
      "(1, 64)\n",
      "0\n",
      "100\n",
      "200\n",
      "300\n",
      "400\n",
      "500\n",
      "600\n",
      "700\n",
      "800\n",
      "900\n",
      "-----------------------------\n",
      "(2, 32)\n",
      "0\n",
      "100\n",
      "200\n",
      "300\n",
      "400\n",
      "500\n",
      "600\n",
      "700\n",
      "800\n",
      "900\n",
      "-----------------------------\n",
      "(4, 16)\n",
      "0\n",
      "100\n",
      "200\n",
      "300\n",
      "400\n",
      "500\n",
      "600\n",
      "700\n",
      "800\n",
      "900\n",
      "-----------------------------\n",
      "(8, 8)\n",
      "0\n",
      "100\n",
      "200\n",
      "300\n",
      "400\n",
      "500\n",
      "600\n",
      "700\n",
      "800\n",
      "900\n",
      "-----------------------------\n",
      "(16, 4)\n",
      "0\n",
      "100\n",
      "200\n",
      "300\n",
      "400\n",
      "500\n",
      "600\n",
      "700\n",
      "800\n",
      "900\n",
      "-----------------------------\n",
      "(32, 2)\n",
      "0\n",
      "100\n",
      "200\n",
      "300\n",
      "400\n",
      "500\n",
      "600\n",
      "700\n",
      "800\n",
      "900\n",
      "-----------------------------\n",
      "(64, 1)\n",
      "0\n",
      "100\n",
      "200\n",
      "300\n",
      "400\n",
      "500\n",
      "600\n",
      "700\n",
      "800\n",
      "900\n",
      "-----------------------------\n"
     ]
    }
   ],
   "source": [
    "df_fscore = fscore_all(n_stacks, params, hash_vectors_hamming, b, df_measures ,'Jaccard', trace = True)"
   ]
  },
  {
   "cell_type": "code",
   "execution_count": 37,
   "id": "c7df9f54-7db2-49fd-8bdf-6a31bc93ca2a",
   "metadata": {},
   "outputs": [
    {
     "data": {
      "text/plain": [
       "(1, 64)    0.448276\n",
       "(2, 32)    0.165746\n",
       "(4, 16)    0.284120\n",
       "(8, 8)     0.622869\n",
       "(16, 4)    0.468334\n",
       "(32, 2)    0.709185\n",
       "(64, 1)    0.327968\n",
       "dtype: float64"
      ]
     },
     "execution_count": 37,
     "metadata": {},
     "output_type": "execute_result"
    }
   ],
   "source": [
    "df_fscore.mean(skipna = True)"
   ]
  }
 ],
 "metadata": {
  "kernelspec": {
   "display_name": "split-sd4x",
   "language": "python",
   "name": "split-sd4x"
  },
  "language_info": {
   "codemirror_mode": {
    "name": "ipython",
    "version": 3
   },
   "file_extension": ".py",
   "mimetype": "text/x-python",
   "name": "python",
   "nbconvert_exporter": "python",
   "pygments_lexer": "ipython3",
   "version": "3.7.10"
  }
 },
 "nbformat": 4,
 "nbformat_minor": 5
}
