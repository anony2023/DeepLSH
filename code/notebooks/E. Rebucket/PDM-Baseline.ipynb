{
 "cells": [
  {
   "cell_type": "code",
   "execution_count": 1,
   "id": "bb7e69c2-b065-46fa-b6eb-7ea56ae43f35",
   "metadata": {},
   "outputs": [],
   "source": [
    "import os\n",
    "import sys\n",
    "import numpy as np\n",
    "import pandas as pd\n",
    "import random\n",
    "import matplotlib.pyplot as plt\n",
    "import seaborn as sns\n",
    "import warnings\n",
    "import pickle\n",
    "warnings.filterwarnings(\"ignore\")\n",
    "from sklearn.feature_extraction.text import CountVectorizer\n",
    "from sklearn.model_selection import train_test_split"
   ]
  },
  {
   "cell_type": "code",
   "execution_count": 2,
   "id": "1014d33e-c803-41ce-be12-ab1c3f929253",
   "metadata": {},
   "outputs": [],
   "source": [
    "sys.path.append(os.path.join(os.path.dirname(os.path.dirname(os.getcwd())),'python-packages/'))\n",
    "from deep_hashing_models import *\n",
    "from similarities import *\n",
    "from lsh_search import *"
   ]
  },
  {
   "cell_type": "markdown",
   "id": "627c738c-cd1f-4e1b-ae93-1aa3d25882aa",
   "metadata": {},
   "source": [
    "# 1. Data Preparation"
   ]
  },
  {
   "cell_type": "code",
   "execution_count": 3,
   "id": "e96659a4-eea0-48d9-8977-fecba559b78d",
   "metadata": {},
   "outputs": [],
   "source": [
    "data_repo = os.path.join(os.path.dirname(os.path.dirname(os.path.dirname(os.getcwd()))),'data/')"
   ]
  },
  {
   "cell_type": "code",
   "execution_count": 4,
   "id": "d2874701-b390-405b-9001-822faf31ade5",
   "metadata": {},
   "outputs": [],
   "source": [
    "df_distinct_stacks = pd.read_csv(data_repo + 'frequent_stack_traces.csv', index_col = [0])\n",
    "df_measures = pd.read_csv(data_repo + 'similarity-measures-pairs.csv', index_col = [0])"
   ]
  },
  {
   "cell_type": "code",
   "execution_count": 5,
   "id": "7b4772e1-6603-4344-a277-70d9728c61ea",
   "metadata": {},
   "outputs": [
    {
     "data": {
      "text/plain": [
       "1000"
      ]
     },
     "execution_count": 5,
     "metadata": {},
     "output_type": "execute_result"
    }
   ],
   "source": [
    "n_stacks = df_distinct_stacks.shape[0]\n",
    "n_stacks"
   ]
  },
  {
   "cell_type": "code",
   "execution_count": 6,
   "id": "e515f018-4609-4487-8d87-d707ca6347da",
   "metadata": {},
   "outputs": [],
   "source": [
    "vectorizer_bag_of_frames = CountVectorizer(token_pattern = r\"(?u)\\b[a-zA-Z0-9_.]{2,}\\b\")\n",
    "s = df_distinct_stacks['stackTraceCusto'].apply(lambda x : x.replace('\\n',' '))\n",
    "s = s.apply(lambda x : x.replace('$',''))\n",
    "s = s.apply(lambda x : x.replace('/',''))\n",
    "s = s.apply(lambda x : x.replace('<',''))\n",
    "s = s.apply(lambda x : x.replace('>',''))\n",
    "X_bag_of_frames = vectorizer_bag_of_frames.fit_transform(list(s)).toarray()\n",
    "df_bag_of_frames = pd.DataFrame(data = X_bag_of_frames, columns = vectorizer_bag_of_frames.get_feature_names())"
   ]
  },
  {
   "cell_type": "code",
   "execution_count": 7,
   "id": "50aa90c2-205c-4f47-8230-4da0ea7d618f",
   "metadata": {},
   "outputs": [],
   "source": [
    "X_train, X_validation, Y_train, Y_validation = train_test_split(df_measures.index, df_measures['PDM'], test_size = 0.2) "
   ]
  },
  {
   "cell_type": "code",
   "execution_count": 8,
   "id": "9b5ac005-aa8f-47fe-a5cf-ece206be1621",
   "metadata": {},
   "outputs": [],
   "source": [
    "indexes_train_1 = X_train.to_series().apply(lambda x : get_two_indexes(x, df_distinct_stacks.shape[0])[0]).to_list()\n",
    "indexes_train_2 = X_train.to_series().apply(lambda x : get_two_indexes(x, df_distinct_stacks.shape[0])[1]).to_list()\n",
    "indexes_validation_1 = X_validation.to_series().apply(lambda x : get_two_indexes(x, df_distinct_stacks.shape[0])[0]).to_list()\n",
    "indexes_validation_2 = X_validation.to_series().apply(lambda x : get_two_indexes(x, df_distinct_stacks.shape[0])[1]).to_list()"
   ]
  },
  {
   "cell_type": "code",
   "execution_count": 9,
   "id": "ed7fad07-aacc-453c-beba-7b0123b67c82",
   "metadata": {},
   "outputs": [],
   "source": [
    "X_train = dict()\n",
    "X_train['stack_1'] = df_bag_of_frames.loc[indexes_train_1].values\n",
    "X_train['stack_2'] = df_bag_of_frames.loc[indexes_train_2].values\n",
    "\n",
    "X_validation = dict()\n",
    "X_validation['stack_1'] = df_bag_of_frames.loc[indexes_validation_1].values\n",
    "X_validation['stack_2'] = df_bag_of_frames.loc[indexes_validation_2].values"
   ]
  },
  {
   "cell_type": "code",
   "execution_count": 10,
   "id": "7a79ade3-db36-4098-9c5a-109ec33a37eb",
   "metadata": {},
   "outputs": [],
   "source": [
    "Y_train = Y_train.values\n",
    "Y_validation = Y_validation.values"
   ]
  },
  {
   "cell_type": "code",
   "execution_count": 11,
   "id": "5f8cc839-bd54-4630-8f35-2a89bb19c00d",
   "metadata": {},
   "outputs": [],
   "source": [
    "assert X_train['stack_1'].shape == X_train['stack_2'].shape\n",
    "assert len(X_train['stack_1']) == len(Y_train)"
   ]
  },
  {
   "cell_type": "markdown",
   "id": "753999cd-6682-4263-b38e-1865140e6708",
   "metadata": {},
   "source": [
    "### Distribution of training data"
   ]
  },
  {
   "cell_type": "code",
   "execution_count": 12,
   "id": "3db6e7b6-ff7f-4089-be9b-af02e34646ed",
   "metadata": {},
   "outputs": [
    {
     "data": {
      "image/png": "[encoded data removed]",
      "text/plain": [
       "<Figure size 720x360 with 1 Axes>"
      ]
     },
     "metadata": {
      "needs_background": "light"
     },
     "output_type": "display_data"
    }
   ],
   "source": [
    "plt.rcParams[\"figure.figsize\"] = [10, 5]\n",
    "plt.hist(Y_train, 20, alpha = 1, density = False)\n",
    "plt.show()"
   ]
  },
  {
   "cell_type": "markdown",
   "id": "3a910820-e364-426d-9cbd-411794637bc8",
   "metadata": {},
   "source": [
    "### Distribution of test data"
   ]
  },
  {
   "cell_type": "code",
   "execution_count": 13,
   "id": "c242807e-a11b-43e2-82a0-aed22cbdefbc",
   "metadata": {},
   "outputs": [
    {
     "data": {
      "image/png": "[encoded data removed]",
      "text/plain": [
       "<Figure size 720x360 with 1 Axes>"
      ]
     },
     "metadata": {
      "needs_background": "light"
     },
     "output_type": "display_data"
    }
   ],
   "source": [
    "plt.rcParams[\"figure.figsize\"] = [10, 5]\n",
    "plt.hist(Y_validation, 20, alpha = 1, density = False)\n",
    "plt.show()"
   ]
  },
  {
   "cell_type": "markdown",
   "id": "19aa15e5-aee6-46ea-9c52-d1fa077b05dc",
   "metadata": {},
   "source": [
    "# 2. Model Design"
   ]
  },
  {
   "cell_type": "code",
   "execution_count": 14,
   "id": "02a2362d-059a-44b7-94f7-24e03680eef0",
   "metadata": {},
   "outputs": [],
   "source": [
    "'Number of hash tables functions' \n",
    "m = 64"
   ]
  },
  {
   "cell_type": "code",
   "execution_count": 15,
   "id": "6ea1ca10-c9ff-4735-ae80-e03691eb16ba",
   "metadata": {},
   "outputs": [],
   "source": [
    "'Number of bits per hash function' \n",
    "b = 8"
   ]
  },
  {
   "cell_type": "code",
   "execution_count": 16,
   "id": "06478197-071f-4395-804f-cbc171aadbd5",
   "metadata": {},
   "outputs": [
    {
     "data": {
      "text/plain": [
       "512"
      ]
     },
     "execution_count": 16,
     "metadata": {},
     "output_type": "execute_result"
    }
   ],
   "source": [
    "'Size hash vector'\n",
    "size_hash_vector = m * b\n",
    "size_hash_vector"
   ]
  },
  {
   "cell_type": "markdown",
   "id": "0d60851f-b05f-4bc6-80f0-ce736180afe0",
   "metadata": {},
   "source": [
    "## 2.1. Feature learning phase"
   ]
  },
  {
   "cell_type": "code",
   "execution_count": 17,
   "id": "d9893ed6-5d0b-41b2-816b-b410e1c07910",
   "metadata": {},
   "outputs": [],
   "source": [
    "x = Sequential()\n",
    "x.add(Dense(2048, input_dim = X_train['stack_1'].shape[1], activation = 'sigmoid'))\n",
    "x.add(Dense(1024, activation = 'sigmoid'))\n",
    "x.add(Dense(size_hash_vector, activation = 'tanh'))\n",
    "shared_model = x"
   ]
  },
  {
   "cell_type": "markdown",
   "id": "279ba874-5ea0-4a94-83a1-f7f7c9ca8e0e",
   "metadata": {},
   "source": [
    "## 2.2. Siamese Model "
   ]
  },
  {
   "cell_type": "code",
   "execution_count": 18,
   "id": "d1d8a570-b1a8-489c-8312-e78dca471a63",
   "metadata": {
    "tags": []
   },
   "outputs": [
    {
     "name": "stdout",
     "output_type": "stream",
     "text": [
      "Model: \"model\"\n",
      "__________________________________________________________________________________________________\n",
      "Layer (type)                    Output Shape         Param #     Connected to                     \n",
      "==================================================================================================\n",
      "input_1 (InputLayer)            [(None, 2249)]       0                                            \n",
      "__________________________________________________________________________________________________\n",
      "input_2 (InputLayer)            [(None, 2249)]       0                                            \n",
      "__________________________________________________________________________________________________\n",
      "sequential (Sequential)         (None, 512)          7230976     input_1[0][0]                    \n",
      "                                                                 input_2[0][0]                    \n",
      "                                                                 input_1[0][0]                    \n",
      "                                                                 input_2[0][0]                    \n",
      "__________________________________________________________________________________________________\n",
      "manh_dist (ManhDist)            (None, 1)            0           sequential[0][0]                 \n",
      "                                                                 sequential[1][0]                 \n",
      "__________________________________________________________________________________________________\n",
      "abs_vect (AbsVect)              (None, 512)          0           sequential[2][0]                 \n",
      "__________________________________________________________________________________________________\n",
      "abs_vect_1 (AbsVect)            (None, 512)          0           sequential[3][0]                 \n",
      "==================================================================================================\n",
      "Total params: 7,230,976\n",
      "Trainable params: 7,230,976\n",
      "Non-trainable params: 0\n",
      "__________________________________________________________________________________________________\n",
      "None\n",
      "Model: \"sequential\"\n",
      "_________________________________________________________________\n",
      "Layer (type)                 Output Shape              Param #   \n",
      "=================================================================\n",
      "dense (Dense)                (None, 2048)              4608000   \n",
      "_________________________________________________________________\n",
      "dense_1 (Dense)              (None, 1024)              2098176   \n",
      "_________________________________________________________________\n",
      "dense_2 (Dense)              (None, 512)               524800    \n",
      "=================================================================\n",
      "Total params: 7,230,976\n",
      "Trainable params: 7,230,976\n",
      "Non-trainable params: 0\n",
      "_________________________________________________________________\n",
      "None\n"
     ]
    }
   ],
   "source": [
    "input_shape = (X_train['stack_1'].shape[1],)\n",
    "model = siamese_model_baseline(shared_model, input_shape, is_sparse = True, print_summary = True)"
   ]
  },
  {
   "cell_type": "markdown",
   "id": "0bb438cf-7efb-4603-aab4-1364b187938f",
   "metadata": {},
   "source": [
    "## 2.3. Model training "
   ]
  },
  {
   "cell_type": "code",
   "execution_count": 19,
   "id": "3c6beca4-2caa-4c8c-8ca9-c3dfaedffbdc",
   "metadata": {},
   "outputs": [
    {
     "name": "stdout",
     "output_type": "stream",
     "text": [
      "Epoch 1/20\n",
      "781/781 [==============================] - 16s 19ms/step - loss: -0.4397 - manh_dist_loss: 0.1049 - abs_vect_loss: -0.9840 - abs_vect_1_loss: -0.9845 - manh_dist_rmse: 0.3239 - manh_dist_mae: 0.2476 - val_loss: -0.4658 - val_manh_dist_loss: 0.0540 - val_abs_vect_loss: -0.9851 - val_abs_vect_1_loss: -0.9859 - val_manh_dist_rmse: 0.2323 - val_manh_dist_mae: 0.1862\n",
      "Epoch 2/20\n",
      "781/781 [==============================] - 14s 18ms/step - loss: -0.4696 - manh_dist_loss: 0.0497 - abs_vect_loss: -0.9887 - abs_vect_1_loss: -0.9892 - manh_dist_rmse: 0.2230 - manh_dist_mae: 0.1791 - val_loss: -0.4723 - val_manh_dist_loss: 0.0469 - val_abs_vect_loss: -0.9912 - val_abs_vect_1_loss: -0.9917 - val_manh_dist_rmse: 0.2165 - val_manh_dist_mae: 0.1729\n",
      "Epoch 3/20\n",
      "781/781 [==============================] - 14s 18ms/step - loss: -0.4740 - manh_dist_loss: 0.0435 - abs_vect_loss: -0.9913 - abs_vect_1_loss: -0.9915 - manh_dist_rmse: 0.2085 - manh_dist_mae: 0.1669 - val_loss: -0.4745 - val_manh_dist_loss: 0.0422 - val_abs_vect_loss: -0.9911 - val_abs_vect_1_loss: -0.9914 - val_manh_dist_rmse: 0.2054 - val_manh_dist_mae: 0.1641\n",
      "Epoch 4/20\n",
      "781/781 [==============================] - 14s 18ms/step - loss: -0.4756 - manh_dist_loss: 0.0408 - abs_vect_loss: -0.9919 - abs_vect_1_loss: -0.9922 - manh_dist_rmse: 0.2020 - manh_dist_mae: 0.1622 - val_loss: -0.4759 - val_manh_dist_loss: 0.0401 - val_abs_vect_loss: -0.9917 - val_abs_vect_1_loss: -0.9919 - val_manh_dist_rmse: 0.2002 - val_manh_dist_mae: 0.1601\n",
      "Epoch 5/20\n",
      "781/781 [==============================] - 14s 18ms/step - loss: -0.4779 - manh_dist_loss: 0.0371 - abs_vect_loss: -0.9928 - abs_vect_1_loss: -0.9929 - manh_dist_rmse: 0.1926 - manh_dist_mae: 0.1545 - val_loss: -0.4791 - val_manh_dist_loss: 0.0349 - val_abs_vect_loss: -0.9930 - val_abs_vect_1_loss: -0.9933 - val_manh_dist_rmse: 0.1868 - val_manh_dist_mae: 0.1494\n",
      "Epoch 6/20\n",
      "781/781 [==============================] - 14s 18ms/step - loss: -0.4806 - manh_dist_loss: 0.0329 - abs_vect_loss: -0.9941 - abs_vect_1_loss: -0.9942 - manh_dist_rmse: 0.1814 - manh_dist_mae: 0.1457 - val_loss: -0.4810 - val_manh_dist_loss: 0.0329 - val_abs_vect_loss: -0.9948 - val_abs_vect_1_loss: -0.9949 - val_manh_dist_rmse: 0.1813 - val_manh_dist_mae: 0.1455\n",
      "Epoch 7/20\n",
      "781/781 [==============================] - 14s 18ms/step - loss: -0.4816 - manh_dist_loss: 0.0314 - abs_vect_loss: -0.9945 - abs_vect_1_loss: -0.9947 - manh_dist_rmse: 0.1772 - manh_dist_mae: 0.1426 - val_loss: -0.4817 - val_manh_dist_loss: 0.0312 - val_abs_vect_loss: -0.9945 - val_abs_vect_1_loss: -0.9945 - val_manh_dist_rmse: 0.1766 - val_manh_dist_mae: 0.1420\n",
      "Epoch 8/20\n",
      "781/781 [==============================] - 14s 18ms/step - loss: -0.4821 - manh_dist_loss: 0.0304 - abs_vect_loss: -0.9946 - abs_vect_1_loss: -0.9948 - manh_dist_rmse: 0.1744 - manh_dist_mae: 0.1407 - val_loss: -0.4821 - val_manh_dist_loss: 0.0312 - val_abs_vect_loss: -0.9952 - val_abs_vect_1_loss: -0.9955 - val_manh_dist_rmse: 0.1767 - val_manh_dist_mae: 0.1425\n",
      "Epoch 9/20\n",
      "781/781 [==============================] - 14s 18ms/step - loss: -0.4825 - manh_dist_loss: 0.0298 - abs_vect_loss: -0.9947 - abs_vect_1_loss: -0.9948 - manh_dist_rmse: 0.1727 - manh_dist_mae: 0.1397 - val_loss: -0.4823 - val_manh_dist_loss: 0.0298 - val_abs_vect_loss: -0.9944 - val_abs_vect_1_loss: -0.9946 - val_manh_dist_rmse: 0.1728 - val_manh_dist_mae: 0.1395\n",
      "Epoch 10/20\n",
      "781/781 [==============================] - 14s 18ms/step - loss: -0.4828 - manh_dist_loss: 0.0292 - abs_vect_loss: -0.9947 - abs_vect_1_loss: -0.9948 - manh_dist_rmse: 0.1709 - manh_dist_mae: 0.1387 - val_loss: -0.4826 - val_manh_dist_loss: 0.0302 - val_abs_vect_loss: -0.9954 - val_abs_vect_1_loss: -0.9956 - val_manh_dist_rmse: 0.1737 - val_manh_dist_mae: 0.1410\n",
      "Epoch 11/20\n",
      "781/781 [==============================] - 14s 18ms/step - loss: -0.4831 - manh_dist_loss: 0.0287 - abs_vect_loss: -0.9947 - abs_vect_1_loss: -0.9949 - manh_dist_rmse: 0.1694 - manh_dist_mae: 0.1379 - val_loss: -0.4829 - val_manh_dist_loss: 0.0294 - val_abs_vect_loss: -0.9950 - val_abs_vect_1_loss: -0.9953 - val_manh_dist_rmse: 0.1714 - val_manh_dist_mae: 0.1394\n",
      "Epoch 12/20\n",
      "781/781 [==============================] - 14s 19ms/step - loss: -0.4832 - manh_dist_loss: 0.0283 - abs_vect_loss: -0.9947 - abs_vect_1_loss: -0.9949 - manh_dist_rmse: 0.1683 - manh_dist_mae: 0.1373 - val_loss: -0.4830 - val_manh_dist_loss: 0.0287 - val_abs_vect_loss: -0.9947 - val_abs_vect_1_loss: -0.9949 - val_manh_dist_rmse: 0.1694 - val_manh_dist_mae: 0.1382\n",
      "Epoch 13/20\n",
      "781/781 [==============================] - 15s 19ms/step - loss: -0.4834 - manh_dist_loss: 0.0280 - abs_vect_loss: -0.9947 - abs_vect_1_loss: -0.9949 - manh_dist_rmse: 0.1672 - manh_dist_mae: 0.1366 - val_loss: -0.4832 - val_manh_dist_loss: 0.0282 - val_abs_vect_loss: -0.9945 - val_abs_vect_1_loss: -0.9947 - val_manh_dist_rmse: 0.1678 - val_manh_dist_mae: 0.1369\n",
      "Epoch 14/20\n",
      "781/781 [==============================] - 15s 19ms/step - loss: -0.4836 - manh_dist_loss: 0.0276 - abs_vect_loss: -0.9947 - abs_vect_1_loss: -0.9949 - manh_dist_rmse: 0.1662 - manh_dist_mae: 0.1360 - val_loss: -0.4834 - val_manh_dist_loss: 0.0282 - val_abs_vect_loss: -0.9948 - val_abs_vect_1_loss: -0.9951 - val_manh_dist_rmse: 0.1679 - val_manh_dist_mae: 0.1374\n",
      "Epoch 15/20\n",
      "781/781 [==============================] - 14s 18ms/step - loss: -0.4838 - manh_dist_loss: 0.0273 - abs_vect_loss: -0.9947 - abs_vect_1_loss: -0.9949 - manh_dist_rmse: 0.1651 - manh_dist_mae: 0.1354 - val_loss: -0.4835 - val_manh_dist_loss: 0.0277 - val_abs_vect_loss: -0.9946 - val_abs_vect_1_loss: -0.9949 - val_manh_dist_rmse: 0.1664 - val_manh_dist_mae: 0.1366\n",
      "Epoch 16/20\n",
      "781/781 [==============================] - 14s 18ms/step - loss: -0.4839 - manh_dist_loss: 0.0269 - abs_vect_loss: -0.9947 - abs_vect_1_loss: -0.9948 - manh_dist_rmse: 0.1641 - manh_dist_mae: 0.1349 - val_loss: -0.4837 - val_manh_dist_loss: 0.0266 - val_abs_vect_loss: -0.9939 - val_abs_vect_1_loss: -0.9941 - val_manh_dist_rmse: 0.1631 - val_manh_dist_mae: 0.1339\n",
      "Epoch 17/20\n",
      "781/781 [==============================] - 15s 19ms/step - loss: -0.4841 - manh_dist_loss: 0.0266 - abs_vect_loss: -0.9947 - abs_vect_1_loss: -0.9948 - manh_dist_rmse: 0.1632 - manh_dist_mae: 0.1345 - val_loss: -0.4839 - val_manh_dist_loss: 0.0265 - val_abs_vect_loss: -0.9942 - val_abs_vect_1_loss: -0.9943 - val_manh_dist_rmse: 0.1628 - val_manh_dist_mae: 0.1340\n",
      "Epoch 18/20\n",
      "781/781 [==============================] - 14s 18ms/step - loss: -0.4842 - manh_dist_loss: 0.0264 - abs_vect_loss: -0.9947 - abs_vect_1_loss: -0.9949 - manh_dist_rmse: 0.1625 - manh_dist_mae: 0.1341 - val_loss: -0.4840 - val_manh_dist_loss: 0.0274 - val_abs_vect_loss: -0.9952 - val_abs_vect_1_loss: -0.9953 - val_manh_dist_rmse: 0.1654 - val_manh_dist_mae: 0.1360\n",
      "Epoch 19/20\n",
      "781/781 [==============================] - 14s 18ms/step - loss: -0.4843 - manh_dist_loss: 0.0262 - abs_vect_loss: -0.9948 - abs_vect_1_loss: -0.9949 - manh_dist_rmse: 0.1619 - manh_dist_mae: 0.1338 - val_loss: -0.4841 - val_manh_dist_loss: 0.0267 - val_abs_vect_loss: -0.9948 - val_abs_vect_1_loss: -0.9950 - val_manh_dist_rmse: 0.1633 - val_manh_dist_mae: 0.1348\n",
      "Epoch 20/20\n",
      "781/781 [==============================] - 14s 18ms/step - loss: -0.4844 - manh_dist_loss: 0.0261 - abs_vect_loss: -0.9948 - abs_vect_1_loss: -0.9949 - manh_dist_rmse: 0.1614 - manh_dist_mae: 0.1336 - val_loss: -0.4842 - val_manh_dist_loss: 0.0271 - val_abs_vect_loss: -0.9954 - val_abs_vect_1_loss: -0.9955 - val_manh_dist_rmse: 0.1646 - val_manh_dist_mae: 0.1357\n"
     ]
    }
   ],
   "source": [
    "siamese_model = train_siamese_model_baseline(model, X_train, X_validation, Y_train, Y_validation, size_hash_vector, batch_size = 512, epochs = 20)"
   ]
  },
  {
   "cell_type": "markdown",
   "id": "8de2153c-d75d-41be-848b-d503f6c36239",
   "metadata": {},
   "source": [
    "# 3. Model Evaluation"
   ]
  },
  {
   "cell_type": "code",
   "execution_count": 20,
   "id": "a3c3519a-cf27-413e-b267-6504149deb2d",
   "metadata": {},
   "outputs": [
    {
     "data": {
      "text/plain": [
       "[<tensorflow.python.keras.engine.input_layer.InputLayer at 0x7f1f761cd250>,\n",
       " <tensorflow.python.keras.engine.input_layer.InputLayer at 0x7f1f761a7050>,\n",
       " <tensorflow.python.keras.engine.sequential.Sequential at 0x7f1f761cd2d0>,\n",
       " <deep_hashing_models.ManhDist at 0x7f1f7619c7d0>,\n",
       " <deep_hashing_models.AbsVect at 0x7f1f75bedf90>,\n",
       " <deep_hashing_models.AbsVect at 0x7f1f75baa510>]"
      ]
     },
     "execution_count": 20,
     "metadata": {},
     "output_type": "execute_result"
    }
   ],
   "source": [
    "model.layers"
   ]
  },
  {
   "cell_type": "markdown",
   "id": "6e08e438-f7db-4ffd-a703-c050649eed80",
   "metadata": {},
   "source": [
    "## 3.1. Loss functions"
   ]
  },
  {
   "cell_type": "markdown",
   "id": "2ba523e6-4b29-4979-9739-3840a9d279e5",
   "metadata": {},
   "source": [
    "#### 3.1.1. MSE of $\\mathcal{L}_{Baseline}$"
   ]
  },
  {
   "cell_type": "code",
   "execution_count": 21,
   "id": "78fa1d12-53e0-4b18-bd6d-b49e0ac5a173",
   "metadata": {},
   "outputs": [
    {
     "data": {
      "text/plain": [
       "<matplotlib.legend.Legend at 0x7f1f75b24fd0>"
      ]
     },
     "execution_count": 21,
     "metadata": {},
     "output_type": "execute_result"
    },
    {
     "data": {
      "image/png": "[encoded data removed]",
      "text/plain": [
       "<Figure size 576x360 with 1 Axes>"
      ]
     },
     "metadata": {
      "needs_background": "light"
     },
     "output_type": "display_data"
    }
   ],
   "source": [
    "plt.rcParams[\"figure.figsize\"] = (8,5)\n",
    "plt.plot(siamese_model.history['loss'], linewidth = 2)\n",
    "plt.plot(siamese_model.history['val_loss'], linewidth = 2)\n",
    "plt.title('PDM (Baseline)', fontsize = 20)\n",
    "plt.ylabel('MSE (Model)', fontsize = 12)\n",
    "plt.xlabel('Epochs', fontsize = 12)\n",
    "plt.ticklabel_format(style='', scilimits=(0,0))\n",
    "plt.legend(['Train', 'Validation'], loc='upper right', fontsize=15)"
   ]
  },
  {
   "cell_type": "markdown",
   "id": "05afb4e6-9037-456a-9663-060eb611c0b8",
   "metadata": {},
   "source": [
    "#### 3.1.2. RMSE of Similarity preserving loss"
   ]
  },
  {
   "cell_type": "code",
   "execution_count": 22,
   "id": "9cd1cda5-36b1-41ab-8dc3-2ebfe56fd4d9",
   "metadata": {},
   "outputs": [
    {
     "data": {
      "text/plain": [
       "<matplotlib.legend.Legend at 0x7f1b2c669f50>"
      ]
     },
     "execution_count": 22,
     "metadata": {},
     "output_type": "execute_result"
    },
    {
     "data": {
      "image/png": "[encoded data removed]",
      "text/plain": [
       "<Figure size 576x360 with 1 Axes>"
      ]
     },
     "metadata": {
      "needs_background": "light"
     },
     "output_type": "display_data"
    }
   ],
   "source": [
    "plt.rcParams[\"figure.figsize\"] = (8,5)\n",
    "plt.plot(siamese_model.history[model.layers[3].name + '_rmse'], linewidth = 2)\n",
    "plt.plot(siamese_model.history['val_' + model.layers[3].name + '_rmse'], linewidth = 2)\n",
    "plt.title('PDM (Baseline)', fontsize = 20)\n",
    "plt.ylabel('RMSE (Similarity-preserving)', fontsize = 12)\n",
    "plt.xlabel('Epochs', fontsize = 12)\n",
    "plt.ticklabel_format(style='', scilimits=(0,0))\n",
    "plt.legend(['Train', 'Validation'], loc='upper right', fontsize=15)"
   ]
  },
  {
   "cell_type": "markdown",
   "id": "ac94472b-7465-4ab0-99dd-c042b4a32572",
   "metadata": {},
   "source": [
    "#### 3.1.3. MAE of LSH preserving loss"
   ]
  },
  {
   "cell_type": "code",
   "execution_count": 23,
   "id": "c4c8e448-e36f-4a8d-8d5f-a5da5c4d5019",
   "metadata": {},
   "outputs": [
    {
     "data": {
      "text/plain": [
       "<matplotlib.legend.Legend at 0x7f1b2c592950>"
      ]
     },
     "execution_count": 23,
     "metadata": {},
     "output_type": "execute_result"
    },
    {
     "data": {
      "image/png": "[encoded data removed]",
      "text/plain": [
       "<Figure size 576x360 with 1 Axes>"
      ]
     },
     "metadata": {
      "needs_background": "light"
     },
     "output_type": "display_data"
    }
   ],
   "source": [
    "plt.rcParams[\"figure.figsize\"] = (8,5)\n",
    "plt.plot(siamese_model.history[model.layers[3].name + '_mae'], linewidth = 2)\n",
    "plt.plot(siamese_model.history['val_' + model.layers[3].name + '_mae'], linewidth = 2)\n",
    "plt.title('PDM (Baseline)', fontsize = 20)\n",
    "plt.ylabel('MAE (Similarity-preserving)', fontsize = 12)\n",
    "plt.xlabel('Epochs', fontsize = 12)\n",
    "plt.ticklabel_format(style='', scilimits=(0,0))\n",
    "plt.legend(['Train', 'Validation'], loc='upper right', fontsize=15)"
   ]
  },
  {
   "cell_type": "markdown",
   "id": "f8f7f1d0-62b0-4612-ab39-9c38fad06a4c",
   "metadata": {},
   "source": [
    "## 3.2. Model Predictions"
   ]
  },
  {
   "cell_type": "code",
   "execution_count": 24,
   "id": "1f089e9c-7bbd-40fb-90f3-3e4c7a2798d2",
   "metadata": {},
   "outputs": [],
   "source": [
    "predictions = predict(model, X_validation)"
   ]
  },
  {
   "cell_type": "markdown",
   "id": "19834dba-ff8b-45fa-aead-ac2e6d099273",
   "metadata": {},
   "source": [
    "### 3.2.1. Examples"
   ]
  },
  {
   "cell_type": "code",
   "execution_count": 25,
   "id": "eade347d-6ee3-4fa3-ba1a-c5298f94c96e",
   "metadata": {},
   "outputs": [
    {
     "data": {
      "text/plain": [
       "array([0.158, 0.476, 0.096, 0.043, 0.281, 0.103, 0.067, 0.13 , 0.337,\n",
       "       0.049, 0.428, 0.205, 0.547, 0.152, 0.983, 0.072, 0.207, 0.101,\n",
       "       0.076, 0.132, 0.36 , 0.06 , 0.053, 0.064, 0.071, 0.223, 0.386,\n",
       "       0.11 , 0.294, 0.114, 0.105, 0.097, 0.21 , 0.091, 0.591, 0.12 ,\n",
       "       0.062, 0.071, 0.285, 0.061, 0.45 , 0.574, 0.217, 0.097, 0.441,\n",
       "       0.263, 0.193, 0.282, 0.107, 0.365], dtype=float32)"
      ]
     },
     "execution_count": 25,
     "metadata": {},
     "output_type": "execute_result"
    }
   ],
   "source": [
    "np.around(predictions[0][:50],3) "
   ]
  },
  {
   "cell_type": "code",
   "execution_count": 26,
   "id": "8f18d2a7-c115-4a7c-9492-facb302c578b",
   "metadata": {},
   "outputs": [
    {
     "data": {
      "text/plain": [
       "array([0.   , 0.181, 0.   , 0.   , 0.178, 0.038, 0.099, 0.   , 0.354,\n",
       "       0.   , 0.092, 0.174, 0.161, 0.   , 0.913, 0.   , 0.1  , 0.047,\n",
       "       0.   , 0.   , 0.092, 0.   , 0.   , 0.   , 0.   , 0.   , 0.248,\n",
       "       0.   , 0.081, 0.02 , 0.   , 0.   , 0.   , 0.048, 0.344, 0.   ,\n",
       "       0.   , 0.   , 0.166, 0.   , 0.248, 0.281, 0.   , 0.   , 0.119,\n",
       "       0.   , 0.   , 0.147, 0.   , 0.075])"
      ]
     },
     "execution_count": 26,
     "metadata": {},
     "output_type": "execute_result"
    }
   ],
   "source": [
    "np.around(Y_validation[:50],3) "
   ]
  },
  {
   "cell_type": "markdown",
   "id": "98409488-ca93-4cd3-b71c-547fa4baa6ef",
   "metadata": {},
   "source": [
    "### 3.2.2. Spearman $\\rho$ and Kendall $\\tau$ correlation"
   ]
  },
  {
   "cell_type": "code",
   "execution_count": 27,
   "id": "01573553-5d50-49eb-aa52-c480c0de67f0",
   "metadata": {},
   "outputs": [
    {
     "data": {
      "image/png": "[encoded data removed]",
      "text/plain": [
       "<Figure size 288x288 with 1 Axes>"
      ]
     },
     "metadata": {
      "needs_background": "light"
     },
     "output_type": "display_data"
    }
   ],
   "source": [
    "plt.rcParams[\"figure.figsize\"] = (4,4)\n",
    "plt.scatter(Y_validation, predictions[0], alpha = 0.5, marker = 'x', c = '#227093')\n",
    "plt.title('PDM (Baseline)', fontsize = 20)\n",
    "plt.xlabel(\"PDM similarity values\", fontsize = 12)\n",
    "plt.ylabel(\"Collision probability\", fontsize = 12)\n",
    "plt.savefig('Results/Baseline/PDM-correlation', bbox_inches='tight')\n",
    "plt.show()"
   ]
  },
  {
   "cell_type": "code",
   "execution_count": 28,
   "id": "f80a43e7-b4b5-4956-9b3d-6a1457a6ee92",
   "metadata": {},
   "outputs": [
    {
     "data": {
      "text/plain": [
       "0.7112151128986383"
      ]
     },
     "execution_count": 28,
     "metadata": {},
     "output_type": "execute_result"
    }
   ],
   "source": [
    "rho, p_value = spearman_rho(predictions, Y_validation)\n",
    "rho"
   ]
  },
  {
   "cell_type": "code",
   "execution_count": 29,
   "id": "7f6dc861-28aa-4f3d-b0fb-7f5caf453280",
   "metadata": {},
   "outputs": [
    {
     "data": {
      "text/plain": [
       "0.5620628306832661"
      ]
     },
     "execution_count": 29,
     "metadata": {},
     "output_type": "execute_result"
    }
   ],
   "source": [
    "tau, p_value = kendall_tau(predictions, Y_validation)\n",
    "tau"
   ]
  },
  {
   "cell_type": "markdown",
   "id": "895fc952-6e22-451a-abd2-86de43e87328",
   "metadata": {},
   "source": [
    "## 3.3. Approximate Hamming Evaluation"
   ]
  },
  {
   "cell_type": "code",
   "execution_count": 30,
   "id": "6b9edd91-5e15-4aa8-8a05-4985b8623897",
   "metadata": {},
   "outputs": [
    {
     "data": {
      "text/plain": [
       "<tensorflow.python.keras.engine.sequential.Sequential at 0x7f1f761cd2d0>"
      ]
     },
     "execution_count": 30,
     "metadata": {},
     "output_type": "execute_result"
    }
   ],
   "source": [
    "output_layer = 2\n",
    "model.layers[output_layer]"
   ]
  },
  {
   "cell_type": "code",
   "execution_count": 31,
   "id": "acaf1823-ca3b-4d6c-9a71-a6c9acf5e1f5",
   "metadata": {},
   "outputs": [],
   "source": [
    "intermediate_model = intermediate_model_trained(shared_model, output_layer)"
   ]
  },
  {
   "cell_type": "code",
   "execution_count": 32,
   "id": "346ee1c3-5c1c-43b0-877f-7bb065ce5ac4",
   "metadata": {},
   "outputs": [
    {
     "name": "stdout",
     "output_type": "stream",
     "text": [
      "WARNING:tensorflow:Compiled the loaded model, but the compiled metrics have yet to be built. `model.compile_metrics` will be empty until you train or evaluate the model.\n",
      "INFO:tensorflow:Assets written to: Models/model-deep-hash.model/assets\n"
     ]
    }
   ],
   "source": [
    "intermediate_model.save('Models/model-baseline.model')"
   ]
  },
  {
   "cell_type": "code",
   "execution_count": null,
   "id": "bc07ec86-2949-42b7-8fbc-6c331cc967a8",
   "metadata": {},
   "outputs": [],
   "source": [
    "#intermediate_model = keras.models.load_model('Models/model-baseline.model')"
   ]
  },
  {
   "cell_type": "markdown",
   "id": "b4d1758f-ff99-49fc-b85c-4fe66560da40",
   "metadata": {},
   "source": [
    "### 3.3.1. Example of a hash vector provided by the model (in the last epoch)"
   ]
  },
  {
   "cell_type": "code",
   "execution_count": 33,
   "id": "ec686420-c52a-4925-852f-939cfe007904",
   "metadata": {
    "tags": []
   },
   "outputs": [
    {
     "data": {
      "text/plain": [
       "array([ 0.91740376,  0.9999979 , -0.99936926,  0.8435861 , -0.84269273,\n",
       "        0.999954  , -0.9119242 ,  0.83668435, -0.8411594 ,  0.999972  ,\n",
       "       -0.9023245 , -0.99999446,  0.99998665, -0.996912  ,  0.89964235,\n",
       "        0.99999666,  0.99953973,  0.9805188 ,  0.99996036,  1.        ,\n",
       "       -0.999753  ,  0.99219024,  0.9301871 , -0.9998525 ,  0.9203924 ,\n",
       "        0.9999993 , -0.99995804, -0.99986386,  0.9994602 , -1.        ,\n",
       "       -0.90174985, -0.9113283 , -0.99938923,  0.99999076,  0.99921423,\n",
       "        0.9196794 , -0.9999959 , -1.        , -1.        ,  0.9981784 ,\n",
       "        0.9998645 ,  1.        , -0.8311146 , -0.8287465 ,  0.91184056,\n",
       "       -0.8352578 ,  0.99986285,  0.9999514 ,  0.99998283,  0.8094086 ,\n",
       "        0.99632776, -0.9998953 ,  0.99997973, -0.9999903 ,  0.9999939 ,\n",
       "        0.992764  , -0.9999903 , -0.938819  ,  0.99994767,  0.9066187 ,\n",
       "       -1.        ,  0.8267664 , -0.99462444,  0.99997133], dtype=float32)"
      ]
     },
     "execution_count": 33,
     "metadata": {},
     "output_type": "execute_result"
    }
   ],
   "source": [
    "'First 64 bits'\n",
    "intermediate_model.predict(df_bag_of_frames.iloc[[10]])[0][:64]"
   ]
  },
  {
   "cell_type": "markdown",
   "id": "4ec939b1-4814-49cd-80ff-ee2bad747358",
   "metadata": {},
   "source": [
    "### 3.3.2. Average value of the absolute hash values"
   ]
  },
  {
   "cell_type": "code",
   "execution_count": 34,
   "id": "f54a9180-f4a4-4e0c-94ed-e36df291b072",
   "metadata": {},
   "outputs": [],
   "source": [
    "hash_vectors = intermediate_model.predict(df_bag_of_frames)"
   ]
  },
  {
   "cell_type": "code",
   "execution_count": 35,
   "id": "0fd308c0-f913-4d55-b45b-01f976a62e0b",
   "metadata": {},
   "outputs": [
    {
     "data": {
      "text/plain": [
       "0.9375117"
      ]
     },
     "execution_count": 35,
     "metadata": {},
     "output_type": "execute_result"
    }
   ],
   "source": [
    "np.mean(np.abs(hash_vectors))"
   ]
  },
  {
   "cell_type": "markdown",
   "id": "2ca2d6a3-75da-472a-99bb-b25ece9df8a7",
   "metadata": {},
   "source": [
    "### 3.3.3. Ratio of binary values from hash vectors provided by the model"
   ]
  },
  {
   "cell_type": "code",
   "execution_count": 36,
   "id": "5bb9bdd7-c931-4db2-8a89-b20c7fb92d9e",
   "metadata": {},
   "outputs": [
    {
     "data": {
      "text/plain": [
       "0.07698046875"
      ]
     },
     "execution_count": 36,
     "metadata": {},
     "output_type": "execute_result"
    }
   ],
   "source": [
    "hash_vectors[(hash_vectors == 1) | (hash_vectors == -1)].size / hash_vectors.size"
   ]
  },
  {
   "cell_type": "markdown",
   "id": "5a606dc1-dd06-4376-9f33-1254286c701d",
   "metadata": {},
   "source": [
    "### 3.3.4. Comparison between approximate hamming and real hamming"
   ]
  },
  {
   "cell_type": "code",
   "execution_count": 37,
   "id": "03dd89e8-82d7-47c2-8c33-a0652d3ec536",
   "metadata": {},
   "outputs": [],
   "source": [
    "df_hamming = compare_hamming(X_validation, intermediate_model, b, size_hash_vector)"
   ]
  },
  {
   "cell_type": "code",
   "execution_count": 38,
   "id": "3ba16852-6f34-4400-b198-c8f631e82d6d",
   "metadata": {},
   "outputs": [
    {
     "data": {
      "text/html": [
       "<div>\n",
       "<style scoped>\n",
       "    .dataframe tbody tr th:only-of-type {\n",
       "        vertical-align: middle;\n",
       "    }\n",
       "\n",
       "    .dataframe tbody tr th {\n",
       "        vertical-align: top;\n",
       "    }\n",
       "\n",
       "    .dataframe thead th {\n",
       "        text-align: right;\n",
       "    }\n",
       "</style>\n",
       "<table border=\"1\" class=\"dataframe\">\n",
       "  <thead>\n",
       "    <tr style=\"text-align: right;\">\n",
       "      <th></th>\n",
       "      <th>embedding_stack_1</th>\n",
       "      <th>embedding_stack_2</th>\n",
       "      <th>hamming</th>\n",
       "    </tr>\n",
       "  </thead>\n",
       "  <tbody>\n",
       "    <tr>\n",
       "      <th>0</th>\n",
       "      <td>[1, 1, -1, 1, -1, 1, -1, 1, -1, 1, -1, -1, 1, ...</td>\n",
       "      <td>[-1, 1, -1, -1, 1, 1, -1, 1, 1, 1, -1, 1, -1, ...</td>\n",
       "      <td>0.015625</td>\n",
       "    </tr>\n",
       "    <tr>\n",
       "      <th>1</th>\n",
       "      <td>[-1, -1, -1, -1, 1, -1, 1, -1, 1, 1, 1, -1, 1,...</td>\n",
       "      <td>[-1, -1, -1, -1, 1, -1, 1, -1, 1, 1, 1, -1, 1,...</td>\n",
       "      <td>0.453125</td>\n",
       "    </tr>\n",
       "    <tr>\n",
       "      <th>2</th>\n",
       "      <td>[-1, -1, -1, -1, 1, -1, 1, -1, 1, 1, 1, -1, -1...</td>\n",
       "      <td>[-1, 1, -1, -1, 1, 1, -1, 1, 1, 1, -1, -1, -1,...</td>\n",
       "      <td>0.015625</td>\n",
       "    </tr>\n",
       "    <tr>\n",
       "      <th>3</th>\n",
       "      <td>[1, 1, -1, 1, -1, 1, 1, 1, -1, 1, 1, 1, -1, -1...</td>\n",
       "      <td>[-1, -1, -1, -1, 1, -1, -1, 1, 1, 1, -1, -1, 1...</td>\n",
       "      <td>0.000000</td>\n",
       "    </tr>\n",
       "    <tr>\n",
       "      <th>4</th>\n",
       "      <td>[-1, -1, -1, -1, 1, -1, 1, -1, 1, 1, 1, -1, -1...</td>\n",
       "      <td>[-1, 1, -1, 1, -1, -1, 1, -1, -1, 1, 1, 1, -1,...</td>\n",
       "      <td>0.109375</td>\n",
       "    </tr>\n",
       "    <tr>\n",
       "      <th>...</th>\n",
       "      <td>...</td>\n",
       "      <td>...</td>\n",
       "      <td>...</td>\n",
       "    </tr>\n",
       "    <tr>\n",
       "      <th>99895</th>\n",
       "      <td>[-1, 1, -1, -1, 1, -1, 1, -1, 1, 1, 1, 1, 1, 1...</td>\n",
       "      <td>[-1, 1, -1, -1, 1, -1, 1, -1, 1, 1, 1, 1, 1, 1...</td>\n",
       "      <td>1.000000</td>\n",
       "    </tr>\n",
       "    <tr>\n",
       "      <th>99896</th>\n",
       "      <td>[-1, 1, -1, 1, -1, -1, 1, -1, -1, 1, 1, 1, 1, ...</td>\n",
       "      <td>[-1, -1, -1, 1, -1, 1, -1, 1, -1, 1, -1, 1, 1,...</td>\n",
       "      <td>0.031250</td>\n",
       "    </tr>\n",
       "    <tr>\n",
       "      <th>99897</th>\n",
       "      <td>[1, -1, -1, 1, -1, 1, 1, -1, -1, 1, 1, -1, 1, ...</td>\n",
       "      <td>[-1, 1, -1, 1, -1, -1, 1, -1, -1, 1, 1, 1, -1,...</td>\n",
       "      <td>0.171875</td>\n",
       "    </tr>\n",
       "    <tr>\n",
       "      <th>99898</th>\n",
       "      <td>[1, -1, -1, -1, 1, 1, -1, 1, 1, 1, -1, -1, -1,...</td>\n",
       "      <td>[-1, 1, -1, 1, -1, -1, 1, -1, -1, 1, 1, 1, 1, ...</td>\n",
       "      <td>0.000000</td>\n",
       "    </tr>\n",
       "    <tr>\n",
       "      <th>99899</th>\n",
       "      <td>[-1, 1, -1, -1, 1, 1, -1, 1, 1, 1, -1, 1, -1, ...</td>\n",
       "      <td>[-1, 1, -1, 1, -1, -1, 1, -1, -1, 1, 1, 1, -1,...</td>\n",
       "      <td>0.000000</td>\n",
       "    </tr>\n",
       "  </tbody>\n",
       "</table>\n",
       "<p>99900 rows × 3 columns</p>\n",
       "</div>"
      ],
      "text/plain": [
       "                                       embedding_stack_1  \\\n",
       "0      [1, 1, -1, 1, -1, 1, -1, 1, -1, 1, -1, -1, 1, ...   \n",
       "1      [-1, -1, -1, -1, 1, -1, 1, -1, 1, 1, 1, -1, 1,...   \n",
       "2      [-1, -1, -1, -1, 1, -1, 1, -1, 1, 1, 1, -1, -1...   \n",
       "3      [1, 1, -1, 1, -1, 1, 1, 1, -1, 1, 1, 1, -1, -1...   \n",
       "4      [-1, -1, -1, -1, 1, -1, 1, -1, 1, 1, 1, -1, -1...   \n",
       "...                                                  ...   \n",
       "99895  [-1, 1, -1, -1, 1, -1, 1, -1, 1, 1, 1, 1, 1, 1...   \n",
       "99896  [-1, 1, -1, 1, -1, -1, 1, -1, -1, 1, 1, 1, 1, ...   \n",
       "99897  [1, -1, -1, 1, -1, 1, 1, -1, -1, 1, 1, -1, 1, ...   \n",
       "99898  [1, -1, -1, -1, 1, 1, -1, 1, 1, 1, -1, -1, -1,...   \n",
       "99899  [-1, 1, -1, -1, 1, 1, -1, 1, 1, 1, -1, 1, -1, ...   \n",
       "\n",
       "                                       embedding_stack_2   hamming  \n",
       "0      [-1, 1, -1, -1, 1, 1, -1, 1, 1, 1, -1, 1, -1, ...  0.015625  \n",
       "1      [-1, -1, -1, -1, 1, -1, 1, -1, 1, 1, 1, -1, 1,...  0.453125  \n",
       "2      [-1, 1, -1, -1, 1, 1, -1, 1, 1, 1, -1, -1, -1,...  0.015625  \n",
       "3      [-1, -1, -1, -1, 1, -1, -1, 1, 1, 1, -1, -1, 1...  0.000000  \n",
       "4      [-1, 1, -1, 1, -1, -1, 1, -1, -1, 1, 1, 1, -1,...  0.109375  \n",
       "...                                                  ...       ...  \n",
       "99895  [-1, 1, -1, -1, 1, -1, 1, -1, 1, 1, 1, 1, 1, 1...  1.000000  \n",
       "99896  [-1, -1, -1, 1, -1, 1, -1, 1, -1, 1, -1, 1, 1,...  0.031250  \n",
       "99897  [-1, 1, -1, 1, -1, -1, 1, -1, -1, 1, 1, 1, -1,...  0.171875  \n",
       "99898  [-1, 1, -1, 1, -1, -1, 1, -1, -1, 1, 1, 1, 1, ...  0.000000  \n",
       "99899  [-1, 1, -1, 1, -1, -1, 1, -1, -1, 1, 1, 1, -1,...  0.000000  \n",
       "\n",
       "[99900 rows x 3 columns]"
      ]
     },
     "execution_count": 38,
     "metadata": {},
     "output_type": "execute_result"
    }
   ],
   "source": [
    "df_hamming"
   ]
  },
  {
   "cell_type": "code",
   "execution_count": 39,
   "id": "3fdc0913-64e8-4b05-a1fd-75f20c1a418a",
   "metadata": {},
   "outputs": [
    {
     "data": {
      "image/png": "[encoded data removed]",
      "text/plain": [
       "<Figure size 288x288 with 1 Axes>"
      ]
     },
     "metadata": {
      "needs_background": "light"
     },
     "output_type": "display_data"
    }
   ],
   "source": [
    "plt.rcParams[\"figure.figsize\"] = (4,4)\n",
    "plt.scatter(predictions[0], df_hamming['hamming'], alpha = 0.5, marker = 'x', c = '#b33939')\n",
    "plt.xlabel(\"Distance between vectors\", fontsize = 12)\n",
    "plt.ylabel(\"Hamming Similarity\", fontsize = 12)\n",
    "plt.title('PDM (Deep Hashing)', fontsize = 20)\n",
    "plt.savefig('Results/Baseline/PDM-hamming-comparison', bbox_inches='tight')\n",
    "plt.show()"
   ]
  },
  {
   "cell_type": "markdown",
   "id": "b030832c-7872-45da-8698-a0bbf16fe3cb",
   "metadata": {},
   "source": [
    "# 4. Locality Sensitive Hashing"
   ]
  },
  {
   "cell_type": "code",
   "execution_count": 41,
   "id": "2aacdd9c-73d0-4257-af38-1768e9f4aa05",
   "metadata": {},
   "outputs": [],
   "source": [
    "hash_vectors_hamming = convert_to_hamming(hash_vectors)"
   ]
  },
  {
   "cell_type": "code",
   "execution_count": 42,
   "id": "f3bb826f-5e0d-4d6e-8356-d1f3315d6ebd",
   "metadata": {},
   "outputs": [
    {
     "data": {
      "text/plain": [
       "[(1, 64), (2, 32), (4, 16), (8, 8), (16, 4), (32, 2), (64, 1)]"
      ]
     },
     "execution_count": 42,
     "metadata": {},
     "output_type": "execute_result"
    }
   ],
   "source": [
    "params = lsh_hyperparams(m)\n",
    "'(K,L)'\n",
    "params "
   ]
  },
  {
   "cell_type": "markdown",
   "id": "cabab99d-9820-4b91-a6ed-6f2b3b38b0b9",
   "metadata": {},
   "source": [
    "## 4.1. Choose the best combination (L, K)"
   ]
  },
  {
   "cell_type": "code",
   "execution_count": 43,
   "id": "1aeac3ba-cb08-4e8a-913b-1dbd0529c782",
   "metadata": {},
   "outputs": [
    {
     "data": {
      "text/plain": [
       "<matplotlib.legend.Legend at 0x7f1b2c410650>"
      ]
     },
     "execution_count": 43,
     "metadata": {},
     "output_type": "execute_result"
    },
    {
     "data": {
      "image/png": "[encoded data removed]",
      "text/plain": [
       "<Figure size 648x360 with 1 Axes>"
      ]
     },
     "metadata": {
      "needs_background": "light"
     },
     "output_type": "display_data"
    }
   ],
   "source": [
    "plt.rcParams[\"figure.figsize\"] = [9, 5]\n",
    "x = np.linspace(0, 1, 100)\n",
    "for param in params:\n",
    "    y = 1 - (1 - (x)**param[1])**param[0]\n",
    "    plt.plot(x, y, label = 'L = %d, r = %d' %param)\n",
    "plt.xlabel(\"similarity values\", fontsize = 12)\n",
    "plt.ylabel(\"hash probability in at least 1 bucket\", fontsize = 12)\n",
    "plt.title('Probability-similarity relation', fontsize = 20)\n",
    "plt.legend()"
   ]
  },
  {
   "cell_type": "code",
   "execution_count": 44,
   "id": "b931100a-06bb-4748-80a8-e09f31905b2a",
   "metadata": {},
   "outputs": [],
   "source": [
    "df_probLSH = mean_prob_hashing_smallest_elt(n_stacks, params, hash_vectors_hamming, b, df_measures, 'PDM', trace = False)"
   ]
  },
  {
   "cell_type": "code",
   "execution_count": 45,
   "id": "98685548-ab7a-4bb4-a39c-61f448d1c42b",
   "metadata": {},
   "outputs": [
    {
     "data": {
      "image/png": "[encoded data removed]",
      "text/plain": [
       "<Figure size 432x288 with 1 Axes>"
      ]
     },
     "metadata": {
      "needs_background": "light"
     },
     "output_type": "display_data"
    }
   ],
   "source": [
    "f, ax = plt.subplots(figsize=(6, 4))\n",
    "ax = sns.boxplot(data = df_probLSH, palette=\"Set3\")\n",
    "plt.title('PDM(Relation Prob-Sim)', fontsize = 20)\n",
    "plt.savefig('Results/Baseline/PDM-Relation-Prob-Sim', bbox_inches='tight')\n",
    "plt.show()"
   ]
  },
  {
   "cell_type": "code",
   "execution_count": 46,
   "id": "0e85f833-8a8c-4fe7-803d-52c4a8d78194",
   "metadata": {},
   "outputs": [
    {
     "data": {
      "text/plain": [
       "(8, 8)"
      ]
     },
     "execution_count": 46,
     "metadata": {},
     "output_type": "execute_result"
    }
   ],
   "source": [
    "'L = K = 8'\n",
    "L, K = params[3]\n",
    "L, K"
   ]
  },
  {
   "cell_type": "markdown",
   "id": "dc0d84af-ec41-43dc-b1cd-73e92cd96894",
   "metadata": {},
   "source": [
    "### 4.1.1 Mean and Median probability for all stack traces for the best combination of $K$ and $L$"
   ]
  },
  {
   "cell_type": "code",
   "execution_count": null,
   "id": "3a414e49-3f64-4aa0-b2aa-c7d12490eb15",
   "metadata": {},
   "outputs": [],
   "source": [
    "df_probLSH.mean()['(8, 8)']"
   ]
  },
  {
   "cell_type": "code",
   "execution_count": null,
   "id": "4381a53d-2b3b-438b-afb7-b91389db8a45",
   "metadata": {},
   "outputs": [],
   "source": [
    "df_probLSH.median()['(8, 8)']"
   ]
  },
  {
   "cell_type": "markdown",
   "id": "6ebdb37a-a88b-46f1-8a22-1c0f872f6cd6",
   "metadata": {},
   "source": [
    "## 4.2. Build hash tables with binary hash vectors w.r.t $K$ and $L$"
   ]
  },
  {
   "cell_type": "code",
   "execution_count": 47,
   "id": "fb84b5ab-519b-4dd1-bb5e-5ced695bf3a4",
   "metadata": {},
   "outputs": [],
   "source": [
    "hash_tables = create_hash_tables(L, K, b, hash_vectors_hamming)"
   ]
  },
  {
   "cell_type": "code",
   "execution_count": 48,
   "id": "89365da1-5823-4433-a0b1-1aacf8ba66ff",
   "metadata": {},
   "outputs": [],
   "source": [
    "with open('Hash-Tables/hash_tables_baseline.pkl', 'wb') as f:\n",
    "    pickle.dump(hash_tables, f)"
   ]
  },
  {
   "cell_type": "markdown",
   "id": "70f264b8-e59e-4995-b416-f8966cfc4d8f",
   "metadata": {},
   "source": [
    "## 4.3. Search for approximate nearest neighbors (this procedure need to be explained in the paper) "
   ]
  },
  {
   "cell_type": "code",
   "execution_count": 49,
   "id": "46bdb33d-c680-4242-919e-cd2dfd73e353",
   "metadata": {},
   "outputs": [
    {
     "data": {
      "text/plain": [
       "638"
      ]
     },
     "execution_count": 49,
     "metadata": {},
     "output_type": "execute_result"
    }
   ],
   "source": [
    "'pointer to the stack trace'\n",
    "index = random.randint(0,n_stacks)\n",
    "index"
   ]
  },
  {
   "cell_type": "code",
   "execution_count": 50,
   "id": "ce6258ad-9458-4e9b-867a-d3b4fc675966",
   "metadata": {
    "tags": []
   },
   "outputs": [
    {
     "data": {
      "text/plain": [
       "{27, 46, 55, 167, 216, 265, 542, 560, 638, 699, 892}"
      ]
     },
     "execution_count": 50,
     "metadata": {},
     "output_type": "execute_result"
    }
   ],
   "source": [
    "set_near_duplicates = near_duplicates(L, K, b, index, hash_vectors_hamming, hash_tables)\n",
    "set_near_duplicates"
   ]
  },
  {
   "cell_type": "code",
   "execution_count": 51,
   "id": "d3c836e7-fc34-47cd-9889-f76db2bc71a2",
   "metadata": {},
   "outputs": [],
   "source": [
    "list_near_duplicate_pairs = near_duplicate_pairs(index, set_near_duplicates, n_stacks)\n",
    "n_duplicate_pairs = len(list_near_duplicate_pairs)"
   ]
  },
  {
   "cell_type": "code",
   "execution_count": 52,
   "id": "561cd65b-4aa5-4f8c-b4a2-423baa352721",
   "metadata": {
    "tags": []
   },
   "outputs": [
    {
     "data": {
      "text/plain": [
       "402997    0.936409\n",
       "434219    0.858955\n",
       "394942    0.825571\n",
       "230127    0.545583\n",
       "434412    0.493664\n",
       "54042     0.446555\n",
       "45510     0.351996\n",
       "27232     0.351996\n",
       "192985    0.321789\n",
       "153442    0.318499\n",
       "Name: PDM, dtype: float64"
      ]
     },
     "execution_count": 52,
     "metadata": {},
     "output_type": "execute_result"
    }
   ],
   "source": [
    "near_duplicates_sim = df_measures['PDM'][list_near_duplicate_pairs].sort_values(ascending = False)\n",
    "near_duplicates_sim"
   ]
  },
  {
   "cell_type": "code",
   "execution_count": 53,
   "id": "6510bce7-6663-4db3-8455-0b846720c6f1",
   "metadata": {
    "tags": []
   },
   "outputs": [
    {
     "data": {
      "text/plain": [
       "{8, 67, 125, 161, 265, 542, 560, 689, 699, 809}"
      ]
     },
     "execution_count": 53,
     "metadata": {},
     "output_type": "execute_result"
    }
   ],
   "source": [
    "set_real_nns, real_nns_sim = real_nns(index, df_measures, 'PDM', n_stacks, n_duplicate_pairs)\n",
    "set_real_nns"
   ]
  },
  {
   "cell_type": "code",
   "execution_count": 54,
   "id": "0c2d9881-6df4-463f-9dd1-7d02a9fd1347",
   "metadata": {
    "tags": []
   },
   "outputs": [
    {
     "data": {
      "text/plain": [
       "402997    0.936409\n",
       "434219    0.858955\n",
       "394942    0.825571\n",
       "434209    0.602786\n",
       "117637    0.575630\n",
       "8593      0.545583\n",
       "230127    0.545583\n",
       "65292     0.545583\n",
       "148435    0.545583\n",
       "434329    0.526626\n",
       "dtype: float64"
      ]
     },
     "execution_count": 54,
     "metadata": {},
     "output_type": "execute_result"
    }
   ],
   "source": [
    "real_nns_sim[:n_duplicate_pairs]"
   ]
  },
  {
   "cell_type": "markdown",
   "id": "47aa72d7-020e-4a46-9f1c-f95ea57c3a2b",
   "metadata": {},
   "source": [
    "## 4.4. Metrics"
   ]
  },
  {
   "cell_type": "markdown",
   "id": "108a4d18-597e-4a51-9f51-940a80fd0be8",
   "metadata": {},
   "source": [
    "### 4.4.1. Ratio of finding the $k$ real nearest neighbor with the Least $L$ (Recal rate at $k$ first positions)"
   ]
  },
  {
   "cell_type": "code",
   "execution_count": 55,
   "id": "55ad1f38-83e2-4e55-8483-c7971ede8ec2",
   "metadata": {},
   "outputs": [
    {
     "data": {
      "text/plain": [
       "0.821"
      ]
     },
     "execution_count": 55,
     "metadata": {},
     "output_type": "execute_result"
    }
   ],
   "source": [
    "'All params'\n",
    "k_first_positions = 1\n",
    "recal_rate(n_stacks, params, hash_vectors_hamming, b, df_measures, k_first_positions, 'PDM')"
   ]
  },
  {
   "cell_type": "code",
   "execution_count": null,
   "id": "7424b84d-1066-4e2c-a6ec-4c67d448440c",
   "metadata": {},
   "outputs": [],
   "source": [
    "'Best param'\n",
    "k_first_positions = 1\n",
    "recal_rate_one_param(n_stacks, params[3], hash_vectors_hamming, b, df_measures, k_first_positions, 'PDM')"
   ]
  },
  {
   "cell_type": "markdown",
   "id": "b20f2315-986c-4bc2-89dc-9dd1757a8c78",
   "metadata": {},
   "source": [
    "-----------------------------------------------------------------"
   ]
  },
  {
   "cell_type": "code",
   "execution_count": 56,
   "id": "aa6e30e1-37f9-45cc-8356-2df3ce14f4c1",
   "metadata": {},
   "outputs": [
    {
     "data": {
      "text/plain": [
       "0.7473333333333348"
      ]
     },
     "execution_count": 56,
     "metadata": {},
     "output_type": "execute_result"
    }
   ],
   "source": [
    "'All params'\n",
    "k_first_positions = 3\n",
    "recal_rate(n_stacks, params, hash_vectors_hamming, b, df_measures, k_first_positions, 'PDM')"
   ]
  },
  {
   "cell_type": "code",
   "execution_count": null,
   "id": "d85c52a9-2948-44cd-94d8-62c40b7b8b8c",
   "metadata": {},
   "outputs": [],
   "source": [
    "'Best param'\n",
    "k_first_positions = 3\n",
    "recal_rate_one_param(n_stacks, params[3], hash_vectors_hamming, b, df_measures, k_first_positions, 'PDM')"
   ]
  },
  {
   "cell_type": "markdown",
   "id": "de7a74bc-5737-406e-b30e-d09834d1d6c5",
   "metadata": {},
   "source": [
    "-----------------------------------------------------------------"
   ]
  },
  {
   "cell_type": "code",
   "execution_count": 57,
   "id": "f3c6cd88-f248-41f1-8eac-74f36dcbd2cc",
   "metadata": {},
   "outputs": [
    {
     "data": {
      "text/plain": [
       "0.723600000000002"
      ]
     },
     "execution_count": 57,
     "metadata": {},
     "output_type": "execute_result"
    }
   ],
   "source": [
    "'All params'\n",
    "k_first_positions = 5\n",
    "recal_rate(n_stacks, params, hash_vectors_hamming, b, df_measures, k_first_positions, 'PDM')"
   ]
  },
  {
   "cell_type": "code",
   "execution_count": null,
   "id": "cd421b6d-9527-41f4-80c4-bd20572a75b9",
   "metadata": {},
   "outputs": [],
   "source": [
    "'Best param'\n",
    "k_first_positions = 5\n",
    "recal_rate_one_param(n_stacks, params[3], hash_vectors_hamming, b, df_measures, k_first_positions, 'PDM')"
   ]
  },
  {
   "cell_type": "markdown",
   "id": "78b9f9fc-d7c0-46a0-afc0-9d6295866fbf",
   "metadata": {},
   "source": [
    "### 4.4.2. Accuracy of finding the real nearest neighbors (Generalized MRR)"
   ]
  },
  {
   "cell_type": "markdown",
   "id": "81af2e1e-b878-4f18-95b7-4b4d35b5cb3f",
   "metadata": {},
   "source": [
    "$ \\frac{1}{|\\mathcal{R}_i|} \\sum_{s' \\in \\mathcal{R}_i} \\frac{\\text{rank}(s',\\mathcal{R}_i)}{\\text{rank}(s',NNs(s_i))} $"
   ]
  },
  {
   "cell_type": "code",
   "execution_count": 58,
   "id": "8d572df0-2963-4794-b603-a642a1c3422f",
   "metadata": {
    "tags": []
   },
   "outputs": [
    {
     "data": {
      "text/plain": [
       "0.4847134636197136"
      ]
     },
     "execution_count": 58,
     "metadata": {},
     "output_type": "execute_result"
    }
   ],
   "source": [
    "generalized_mrr(near_duplicates_sim, real_nns_sim)"
   ]
  },
  {
   "cell_type": "code",
   "execution_count": 59,
   "id": "20822989-304f-4ebf-b661-355b72deb819",
   "metadata": {
    "tags": []
   },
   "outputs": [
    {
     "data": {
      "text/plain": [
       "(1, 64)    0.818068\n",
       "(2, 32)    0.762267\n",
       "(4, 16)    0.705429\n",
       "(8, 8)     0.655055\n",
       "(16, 4)    0.675544\n",
       "(32, 2)    0.857086\n",
       "(64, 1)    0.979093\n",
       "dtype: float64"
      ]
     },
     "execution_count": 59,
     "metadata": {},
     "output_type": "execute_result"
    }
   ],
   "source": [
    "df_knns = mean_generalized_mrr(n_stacks, params, hash_vectors_hamming, b, df_measures ,'PDM', trace = False)\n",
    "df_knns.mean(skipna = True, axis = 0)"
   ]
  },
  {
   "cell_type": "code",
   "execution_count": 60,
   "id": "8cdd4039-1cc9-40d8-b096-84771b011940",
   "metadata": {},
   "outputs": [
    {
     "data": {
      "text/plain": [
       "0.6550545188381749"
      ]
     },
     "execution_count": 60,
     "metadata": {},
     "output_type": "execute_result"
    }
   ],
   "source": [
    "df_knns.mean()['(8, 8)']"
   ]
  }
 ],
 "metadata": {
  "kernelspec": {
   "display_name": "split-sd4x",
   "language": "python",
   "name": "split-sd4x"
  },
  "language_info": {
   "codemirror_mode": {
    "name": "ipython",
    "version": 3
   },
   "file_extension": ".py",
   "mimetype": "text/x-python",
   "name": "python",
   "nbconvert_exporter": "python",
   "pygments_lexer": "ipython3",
   "version": "3.7.10"
  }
 },
 "nbformat": 4,
 "nbformat_minor": 5
}
