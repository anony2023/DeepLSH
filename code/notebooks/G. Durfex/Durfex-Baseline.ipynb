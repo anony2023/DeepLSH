{
 "cells": [
  {
   "cell_type": "code",
   "execution_count": 1,
   "id": "bb7e69c2-b065-46fa-b6eb-7ea56ae43f35",
   "metadata": {},
   "outputs": [],
   "source": [
    "import os\n",
    "import sys\n",
    "import numpy as np\n",
    "import pandas as pd\n",
    "import random\n",
    "import matplotlib.pyplot as plt\n",
    "import seaborn as sns\n",
    "import warnings\n",
    "import pickle\n",
    "warnings.filterwarnings(\"ignore\")\n",
    "from sklearn.feature_extraction.text import CountVectorizer\n",
    "from sklearn.model_selection import train_test_split"
   ]
  },
  {
   "cell_type": "code",
   "execution_count": 2,
   "id": "1014d33e-c803-41ce-be12-ab1c3f929253",
   "metadata": {},
   "outputs": [],
   "source": [
    "sys.path.append(os.path.join(os.path.dirname(os.path.dirname(os.getcwd())),'python-packages/'))\n",
    "from deep_hashing_models import *\n",
    "from similarities import *\n",
    "from lsh_search import *"
   ]
  },
  {
   "cell_type": "markdown",
   "id": "627c738c-cd1f-4e1b-ae93-1aa3d25882aa",
   "metadata": {},
   "source": [
    "# 1. Data Preparation"
   ]
  },
  {
   "cell_type": "code",
   "execution_count": 3,
   "id": "e96659a4-eea0-48d9-8977-fecba559b78d",
   "metadata": {},
   "outputs": [],
   "source": [
    "data_repo = os.path.join(os.path.dirname(os.path.dirname(os.path.dirname(os.getcwd()))),'data/')"
   ]
  },
  {
   "cell_type": "code",
   "execution_count": 4,
   "id": "d2874701-b390-405b-9001-822faf31ade5",
   "metadata": {},
   "outputs": [],
   "source": [
    "df_distinct_stacks = pd.read_csv(data_repo + 'frequent_stack_traces.csv', index_col = [0])\n",
    "df_measures = pd.read_csv(data_repo + 'similarity-measures-pairs.csv', index_col = [0])"
   ]
  },
  {
   "cell_type": "code",
   "execution_count": 5,
   "id": "7b4772e1-6603-4344-a277-70d9728c61ea",
   "metadata": {},
   "outputs": [
    {
     "data": {
      "text/plain": [
       "1000"
      ]
     },
     "execution_count": 5,
     "metadata": {},
     "output_type": "execute_result"
    }
   ],
   "source": [
    "n_stacks = df_distinct_stacks.shape[0]\n",
    "n_stacks"
   ]
  },
  {
   "cell_type": "code",
   "execution_count": 6,
   "id": "e515f018-4609-4487-8d87-d707ca6347da",
   "metadata": {},
   "outputs": [],
   "source": [
    "vectorizer_bag_of_frames = CountVectorizer(token_pattern = r\"(?u)\\b[a-zA-Z0-9_.]{2,}\\b\")\n",
    "s = df_distinct_stacks['stackTraceCusto'].apply(lambda x : x.replace('\\n',' '))\n",
    "s = s.apply(lambda x : x.replace('$',''))\n",
    "s = s.apply(lambda x : x.replace('/',''))\n",
    "s = s.apply(lambda x : x.replace('<',''))\n",
    "s = s.apply(lambda x : x.replace('>',''))\n",
    "X_bag_of_frames = vectorizer_bag_of_frames.fit_transform(list(s)).toarray()\n",
    "df_bag_of_frames = pd.DataFrame(data = X_bag_of_frames, columns = vectorizer_bag_of_frames.get_feature_names())"
   ]
  },
  {
   "cell_type": "code",
   "execution_count": 7,
   "id": "50aa90c2-205c-4f47-8230-4da0ea7d618f",
   "metadata": {},
   "outputs": [],
   "source": [
    "X_train, X_validation, Y_train, Y_validation = train_test_split(df_measures.index, df_measures['Dufrex'], test_size = 0.2) "
   ]
  },
  {
   "cell_type": "code",
   "execution_count": 8,
   "id": "9b5ac005-aa8f-47fe-a5cf-ece206be1621",
   "metadata": {},
   "outputs": [],
   "source": [
    "indexes_train_1 = X_train.to_series().apply(lambda x : get_two_indexes(x, df_distinct_stacks.shape[0])[0]).to_list()\n",
    "indexes_train_2 = X_train.to_series().apply(lambda x : get_two_indexes(x, df_distinct_stacks.shape[0])[1]).to_list()\n",
    "indexes_validation_1 = X_validation.to_series().apply(lambda x : get_two_indexes(x, df_distinct_stacks.shape[0])[0]).to_list()\n",
    "indexes_validation_2 = X_validation.to_series().apply(lambda x : get_two_indexes(x, df_distinct_stacks.shape[0])[1]).to_list()"
   ]
  },
  {
   "cell_type": "code",
   "execution_count": 9,
   "id": "ed7fad07-aacc-453c-beba-7b0123b67c82",
   "metadata": {},
   "outputs": [],
   "source": [
    "X_train = dict()\n",
    "X_train['stack_1'] = df_bag_of_frames.loc[indexes_train_1].values\n",
    "X_train['stack_2'] = df_bag_of_frames.loc[indexes_train_2].values\n",
    "\n",
    "X_validation = dict()\n",
    "X_validation['stack_1'] = df_bag_of_frames.loc[indexes_validation_1].values\n",
    "X_validation['stack_2'] = df_bag_of_frames.loc[indexes_validation_2].values"
   ]
  },
  {
   "cell_type": "code",
   "execution_count": 10,
   "id": "7a79ade3-db36-4098-9c5a-109ec33a37eb",
   "metadata": {},
   "outputs": [],
   "source": [
    "Y_train = Y_train.values\n",
    "Y_validation = Y_validation.values"
   ]
  },
  {
   "cell_type": "code",
   "execution_count": 11,
   "id": "5f8cc839-bd54-4630-8f35-2a89bb19c00d",
   "metadata": {},
   "outputs": [],
   "source": [
    "assert X_train['stack_1'].shape == X_train['stack_2'].shape\n",
    "assert len(X_train['stack_1']) == len(Y_train)"
   ]
  },
  {
   "cell_type": "markdown",
   "id": "753999cd-6682-4263-b38e-1865140e6708",
   "metadata": {},
   "source": [
    "### Distribution of training data"
   ]
  },
  {
   "cell_type": "code",
   "execution_count": 12,
   "id": "3db6e7b6-ff7f-4089-be9b-af02e34646ed",
   "metadata": {},
   "outputs": [
    {
     "data": {
      "image/png": "[encoded data removed]",
      "text/plain": [
       "<Figure size 720x360 with 1 Axes>"
      ]
     },
     "metadata": {
      "needs_background": "light"
     },
     "output_type": "display_data"
    }
   ],
   "source": [
    "plt.rcParams[\"figure.figsize\"] = [10, 5]\n",
    "plt.hist(Y_train, 20, alpha = 1, density = False)\n",
    "plt.show()"
   ]
  },
  {
   "cell_type": "markdown",
   "id": "3a910820-e364-426d-9cbd-411794637bc8",
   "metadata": {},
   "source": [
    "### Distribution of test data"
   ]
  },
  {
   "cell_type": "code",
   "execution_count": 13,
   "id": "c242807e-a11b-43e2-82a0-aed22cbdefbc",
   "metadata": {},
   "outputs": [
    {
     "data": {
      "image/png": "[encoded data removed]",
      "text/plain": [
       "<Figure size 720x360 with 1 Axes>"
      ]
     },
     "metadata": {
      "needs_background": "light"
     },
     "output_type": "display_data"
    }
   ],
   "source": [
    "plt.rcParams[\"figure.figsize\"] = [10, 5]\n",
    "plt.hist(Y_validation, 20, alpha = 1, density = False)\n",
    "plt.show()"
   ]
  },
  {
   "cell_type": "markdown",
   "id": "19aa15e5-aee6-46ea-9c52-d1fa077b05dc",
   "metadata": {},
   "source": [
    "# 2. Model Design"
   ]
  },
  {
   "cell_type": "code",
   "execution_count": 14,
   "id": "02a2362d-059a-44b7-94f7-24e03680eef0",
   "metadata": {},
   "outputs": [],
   "source": [
    "'Number of hash tables functions' \n",
    "m = 64"
   ]
  },
  {
   "cell_type": "code",
   "execution_count": 15,
   "id": "6ea1ca10-c9ff-4735-ae80-e03691eb16ba",
   "metadata": {},
   "outputs": [],
   "source": [
    "'Number of bits per hash function' \n",
    "b = 16"
   ]
  },
  {
   "cell_type": "code",
   "execution_count": 16,
   "id": "06478197-071f-4395-804f-cbc171aadbd5",
   "metadata": {},
   "outputs": [
    {
     "data": {
      "text/plain": [
       "1024"
      ]
     },
     "execution_count": 16,
     "metadata": {},
     "output_type": "execute_result"
    }
   ],
   "source": [
    "'Size hash vector'\n",
    "size_hash_vector = m * b\n",
    "size_hash_vector"
   ]
  },
  {
   "cell_type": "markdown",
   "id": "0d60851f-b05f-4bc6-80f0-ce736180afe0",
   "metadata": {},
   "source": [
    "## 2.1. Feature learning phase"
   ]
  },
  {
   "cell_type": "code",
   "execution_count": 17,
   "id": "d9893ed6-5d0b-41b2-816b-b410e1c07910",
   "metadata": {},
   "outputs": [],
   "source": [
    "x = Sequential()\n",
    "x.add(Dense(2048, input_dim = X_train['stack_1'].shape[1], activation = 'sigmoid'))\n",
    "x.add(Dense(1024, activation = 'sigmoid'))\n",
    "x.add(Dense(size_hash_vector, activation = 'tanh'))\n",
    "shared_model = x"
   ]
  },
  {
   "cell_type": "markdown",
   "id": "279ba874-5ea0-4a94-83a1-f7f7c9ca8e0e",
   "metadata": {},
   "source": [
    "## 2.2. Siamese Model "
   ]
  },
  {
   "cell_type": "code",
   "execution_count": 18,
   "id": "d1d8a570-b1a8-489c-8312-e78dca471a63",
   "metadata": {
    "tags": []
   },
   "outputs": [
    {
     "name": "stdout",
     "output_type": "stream",
     "text": [
      "Model: \"model\"\n",
      "__________________________________________________________________________________________________\n",
      "Layer (type)                    Output Shape         Param #     Connected to                     \n",
      "==================================================================================================\n",
      "input_1 (InputLayer)            [(None, 2249)]       0                                            \n",
      "__________________________________________________________________________________________________\n",
      "input_2 (InputLayer)            [(None, 2249)]       0                                            \n",
      "__________________________________________________________________________________________________\n",
      "sequential (Sequential)         (None, 1024)         7755776     input_1[0][0]                    \n",
      "                                                                 input_2[0][0]                    \n",
      "                                                                 input_1[0][0]                    \n",
      "                                                                 input_2[0][0]                    \n",
      "__________________________________________________________________________________________________\n",
      "manh_dist (ManhDist)            (None, 1)            0           sequential[0][0]                 \n",
      "                                                                 sequential[1][0]                 \n",
      "__________________________________________________________________________________________________\n",
      "abs_vect (AbsVect)              (None, 1024)         0           sequential[2][0]                 \n",
      "__________________________________________________________________________________________________\n",
      "abs_vect_1 (AbsVect)            (None, 1024)         0           sequential[3][0]                 \n",
      "==================================================================================================\n",
      "Total params: 7,755,776\n",
      "Trainable params: 7,755,776\n",
      "Non-trainable params: 0\n",
      "__________________________________________________________________________________________________\n",
      "None\n",
      "Model: \"sequential\"\n",
      "_________________________________________________________________\n",
      "Layer (type)                 Output Shape              Param #   \n",
      "=================================================================\n",
      "dense (Dense)                (None, 2048)              4608000   \n",
      "_________________________________________________________________\n",
      "dense_1 (Dense)              (None, 1024)              2098176   \n",
      "_________________________________________________________________\n",
      "dense_2 (Dense)              (None, 1024)              1049600   \n",
      "=================================================================\n",
      "Total params: 7,755,776\n",
      "Trainable params: 7,755,776\n",
      "Non-trainable params: 0\n",
      "_________________________________________________________________\n",
      "None\n"
     ]
    }
   ],
   "source": [
    "input_shape = (X_train['stack_1'].shape[1],)\n",
    "model = siamese_model_baseline(shared_model, input_shape, is_sparse = True, print_summary = True)"
   ]
  },
  {
   "cell_type": "markdown",
   "id": "0bb438cf-7efb-4603-aab4-1364b187938f",
   "metadata": {},
   "source": [
    "## 2.3. Model training "
   ]
  },
  {
   "cell_type": "code",
   "execution_count": 19,
   "id": "3c6beca4-2caa-4c8c-8ca9-c3dfaedffbdc",
   "metadata": {},
   "outputs": [
    {
     "name": "stdout",
     "output_type": "stream",
     "text": [
      "Epoch 1/20\n",
      "781/781 [==============================] - 18s 22ms/step - loss: -0.4727 - manh_dist_loss: 0.0413 - abs_vect_loss: -0.9868 - abs_vect_1_loss: -0.9868 - manh_dist_rmse: 0.2032 - manh_dist_mae: 0.1324 - val_loss: -0.4854 - val_manh_dist_loss: 0.0212 - val_abs_vect_loss: -0.9921 - val_abs_vect_1_loss: -0.9920 - val_manh_dist_rmse: 0.1456 - val_manh_dist_mae: 0.1052\n",
      "Epoch 2/20\n",
      "781/781 [==============================] - 15s 19ms/step - loss: -0.4878 - manh_dist_loss: 0.0172 - abs_vect_loss: -0.9929 - abs_vect_1_loss: -0.9926 - manh_dist_rmse: 0.1310 - manh_dist_mae: 0.0961 - val_loss: -0.4894 - val_manh_dist_loss: 0.0133 - val_abs_vect_loss: -0.9923 - val_abs_vect_1_loss: -0.9918 - val_manh_dist_rmse: 0.1153 - val_manh_dist_mae: 0.0857\n",
      "Epoch 3/20\n",
      "781/781 [==============================] - 15s 19ms/step - loss: -0.4905 - manh_dist_loss: 0.0129 - abs_vect_loss: -0.9941 - abs_vect_1_loss: -0.9938 - manh_dist_rmse: 0.1135 - manh_dist_mae: 0.0858 - val_loss: -0.4909 - val_manh_dist_loss: 0.0124 - val_abs_vect_loss: -0.9942 - val_abs_vect_1_loss: -0.9941 - val_manh_dist_rmse: 0.1115 - val_manh_dist_mae: 0.0841\n",
      "Epoch 4/20\n",
      "781/781 [==============================] - 15s 19ms/step - loss: -0.4912 - manh_dist_loss: 0.0119 - abs_vect_loss: -0.9944 - abs_vect_1_loss: -0.9942 - manh_dist_rmse: 0.1089 - manh_dist_mae: 0.0830 - val_loss: -0.4913 - val_manh_dist_loss: 0.0117 - val_abs_vect_loss: -0.9943 - val_abs_vect_1_loss: -0.9943 - val_manh_dist_rmse: 0.1082 - val_manh_dist_mae: 0.0820\n",
      "Epoch 5/20\n",
      "781/781 [==============================] - 15s 19ms/step - loss: -0.4915 - manh_dist_loss: 0.0113 - abs_vect_loss: -0.9944 - abs_vect_1_loss: -0.9943 - manh_dist_rmse: 0.1063 - manh_dist_mae: 0.0814 - val_loss: -0.4916 - val_manh_dist_loss: 0.0113 - val_abs_vect_loss: -0.9947 - val_abs_vect_1_loss: -0.9945 - val_manh_dist_rmse: 0.1063 - val_manh_dist_mae: 0.0810\n",
      "Epoch 6/20\n",
      "781/781 [==============================] - 15s 19ms/step - loss: -0.4919 - manh_dist_loss: 0.0108 - abs_vect_loss: -0.9946 - abs_vect_1_loss: -0.9945 - manh_dist_rmse: 0.1039 - manh_dist_mae: 0.0799 - val_loss: -0.4916 - val_manh_dist_loss: 0.0091 - val_abs_vect_loss: -0.9924 - val_abs_vect_1_loss: -0.9922 - val_manh_dist_rmse: 0.0956 - val_manh_dist_mae: 0.0722\n",
      "Epoch 7/20\n",
      "781/781 [==============================] - 15s 19ms/step - loss: -0.4921 - manh_dist_loss: 0.0104 - abs_vect_loss: -0.9947 - abs_vect_1_loss: -0.9946 - manh_dist_rmse: 0.1020 - manh_dist_mae: 0.0786 - val_loss: -0.4921 - val_manh_dist_loss: 0.0107 - val_abs_vect_loss: -0.9949 - val_abs_vect_1_loss: -0.9948 - val_manh_dist_rmse: 0.1032 - val_manh_dist_mae: 0.0793\n",
      "Epoch 8/20\n",
      "781/781 [==============================] - 15s 19ms/step - loss: -0.4923 - manh_dist_loss: 0.0102 - abs_vect_loss: -0.9948 - abs_vect_1_loss: -0.9947 - manh_dist_rmse: 0.1009 - manh_dist_mae: 0.0779 - val_loss: -0.4922 - val_manh_dist_loss: 0.0096 - val_abs_vect_loss: -0.9940 - val_abs_vect_1_loss: -0.9939 - val_manh_dist_rmse: 0.0979 - val_manh_dist_mae: 0.0748\n",
      "Epoch 9/20\n",
      "781/781 [==============================] - 15s 19ms/step - loss: -0.4924 - manh_dist_loss: 0.0100 - abs_vect_loss: -0.9949 - abs_vect_1_loss: -0.9948 - manh_dist_rmse: 0.0999 - manh_dist_mae: 0.0773 - val_loss: -0.4923 - val_manh_dist_loss: 0.0095 - val_abs_vect_loss: -0.9942 - val_abs_vect_1_loss: -0.9940 - val_manh_dist_rmse: 0.0975 - val_manh_dist_mae: 0.0749\n",
      "Epoch 10/20\n",
      "781/781 [==============================] - 15s 19ms/step - loss: -0.4926 - manh_dist_loss: 0.0098 - abs_vect_loss: -0.9950 - abs_vect_1_loss: -0.9949 - manh_dist_rmse: 0.0989 - manh_dist_mae: 0.0768 - val_loss: -0.4925 - val_manh_dist_loss: 0.0103 - val_abs_vect_loss: -0.9954 - val_abs_vect_1_loss: -0.9953 - val_manh_dist_rmse: 0.1017 - val_manh_dist_mae: 0.0786\n",
      "Epoch 11/20\n",
      "781/781 [==============================] - 15s 19ms/step - loss: -0.4927 - manh_dist_loss: 0.0097 - abs_vect_loss: -0.9951 - abs_vect_1_loss: -0.9950 - manh_dist_rmse: 0.0982 - manh_dist_mae: 0.0763 - val_loss: -0.4926 - val_manh_dist_loss: 0.0102 - val_abs_vect_loss: -0.9955 - val_abs_vect_1_loss: -0.9954 - val_manh_dist_rmse: 0.1008 - val_manh_dist_mae: 0.0777\n",
      "Epoch 12/20\n",
      "781/781 [==============================] - 15s 19ms/step - loss: -0.4928 - manh_dist_loss: 0.0095 - abs_vect_loss: -0.9952 - abs_vect_1_loss: -0.9951 - manh_dist_rmse: 0.0975 - manh_dist_mae: 0.0759 - val_loss: -0.4928 - val_manh_dist_loss: 0.0094 - val_abs_vect_loss: -0.9950 - val_abs_vect_1_loss: -0.9949 - val_manh_dist_rmse: 0.0968 - val_manh_dist_mae: 0.0743\n",
      "Epoch 13/20\n",
      "781/781 [==============================] - 15s 19ms/step - loss: -0.4930 - manh_dist_loss: 0.0093 - abs_vect_loss: -0.9954 - abs_vect_1_loss: -0.9953 - manh_dist_rmse: 0.0966 - manh_dist_mae: 0.0753 - val_loss: -0.4928 - val_manh_dist_loss: 0.0083 - val_abs_vect_loss: -0.9939 - val_abs_vect_1_loss: -0.9937 - val_manh_dist_rmse: 0.0910 - val_manh_dist_mae: 0.0696\n",
      "Epoch 14/20\n",
      "781/781 [==============================] - 15s 19ms/step - loss: -0.4931 - manh_dist_loss: 0.0092 - abs_vect_loss: -0.9955 - abs_vect_1_loss: -0.9954 - manh_dist_rmse: 0.0960 - manh_dist_mae: 0.0750 - val_loss: -0.4929 - val_manh_dist_loss: 0.0091 - val_abs_vect_loss: -0.9951 - val_abs_vect_1_loss: -0.9949 - val_manh_dist_rmse: 0.0956 - val_manh_dist_mae: 0.0737\n",
      "Epoch 15/20\n",
      "781/781 [==============================] - 15s 19ms/step - loss: -0.4931 - manh_dist_loss: 0.0092 - abs_vect_loss: -0.9955 - abs_vect_1_loss: -0.9954 - manh_dist_rmse: 0.0958 - manh_dist_mae: 0.0748 - val_loss: -0.4930 - val_manh_dist_loss: 0.0096 - val_abs_vect_loss: -0.9957 - val_abs_vect_1_loss: -0.9956 - val_manh_dist_rmse: 0.0981 - val_manh_dist_mae: 0.0763\n",
      "Epoch 16/20\n",
      "781/781 [==============================] - 15s 20ms/step - loss: -0.4932 - manh_dist_loss: 0.0091 - abs_vect_loss: -0.9955 - abs_vect_1_loss: -0.9954 - manh_dist_rmse: 0.0954 - manh_dist_mae: 0.0746 - val_loss: -0.4931 - val_manh_dist_loss: 0.0097 - val_abs_vect_loss: -0.9959 - val_abs_vect_1_loss: -0.9958 - val_manh_dist_rmse: 0.0985 - val_manh_dist_mae: 0.0768\n",
      "Epoch 17/20\n",
      "781/781 [==============================] - 16s 20ms/step - loss: -0.4933 - manh_dist_loss: 0.0090 - abs_vect_loss: -0.9956 - abs_vect_1_loss: -0.9955 - manh_dist_rmse: 0.0950 - manh_dist_mae: 0.0744 - val_loss: -0.4931 - val_manh_dist_loss: 0.0097 - val_abs_vect_loss: -0.9959 - val_abs_vect_1_loss: -0.9959 - val_manh_dist_rmse: 0.0983 - val_manh_dist_mae: 0.0765\n",
      "Epoch 18/20\n",
      "781/781 [==============================] - 15s 20ms/step - loss: -0.4933 - manh_dist_loss: 0.0089 - abs_vect_loss: -0.9957 - abs_vect_1_loss: -0.9956 - manh_dist_rmse: 0.0946 - manh_dist_mae: 0.0742 - val_loss: -0.4932 - val_manh_dist_loss: 0.0086 - val_abs_vect_loss: -0.9951 - val_abs_vect_1_loss: -0.9949 - val_manh_dist_rmse: 0.0929 - val_manh_dist_mae: 0.0719\n",
      "Epoch 19/20\n",
      "781/781 [==============================] - 15s 20ms/step - loss: -0.4934 - manh_dist_loss: 0.0089 - abs_vect_loss: -0.9957 - abs_vect_1_loss: -0.9956 - manh_dist_rmse: 0.0943 - manh_dist_mae: 0.0740 - val_loss: -0.4933 - val_manh_dist_loss: 0.0088 - val_abs_vect_loss: -0.9954 - val_abs_vect_1_loss: -0.9953 - val_manh_dist_rmse: 0.0940 - val_manh_dist_mae: 0.0727\n",
      "Epoch 20/20\n",
      "781/781 [==============================] - 15s 19ms/step - loss: -0.4935 - manh_dist_loss: 0.0088 - abs_vect_loss: -0.9958 - abs_vect_1_loss: -0.9957 - manh_dist_rmse: 0.0938 - manh_dist_mae: 0.0737 - val_loss: -0.4934 - val_manh_dist_loss: 0.0090 - val_abs_vect_loss: -0.9958 - val_abs_vect_1_loss: -0.9956 - val_manh_dist_rmse: 0.0948 - val_manh_dist_mae: 0.0736\n"
     ]
    }
   ],
   "source": [
    "siamese_model = train_siamese_model_baseline(model, X_train, X_validation, Y_train, Y_validation, size_hash_vector, batch_size = 512, epochs = 20)"
   ]
  },
  {
   "cell_type": "markdown",
   "id": "8de2153c-d75d-41be-848b-d503f6c36239",
   "metadata": {},
   "source": [
    "# 3. Model Evaluation"
   ]
  },
  {
   "cell_type": "code",
   "execution_count": 20,
   "id": "a3c3519a-cf27-413e-b267-6504149deb2d",
   "metadata": {},
   "outputs": [
    {
     "data": {
      "text/plain": [
       "[<tensorflow.python.keras.engine.input_layer.InputLayer at 0x7f6763f133d0>,\n",
       " <tensorflow.python.keras.engine.input_layer.InputLayer at 0x7f676402b610>,\n",
       " <tensorflow.python.keras.engine.sequential.Sequential at 0x7f676403d6d0>,\n",
       " <deep_hashing_models.ManhDist at 0x7f6763f13450>,\n",
       " <deep_hashing_models.AbsVect at 0x7f6763a707d0>,\n",
       " <deep_hashing_models.AbsVect at 0x7f6763a28110>]"
      ]
     },
     "execution_count": 20,
     "metadata": {},
     "output_type": "execute_result"
    }
   ],
   "source": [
    "model.layers"
   ]
  },
  {
   "cell_type": "markdown",
   "id": "6e08e438-f7db-4ffd-a703-c050649eed80",
   "metadata": {},
   "source": [
    "## 3.1. Loss functions"
   ]
  },
  {
   "cell_type": "markdown",
   "id": "2ba523e6-4b29-4979-9739-3840a9d279e5",
   "metadata": {},
   "source": [
    "#### 3.1.1. MSE of $\\mathcal{L}_{Baseline}$"
   ]
  },
  {
   "cell_type": "code",
   "execution_count": 21,
   "id": "78fa1d12-53e0-4b18-bd6d-b49e0ac5a173",
   "metadata": {},
   "outputs": [
    {
     "data": {
      "text/plain": [
       "<matplotlib.legend.Legend at 0x7f6768e5da10>"
      ]
     },
     "execution_count": 21,
     "metadata": {},
     "output_type": "execute_result"
    },
    {
     "data": {
      "image/png": "[encoded data removed]",
      "text/plain": [
       "<Figure size 576x360 with 1 Axes>"
      ]
     },
     "metadata": {
      "needs_background": "light"
     },
     "output_type": "display_data"
    }
   ],
   "source": [
    "plt.rcParams[\"figure.figsize\"] = (8,5)\n",
    "plt.plot(siamese_model.history['loss'], linewidth = 2)\n",
    "plt.plot(siamese_model.history['val_loss'], linewidth = 2)\n",
    "plt.title('Dufrex (Baseline)', fontsize = 20)\n",
    "plt.ylabel('MSE (Model)', fontsize = 12)\n",
    "plt.xlabel('Epochs', fontsize = 12)\n",
    "plt.ticklabel_format(style='', scilimits=(0,0))\n",
    "plt.legend(['Train', 'Validation'], loc='upper right', fontsize=15)"
   ]
  },
  {
   "cell_type": "markdown",
   "id": "05afb4e6-9037-456a-9663-060eb611c0b8",
   "metadata": {},
   "source": [
    "#### 3.1.2. RMSE of Similarity preserving loss"
   ]
  },
  {
   "cell_type": "code",
   "execution_count": 22,
   "id": "9cd1cda5-36b1-41ab-8dc3-2ebfe56fd4d9",
   "metadata": {},
   "outputs": [
    {
     "data": {
      "text/plain": [
       "<matplotlib.legend.Legend at 0x7f6764020a90>"
      ]
     },
     "execution_count": 22,
     "metadata": {},
     "output_type": "execute_result"
    },
    {
     "data": {
      "image/png": "[encoded data removed]",
      "text/plain": [
       "<Figure size 576x360 with 1 Axes>"
      ]
     },
     "metadata": {
      "needs_background": "light"
     },
     "output_type": "display_data"
    }
   ],
   "source": [
    "plt.rcParams[\"figure.figsize\"] = (8,5)\n",
    "plt.plot(siamese_model.history[model.layers[3].name + '_rmse'], linewidth = 2)\n",
    "plt.plot(siamese_model.history['val_' + model.layers[3].name + '_rmse'], linewidth = 2)\n",
    "plt.title('Dufrex (Baseline)', fontsize = 20)\n",
    "plt.ylabel('RMSE (Similarity-preserving)', fontsize = 12)\n",
    "plt.xlabel('Epochs', fontsize = 12)\n",
    "plt.ticklabel_format(style='', scilimits=(0,0))\n",
    "plt.legend(['Train', 'Validation'], loc='upper right', fontsize=15)"
   ]
  },
  {
   "cell_type": "markdown",
   "id": "ac94472b-7465-4ab0-99dd-c042b4a32572",
   "metadata": {},
   "source": [
    "#### 3.1.3. MAE of LSH preserving loss"
   ]
  },
  {
   "cell_type": "code",
   "execution_count": 23,
   "id": "c4c8e448-e36f-4a8d-8d5f-a5da5c4d5019",
   "metadata": {},
   "outputs": [
    {
     "data": {
      "text/plain": [
       "<matplotlib.legend.Legend at 0x7f632824c810>"
      ]
     },
     "execution_count": 23,
     "metadata": {},
     "output_type": "execute_result"
    },
    {
     "data": {
      "image/png": "[encoded data removed]",
      "text/plain": [
       "<Figure size 576x360 with 1 Axes>"
      ]
     },
     "metadata": {
      "needs_background": "light"
     },
     "output_type": "display_data"
    }
   ],
   "source": [
    "plt.rcParams[\"figure.figsize\"] = (8,5)\n",
    "plt.plot(siamese_model.history[model.layers[3].name + '_mae'], linewidth = 2)\n",
    "plt.plot(siamese_model.history['val_' + model.layers[3].name + '_mae'], linewidth = 2)\n",
    "plt.title('Dufrex (Baseline)', fontsize = 20)\n",
    "plt.ylabel('MAE (Similarity-preserving)', fontsize = 12)\n",
    "plt.xlabel('Epochs', fontsize = 12)\n",
    "plt.ticklabel_format(style='', scilimits=(0,0))\n",
    "plt.legend(['Train', 'Validation'], loc='upper right', fontsize=15)"
   ]
  },
  {
   "cell_type": "markdown",
   "id": "f8f7f1d0-62b0-4612-ab39-9c38fad06a4c",
   "metadata": {},
   "source": [
    "## 3.2. Model Predictions"
   ]
  },
  {
   "cell_type": "code",
   "execution_count": 24,
   "id": "1f089e9c-7bbd-40fb-90f3-3e4c7a2798d2",
   "metadata": {},
   "outputs": [],
   "source": [
    "predictions = predict(model, X_validation)"
   ]
  },
  {
   "cell_type": "markdown",
   "id": "19834dba-ff8b-45fa-aead-ac2e6d099273",
   "metadata": {},
   "source": [
    "### 3.2.1. Examples"
   ]
  },
  {
   "cell_type": "code",
   "execution_count": 25,
   "id": "eade347d-6ee3-4fa3-ba1a-c5298f94c96e",
   "metadata": {},
   "outputs": [
    {
     "data": {
      "text/plain": [
       "array([0.04 , 0.12 , 0.029, 0.308, 0.054, 0.105, 0.465, 0.066, 0.4  ,\n",
       "       0.044, 0.053, 0.098, 0.92 , 0.095, 0.063, 0.372, 0.357, 0.177,\n",
       "       0.511, 0.065, 0.404, 0.284, 0.039, 0.09 , 0.14 , 0.05 , 0.117,\n",
       "       0.209, 0.04 , 0.547, 0.086, 0.095, 0.118, 0.06 , 0.094, 0.031,\n",
       "       0.085, 0.067, 0.027, 0.051, 0.508, 0.395, 0.074, 0.404, 0.077,\n",
       "       0.276, 0.088, 0.225, 0.057, 0.077], dtype=float32)"
      ]
     },
     "execution_count": 25,
     "metadata": {},
     "output_type": "execute_result"
    }
   ],
   "source": [
    "np.around(predictions[0][:50],3) "
   ]
  },
  {
   "cell_type": "code",
   "execution_count": 26,
   "id": "8f18d2a7-c115-4a7c-9492-facb302c578b",
   "metadata": {},
   "outputs": [
    {
     "data": {
      "text/plain": [
       "array([0.   , 0.034, 0.   , 0.367, 0.   , 0.   , 0.363, 0.   , 0.664,\n",
       "       0.033, 0.   , 0.032, 0.905, 0.   , 0.   , 0.435, 0.225, 0.149,\n",
       "       0.58 , 0.   , 0.331, 0.288, 0.022, 0.049, 0.172, 0.   , 0.114,\n",
       "       0.14 , 0.   , 0.376, 0.011, 0.   , 0.024, 0.057, 0.09 , 0.   ,\n",
       "       0.   , 0.   , 0.   , 0.   , 0.426, 0.413, 0.   , 0.341, 0.   ,\n",
       "       0.136, 0.   , 0.256, 0.   , 0.   ])"
      ]
     },
     "execution_count": 26,
     "metadata": {},
     "output_type": "execute_result"
    }
   ],
   "source": [
    "np.around(Y_validation[:50],3) "
   ]
  },
  {
   "cell_type": "markdown",
   "id": "98409488-ca93-4cd3-b71c-547fa4baa6ef",
   "metadata": {},
   "source": [
    "### 3.2.2. Spearman $\\rho$ and Kendall $\\tau$ correlation"
   ]
  },
  {
   "cell_type": "code",
   "execution_count": 27,
   "id": "01573553-5d50-49eb-aa52-c480c0de67f0",
   "metadata": {},
   "outputs": [
    {
     "data": {
      "image/png": "[encoded data removed]",
      "text/plain": [
       "<Figure size 288x288 with 1 Axes>"
      ]
     },
     "metadata": {
      "needs_background": "light"
     },
     "output_type": "display_data"
    }
   ],
   "source": [
    "plt.rcParams[\"figure.figsize\"] = (4,4)\n",
    "plt.scatter(Y_validation, predictions[0], alpha = 0.5, marker = 'x', c = '#227093')\n",
    "plt.title('Dufrex (Baseline)', fontsize = 20)\n",
    "plt.xlabel(\"Dufrex similarity values\", fontsize = 12)\n",
    "plt.ylabel(\"Collision probability\", fontsize = 12)\n",
    "plt.savefig('Results/Baseline/Dufrex-correlation', bbox_inches='tight')\n",
    "plt.show()"
   ]
  },
  {
   "cell_type": "code",
   "execution_count": 28,
   "id": "f80a43e7-b4b5-4956-9b3d-6a1457a6ee92",
   "metadata": {},
   "outputs": [
    {
     "data": {
      "text/plain": [
       "0.8555639168405658"
      ]
     },
     "execution_count": 28,
     "metadata": {},
     "output_type": "execute_result"
    }
   ],
   "source": [
    "rho, p_value = spearman_rho(predictions, Y_validation)\n",
    "rho"
   ]
  },
  {
   "cell_type": "code",
   "execution_count": 29,
   "id": "7f6dc861-28aa-4f3d-b0fb-7f5caf453280",
   "metadata": {},
   "outputs": [
    {
     "data": {
      "text/plain": [
       "0.7114765342230946"
      ]
     },
     "execution_count": 29,
     "metadata": {},
     "output_type": "execute_result"
    }
   ],
   "source": [
    "tau, p_value = kendall_tau(predictions, Y_validation)\n",
    "tau"
   ]
  },
  {
   "cell_type": "markdown",
   "id": "895fc952-6e22-451a-abd2-86de43e87328",
   "metadata": {},
   "source": [
    "## 3.3. Approximate Hamming Evaluation"
   ]
  },
  {
   "cell_type": "code",
   "execution_count": 30,
   "id": "6b9edd91-5e15-4aa8-8a05-4985b8623897",
   "metadata": {},
   "outputs": [
    {
     "data": {
      "text/plain": [
       "<tensorflow.python.keras.engine.sequential.Sequential at 0x7f676403d6d0>"
      ]
     },
     "execution_count": 30,
     "metadata": {},
     "output_type": "execute_result"
    }
   ],
   "source": [
    "output_layer = 2\n",
    "model.layers[output_layer]"
   ]
  },
  {
   "cell_type": "code",
   "execution_count": 31,
   "id": "acaf1823-ca3b-4d6c-9a71-a6c9acf5e1f5",
   "metadata": {},
   "outputs": [],
   "source": [
    "intermediate_model = intermediate_model_trained(shared_model, output_layer)"
   ]
  },
  {
   "cell_type": "code",
   "execution_count": 32,
   "id": "346ee1c3-5c1c-43b0-877f-7bb065ce5ac4",
   "metadata": {},
   "outputs": [
    {
     "name": "stdout",
     "output_type": "stream",
     "text": [
      "WARNING:tensorflow:Compiled the loaded model, but the compiled metrics have yet to be built. `model.compile_metrics` will be empty until you train or evaluate the model.\n",
      "INFO:tensorflow:Assets written to: Models/model-deep-hash.model/assets\n"
     ]
    }
   ],
   "source": [
    "intermediate_model.save('Models/model-baseline.model')"
   ]
  },
  {
   "cell_type": "code",
   "execution_count": null,
   "id": "bc07ec86-2949-42b7-8fbc-6c331cc967a8",
   "metadata": {},
   "outputs": [],
   "source": [
    "#intermediate_model = keras.models.load_model('Models/model-baseline.model')"
   ]
  },
  {
   "cell_type": "markdown",
   "id": "b4d1758f-ff99-49fc-b85c-4fe66560da40",
   "metadata": {},
   "source": [
    "### 3.3.1. Example of a hash vector provided by the model (in the last epoch)"
   ]
  },
  {
   "cell_type": "code",
   "execution_count": 33,
   "id": "ec686420-c52a-4925-852f-939cfe007904",
   "metadata": {
    "tags": []
   },
   "outputs": [
    {
     "data": {
      "text/plain": [
       "array([ 0.99999475,  0.99899876,  0.87596947,  0.9999965 ,  0.9997385 ,\n",
       "       -0.9999622 , -0.9999847 ,  0.9999869 ,  0.9999896 ,  1.        ,\n",
       "        0.9999922 , -0.99990904, -0.9997054 , -0.9982887 , -0.9999251 ,\n",
       "       -0.99916685, -0.99994826, -0.9999985 , -0.9996777 , -0.99370193,\n",
       "       -0.9998616 ,  0.9999992 , -0.9999619 ,  0.9998019 , -0.99897027,\n",
       "       -0.9998364 , -0.9999864 ,  0.9973477 ,  0.9997484 ,  0.9941731 ,\n",
       "        1.        , -0.9999718 , -0.9999995 , -0.99693376, -0.99998724,\n",
       "        0.86684734, -0.9999994 , -1.        , -0.9995094 , -1.        ,\n",
       "       -0.9999117 ,  1.        ,  0.9998478 ,  0.9999882 , -0.9999964 ,\n",
       "       -0.9999189 , -0.9999535 ,  0.99971503, -0.9999575 ,  0.9999903 ,\n",
       "       -0.99915946, -0.99997795,  0.9997697 ,  0.9998952 ,  0.9999112 ,\n",
       "       -0.9999797 , -0.99987775,  0.99977833,  0.99999356, -0.9999989 ,\n",
       "        0.9999802 ,  1.        , -0.99998754,  0.9999834 ], dtype=float32)"
      ]
     },
     "execution_count": 33,
     "metadata": {},
     "output_type": "execute_result"
    }
   ],
   "source": [
    "'First 64 bits'\n",
    "intermediate_model.predict(df_bag_of_frames.iloc[[10]])[0][:64]"
   ]
  },
  {
   "cell_type": "markdown",
   "id": "4ec939b1-4814-49cd-80ff-ee2bad747358",
   "metadata": {},
   "source": [
    "### 3.3.2. Average value of the absolute hash values"
   ]
  },
  {
   "cell_type": "code",
   "execution_count": 34,
   "id": "f54a9180-f4a4-4e0c-94ed-e36df291b072",
   "metadata": {},
   "outputs": [],
   "source": [
    "hash_vectors = intermediate_model.predict(df_bag_of_frames)"
   ]
  },
  {
   "cell_type": "code",
   "execution_count": 35,
   "id": "0fd308c0-f913-4d55-b45b-01f976a62e0b",
   "metadata": {},
   "outputs": [
    {
     "data": {
      "text/plain": [
       "0.898548"
      ]
     },
     "execution_count": 35,
     "metadata": {},
     "output_type": "execute_result"
    }
   ],
   "source": [
    "np.mean(np.abs(hash_vectors))"
   ]
  },
  {
   "cell_type": "markdown",
   "id": "2ca2d6a3-75da-472a-99bb-b25ece9df8a7",
   "metadata": {},
   "source": [
    "### 3.3.3. Ratio of binary values from hash vectors provided by the model"
   ]
  },
  {
   "cell_type": "code",
   "execution_count": 36,
   "id": "5bb9bdd7-c931-4db2-8a89-b20c7fb92d9e",
   "metadata": {},
   "outputs": [
    {
     "data": {
      "text/plain": [
       "0.0592509765625"
      ]
     },
     "execution_count": 36,
     "metadata": {},
     "output_type": "execute_result"
    }
   ],
   "source": [
    "hash_vectors[(hash_vectors == 1) | (hash_vectors == -1)].size / hash_vectors.size"
   ]
  },
  {
   "cell_type": "markdown",
   "id": "5a606dc1-dd06-4376-9f33-1254286c701d",
   "metadata": {},
   "source": [
    "### 3.3.4. Comparison between approximate hamming and real hamming"
   ]
  },
  {
   "cell_type": "code",
   "execution_count": 37,
   "id": "03dd89e8-82d7-47c2-8c33-a0652d3ec536",
   "metadata": {},
   "outputs": [],
   "source": [
    "df_hamming = compare_hamming(X_validation, intermediate_model, b, size_hash_vector)"
   ]
  },
  {
   "cell_type": "code",
   "execution_count": 38,
   "id": "3ba16852-6f34-4400-b198-c8f631e82d6d",
   "metadata": {},
   "outputs": [
    {
     "data": {
      "text/html": [
       "<div>\n",
       "<style scoped>\n",
       "    .dataframe tbody tr th:only-of-type {\n",
       "        vertical-align: middle;\n",
       "    }\n",
       "\n",
       "    .dataframe tbody tr th {\n",
       "        vertical-align: top;\n",
       "    }\n",
       "\n",
       "    .dataframe thead th {\n",
       "        text-align: right;\n",
       "    }\n",
       "</style>\n",
       "<table border=\"1\" class=\"dataframe\">\n",
       "  <thead>\n",
       "    <tr style=\"text-align: right;\">\n",
       "      <th></th>\n",
       "      <th>embedding_stack_1</th>\n",
       "      <th>embedding_stack_2</th>\n",
       "      <th>hamming</th>\n",
       "    </tr>\n",
       "  </thead>\n",
       "  <tbody>\n",
       "    <tr>\n",
       "      <th>0</th>\n",
       "      <td>[1, 1, 1, 1, 1, -1, -1, 1, 1, 1, 1, -1, -1, 1,...</td>\n",
       "      <td>[1, 1, -1, 1, 1, -1, -1, -1, 1, 1, 1, -1, -1, ...</td>\n",
       "      <td>0.000000</td>\n",
       "    </tr>\n",
       "    <tr>\n",
       "      <th>1</th>\n",
       "      <td>[1, 1, 1, 1, 1, -1, -1, 1, 1, -1, 1, -1, -1, 1...</td>\n",
       "      <td>[1, 1, 1, 1, 1, -1, -1, -1, 1, -1, 1, -1, -1, ...</td>\n",
       "      <td>0.031250</td>\n",
       "    </tr>\n",
       "    <tr>\n",
       "      <th>2</th>\n",
       "      <td>[1, 1, 1, 1, 1, -1, -1, -1, 1, 1, 1, -1, -1, -...</td>\n",
       "      <td>[1, 1, -1, 1, 1, -1, -1, 1, 1, -1, 1, -1, -1, ...</td>\n",
       "      <td>0.000000</td>\n",
       "    </tr>\n",
       "    <tr>\n",
       "      <th>3</th>\n",
       "      <td>[1, 1, 1, 1, 1, -1, -1, -1, 1, 1, 1, -1, -1, -...</td>\n",
       "      <td>[1, 1, -1, 1, 1, -1, -1, -1, 1, 1, 1, -1, -1, ...</td>\n",
       "      <td>0.156250</td>\n",
       "    </tr>\n",
       "    <tr>\n",
       "      <th>4</th>\n",
       "      <td>[1, 1, 1, 1, 1, -1, -1, 1, 1, -1, 1, -1, -1, 1...</td>\n",
       "      <td>[1, 1, -1, 1, 1, -1, -1, -1, 1, 1, 1, -1, -1, ...</td>\n",
       "      <td>0.000000</td>\n",
       "    </tr>\n",
       "    <tr>\n",
       "      <th>...</th>\n",
       "      <td>...</td>\n",
       "      <td>...</td>\n",
       "      <td>...</td>\n",
       "    </tr>\n",
       "    <tr>\n",
       "      <th>99895</th>\n",
       "      <td>[1, 1, 1, 1, 1, -1, -1, 1, 1, 1, 1, -1, -1, -1...</td>\n",
       "      <td>[1, 1, -1, 1, 1, -1, -1, -1, 1, -1, 1, -1, -1,...</td>\n",
       "      <td>0.000000</td>\n",
       "    </tr>\n",
       "    <tr>\n",
       "      <th>99896</th>\n",
       "      <td>[1, 1, 1, 1, 1, -1, -1, 1, 1, 1, 1, -1, -1, -1...</td>\n",
       "      <td>[1, 1, 1, 1, 1, -1, -1, 1, 1, 1, 1, -1, -1, -1...</td>\n",
       "      <td>0.890625</td>\n",
       "    </tr>\n",
       "    <tr>\n",
       "      <th>99897</th>\n",
       "      <td>[1, 1, -1, 1, 1, -1, -1, -1, 1, 1, 1, -1, -1, ...</td>\n",
       "      <td>[1, 1, 1, 1, 1, -1, -1, -1, 1, -1, 1, -1, -1, ...</td>\n",
       "      <td>0.000000</td>\n",
       "    </tr>\n",
       "    <tr>\n",
       "      <th>99898</th>\n",
       "      <td>[1, 1, 1, 1, 1, -1, -1, 1, 1, 1, 1, -1, -1, -1...</td>\n",
       "      <td>[1, 1, 1, 1, 1, -1, -1, 1, 1, 1, 1, -1, -1, -1...</td>\n",
       "      <td>0.671875</td>\n",
       "    </tr>\n",
       "    <tr>\n",
       "      <th>99899</th>\n",
       "      <td>[1, 1, 1, 1, 1, -1, -1, -1, 1, -1, 1, -1, -1, ...</td>\n",
       "      <td>[1, 1, 1, 1, 1, -1, -1, 1, 1, 1, 1, -1, -1, -1...</td>\n",
       "      <td>0.218750</td>\n",
       "    </tr>\n",
       "  </tbody>\n",
       "</table>\n",
       "<p>99900 rows × 3 columns</p>\n",
       "</div>"
      ],
      "text/plain": [
       "                                       embedding_stack_1  \\\n",
       "0      [1, 1, 1, 1, 1, -1, -1, 1, 1, 1, 1, -1, -1, 1,...   \n",
       "1      [1, 1, 1, 1, 1, -1, -1, 1, 1, -1, 1, -1, -1, 1...   \n",
       "2      [1, 1, 1, 1, 1, -1, -1, -1, 1, 1, 1, -1, -1, -...   \n",
       "3      [1, 1, 1, 1, 1, -1, -1, -1, 1, 1, 1, -1, -1, -...   \n",
       "4      [1, 1, 1, 1, 1, -1, -1, 1, 1, -1, 1, -1, -1, 1...   \n",
       "...                                                  ...   \n",
       "99895  [1, 1, 1, 1, 1, -1, -1, 1, 1, 1, 1, -1, -1, -1...   \n",
       "99896  [1, 1, 1, 1, 1, -1, -1, 1, 1, 1, 1, -1, -1, -1...   \n",
       "99897  [1, 1, -1, 1, 1, -1, -1, -1, 1, 1, 1, -1, -1, ...   \n",
       "99898  [1, 1, 1, 1, 1, -1, -1, 1, 1, 1, 1, -1, -1, -1...   \n",
       "99899  [1, 1, 1, 1, 1, -1, -1, -1, 1, -1, 1, -1, -1, ...   \n",
       "\n",
       "                                       embedding_stack_2   hamming  \n",
       "0      [1, 1, -1, 1, 1, -1, -1, -1, 1, 1, 1, -1, -1, ...  0.000000  \n",
       "1      [1, 1, 1, 1, 1, -1, -1, -1, 1, -1, 1, -1, -1, ...  0.031250  \n",
       "2      [1, 1, -1, 1, 1, -1, -1, 1, 1, -1, 1, -1, -1, ...  0.000000  \n",
       "3      [1, 1, -1, 1, 1, -1, -1, -1, 1, 1, 1, -1, -1, ...  0.156250  \n",
       "4      [1, 1, -1, 1, 1, -1, -1, -1, 1, 1, 1, -1, -1, ...  0.000000  \n",
       "...                                                  ...       ...  \n",
       "99895  [1, 1, -1, 1, 1, -1, -1, -1, 1, -1, 1, -1, -1,...  0.000000  \n",
       "99896  [1, 1, 1, 1, 1, -1, -1, 1, 1, 1, 1, -1, -1, -1...  0.890625  \n",
       "99897  [1, 1, 1, 1, 1, -1, -1, -1, 1, -1, 1, -1, -1, ...  0.000000  \n",
       "99898  [1, 1, 1, 1, 1, -1, -1, 1, 1, 1, 1, -1, -1, -1...  0.671875  \n",
       "99899  [1, 1, 1, 1, 1, -1, -1, 1, 1, 1, 1, -1, -1, -1...  0.218750  \n",
       "\n",
       "[99900 rows x 3 columns]"
      ]
     },
     "execution_count": 38,
     "metadata": {},
     "output_type": "execute_result"
    }
   ],
   "source": [
    "df_hamming"
   ]
  },
  {
   "cell_type": "code",
   "execution_count": 39,
   "id": "3fdc0913-64e8-4b05-a1fd-75f20c1a418a",
   "metadata": {},
   "outputs": [
    {
     "data": {
      "image/png": "[encoded data removed]",
      "text/plain": [
       "<Figure size 288x288 with 1 Axes>"
      ]
     },
     "metadata": {
      "needs_background": "light"
     },
     "output_type": "display_data"
    }
   ],
   "source": [
    "plt.rcParams[\"figure.figsize\"] = (4,4)\n",
    "plt.scatter(predictions[0], df_hamming['hamming'], alpha = 0.5, marker = 'x', c = '#b33939')\n",
    "plt.xlabel(\"Distance between vectors\", fontsize = 12)\n",
    "plt.ylabel(\"Hamming Similarity\", fontsize = 12)\n",
    "plt.title('Dufrex (Deep Hashing)', fontsize = 20)\n",
    "plt.savefig('Results/Baseline/Dufrex-hamming-comparison', bbox_inches='tight')\n",
    "plt.show()"
   ]
  },
  {
   "cell_type": "markdown",
   "id": "b030832c-7872-45da-8698-a0bbf16fe3cb",
   "metadata": {},
   "source": [
    "# 4. Locality Sensitive Hashing"
   ]
  },
  {
   "cell_type": "code",
   "execution_count": 40,
   "id": "2aacdd9c-73d0-4257-af38-1768e9f4aa05",
   "metadata": {},
   "outputs": [],
   "source": [
    "hash_vectors_hamming = convert_to_hamming(hash_vectors)"
   ]
  },
  {
   "cell_type": "code",
   "execution_count": 41,
   "id": "f3bb826f-5e0d-4d6e-8356-d1f3315d6ebd",
   "metadata": {},
   "outputs": [
    {
     "data": {
      "text/plain": [
       "[(1, 64), (2, 32), (4, 16), (8, 8), (16, 4), (32, 2), (64, 1)]"
      ]
     },
     "execution_count": 41,
     "metadata": {},
     "output_type": "execute_result"
    }
   ],
   "source": [
    "params = lsh_hyperparams(m)\n",
    "'(K,L)'\n",
    "params "
   ]
  },
  {
   "cell_type": "markdown",
   "id": "cabab99d-9820-4b91-a6ed-6f2b3b38b0b9",
   "metadata": {},
   "source": [
    "## 4.1. Choose the best combination (L, K)"
   ]
  },
  {
   "cell_type": "code",
   "execution_count": 42,
   "id": "1aeac3ba-cb08-4e8a-913b-1dbd0529c782",
   "metadata": {},
   "outputs": [
    {
     "data": {
      "text/plain": [
       "<matplotlib.legend.Legend at 0x7f631c23f1d0>"
      ]
     },
     "execution_count": 42,
     "metadata": {},
     "output_type": "execute_result"
    },
    {
     "data": {
      "image/png": "[encoded data removed]",
      "text/plain": [
       "<Figure size 648x360 with 1 Axes>"
      ]
     },
     "metadata": {
      "needs_background": "light"
     },
     "output_type": "display_data"
    }
   ],
   "source": [
    "plt.rcParams[\"figure.figsize\"] = [9, 5]\n",
    "x = np.linspace(0, 1, 100)\n",
    "for param in params:\n",
    "    y = 1 - (1 - (x)**param[1])**param[0]\n",
    "    plt.plot(x, y, label = 'L = %d, r = %d' %param)\n",
    "plt.xlabel(\"similarity values\", fontsize = 12)\n",
    "plt.ylabel(\"hash probability in at least 1 bucket\", fontsize = 12)\n",
    "plt.title('Probability-similarity relation', fontsize = 20)\n",
    "plt.legend()"
   ]
  },
  {
   "cell_type": "code",
   "execution_count": 43,
   "id": "b931100a-06bb-4748-80a8-e09f31905b2a",
   "metadata": {},
   "outputs": [],
   "source": [
    "df_probLSH = mean_prob_hashing_smallest_elt(n_stacks, params, hash_vectors_hamming, b, df_measures, 'Dufrex', trace = False)"
   ]
  },
  {
   "cell_type": "code",
   "execution_count": 44,
   "id": "98685548-ab7a-4bb4-a39c-61f448d1c42b",
   "metadata": {},
   "outputs": [
    {
     "data": {
      "image/png": "[encoded data removed]",
      "text/plain": [
       "<Figure size 432x288 with 1 Axes>"
      ]
     },
     "metadata": {
      "needs_background": "light"
     },
     "output_type": "display_data"
    }
   ],
   "source": [
    "f, ax = plt.subplots(figsize=(6, 4))\n",
    "ax = sns.boxplot(data = df_probLSH, palette=\"Set3\")\n",
    "plt.title('Dufrex(Relation Prob-Sim)', fontsize = 20)\n",
    "plt.savefig('Results/Baseline/Dufrex-Relation-Prob-Sim', bbox_inches='tight')\n",
    "plt.show()"
   ]
  },
  {
   "cell_type": "code",
   "execution_count": 45,
   "id": "0e85f833-8a8c-4fe7-803d-52c4a8d78194",
   "metadata": {},
   "outputs": [
    {
     "data": {
      "text/plain": [
       "(4, 16)"
      ]
     },
     "execution_count": 45,
     "metadata": {},
     "output_type": "execute_result"
    }
   ],
   "source": [
    "'L = K = 8'\n",
    "L, K = params[2]\n",
    "L, K"
   ]
  },
  {
   "cell_type": "markdown",
   "id": "dc0d84af-ec41-43dc-b1cd-73e92cd96894",
   "metadata": {},
   "source": [
    "### 4.1.1 Mean and Median probability for all stack traces for the best combination of $K$ and $L$"
   ]
  },
  {
   "cell_type": "code",
   "execution_count": 47,
   "id": "3a414e49-3f64-4aa0-b2aa-c7d12490eb15",
   "metadata": {},
   "outputs": [
    {
     "data": {
      "text/plain": [
       "0.07418622399722478"
      ]
     },
     "execution_count": 47,
     "metadata": {},
     "output_type": "execute_result"
    }
   ],
   "source": [
    "df_probLSH.mean()['(4, 16)']"
   ]
  },
  {
   "cell_type": "code",
   "execution_count": 46,
   "id": "4381a53d-2b3b-438b-afb7-b91389db8a45",
   "metadata": {},
   "outputs": [
    {
     "data": {
      "text/plain": [
       "5.3145494893769296e-08"
      ]
     },
     "execution_count": 46,
     "metadata": {},
     "output_type": "execute_result"
    }
   ],
   "source": [
    "df_probLSH.median()['(4, 16)']"
   ]
  },
  {
   "cell_type": "markdown",
   "id": "6ebdb37a-a88b-46f1-8a22-1c0f872f6cd6",
   "metadata": {},
   "source": [
    "## 4.2. Build hash tables with binary hash vectors w.r.t $K$ and $L$"
   ]
  },
  {
   "cell_type": "code",
   "execution_count": 48,
   "id": "fb84b5ab-519b-4dd1-bb5e-5ced695bf3a4",
   "metadata": {},
   "outputs": [],
   "source": [
    "hash_tables = create_hash_tables(L, K, b, hash_vectors_hamming)"
   ]
  },
  {
   "cell_type": "code",
   "execution_count": 49,
   "id": "89365da1-5823-4433-a0b1-1aacf8ba66ff",
   "metadata": {},
   "outputs": [],
   "source": [
    "with open('Hash-Tables/hash_tables_baseline.pkl', 'wb') as f:\n",
    "    pickle.dump(hash_tables, f)"
   ]
  },
  {
   "cell_type": "markdown",
   "id": "70f264b8-e59e-4995-b416-f8966cfc4d8f",
   "metadata": {},
   "source": [
    "## 4.3. Search for approximate nearest neighbors (this procedure need to be explained in the paper) "
   ]
  },
  {
   "cell_type": "code",
   "execution_count": 56,
   "id": "46bdb33d-c680-4242-919e-cd2dfd73e353",
   "metadata": {},
   "outputs": [
    {
     "data": {
      "text/plain": [
       "629"
      ]
     },
     "execution_count": 56,
     "metadata": {},
     "output_type": "execute_result"
    }
   ],
   "source": [
    "'pointer to the stack trace'\n",
    "index = random.randint(0,n_stacks)\n",
    "index"
   ]
  },
  {
   "cell_type": "code",
   "execution_count": 57,
   "id": "ce6258ad-9458-4e9b-867a-d3b4fc675966",
   "metadata": {
    "tags": []
   },
   "outputs": [
    {
     "data": {
      "text/plain": [
       "{136, 172, 202, 429, 568, 629, 641, 648, 768}"
      ]
     },
     "execution_count": 57,
     "metadata": {},
     "output_type": "execute_result"
    }
   ],
   "source": [
    "set_near_duplicates = near_duplicates(L, K, b, index, hash_vectors_hamming, hash_tables)\n",
    "set_near_duplicates"
   ]
  },
  {
   "cell_type": "code",
   "execution_count": 58,
   "id": "d3c836e7-fc34-47cd-9889-f76db2bc71a2",
   "metadata": {},
   "outputs": [],
   "source": [
    "list_near_duplicate_pairs = near_duplicate_pairs(index, set_near_duplicates, n_stacks)\n",
    "n_duplicate_pairs = len(list_near_duplicate_pairs)"
   ]
  },
  {
   "cell_type": "code",
   "execution_count": 59,
   "id": "561cd65b-4aa5-4f8c-b4a2-423baa352721",
   "metadata": {
    "tags": []
   },
   "outputs": [
    {
     "data": {
      "text/plain": [
       "127176    0.931542\n",
       "430883    0.910448\n",
       "336964    0.910448\n",
       "181923    0.885728\n",
       "157578    0.748132\n",
       "406464    0.423546\n",
       "431003    0.298091\n",
       "430876    0.293326\n",
       "Name: Dufrex, dtype: float64"
      ]
     },
     "execution_count": 59,
     "metadata": {},
     "output_type": "execute_result"
    }
   ],
   "source": [
    "near_duplicates_sim = df_measures['Dufrex'][list_near_duplicate_pairs].sort_values(ascending = False)\n",
    "near_duplicates_sim"
   ]
  },
  {
   "cell_type": "code",
   "execution_count": 60,
   "id": "6510bce7-6663-4db3-8455-0b846720c6f1",
   "metadata": {
    "tags": []
   },
   "outputs": [
    {
     "data": {
      "text/plain": [
       "{34, 58, 136, 152, 172, 202, 429, 648}"
      ]
     },
     "execution_count": 60,
     "metadata": {},
     "output_type": "execute_result"
    }
   ],
   "source": [
    "set_real_nns, real_nns_sim = real_nns(index, df_measures, 'Dufrex', n_stacks, n_duplicate_pairs)\n",
    "set_real_nns"
   ]
  },
  {
   "cell_type": "code",
   "execution_count": 61,
   "id": "0c2d9881-6df4-463f-9dd1-7d02a9fd1347",
   "metadata": {
    "tags": []
   },
   "outputs": [
    {
     "data": {
      "text/plain": [
       "127176    0.931542\n",
       "430883    0.910448\n",
       "336964    0.910448\n",
       "181923    0.885728\n",
       "157578    0.748132\n",
       "33999     0.548557\n",
       "56859     0.545843\n",
       "140848    0.545843\n",
       "dtype: float64"
      ]
     },
     "execution_count": 61,
     "metadata": {},
     "output_type": "execute_result"
    }
   ],
   "source": [
    "real_nns_sim[:n_duplicate_pairs]"
   ]
  },
  {
   "cell_type": "markdown",
   "id": "47aa72d7-020e-4a46-9f1c-f95ea57c3a2b",
   "metadata": {},
   "source": [
    "## 4.4. Metrics"
   ]
  },
  {
   "cell_type": "markdown",
   "id": "108a4d18-597e-4a51-9f51-940a80fd0be8",
   "metadata": {},
   "source": [
    "### 4.4.1. Ratio of finding the $k$ real nearest neighbor with the Least $L$ (Recal rate at $k$ first positions)"
   ]
  },
  {
   "cell_type": "code",
   "execution_count": 62,
   "id": "55ad1f38-83e2-4e55-8483-c7971ede8ec2",
   "metadata": {},
   "outputs": [
    {
     "data": {
      "text/plain": [
       "0.797"
      ]
     },
     "execution_count": 62,
     "metadata": {},
     "output_type": "execute_result"
    }
   ],
   "source": [
    "'All params'\n",
    "k_first_positions = 1\n",
    "recal_rate(n_stacks, params, hash_vectors_hamming, b, df_measures, k_first_positions, 'Dufrex')"
   ]
  },
  {
   "cell_type": "code",
   "execution_count": null,
   "id": "7424b84d-1066-4e2c-a6ec-4c67d448440c",
   "metadata": {},
   "outputs": [],
   "source": [
    "'Best param'\n",
    "k_first_positions = 1\n",
    "recal_rate_one_param(n_stacks, params[3], hash_vectors_hamming, b, df_measures, k_first_positions, 'Dufrex')"
   ]
  },
  {
   "cell_type": "markdown",
   "id": "b20f2315-986c-4bc2-89dc-9dd1757a8c78",
   "metadata": {},
   "source": [
    "-----------------------------------------------------------------"
   ]
  },
  {
   "cell_type": "code",
   "execution_count": 63,
   "id": "aa6e30e1-37f9-45cc-8356-2df3ce14f4c1",
   "metadata": {},
   "outputs": [
    {
     "data": {
      "text/plain": [
       "0.7463333333333344"
      ]
     },
     "execution_count": 63,
     "metadata": {},
     "output_type": "execute_result"
    }
   ],
   "source": [
    "'All params'\n",
    "k_first_positions = 3\n",
    "recal_rate(n_stacks, params, hash_vectors_hamming, b, df_measures, k_first_positions, 'Dufrex')"
   ]
  },
  {
   "cell_type": "code",
   "execution_count": null,
   "id": "d85c52a9-2948-44cd-94d8-62c40b7b8b8c",
   "metadata": {},
   "outputs": [],
   "source": [
    "'Best param'\n",
    "k_first_positions = 3\n",
    "recal_rate_one_param(n_stacks, params[3], hash_vectors_hamming, b, df_measures, k_first_positions, 'Dufrex')"
   ]
  },
  {
   "cell_type": "markdown",
   "id": "de7a74bc-5737-406e-b30e-d09834d1d6c5",
   "metadata": {},
   "source": [
    "-----------------------------------------------------------------"
   ]
  },
  {
   "cell_type": "code",
   "execution_count": 64,
   "id": "f3c6cd88-f248-41f1-8eac-74f36dcbd2cc",
   "metadata": {},
   "outputs": [
    {
     "data": {
      "text/plain": [
       "0.7312000000000001"
      ]
     },
     "execution_count": 64,
     "metadata": {},
     "output_type": "execute_result"
    }
   ],
   "source": [
    "'All params'\n",
    "k_first_positions = 5\n",
    "recal_rate(n_stacks, params, hash_vectors_hamming, b, df_measures, k_first_positions, 'Dufrex')"
   ]
  },
  {
   "cell_type": "code",
   "execution_count": null,
   "id": "cd421b6d-9527-41f4-80c4-bd20572a75b9",
   "metadata": {},
   "outputs": [],
   "source": [
    "'Best param'\n",
    "k_first_positions = 5\n",
    "recal_rate_one_param(n_stacks, params[3], hash_vectors_hamming, b, df_measures, k_first_positions, 'Dufrex')"
   ]
  },
  {
   "cell_type": "markdown",
   "id": "78b9f9fc-d7c0-46a0-afc0-9d6295866fbf",
   "metadata": {},
   "source": [
    "### 4.4.2. Accuracy of finding the real nearest neighbors (Generalized MRR)"
   ]
  },
  {
   "cell_type": "markdown",
   "id": "81af2e1e-b878-4f18-95b7-4b4d35b5cb3f",
   "metadata": {},
   "source": [
    "$ \\frac{1}{|\\mathcal{R}_i|} \\sum_{s' \\in \\mathcal{R}_i} \\frac{\\text{rank}(s',\\mathcal{R}_i)}{\\text{rank}(s',NNs(s_i))} $"
   ]
  },
  {
   "cell_type": "code",
   "execution_count": 65,
   "id": "8d572df0-2963-4794-b603-a642a1c3422f",
   "metadata": {
    "tags": []
   },
   "outputs": [
    {
     "data": {
      "text/plain": [
       "0.6366249726447095"
      ]
     },
     "execution_count": 65,
     "metadata": {},
     "output_type": "execute_result"
    }
   ],
   "source": [
    "generalized_mrr(near_duplicates_sim, real_nns_sim)"
   ]
  },
  {
   "cell_type": "code",
   "execution_count": 66,
   "id": "20822989-304f-4ebf-b661-355b72deb819",
   "metadata": {
    "tags": []
   },
   "outputs": [
    {
     "data": {
      "text/plain": [
       "(1, 64)    0.747363\n",
       "(2, 32)    0.699179\n",
       "(4, 16)    0.667012\n",
       "(8, 8)     0.613017\n",
       "(16, 4)    0.619083\n",
       "(32, 2)    0.897891\n",
       "(64, 1)    0.996243\n",
       "dtype: float64"
      ]
     },
     "execution_count": 66,
     "metadata": {},
     "output_type": "execute_result"
    }
   ],
   "source": [
    "df_knns = mean_generalized_mrr(n_stacks, params, hash_vectors_hamming, b, df_measures ,'Dufrex', trace = False)\n",
    "df_knns.mean(skipna = True, axis = 0)"
   ]
  },
  {
   "cell_type": "code",
   "execution_count": 67,
   "id": "8cdd4039-1cc9-40d8-b096-84771b011940",
   "metadata": {},
   "outputs": [
    {
     "data": {
      "text/plain": [
       "0.6670115895207016"
      ]
     },
     "execution_count": 67,
     "metadata": {},
     "output_type": "execute_result"
    }
   ],
   "source": [
    "df_knns.mean()['(4, 16)']"
   ]
  }
 ],
 "metadata": {
  "kernelspec": {
   "display_name": "split-sd4x",
   "language": "python",
   "name": "split-sd4x"
  },
  "language_info": {
   "codemirror_mode": {
    "name": "ipython",
    "version": 3
   },
   "file_extension": ".py",
   "mimetype": "text/x-python",
   "name": "python",
   "nbconvert_exporter": "python",
   "pygments_lexer": "ipython3",
   "version": "3.7.10"
  }
 },
 "nbformat": 4,
 "nbformat_minor": 5
}
