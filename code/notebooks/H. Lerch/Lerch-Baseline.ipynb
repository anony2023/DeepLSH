{
 "cells": [
  {
   "cell_type": "code",
   "execution_count": 1,
   "id": "bb7e69c2-b065-46fa-b6eb-7ea56ae43f35",
   "metadata": {},
   "outputs": [],
   "source": [
    "import os\n",
    "import sys\n",
    "import numpy as np\n",
    "import pandas as pd\n",
    "import random\n",
    "import matplotlib.pyplot as plt\n",
    "import seaborn as sns\n",
    "import warnings\n",
    "import pickle\n",
    "warnings.filterwarnings(\"ignore\")\n",
    "from sklearn.feature_extraction.text import CountVectorizer\n",
    "from sklearn.model_selection import train_test_split"
   ]
  },
  {
   "cell_type": "code",
   "execution_count": 2,
   "id": "1014d33e-c803-41ce-be12-ab1c3f929253",
   "metadata": {},
   "outputs": [],
   "source": [
    "sys.path.append(os.path.join(os.path.dirname(os.path.dirname(os.getcwd())),'python-packages/'))\n",
    "from deep_hashing_models import *\n",
    "from similarities import *\n",
    "from lsh_search import *"
   ]
  },
  {
   "cell_type": "markdown",
   "id": "627c738c-cd1f-4e1b-ae93-1aa3d25882aa",
   "metadata": {},
   "source": [
    "# 1. Data Preparation"
   ]
  },
  {
   "cell_type": "code",
   "execution_count": 3,
   "id": "e96659a4-eea0-48d9-8977-fecba559b78d",
   "metadata": {},
   "outputs": [],
   "source": [
    "data_repo = os.path.join(os.path.dirname(os.path.dirname(os.path.dirname(os.getcwd()))),'data/')"
   ]
  },
  {
   "cell_type": "code",
   "execution_count": 4,
   "id": "d2874701-b390-405b-9001-822faf31ade5",
   "metadata": {},
   "outputs": [],
   "source": [
    "df_distinct_stacks = pd.read_csv(data_repo + 'frequent_stack_traces.csv', index_col = [0])\n",
    "df_measures = pd.read_csv(data_repo + 'similarity-measures-pairs.csv', index_col = [0])"
   ]
  },
  {
   "cell_type": "code",
   "execution_count": 5,
   "id": "7b4772e1-6603-4344-a277-70d9728c61ea",
   "metadata": {},
   "outputs": [
    {
     "data": {
      "text/plain": [
       "1000"
      ]
     },
     "execution_count": 5,
     "metadata": {},
     "output_type": "execute_result"
    }
   ],
   "source": [
    "n_stacks = df_distinct_stacks.shape[0]\n",
    "n_stacks"
   ]
  },
  {
   "cell_type": "code",
   "execution_count": 6,
   "id": "e515f018-4609-4487-8d87-d707ca6347da",
   "metadata": {},
   "outputs": [],
   "source": [
    "vectorizer_bag_of_frames = CountVectorizer(token_pattern = r\"(?u)\\b[a-zA-Z0-9_.]{2,}\\b\")\n",
    "s = df_distinct_stacks['stackTraceCusto'].apply(lambda x : x.replace('\\n',' '))\n",
    "s = s.apply(lambda x : x.replace('$',''))\n",
    "s = s.apply(lambda x : x.replace('/',''))\n",
    "s = s.apply(lambda x : x.replace('<',''))\n",
    "s = s.apply(lambda x : x.replace('>',''))\n",
    "X_bag_of_frames = vectorizer_bag_of_frames.fit_transform(list(s)).toarray()\n",
    "df_bag_of_frames = pd.DataFrame(data = X_bag_of_frames, columns = vectorizer_bag_of_frames.get_feature_names())"
   ]
  },
  {
   "cell_type": "code",
   "execution_count": 7,
   "id": "50aa90c2-205c-4f47-8230-4da0ea7d618f",
   "metadata": {},
   "outputs": [],
   "source": [
    "X_train, X_validation, Y_train, Y_validation = train_test_split(df_measures.index, df_measures['Lerch'], test_size = 0.2) "
   ]
  },
  {
   "cell_type": "code",
   "execution_count": 8,
   "id": "9b5ac005-aa8f-47fe-a5cf-ece206be1621",
   "metadata": {},
   "outputs": [],
   "source": [
    "indexes_train_1 = X_train.to_series().apply(lambda x : get_two_indexes(x, df_distinct_stacks.shape[0])[0]).to_list()\n",
    "indexes_train_2 = X_train.to_series().apply(lambda x : get_two_indexes(x, df_distinct_stacks.shape[0])[1]).to_list()\n",
    "indexes_validation_1 = X_validation.to_series().apply(lambda x : get_two_indexes(x, df_distinct_stacks.shape[0])[0]).to_list()\n",
    "indexes_validation_2 = X_validation.to_series().apply(lambda x : get_two_indexes(x, df_distinct_stacks.shape[0])[1]).to_list()"
   ]
  },
  {
   "cell_type": "code",
   "execution_count": 9,
   "id": "ed7fad07-aacc-453c-beba-7b0123b67c82",
   "metadata": {},
   "outputs": [],
   "source": [
    "X_train = dict()\n",
    "X_train['stack_1'] = df_bag_of_frames.loc[indexes_train_1].values\n",
    "X_train['stack_2'] = df_bag_of_frames.loc[indexes_train_2].values\n",
    "\n",
    "X_validation = dict()\n",
    "X_validation['stack_1'] = df_bag_of_frames.loc[indexes_validation_1].values\n",
    "X_validation['stack_2'] = df_bag_of_frames.loc[indexes_validation_2].values"
   ]
  },
  {
   "cell_type": "code",
   "execution_count": 10,
   "id": "7a79ade3-db36-4098-9c5a-109ec33a37eb",
   "metadata": {},
   "outputs": [],
   "source": [
    "Y_train = Y_train.values\n",
    "Y_validation = Y_validation.values"
   ]
  },
  {
   "cell_type": "code",
   "execution_count": 11,
   "id": "5f8cc839-bd54-4630-8f35-2a89bb19c00d",
   "metadata": {},
   "outputs": [],
   "source": [
    "assert X_train['stack_1'].shape == X_train['stack_2'].shape\n",
    "assert len(X_train['stack_1']) == len(Y_train)"
   ]
  },
  {
   "cell_type": "markdown",
   "id": "753999cd-6682-4263-b38e-1865140e6708",
   "metadata": {},
   "source": [
    "### Distribution of training data"
   ]
  },
  {
   "cell_type": "code",
   "execution_count": 12,
   "id": "3db6e7b6-ff7f-4089-be9b-af02e34646ed",
   "metadata": {},
   "outputs": [
    {
     "data": {
      "image/png": "[encoded data removed]",
      "text/plain": [
       "<Figure size 720x360 with 1 Axes>"
      ]
     },
     "metadata": {
      "needs_background": "light"
     },
     "output_type": "display_data"
    }
   ],
   "source": [
    "plt.rcParams[\"figure.figsize\"] = [10, 5]\n",
    "plt.hist(Y_train, 20, alpha = 1, density = False)\n",
    "plt.show()"
   ]
  },
  {
   "cell_type": "markdown",
   "id": "3a910820-e364-426d-9cbd-411794637bc8",
   "metadata": {},
   "source": [
    "### Distribution of test data"
   ]
  },
  {
   "cell_type": "code",
   "execution_count": 13,
   "id": "c242807e-a11b-43e2-82a0-aed22cbdefbc",
   "metadata": {},
   "outputs": [
    {
     "data": {
      "image/png": "[encoded data removed]",
      "text/plain": [
       "<Figure size 720x360 with 1 Axes>"
      ]
     },
     "metadata": {
      "needs_background": "light"
     },
     "output_type": "display_data"
    }
   ],
   "source": [
    "plt.rcParams[\"figure.figsize\"] = [10, 5]\n",
    "plt.hist(Y_validation, 20, alpha = 1, density = False)\n",
    "plt.show()"
   ]
  },
  {
   "cell_type": "markdown",
   "id": "19aa15e5-aee6-46ea-9c52-d1fa077b05dc",
   "metadata": {},
   "source": [
    "# 2. Model Design"
   ]
  },
  {
   "cell_type": "code",
   "execution_count": 14,
   "id": "02a2362d-059a-44b7-94f7-24e03680eef0",
   "metadata": {},
   "outputs": [],
   "source": [
    "'Number of hash tables functions' \n",
    "m = 64"
   ]
  },
  {
   "cell_type": "code",
   "execution_count": 15,
   "id": "6ea1ca10-c9ff-4735-ae80-e03691eb16ba",
   "metadata": {},
   "outputs": [],
   "source": [
    "'Number of bits per hash function' \n",
    "b = 16"
   ]
  },
  {
   "cell_type": "code",
   "execution_count": 16,
   "id": "06478197-071f-4395-804f-cbc171aadbd5",
   "metadata": {},
   "outputs": [
    {
     "data": {
      "text/plain": [
       "1024"
      ]
     },
     "execution_count": 16,
     "metadata": {},
     "output_type": "execute_result"
    }
   ],
   "source": [
    "'Size hash vector'\n",
    "size_hash_vector = m * b\n",
    "size_hash_vector"
   ]
  },
  {
   "cell_type": "markdown",
   "id": "0d60851f-b05f-4bc6-80f0-ce736180afe0",
   "metadata": {},
   "source": [
    "## 2.1. Feature learning phase"
   ]
  },
  {
   "cell_type": "code",
   "execution_count": 17,
   "id": "d9893ed6-5d0b-41b2-816b-b410e1c07910",
   "metadata": {},
   "outputs": [],
   "source": [
    "x = Sequential()\n",
    "x.add(Dense(2048, input_dim = X_train['stack_1'].shape[1], activation = 'sigmoid'))\n",
    "x.add(Dense(1024, activation = 'sigmoid'))\n",
    "x.add(Dense(size_hash_vector, activation = 'tanh'))\n",
    "shared_model = x"
   ]
  },
  {
   "cell_type": "markdown",
   "id": "279ba874-5ea0-4a94-83a1-f7f7c9ca8e0e",
   "metadata": {},
   "source": [
    "## 2.2. Siamese Model "
   ]
  },
  {
   "cell_type": "code",
   "execution_count": 18,
   "id": "d1d8a570-b1a8-489c-8312-e78dca471a63",
   "metadata": {
    "tags": []
   },
   "outputs": [
    {
     "name": "stdout",
     "output_type": "stream",
     "text": [
      "Model: \"model\"\n",
      "__________________________________________________________________________________________________\n",
      "Layer (type)                    Output Shape         Param #     Connected to                     \n",
      "==================================================================================================\n",
      "input_1 (InputLayer)            [(None, 2249)]       0                                            \n",
      "__________________________________________________________________________________________________\n",
      "input_2 (InputLayer)            [(None, 2249)]       0                                            \n",
      "__________________________________________________________________________________________________\n",
      "sequential (Sequential)         (None, 1024)         7755776     input_1[0][0]                    \n",
      "                                                                 input_2[0][0]                    \n",
      "                                                                 input_1[0][0]                    \n",
      "                                                                 input_2[0][0]                    \n",
      "__________________________________________________________________________________________________\n",
      "manh_dist (ManhDist)            (None, 1)            0           sequential[0][0]                 \n",
      "                                                                 sequential[1][0]                 \n",
      "__________________________________________________________________________________________________\n",
      "abs_vect (AbsVect)              (None, 1024)         0           sequential[2][0]                 \n",
      "__________________________________________________________________________________________________\n",
      "abs_vect_1 (AbsVect)            (None, 1024)         0           sequential[3][0]                 \n",
      "==================================================================================================\n",
      "Total params: 7,755,776\n",
      "Trainable params: 7,755,776\n",
      "Non-trainable params: 0\n",
      "__________________________________________________________________________________________________\n",
      "None\n",
      "Model: \"sequential\"\n",
      "_________________________________________________________________\n",
      "Layer (type)                 Output Shape              Param #   \n",
      "=================================================================\n",
      "dense (Dense)                (None, 2048)              4608000   \n",
      "_________________________________________________________________\n",
      "dense_1 (Dense)              (None, 1024)              2098176   \n",
      "_________________________________________________________________\n",
      "dense_2 (Dense)              (None, 1024)              1049600   \n",
      "=================================================================\n",
      "Total params: 7,755,776\n",
      "Trainable params: 7,755,776\n",
      "Non-trainable params: 0\n",
      "_________________________________________________________________\n",
      "None\n"
     ]
    }
   ],
   "source": [
    "input_shape = (X_train['stack_1'].shape[1],)\n",
    "model = siamese_model_baseline(shared_model, input_shape, is_sparse = True, print_summary = True)"
   ]
  },
  {
   "cell_type": "markdown",
   "id": "0bb438cf-7efb-4603-aab4-1364b187938f",
   "metadata": {},
   "source": [
    "## 2.3. Model training "
   ]
  },
  {
   "cell_type": "code",
   "execution_count": 19,
   "id": "3c6beca4-2caa-4c8c-8ca9-c3dfaedffbdc",
   "metadata": {},
   "outputs": [
    {
     "name": "stdout",
     "output_type": "stream",
     "text": [
      "Epoch 1/20\n",
      "781/781 [==============================] - 19s 22ms/step - loss: -0.4645 - manh_dist_loss: 0.0550 - abs_vect_loss: -0.9837 - abs_vect_1_loss: -0.9841 - manh_dist_rmse: 0.2345 - manh_dist_mae: 0.1469 - val_loss: -0.4803 - val_manh_dist_loss: 0.0287 - val_abs_vect_loss: -0.9894 - val_abs_vect_1_loss: -0.9892 - val_manh_dist_rmse: 0.1695 - val_manh_dist_mae: 0.1108\n",
      "Epoch 2/20\n",
      "781/781 [==============================] - 15s 19ms/step - loss: -0.4822 - manh_dist_loss: 0.0266 - abs_vect_loss: -0.9910 - abs_vect_1_loss: -0.9908 - manh_dist_rmse: 0.1631 - manh_dist_mae: 0.1069 - val_loss: -0.4829 - val_manh_dist_loss: 0.0245 - val_abs_vect_loss: -0.9907 - val_abs_vect_1_loss: -0.9900 - val_manh_dist_rmse: 0.1565 - val_manh_dist_mae: 0.1012\n",
      "Epoch 3/20\n",
      "781/781 [==============================] - 15s 19ms/step - loss: -0.4838 - manh_dist_loss: 0.0242 - abs_vect_loss: -0.9920 - abs_vect_1_loss: -0.9917 - manh_dist_rmse: 0.1555 - manh_dist_mae: 0.1024 - val_loss: -0.4843 - val_manh_dist_loss: 0.0226 - val_abs_vect_loss: -0.9915 - val_abs_vect_1_loss: -0.9909 - val_manh_dist_rmse: 0.1505 - val_manh_dist_mae: 0.0987\n",
      "Epoch 4/20\n",
      "781/781 [==============================] - 15s 19ms/step - loss: -0.4868 - manh_dist_loss: 0.0191 - abs_vect_loss: -0.9930 - abs_vect_1_loss: -0.9926 - manh_dist_rmse: 0.1383 - manh_dist_mae: 0.0916 - val_loss: -0.4879 - val_manh_dist_loss: 0.0179 - val_abs_vect_loss: -0.9939 - val_abs_vect_1_loss: -0.9934 - val_manh_dist_rmse: 0.1338 - val_manh_dist_mae: 0.0883\n",
      "Epoch 5/20\n",
      "781/781 [==============================] - 15s 20ms/step - loss: -0.4887 - manh_dist_loss: 0.0166 - abs_vect_loss: -0.9943 - abs_vect_1_loss: -0.9938 - manh_dist_rmse: 0.1288 - manh_dist_mae: 0.0862 - val_loss: -0.4886 - val_manh_dist_loss: 0.0169 - val_abs_vect_loss: -0.9945 - val_abs_vect_1_loss: -0.9939 - val_manh_dist_rmse: 0.1301 - val_manh_dist_mae: 0.0863\n",
      "Epoch 6/20\n",
      "781/781 [==============================] - 15s 20ms/step - loss: -0.4892 - manh_dist_loss: 0.0159 - abs_vect_loss: -0.9947 - abs_vect_1_loss: -0.9941 - manh_dist_rmse: 0.1260 - manh_dist_mae: 0.0850 - val_loss: -0.4890 - val_manh_dist_loss: 0.0164 - val_abs_vect_loss: -0.9948 - val_abs_vect_1_loss: -0.9941 - val_manh_dist_rmse: 0.1281 - val_manh_dist_mae: 0.0857\n",
      "Epoch 7/20\n",
      "781/781 [==============================] - 15s 19ms/step - loss: -0.4896 - manh_dist_loss: 0.0154 - abs_vect_loss: -0.9948 - abs_vect_1_loss: -0.9943 - manh_dist_rmse: 0.1241 - manh_dist_mae: 0.0841 - val_loss: -0.4893 - val_manh_dist_loss: 0.0162 - val_abs_vect_loss: -0.9951 - val_abs_vect_1_loss: -0.9946 - val_manh_dist_rmse: 0.1274 - val_manh_dist_mae: 0.0857\n",
      "Epoch 8/20\n",
      "781/781 [==============================] - 15s 20ms/step - loss: -0.4899 - manh_dist_loss: 0.0150 - abs_vect_loss: -0.9950 - abs_vect_1_loss: -0.9944 - manh_dist_rmse: 0.1223 - manh_dist_mae: 0.0833 - val_loss: -0.4895 - val_manh_dist_loss: 0.0165 - val_abs_vect_loss: -0.9958 - val_abs_vect_1_loss: -0.9954 - val_manh_dist_rmse: 0.1286 - val_manh_dist_mae: 0.0869\n",
      "Epoch 9/20\n",
      "781/781 [==============================] - 15s 20ms/step - loss: -0.4901 - manh_dist_loss: 0.0146 - abs_vect_loss: -0.9951 - abs_vect_1_loss: -0.9946 - manh_dist_rmse: 0.1209 - manh_dist_mae: 0.0827 - val_loss: -0.4898 - val_manh_dist_loss: 0.0168 - val_abs_vect_loss: -0.9965 - val_abs_vect_1_loss: -0.9961 - val_manh_dist_rmse: 0.1295 - val_manh_dist_mae: 0.0882\n",
      "Epoch 10/20\n",
      "781/781 [==============================] - 15s 20ms/step - loss: -0.4903 - manh_dist_loss: 0.0143 - abs_vect_loss: -0.9952 - abs_vect_1_loss: -0.9947 - manh_dist_rmse: 0.1197 - manh_dist_mae: 0.0821 - val_loss: -0.4900 - val_manh_dist_loss: 0.0143 - val_abs_vect_loss: -0.9947 - val_abs_vect_1_loss: -0.9941 - val_manh_dist_rmse: 0.1197 - val_manh_dist_mae: 0.0812\n",
      "Epoch 11/20\n",
      "781/781 [==============================] - 15s 20ms/step - loss: -0.4905 - manh_dist_loss: 0.0140 - abs_vect_loss: -0.9953 - abs_vect_1_loss: -0.9948 - manh_dist_rmse: 0.1185 - manh_dist_mae: 0.0816 - val_loss: -0.4902 - val_manh_dist_loss: 0.0141 - val_abs_vect_loss: -0.9948 - val_abs_vect_1_loss: -0.9941 - val_manh_dist_rmse: 0.1188 - val_manh_dist_mae: 0.0807\n",
      "Epoch 12/20\n",
      "781/781 [==============================] - 15s 20ms/step - loss: -0.4907 - manh_dist_loss: 0.0138 - abs_vect_loss: -0.9954 - abs_vect_1_loss: -0.9948 - manh_dist_rmse: 0.1174 - manh_dist_mae: 0.0811 - val_loss: -0.4903 - val_manh_dist_loss: 0.0151 - val_abs_vect_loss: -0.9961 - val_abs_vect_1_loss: -0.9955 - val_manh_dist_rmse: 0.1230 - val_manh_dist_mae: 0.0840\n",
      "Epoch 13/20\n",
      "781/781 [==============================] - 15s 20ms/step - loss: -0.4908 - manh_dist_loss: 0.0135 - abs_vect_loss: -0.9955 - abs_vect_1_loss: -0.9949 - manh_dist_rmse: 0.1162 - manh_dist_mae: 0.0805 - val_loss: -0.4905 - val_manh_dist_loss: 0.0142 - val_abs_vect_loss: -0.9954 - val_abs_vect_1_loss: -0.9948 - val_manh_dist_rmse: 0.1191 - val_manh_dist_mae: 0.0813\n",
      "Epoch 14/20\n",
      "781/781 [==============================] - 15s 20ms/step - loss: -0.4910 - manh_dist_loss: 0.0133 - abs_vect_loss: -0.9955 - abs_vect_1_loss: -0.9949 - manh_dist_rmse: 0.1153 - manh_dist_mae: 0.0800 - val_loss: -0.4906 - val_manh_dist_loss: 0.0130 - val_abs_vect_loss: -0.9945 - val_abs_vect_1_loss: -0.9938 - val_manh_dist_rmse: 0.1142 - val_manh_dist_mae: 0.0776\n",
      "Epoch 15/20\n",
      "781/781 [==============================] - 15s 20ms/step - loss: -0.4911 - manh_dist_loss: 0.0131 - abs_vect_loss: -0.9955 - abs_vect_1_loss: -0.9950 - manh_dist_rmse: 0.1145 - manh_dist_mae: 0.0796 - val_loss: -0.4907 - val_manh_dist_loss: 0.0134 - val_abs_vect_loss: -0.9951 - val_abs_vect_1_loss: -0.9945 - val_manh_dist_rmse: 0.1156 - val_manh_dist_mae: 0.0793\n",
      "Epoch 16/20\n",
      "781/781 [==============================] - 15s 20ms/step - loss: -0.4912 - manh_dist_loss: 0.0129 - abs_vect_loss: -0.9956 - abs_vect_1_loss: -0.9950 - manh_dist_rmse: 0.1137 - manh_dist_mae: 0.0792 - val_loss: -0.4908 - val_manh_dist_loss: 0.0131 - val_abs_vect_loss: -0.9950 - val_abs_vect_1_loss: -0.9944 - val_manh_dist_rmse: 0.1144 - val_manh_dist_mae: 0.0784\n",
      "Epoch 17/20\n",
      "781/781 [==============================] - 16s 20ms/step - loss: -0.4913 - manh_dist_loss: 0.0127 - abs_vect_loss: -0.9956 - abs_vect_1_loss: -0.9950 - manh_dist_rmse: 0.1128 - manh_dist_mae: 0.0788 - val_loss: -0.4909 - val_manh_dist_loss: 0.0140 - val_abs_vect_loss: -0.9961 - val_abs_vect_1_loss: -0.9956 - val_manh_dist_rmse: 0.1183 - val_manh_dist_mae: 0.0816\n",
      "Epoch 18/20\n",
      "781/781 [==============================] - 15s 19ms/step - loss: -0.4914 - manh_dist_loss: 0.0125 - abs_vect_loss: -0.9956 - abs_vect_1_loss: -0.9951 - manh_dist_rmse: 0.1118 - manh_dist_mae: 0.0783 - val_loss: -0.4910 - val_manh_dist_loss: 0.0137 - val_abs_vect_loss: -0.9959 - val_abs_vect_1_loss: -0.9955 - val_manh_dist_rmse: 0.1170 - val_manh_dist_mae: 0.0810\n",
      "Epoch 19/20\n",
      "781/781 [==============================] - 16s 20ms/step - loss: -0.4915 - manh_dist_loss: 0.0124 - abs_vect_loss: -0.9956 - abs_vect_1_loss: -0.9951 - manh_dist_rmse: 0.1112 - manh_dist_mae: 0.0780 - val_loss: -0.4911 - val_manh_dist_loss: 0.0131 - val_abs_vect_loss: -0.9957 - val_abs_vect_1_loss: -0.9951 - val_manh_dist_rmse: 0.1145 - val_manh_dist_mae: 0.0791\n",
      "Epoch 20/20\n",
      "781/781 [==============================] - 16s 20ms/step - loss: -0.4916 - manh_dist_loss: 0.0122 - abs_vect_loss: -0.9957 - abs_vect_1_loss: -0.9951 - manh_dist_rmse: 0.1105 - manh_dist_mae: 0.0777 - val_loss: -0.4912 - val_manh_dist_loss: 0.0134 - val_abs_vect_loss: -0.9960 - val_abs_vect_1_loss: -0.9955 - val_manh_dist_rmse: 0.1156 - val_manh_dist_mae: 0.0801\n"
     ]
    }
   ],
   "source": [
    "siamese_model = train_siamese_model_baseline(model, X_train, X_validation, Y_train, Y_validation, size_hash_vector, batch_size = 512, epochs = 20)"
   ]
  },
  {
   "cell_type": "markdown",
   "id": "8de2153c-d75d-41be-848b-d503f6c36239",
   "metadata": {},
   "source": [
    "# 3. Model Evaluation"
   ]
  },
  {
   "cell_type": "code",
   "execution_count": 20,
   "id": "a3c3519a-cf27-413e-b267-6504149deb2d",
   "metadata": {},
   "outputs": [
    {
     "data": {
      "text/plain": [
       "[<tensorflow.python.keras.engine.input_layer.InputLayer at 0x7f91184bc3d0>,\n",
       " <tensorflow.python.keras.engine.input_layer.InputLayer at 0x7f91183b4f90>,\n",
       " <tensorflow.python.keras.engine.sequential.Sequential at 0x7f91186eb690>,\n",
       " <deep_hashing_models.ManhDist at 0x7f911848ab50>,\n",
       " <deep_hashing_models.AbsVect at 0x7f9117eb6490>,\n",
       " <deep_hashing_models.AbsVect at 0x7f9117eea390>]"
      ]
     },
     "execution_count": 20,
     "metadata": {},
     "output_type": "execute_result"
    }
   ],
   "source": [
    "model.layers"
   ]
  },
  {
   "cell_type": "markdown",
   "id": "6e08e438-f7db-4ffd-a703-c050649eed80",
   "metadata": {},
   "source": [
    "## 3.1. Loss functions"
   ]
  },
  {
   "cell_type": "markdown",
   "id": "2ba523e6-4b29-4979-9739-3840a9d279e5",
   "metadata": {},
   "source": [
    "#### 3.1.1. MSE of $\\mathcal{L}_{Baseline}$"
   ]
  },
  {
   "cell_type": "code",
   "execution_count": 21,
   "id": "78fa1d12-53e0-4b18-bd6d-b49e0ac5a173",
   "metadata": {},
   "outputs": [
    {
     "data": {
      "text/plain": [
       "<matplotlib.legend.Legend at 0x7f8cdc160f50>"
      ]
     },
     "execution_count": 21,
     "metadata": {},
     "output_type": "execute_result"
    },
    {
     "data": {
      "image/png": "[encoded data removed]",
      "text/plain": [
       "<Figure size 576x360 with 1 Axes>"
      ]
     },
     "metadata": {
      "needs_background": "light"
     },
     "output_type": "display_data"
    }
   ],
   "source": [
    "plt.rcParams[\"figure.figsize\"] = (8,5)\n",
    "plt.plot(siamese_model.history['loss'], linewidth = 2)\n",
    "plt.plot(siamese_model.history['val_loss'], linewidth = 2)\n",
    "plt.title('Lerch (Baseline)', fontsize = 20)\n",
    "plt.ylabel('MSE (Model)', fontsize = 12)\n",
    "plt.xlabel('Epochs', fontsize = 12)\n",
    "plt.ticklabel_format(style='', scilimits=(0,0))\n",
    "plt.legend(['Train', 'Validation'], loc='upper right', fontsize=15)"
   ]
  },
  {
   "cell_type": "markdown",
   "id": "05afb4e6-9037-456a-9663-060eb611c0b8",
   "metadata": {},
   "source": [
    "#### 3.1.2. RMSE of Similarity preserving loss"
   ]
  },
  {
   "cell_type": "code",
   "execution_count": 22,
   "id": "9cd1cda5-36b1-41ab-8dc3-2ebfe56fd4d9",
   "metadata": {},
   "outputs": [
    {
     "data": {
      "text/plain": [
       "<matplotlib.legend.Legend at 0x7f8cd0102310>"
      ]
     },
     "execution_count": 22,
     "metadata": {},
     "output_type": "execute_result"
    },
    {
     "data": {
      "image/png": "[encoded data removed]",
      "text/plain": [
       "<Figure size 576x360 with 1 Axes>"
      ]
     },
     "metadata": {
      "needs_background": "light"
     },
     "output_type": "display_data"
    }
   ],
   "source": [
    "plt.rcParams[\"figure.figsize\"] = (8,5)\n",
    "plt.plot(siamese_model.history[model.layers[3].name + '_rmse'], linewidth = 2)\n",
    "plt.plot(siamese_model.history['val_' + model.layers[3].name + '_rmse'], linewidth = 2)\n",
    "plt.title('Lerch (Baseline)', fontsize = 20)\n",
    "plt.ylabel('RMSE (Similarity-preserving)', fontsize = 12)\n",
    "plt.xlabel('Epochs', fontsize = 12)\n",
    "plt.ticklabel_format(style='', scilimits=(0,0))\n",
    "plt.legend(['Train', 'Validation'], loc='upper right', fontsize=15)"
   ]
  },
  {
   "cell_type": "markdown",
   "id": "ac94472b-7465-4ab0-99dd-c042b4a32572",
   "metadata": {},
   "source": [
    "#### 3.1.3. MAE of LSH preserving loss"
   ]
  },
  {
   "cell_type": "code",
   "execution_count": 23,
   "id": "c4c8e448-e36f-4a8d-8d5f-a5da5c4d5019",
   "metadata": {},
   "outputs": [
    {
     "data": {
      "text/plain": [
       "<matplotlib.legend.Legend at 0x7f8cd00a3350>"
      ]
     },
     "execution_count": 23,
     "metadata": {},
     "output_type": "execute_result"
    },
    {
     "data": {
      "image/png": "[encoded data removed]",
      "text/plain": [
       "<Figure size 576x360 with 1 Axes>"
      ]
     },
     "metadata": {
      "needs_background": "light"
     },
     "output_type": "display_data"
    }
   ],
   "source": [
    "plt.rcParams[\"figure.figsize\"] = (8,5)\n",
    "plt.plot(siamese_model.history[model.layers[3].name + '_mae'], linewidth = 2)\n",
    "plt.plot(siamese_model.history['val_' + model.layers[3].name + '_mae'], linewidth = 2)\n",
    "plt.title('Lerch (Baseline)', fontsize = 20)\n",
    "plt.ylabel('MAE (Similarity-preserving)', fontsize = 12)\n",
    "plt.xlabel('Epochs', fontsize = 12)\n",
    "plt.ticklabel_format(style='', scilimits=(0,0))\n",
    "plt.legend(['Train', 'Validation'], loc='upper right', fontsize=15)"
   ]
  },
  {
   "cell_type": "markdown",
   "id": "f8f7f1d0-62b0-4612-ab39-9c38fad06a4c",
   "metadata": {},
   "source": [
    "## 3.2. Model Predictions"
   ]
  },
  {
   "cell_type": "code",
   "execution_count": 24,
   "id": "1f089e9c-7bbd-40fb-90f3-3e4c7a2798d2",
   "metadata": {},
   "outputs": [],
   "source": [
    "predictions = predict(model, X_validation)"
   ]
  },
  {
   "cell_type": "markdown",
   "id": "19834dba-ff8b-45fa-aead-ac2e6d099273",
   "metadata": {},
   "source": [
    "### 3.2.1. Examples"
   ]
  },
  {
   "cell_type": "code",
   "execution_count": 25,
   "id": "eade347d-6ee3-4fa3-ba1a-c5298f94c96e",
   "metadata": {},
   "outputs": [
    {
     "data": {
      "text/plain": [
       "array([0.043, 0.036, 0.03 , 0.371, 0.197, 0.055, 0.015, 0.034, 0.04 ,\n",
       "       0.093, 0.127, 0.018, 0.981, 0.116, 0.032, 0.643, 0.16 , 0.094,\n",
       "       0.044, 0.018, 0.037, 0.109, 0.034, 0.014, 0.08 , 0.08 , 0.058,\n",
       "       0.12 , 0.037, 0.176, 0.016, 0.137, 0.017, 0.241, 0.049, 0.043,\n",
       "       0.011, 0.07 , 0.043, 0.105, 0.078, 0.012, 0.069, 0.279, 0.112,\n",
       "       0.106, 0.497, 0.048, 0.073, 0.049], dtype=float32)"
      ]
     },
     "execution_count": 25,
     "metadata": {},
     "output_type": "execute_result"
    }
   ],
   "source": [
    "np.around(predictions[0][:50],3) "
   ]
  },
  {
   "cell_type": "code",
   "execution_count": 26,
   "id": "8f18d2a7-c115-4a7c-9492-facb302c578b",
   "metadata": {},
   "outputs": [
    {
     "data": {
      "text/plain": [
       "array([0.   , 0.   , 0.   , 0.019, 0.154, 0.   , 0.   , 0.105, 0.   ,\n",
       "       0.   , 0.183, 0.   , 0.323, 0.065, 0.089, 0.616, 0.044, 0.   ,\n",
       "       0.   , 0.   , 0.   , 0.   , 0.   , 0.03 , 0.048, 0.   , 0.   ,\n",
       "       0.026, 0.   , 0.187, 0.016, 0.251, 0.   , 0.187, 0.   , 0.071,\n",
       "       0.   , 0.   , 0.071, 0.061, 0.014, 0.   , 0.018, 0.246, 0.   ,\n",
       "       0.   , 0.   , 0.   , 0.017, 0.   ])"
      ]
     },
     "execution_count": 26,
     "metadata": {},
     "output_type": "execute_result"
    }
   ],
   "source": [
    "np.around(Y_validation[:50],3) "
   ]
  },
  {
   "cell_type": "markdown",
   "id": "98409488-ca93-4cd3-b71c-547fa4baa6ef",
   "metadata": {},
   "source": [
    "### 3.2.2. Spearman $\\rho$ and Kendall $\\tau$ correlation"
   ]
  },
  {
   "cell_type": "code",
   "execution_count": 27,
   "id": "01573553-5d50-49eb-aa52-c480c0de67f0",
   "metadata": {},
   "outputs": [
    {
     "data": {
      "image/png": "[encoded data removed]",
      "text/plain": [
       "<Figure size 288x288 with 1 Axes>"
      ]
     },
     "metadata": {
      "needs_background": "light"
     },
     "output_type": "display_data"
    }
   ],
   "source": [
    "plt.rcParams[\"figure.figsize\"] = (4,4)\n",
    "plt.scatter(Y_validation, predictions[0], alpha = 0.5, marker = 'x', c = '#227093')\n",
    "plt.title('Lerch (Baseline)', fontsize = 20)\n",
    "plt.xlabel(\"Lerch similarity values\", fontsize = 12)\n",
    "plt.ylabel(\"Collision probability\", fontsize = 12)\n",
    "plt.savefig('Results/Baseline/Lerch-correlation', bbox_inches='tight')\n",
    "plt.show()"
   ]
  },
  {
   "cell_type": "code",
   "execution_count": 28,
   "id": "f80a43e7-b4b5-4956-9b3d-6a1457a6ee92",
   "metadata": {},
   "outputs": [
    {
     "data": {
      "text/plain": [
       "0.6119221649532997"
      ]
     },
     "execution_count": 28,
     "metadata": {},
     "output_type": "execute_result"
    }
   ],
   "source": [
    "rho, p_value = spearman_rho(predictions, Y_validation)\n",
    "rho"
   ]
  },
  {
   "cell_type": "code",
   "execution_count": 29,
   "id": "7f6dc861-28aa-4f3d-b0fb-7f5caf453280",
   "metadata": {},
   "outputs": [
    {
     "data": {
      "text/plain": [
       "0.47042698779588016"
      ]
     },
     "execution_count": 29,
     "metadata": {},
     "output_type": "execute_result"
    }
   ],
   "source": [
    "tau, p_value = kendall_tau(predictions, Y_validation)\n",
    "tau"
   ]
  },
  {
   "cell_type": "markdown",
   "id": "895fc952-6e22-451a-abd2-86de43e87328",
   "metadata": {},
   "source": [
    "## 3.3. Approximate Hamming Evaluation"
   ]
  },
  {
   "cell_type": "code",
   "execution_count": 30,
   "id": "6b9edd91-5e15-4aa8-8a05-4985b8623897",
   "metadata": {},
   "outputs": [
    {
     "data": {
      "text/plain": [
       "<tensorflow.python.keras.engine.sequential.Sequential at 0x7f91186eb690>"
      ]
     },
     "execution_count": 30,
     "metadata": {},
     "output_type": "execute_result"
    }
   ],
   "source": [
    "output_layer = 2\n",
    "model.layers[output_layer]"
   ]
  },
  {
   "cell_type": "code",
   "execution_count": 31,
   "id": "acaf1823-ca3b-4d6c-9a71-a6c9acf5e1f5",
   "metadata": {},
   "outputs": [],
   "source": [
    "intermediate_model = intermediate_model_trained(shared_model, output_layer)"
   ]
  },
  {
   "cell_type": "code",
   "execution_count": 32,
   "id": "346ee1c3-5c1c-43b0-877f-7bb065ce5ac4",
   "metadata": {},
   "outputs": [
    {
     "name": "stdout",
     "output_type": "stream",
     "text": [
      "WARNING:tensorflow:Compiled the loaded model, but the compiled metrics have yet to be built. `model.compile_metrics` will be empty until you train or evaluate the model.\n",
      "INFO:tensorflow:Assets written to: Models/model-deep-hash.model/assets\n"
     ]
    }
   ],
   "source": [
    "intermediate_model.save('Models/model-baseline.model')"
   ]
  },
  {
   "cell_type": "code",
   "execution_count": 33,
   "id": "bc07ec86-2949-42b7-8fbc-6c331cc967a8",
   "metadata": {},
   "outputs": [
    {
     "name": "stdout",
     "output_type": "stream",
     "text": [
      "WARNING:tensorflow:No training configuration found in save file, so the model was *not* compiled. Compile it manually.\n"
     ]
    }
   ],
   "source": [
    "from tensorflow import keras \n",
    "intermediate_model = keras.models.load_model('Models/model-baseline.model')"
   ]
  },
  {
   "cell_type": "markdown",
   "id": "b4d1758f-ff99-49fc-b85c-4fe66560da40",
   "metadata": {},
   "source": [
    "### 3.3.1. Example of a hash vector provided by the model (in the last epoch)"
   ]
  },
  {
   "cell_type": "code",
   "execution_count": 34,
   "id": "ec686420-c52a-4925-852f-939cfe007904",
   "metadata": {
    "tags": []
   },
   "outputs": [
    {
     "data": {
      "text/plain": [
       "array([-1.        ,  0.9999132 ,  0.9999992 ,  0.9997695 ,  0.99999315,\n",
       "       -0.9973283 ,  1.        ,  0.999997  ,  0.99999917,  0.9999912 ,\n",
       "       -0.99918187,  0.9997642 , -1.        , -0.99938136,  1.        ,\n",
       "        0.9473864 , -0.9976876 ,  0.9998853 , -1.        ,  0.9999757 ,\n",
       "       -1.        ,  1.        ,  0.9999998 , -0.99999905, -0.9999989 ,\n",
       "       -0.9999997 , -0.9945421 , -1.        , -1.        ,  1.        ,\n",
       "       -1.        ,  0.99999785,  1.        ,  1.        ,  0.99981827,\n",
       "        0.99999964, -0.99999964, -1.        ,  0.99999964,  1.        ,\n",
       "       -0.9999601 , -0.9945576 , -0.99985826,  1.        , -1.        ,\n",
       "        0.9995965 ,  0.9995619 ,  0.99975634,  1.        , -0.9994922 ,\n",
       "        0.999994  , -0.99999905,  0.9998815 , -0.9993938 ,  0.9999986 ,\n",
       "       -0.9999164 , -0.99999905,  0.99972165, -0.9992787 ,  0.99920565,\n",
       "       -0.99977577,  0.9999842 ,  0.99978423, -1.        ], dtype=float32)"
      ]
     },
     "execution_count": 34,
     "metadata": {},
     "output_type": "execute_result"
    }
   ],
   "source": [
    "'First 64 bits'\n",
    "intermediate_model.predict(df_bag_of_frames.iloc[[10]])[0][:64]"
   ]
  },
  {
   "cell_type": "markdown",
   "id": "4ec939b1-4814-49cd-80ff-ee2bad747358",
   "metadata": {},
   "source": [
    "### 3.3.2. Average value of the absolute hash values"
   ]
  },
  {
   "cell_type": "code",
   "execution_count": 35,
   "id": "f54a9180-f4a4-4e0c-94ed-e36df291b072",
   "metadata": {},
   "outputs": [],
   "source": [
    "hash_vectors = intermediate_model.predict(df_bag_of_frames)"
   ]
  },
  {
   "cell_type": "code",
   "execution_count": 36,
   "id": "0fd308c0-f913-4d55-b45b-01f976a62e0b",
   "metadata": {},
   "outputs": [
    {
     "data": {
      "text/plain": [
       "0.9373617"
      ]
     },
     "execution_count": 36,
     "metadata": {},
     "output_type": "execute_result"
    }
   ],
   "source": [
    "np.mean(np.abs(hash_vectors))"
   ]
  },
  {
   "cell_type": "markdown",
   "id": "2ca2d6a3-75da-472a-99bb-b25ece9df8a7",
   "metadata": {},
   "source": [
    "### 3.3.3. Ratio of binary values from hash vectors provided by the model"
   ]
  },
  {
   "cell_type": "code",
   "execution_count": 37,
   "id": "5bb9bdd7-c931-4db2-8a89-b20c7fb92d9e",
   "metadata": {},
   "outputs": [
    {
     "data": {
      "text/plain": [
       "0.2052021484375"
      ]
     },
     "execution_count": 37,
     "metadata": {},
     "output_type": "execute_result"
    }
   ],
   "source": [
    "hash_vectors[(hash_vectors == 1) | (hash_vectors == -1)].size / hash_vectors.size"
   ]
  },
  {
   "cell_type": "markdown",
   "id": "5a606dc1-dd06-4376-9f33-1254286c701d",
   "metadata": {},
   "source": [
    "### 3.3.4. Comparison between approximate hamming and real hamming"
   ]
  },
  {
   "cell_type": "code",
   "execution_count": 38,
   "id": "03dd89e8-82d7-47c2-8c33-a0652d3ec536",
   "metadata": {},
   "outputs": [],
   "source": [
    "df_hamming = compare_hamming(X_validation, intermediate_model, b, size_hash_vector)"
   ]
  },
  {
   "cell_type": "code",
   "execution_count": 39,
   "id": "3ba16852-6f34-4400-b198-c8f631e82d6d",
   "metadata": {},
   "outputs": [
    {
     "data": {
      "text/html": [
       "<div>\n",
       "<style scoped>\n",
       "    .dataframe tbody tr th:only-of-type {\n",
       "        vertical-align: middle;\n",
       "    }\n",
       "\n",
       "    .dataframe tbody tr th {\n",
       "        vertical-align: top;\n",
       "    }\n",
       "\n",
       "    .dataframe thead th {\n",
       "        text-align: right;\n",
       "    }\n",
       "</style>\n",
       "<table border=\"1\" class=\"dataframe\">\n",
       "  <thead>\n",
       "    <tr style=\"text-align: right;\">\n",
       "      <th></th>\n",
       "      <th>embedding_stack_1</th>\n",
       "      <th>embedding_stack_2</th>\n",
       "      <th>hamming</th>\n",
       "    </tr>\n",
       "  </thead>\n",
       "  <tbody>\n",
       "    <tr>\n",
       "      <th>0</th>\n",
       "      <td>[-1, 1, 1, 1, 1, -1, 1, 1, 1, 1, -1, 1, -1, -1...</td>\n",
       "      <td>[-1, 1, -1, 1, 1, -1, -1, 1, 1, 1, -1, 1, 1, -...</td>\n",
       "      <td>0.000000</td>\n",
       "    </tr>\n",
       "    <tr>\n",
       "      <th>1</th>\n",
       "      <td>[-1, 1, -1, 1, 1, -1, 1, 1, 1, 1, -1, 1, 1, -1...</td>\n",
       "      <td>[-1, 1, -1, 1, 1, -1, 1, 1, 1, 1, -1, 1, -1, -...</td>\n",
       "      <td>0.000000</td>\n",
       "    </tr>\n",
       "    <tr>\n",
       "      <th>2</th>\n",
       "      <td>[-1, 1, 1, 1, 1, -1, 1, 1, 1, 1, -1, 1, -1, -1...</td>\n",
       "      <td>[-1, 1, 1, 1, 1, -1, 1, 1, 1, 1, -1, 1, -1, -1...</td>\n",
       "      <td>0.015625</td>\n",
       "    </tr>\n",
       "    <tr>\n",
       "      <th>3</th>\n",
       "      <td>[-1, 1, -1, 1, 1, -1, 1, 1, 1, 1, -1, 1, 1, -1...</td>\n",
       "      <td>[-1, 1, -1, 1, 1, -1, -1, 1, 1, 1, -1, 1, 1, -...</td>\n",
       "      <td>0.406250</td>\n",
       "    </tr>\n",
       "    <tr>\n",
       "      <th>4</th>\n",
       "      <td>[-1, 1, -1, 1, 1, -1, -1, 1, 1, 1, -1, 1, 1, -...</td>\n",
       "      <td>[-1, 1, -1, 1, 1, -1, -1, 1, 1, 1, -1, 1, 1, -...</td>\n",
       "      <td>0.078125</td>\n",
       "    </tr>\n",
       "    <tr>\n",
       "      <th>...</th>\n",
       "      <td>...</td>\n",
       "      <td>...</td>\n",
       "      <td>...</td>\n",
       "    </tr>\n",
       "    <tr>\n",
       "      <th>99895</th>\n",
       "      <td>[-1, 1, 1, 1, 1, -1, 1, 1, 1, 1, -1, 1, -1, -1...</td>\n",
       "      <td>[-1, 1, 1, 1, 1, -1, 1, 1, 1, 1, -1, 1, -1, -1...</td>\n",
       "      <td>0.000000</td>\n",
       "    </tr>\n",
       "    <tr>\n",
       "      <th>99896</th>\n",
       "      <td>[-1, 1, 1, 1, 1, -1, 1, 1, 1, 1, -1, 1, -1, -1...</td>\n",
       "      <td>[-1, 1, -1, 1, 1, -1, 1, 1, 1, 1, -1, 1, 1, -1...</td>\n",
       "      <td>0.000000</td>\n",
       "    </tr>\n",
       "    <tr>\n",
       "      <th>99897</th>\n",
       "      <td>[-1, 1, -1, 1, 1, -1, 1, 1, 1, 1, -1, 1, -1, -...</td>\n",
       "      <td>[-1, 1, 1, 1, 1, -1, 1, 1, 1, 1, -1, 1, -1, -1...</td>\n",
       "      <td>0.000000</td>\n",
       "    </tr>\n",
       "    <tr>\n",
       "      <th>99898</th>\n",
       "      <td>[-1, 1, 1, 1, 1, -1, 1, 1, 1, 1, -1, 1, 1, -1,...</td>\n",
       "      <td>[-1, 1, -1, 1, 1, -1, 1, 1, 1, 1, -1, 1, 1, -1...</td>\n",
       "      <td>0.015625</td>\n",
       "    </tr>\n",
       "    <tr>\n",
       "      <th>99899</th>\n",
       "      <td>[-1, 1, -1, 1, 1, -1, -1, 1, 1, 1, -1, 1, 1, -...</td>\n",
       "      <td>[-1, 1, 1, 1, 1, -1, 1, 1, 1, 1, -1, 1, -1, -1...</td>\n",
       "      <td>0.031250</td>\n",
       "    </tr>\n",
       "  </tbody>\n",
       "</table>\n",
       "<p>99900 rows × 3 columns</p>\n",
       "</div>"
      ],
      "text/plain": [
       "                                       embedding_stack_1  \\\n",
       "0      [-1, 1, 1, 1, 1, -1, 1, 1, 1, 1, -1, 1, -1, -1...   \n",
       "1      [-1, 1, -1, 1, 1, -1, 1, 1, 1, 1, -1, 1, 1, -1...   \n",
       "2      [-1, 1, 1, 1, 1, -1, 1, 1, 1, 1, -1, 1, -1, -1...   \n",
       "3      [-1, 1, -1, 1, 1, -1, 1, 1, 1, 1, -1, 1, 1, -1...   \n",
       "4      [-1, 1, -1, 1, 1, -1, -1, 1, 1, 1, -1, 1, 1, -...   \n",
       "...                                                  ...   \n",
       "99895  [-1, 1, 1, 1, 1, -1, 1, 1, 1, 1, -1, 1, -1, -1...   \n",
       "99896  [-1, 1, 1, 1, 1, -1, 1, 1, 1, 1, -1, 1, -1, -1...   \n",
       "99897  [-1, 1, -1, 1, 1, -1, 1, 1, 1, 1, -1, 1, -1, -...   \n",
       "99898  [-1, 1, 1, 1, 1, -1, 1, 1, 1, 1, -1, 1, 1, -1,...   \n",
       "99899  [-1, 1, -1, 1, 1, -1, -1, 1, 1, 1, -1, 1, 1, -...   \n",
       "\n",
       "                                       embedding_stack_2   hamming  \n",
       "0      [-1, 1, -1, 1, 1, -1, -1, 1, 1, 1, -1, 1, 1, -...  0.000000  \n",
       "1      [-1, 1, -1, 1, 1, -1, 1, 1, 1, 1, -1, 1, -1, -...  0.000000  \n",
       "2      [-1, 1, 1, 1, 1, -1, 1, 1, 1, 1, -1, 1, -1, -1...  0.015625  \n",
       "3      [-1, 1, -1, 1, 1, -1, -1, 1, 1, 1, -1, 1, 1, -...  0.406250  \n",
       "4      [-1, 1, -1, 1, 1, -1, -1, 1, 1, 1, -1, 1, 1, -...  0.078125  \n",
       "...                                                  ...       ...  \n",
       "99895  [-1, 1, 1, 1, 1, -1, 1, 1, 1, 1, -1, 1, -1, -1...  0.000000  \n",
       "99896  [-1, 1, -1, 1, 1, -1, 1, 1, 1, 1, -1, 1, 1, -1...  0.000000  \n",
       "99897  [-1, 1, 1, 1, 1, -1, 1, 1, 1, 1, -1, 1, -1, -1...  0.000000  \n",
       "99898  [-1, 1, -1, 1, 1, -1, 1, 1, 1, 1, -1, 1, 1, -1...  0.015625  \n",
       "99899  [-1, 1, 1, 1, 1, -1, 1, 1, 1, 1, -1, 1, -1, -1...  0.031250  \n",
       "\n",
       "[99900 rows x 3 columns]"
      ]
     },
     "execution_count": 39,
     "metadata": {},
     "output_type": "execute_result"
    }
   ],
   "source": [
    "df_hamming"
   ]
  },
  {
   "cell_type": "code",
   "execution_count": 42,
   "id": "3fdc0913-64e8-4b05-a1fd-75f20c1a418a",
   "metadata": {},
   "outputs": [
    {
     "data": {
      "image/png": "[encoded data removed]",
      "text/plain": [
       "<Figure size 288x288 with 1 Axes>"
      ]
     },
     "metadata": {
      "needs_background": "light"
     },
     "output_type": "display_data"
    }
   ],
   "source": [
    "plt.rcParams[\"figure.figsize\"] = (4,4)\n",
    "plt.scatter(predictions[0], df_hamming['hamming'], alpha = 0.5, marker = 'x', c = '#b33939')\n",
    "plt.xlabel(\"Similarity between vectors\", fontsize = 12)\n",
    "plt.ylabel(\"Hamming Similarity\", fontsize = 12)\n",
    "plt.title('Lerch (Baseline)', fontsize = 18)\n",
    "plt.savefig('Results/Baseline/Lerch-hamming-comparison', bbox_inches='tight')\n",
    "plt.show()"
   ]
  },
  {
   "cell_type": "markdown",
   "id": "b030832c-7872-45da-8698-a0bbf16fe3cb",
   "metadata": {},
   "source": [
    "# 4. Locality Sensitive Hashing"
   ]
  },
  {
   "cell_type": "code",
   "execution_count": 40,
   "id": "2aacdd9c-73d0-4257-af38-1768e9f4aa05",
   "metadata": {},
   "outputs": [],
   "source": [
    "hash_vectors_hamming = convert_to_hamming(hash_vectors)"
   ]
  },
  {
   "cell_type": "code",
   "execution_count": 41,
   "id": "f3bb826f-5e0d-4d6e-8356-d1f3315d6ebd",
   "metadata": {},
   "outputs": [
    {
     "data": {
      "text/plain": [
       "[(1, 64), (2, 32), (4, 16), (8, 8), (16, 4), (32, 2), (64, 1)]"
      ]
     },
     "execution_count": 41,
     "metadata": {},
     "output_type": "execute_result"
    }
   ],
   "source": [
    "params = lsh_hyperparams(m)\n",
    "'(K,L)'\n",
    "params "
   ]
  },
  {
   "cell_type": "markdown",
   "id": "cabab99d-9820-4b91-a6ed-6f2b3b38b0b9",
   "metadata": {},
   "source": [
    "## 4.1. Choose the best combination (L, K)"
   ]
  },
  {
   "cell_type": "code",
   "execution_count": 42,
   "id": "1aeac3ba-cb08-4e8a-913b-1dbd0529c782",
   "metadata": {},
   "outputs": [
    {
     "data": {
      "text/plain": [
       "<matplotlib.legend.Legend at 0x7ff96cf2c750>"
      ]
     },
     "execution_count": 42,
     "metadata": {},
     "output_type": "execute_result"
    },
    {
     "data": {
      "image/png": "[encoded data removed]",
      "text/plain": [
       "<Figure size 648x360 with 1 Axes>"
      ]
     },
     "metadata": {
      "needs_background": "light"
     },
     "output_type": "display_data"
    }
   ],
   "source": [
    "plt.rcParams[\"figure.figsize\"] = [9, 5]\n",
    "x = np.linspace(0, 1, 100)\n",
    "for param in params:\n",
    "    y = 1 - (1 - (x)**param[1])**param[0]\n",
    "    plt.plot(x, y, label = 'L = %d, r = %d' %param)\n",
    "plt.xlabel(\"similarity values\", fontsize = 12)\n",
    "plt.ylabel(\"hash probability in at least 1 bucket\", fontsize = 12)\n",
    "plt.title('Probability-similarity relation', fontsize = 20)\n",
    "plt.legend()"
   ]
  },
  {
   "cell_type": "code",
   "execution_count": 43,
   "id": "b931100a-06bb-4748-80a8-e09f31905b2a",
   "metadata": {},
   "outputs": [],
   "source": [
    "df_probLSH = mean_prob_hashing_smallest_elt(n_stacks, params, hash_vectors_hamming, b, df_measures, 'Lerch', trace = False)"
   ]
  },
  {
   "cell_type": "code",
   "execution_count": 44,
   "id": "98685548-ab7a-4bb4-a39c-61f448d1c42b",
   "metadata": {},
   "outputs": [
    {
     "data": {
      "image/png": "[encoded data removed]",
      "text/plain": [
       "<Figure size 432x288 with 1 Axes>"
      ]
     },
     "metadata": {
      "needs_background": "light"
     },
     "output_type": "display_data"
    }
   ],
   "source": [
    "f, ax = plt.subplots(figsize=(6, 4))\n",
    "ax = sns.boxplot(data = df_probLSH, palette=\"Set3\")\n",
    "plt.title('Lerch(Relation Prob-Sim)', fontsize = 20)\n",
    "plt.savefig('Results/Baseline/Lerch-Relation-Prob-Sim', bbox_inches='tight')\n",
    "plt.show()"
   ]
  },
  {
   "cell_type": "code",
   "execution_count": 45,
   "id": "0e85f833-8a8c-4fe7-803d-52c4a8d78194",
   "metadata": {},
   "outputs": [
    {
     "data": {
      "text/plain": [
       "(2, 32)"
      ]
     },
     "execution_count": 45,
     "metadata": {},
     "output_type": "execute_result"
    }
   ],
   "source": [
    "'L = K = 8'\n",
    "L, K = params[1]\n",
    "L, K"
   ]
  },
  {
   "cell_type": "markdown",
   "id": "dc0d84af-ec41-43dc-b1cd-73e92cd96894",
   "metadata": {},
   "source": [
    "### 4.1.1 Mean and Median probability for all stack traces for the best combination of $K$ and $L$"
   ]
  },
  {
   "cell_type": "code",
   "execution_count": null,
   "id": "3a414e49-3f64-4aa0-b2aa-c7d12490eb15",
   "metadata": {},
   "outputs": [],
   "source": [
    "df_probLSH.mean()['(8, 8)']"
   ]
  },
  {
   "cell_type": "code",
   "execution_count": null,
   "id": "4381a53d-2b3b-438b-afb7-b91389db8a45",
   "metadata": {},
   "outputs": [],
   "source": [
    "df_probLSH.median()['(8, 8)']"
   ]
  },
  {
   "cell_type": "markdown",
   "id": "6ebdb37a-a88b-46f1-8a22-1c0f872f6cd6",
   "metadata": {},
   "source": [
    "## 4.2. Build hash tables with binary hash vectors w.r.t $K$ and $L$"
   ]
  },
  {
   "cell_type": "code",
   "execution_count": 46,
   "id": "fb84b5ab-519b-4dd1-bb5e-5ced695bf3a4",
   "metadata": {},
   "outputs": [],
   "source": [
    "hash_tables = create_hash_tables(L, K, b, hash_vectors_hamming)"
   ]
  },
  {
   "cell_type": "code",
   "execution_count": 47,
   "id": "89365da1-5823-4433-a0b1-1aacf8ba66ff",
   "metadata": {},
   "outputs": [],
   "source": [
    "with open('Hash-Tables/hash_tables_baseline.pkl', 'wb') as f:\n",
    "    pickle.dump(hash_tables, f)"
   ]
  },
  {
   "cell_type": "markdown",
   "id": "70f264b8-e59e-4995-b416-f8966cfc4d8f",
   "metadata": {},
   "source": [
    "## 4.3. Search for approximate nearest neighbors (this procedure need to be explained in the paper) "
   ]
  },
  {
   "cell_type": "code",
   "execution_count": 48,
   "id": "46bdb33d-c680-4242-919e-cd2dfd73e353",
   "metadata": {},
   "outputs": [
    {
     "data": {
      "text/plain": [
       "132"
      ]
     },
     "execution_count": 48,
     "metadata": {},
     "output_type": "execute_result"
    }
   ],
   "source": [
    "'pointer to the stack trace'\n",
    "index = random.randint(0,n_stacks)\n",
    "index"
   ]
  },
  {
   "cell_type": "code",
   "execution_count": 49,
   "id": "ce6258ad-9458-4e9b-867a-d3b4fc675966",
   "metadata": {
    "tags": []
   },
   "outputs": [
    {
     "data": {
      "text/plain": [
       "{132, 211, 431, 736}"
      ]
     },
     "execution_count": 49,
     "metadata": {},
     "output_type": "execute_result"
    }
   ],
   "source": [
    "set_near_duplicates = near_duplicates(L, K, b, index, hash_vectors_hamming, hash_tables)\n",
    "set_near_duplicates"
   ]
  },
  {
   "cell_type": "code",
   "execution_count": 50,
   "id": "d3c836e7-fc34-47cd-9889-f76db2bc71a2",
   "metadata": {},
   "outputs": [],
   "source": [
    "list_near_duplicate_pairs = near_duplicate_pairs(index, set_near_duplicates, n_stacks)\n",
    "n_duplicate_pairs = len(list_near_duplicate_pairs)"
   ]
  },
  {
   "cell_type": "code",
   "execution_count": 51,
   "id": "561cd65b-4aa5-4f8c-b4a2-423baa352721",
   "metadata": {
    "tags": []
   },
   "outputs": [
    {
     "data": {
      "text/plain": [
       "123825    1.000000\n",
       "123520    0.943583\n",
       "123300    0.778519\n",
       "Name: Lerch, dtype: float64"
      ]
     },
     "execution_count": 51,
     "metadata": {},
     "output_type": "execute_result"
    }
   ],
   "source": [
    "near_duplicates_sim = df_measures['Lerch'][list_near_duplicate_pairs].sort_values(ascending = False)\n",
    "near_duplicates_sim"
   ]
  },
  {
   "cell_type": "code",
   "execution_count": 52,
   "id": "6510bce7-6663-4db3-8455-0b846720c6f1",
   "metadata": {
    "tags": []
   },
   "outputs": [
    {
     "data": {
      "text/plain": [
       "{211, 431, 736}"
      ]
     },
     "execution_count": 52,
     "metadata": {},
     "output_type": "execute_result"
    }
   ],
   "source": [
    "set_real_nns, real_nns_sim = real_nns(index, df_measures, 'Lerch', n_stacks, n_duplicate_pairs)\n",
    "set_real_nns"
   ]
  },
  {
   "cell_type": "code",
   "execution_count": 53,
   "id": "0c2d9881-6df4-463f-9dd1-7d02a9fd1347",
   "metadata": {
    "tags": []
   },
   "outputs": [
    {
     "data": {
      "text/plain": [
       "123825    1.000000\n",
       "123520    0.943583\n",
       "123300    0.778519\n",
       "dtype: float64"
      ]
     },
     "execution_count": 53,
     "metadata": {},
     "output_type": "execute_result"
    }
   ],
   "source": [
    "real_nns_sim[:n_duplicate_pairs]"
   ]
  },
  {
   "cell_type": "markdown",
   "id": "47aa72d7-020e-4a46-9f1c-f95ea57c3a2b",
   "metadata": {},
   "source": [
    "## 4.4. Metrics"
   ]
  },
  {
   "cell_type": "markdown",
   "id": "108a4d18-597e-4a51-9f51-940a80fd0be8",
   "metadata": {},
   "source": [
    "### 4.4.1. Ratio of finding the $k$ real nearest neighbor with the Least $L$ (Recal rate at $k$ first positions)"
   ]
  },
  {
   "cell_type": "code",
   "execution_count": 54,
   "id": "55ad1f38-83e2-4e55-8483-c7971ede8ec2",
   "metadata": {},
   "outputs": [
    {
     "data": {
      "text/plain": [
       "0.73"
      ]
     },
     "execution_count": 54,
     "metadata": {},
     "output_type": "execute_result"
    }
   ],
   "source": [
    "'All params'\n",
    "k_first_positions = 1\n",
    "recal_rate(n_stacks, params, hash_vectors_hamming, b, df_measures, k_first_positions, 'Lerch')"
   ]
  },
  {
   "cell_type": "code",
   "execution_count": null,
   "id": "7424b84d-1066-4e2c-a6ec-4c67d448440c",
   "metadata": {},
   "outputs": [],
   "source": [
    "'Best param'\n",
    "k_first_positions = 1\n",
    "recal_rate_one_param(n_stacks, params[3], hash_vectors_hamming, b, df_measures, k_first_positions, 'Lerch')"
   ]
  },
  {
   "cell_type": "markdown",
   "id": "b20f2315-986c-4bc2-89dc-9dd1757a8c78",
   "metadata": {},
   "source": [
    "-----------------------------------------------------------------"
   ]
  },
  {
   "cell_type": "code",
   "execution_count": 55,
   "id": "aa6e30e1-37f9-45cc-8356-2df3ce14f4c1",
   "metadata": {},
   "outputs": [
    {
     "data": {
      "text/plain": [
       "0.6776666666666693"
      ]
     },
     "execution_count": 55,
     "metadata": {},
     "output_type": "execute_result"
    }
   ],
   "source": [
    "'All params'\n",
    "k_first_positions = 3\n",
    "recal_rate(n_stacks, params, hash_vectors_hamming, b, df_measures, k_first_positions, 'Lerch')"
   ]
  },
  {
   "cell_type": "code",
   "execution_count": null,
   "id": "d85c52a9-2948-44cd-94d8-62c40b7b8b8c",
   "metadata": {},
   "outputs": [],
   "source": [
    "'Best param'\n",
    "k_first_positions = 3\n",
    "recal_rate_one_param(n_stacks, params[3], hash_vectors_hamming, b, df_measures, k_first_positions, 'Lerch')"
   ]
  },
  {
   "cell_type": "markdown",
   "id": "de7a74bc-5737-406e-b30e-d09834d1d6c5",
   "metadata": {},
   "source": [
    "-----------------------------------------------------------------"
   ]
  },
  {
   "cell_type": "code",
   "execution_count": 56,
   "id": "f3c6cd88-f248-41f1-8eac-74f36dcbd2cc",
   "metadata": {},
   "outputs": [
    {
     "data": {
      "text/plain": [
       "0.6624000000000034"
      ]
     },
     "execution_count": 56,
     "metadata": {},
     "output_type": "execute_result"
    }
   ],
   "source": [
    "'All params'\n",
    "k_first_positions = 5\n",
    "recal_rate(n_stacks, params, hash_vectors_hamming, b, df_measures, k_first_positions, 'Lerch')"
   ]
  },
  {
   "cell_type": "code",
   "execution_count": null,
   "id": "cd421b6d-9527-41f4-80c4-bd20572a75b9",
   "metadata": {},
   "outputs": [],
   "source": [
    "'Best param'\n",
    "k_first_positions = 5\n",
    "recal_rate_one_param(n_stacks, params[3], hash_vectors_hamming, b, df_measures, k_first_positions, 'Lerch')"
   ]
  },
  {
   "cell_type": "markdown",
   "id": "78b9f9fc-d7c0-46a0-afc0-9d6295866fbf",
   "metadata": {},
   "source": [
    "### 4.4.2. Accuracy of finding the real nearest neighbors (Generalized MRR)"
   ]
  },
  {
   "cell_type": "markdown",
   "id": "81af2e1e-b878-4f18-95b7-4b4d35b5cb3f",
   "metadata": {},
   "source": [
    "$ \\frac{1}{|\\mathcal{R}_i|} \\sum_{s' \\in \\mathcal{R}_i} \\frac{\\text{rank}(s',\\mathcal{R}_i)}{\\text{rank}(s',NNs(s_i))} $"
   ]
  },
  {
   "cell_type": "code",
   "execution_count": 57,
   "id": "8d572df0-2963-4794-b603-a642a1c3422f",
   "metadata": {
    "tags": []
   },
   "outputs": [
    {
     "data": {
      "text/plain": [
       "1.0"
      ]
     },
     "execution_count": 57,
     "metadata": {},
     "output_type": "execute_result"
    }
   ],
   "source": [
    "generalized_mrr(near_duplicates_sim, real_nns_sim)"
   ]
  },
  {
   "cell_type": "code",
   "execution_count": 59,
   "id": "20822989-304f-4ebf-b661-355b72deb819",
   "metadata": {
    "tags": []
   },
   "outputs": [
    {
     "name": "stdout",
     "output_type": "stream",
     "text": [
      "(1, 64)\n",
      "0\n",
      "100\n",
      "200\n",
      "300\n",
      "400\n",
      "500\n",
      "600\n",
      "700\n",
      "800\n",
      "900\n",
      "-----------------------------\n",
      "(2, 32)\n",
      "0\n",
      "100\n",
      "200\n",
      "300\n",
      "400\n",
      "500\n",
      "600\n",
      "700\n",
      "800\n",
      "900\n",
      "-----------------------------\n"
     ]
    },
    {
     "data": {
      "text/plain": [
       "(1, 64)    0.820690\n",
       "(2, 32)    0.797587\n",
       "dtype: float64"
      ]
     },
     "execution_count": 59,
     "metadata": {},
     "output_type": "execute_result"
    }
   ],
   "source": [
    "df_knns = mean_generalized_mrr(n_stacks, params[:2], hash_vectors_hamming, b, df_measures ,'Lerch', trace = True)\n",
    "df_knns.mean(skipna = True, axis = 0)"
   ]
  }
 ],
 "metadata": {
  "kernelspec": {
   "display_name": "split-sd4x",
   "language": "python",
   "name": "split-sd4x"
  },
  "language_info": {
   "codemirror_mode": {
    "name": "ipython",
    "version": 3
   },
   "file_extension": ".py",
   "mimetype": "text/x-python",
   "name": "python",
   "nbconvert_exporter": "python",
   "pygments_lexer": "ipython3",
   "version": "3.7.10"
  }
 },
 "nbformat": 4,
 "nbformat_minor": 5
}
