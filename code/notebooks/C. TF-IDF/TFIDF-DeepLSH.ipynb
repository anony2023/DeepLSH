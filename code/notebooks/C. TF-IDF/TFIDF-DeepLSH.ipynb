{
 "cells": [
  {
   "cell_type": "code",
   "execution_count": 1,
   "id": "bb7e69c2-b065-46fa-b6eb-7ea56ae43f35",
   "metadata": {},
   "outputs": [],
   "source": [
    "import os\n",
    "import sys\n",
    "import numpy as np\n",
    "import pandas as pd\n",
    "import random\n",
    "import matplotlib.pyplot as plt\n",
    "import seaborn as sns\n",
    "import warnings\n",
    "import pickle\n",
    "from tensorflow import keras \n",
    "warnings.filterwarnings(\"ignore\")\n",
    "from sklearn.feature_extraction.text import CountVectorizer\n",
    "from sklearn.model_selection import train_test_split"
   ]
  },
  {
   "cell_type": "code",
   "execution_count": 2,
   "id": "1014d33e-c803-41ce-be12-ab1c3f929253",
   "metadata": {},
   "outputs": [],
   "source": [
    "sys.path.append(os.path.join(os.path.dirname(os.path.dirname(os.getcwd())),'python-packages/'))\n",
    "from deep_hashing_models import *\n",
    "from similarities import *\n",
    "from lsh_search import *"
   ]
  },
  {
   "cell_type": "markdown",
   "id": "627c738c-cd1f-4e1b-ae93-1aa3d25882aa",
   "metadata": {},
   "source": [
    "# 1. Data Preparation"
   ]
  },
  {
   "cell_type": "code",
   "execution_count": 3,
   "id": "e96659a4-eea0-48d9-8977-fecba559b78d",
   "metadata": {},
   "outputs": [],
   "source": [
    "data_repo = os.path.join(os.path.dirname(os.path.dirname(os.path.dirname(os.getcwd()))),'data/')"
   ]
  },
  {
   "cell_type": "code",
   "execution_count": 4,
   "id": "d2874701-b390-405b-9001-822faf31ade5",
   "metadata": {},
   "outputs": [],
   "source": [
    "df_distinct_stacks = pd.read_csv(data_repo + 'frequent_stack_traces.csv', index_col = [0])\n",
    "df_measures = pd.read_csv(data_repo + 'similarity-measures-pairs.csv', index_col = [0])"
   ]
  },
  {
   "cell_type": "code",
   "execution_count": 5,
   "id": "7b4772e1-6603-4344-a277-70d9728c61ea",
   "metadata": {},
   "outputs": [
    {
     "data": {
      "text/plain": [
       "1000"
      ]
     },
     "execution_count": 5,
     "metadata": {},
     "output_type": "execute_result"
    }
   ],
   "source": [
    "n_stacks = df_distinct_stacks.shape[0]\n",
    "n_stacks"
   ]
  },
  {
   "cell_type": "code",
   "execution_count": 6,
   "id": "e515f018-4609-4487-8d87-d707ca6347da",
   "metadata": {},
   "outputs": [],
   "source": [
    "vectorizer_bag_of_frames = CountVectorizer(token_pattern = r\"(?u)\\b[a-zA-Z0-9_.]{2,}\\b\")\n",
    "s = df_distinct_stacks['stackTraceCusto'].apply(lambda x : x.replace('\\n',' '))\n",
    "s = s.apply(lambda x : x.replace('$',''))\n",
    "s = s.apply(lambda x : x.replace('/',''))\n",
    "s = s.apply(lambda x : x.replace('<',''))\n",
    "s = s.apply(lambda x : x.replace('>',''))\n",
    "X_bag_of_frames = vectorizer_bag_of_frames.fit_transform(list(s)).toarray()\n",
    "df_bag_of_frames = pd.DataFrame(data = X_bag_of_frames, columns = vectorizer_bag_of_frames.get_feature_names())"
   ]
  },
  {
   "cell_type": "code",
   "execution_count": 7,
   "id": "50aa90c2-205c-4f47-8230-4da0ea7d618f",
   "metadata": {},
   "outputs": [],
   "source": [
    "X_train, X_validation, Y_train, Y_validation = train_test_split(df_measures.index, df_measures['TfIdf'], test_size = 0.2) "
   ]
  },
  {
   "cell_type": "code",
   "execution_count": 8,
   "id": "9b5ac005-aa8f-47fe-a5cf-ece206be1621",
   "metadata": {},
   "outputs": [],
   "source": [
    "indexes_train_1 = X_train.to_series().apply(lambda x : get_two_indexes(x, df_distinct_stacks.shape[0])[0]).to_list()\n",
    "indexes_train_2 = X_train.to_series().apply(lambda x : get_two_indexes(x, df_distinct_stacks.shape[0])[1]).to_list()\n",
    "indexes_validation_1 = X_validation.to_series().apply(lambda x : get_two_indexes(x, df_distinct_stacks.shape[0])[0]).to_list()\n",
    "indexes_validation_2 = X_validation.to_series().apply(lambda x : get_two_indexes(x, df_distinct_stacks.shape[0])[1]).to_list()"
   ]
  },
  {
   "cell_type": "code",
   "execution_count": 9,
   "id": "ed7fad07-aacc-453c-beba-7b0123b67c82",
   "metadata": {},
   "outputs": [],
   "source": [
    "X_train = dict()\n",
    "X_train['stack_1'] = df_bag_of_frames.loc[indexes_train_1].values\n",
    "X_train['stack_2'] = df_bag_of_frames.loc[indexes_train_2].values\n",
    "\n",
    "X_validation = dict()\n",
    "X_validation['stack_1'] = df_bag_of_frames.loc[indexes_validation_1].values\n",
    "X_validation['stack_2'] = df_bag_of_frames.loc[indexes_validation_2].values"
   ]
  },
  {
   "cell_type": "code",
   "execution_count": 10,
   "id": "7a79ade3-db36-4098-9c5a-109ec33a37eb",
   "metadata": {},
   "outputs": [],
   "source": [
    "Y_train = Y_train.values\n",
    "Y_validation = Y_validation.values"
   ]
  },
  {
   "cell_type": "code",
   "execution_count": 11,
   "id": "5f8cc839-bd54-4630-8f35-2a89bb19c00d",
   "metadata": {},
   "outputs": [],
   "source": [
    "assert X_train['stack_1'].shape == X_train['stack_2'].shape\n",
    "assert len(X_train['stack_1']) == len(Y_train)"
   ]
  },
  {
   "cell_type": "markdown",
   "id": "753999cd-6682-4263-b38e-1865140e6708",
   "metadata": {},
   "source": [
    "### Distribution of training data"
   ]
  },
  {
   "cell_type": "code",
   "execution_count": 12,
   "id": "3db6e7b6-ff7f-4089-be9b-af02e34646ed",
   "metadata": {},
   "outputs": [
    {
     "data": {
      "image/png": "[encoded data removed]",
      "text/plain": [
       "<Figure size 720x360 with 1 Axes>"
      ]
     },
     "metadata": {
      "needs_background": "light"
     },
     "output_type": "display_data"
    }
   ],
   "source": [
    "plt.rcParams[\"figure.figsize\"] = [10, 5]\n",
    "plt.hist(Y_train, 20, alpha = 1, density = False)\n",
    "plt.show()"
   ]
  },
  {
   "cell_type": "markdown",
   "id": "3a910820-e364-426d-9cbd-411794637bc8",
   "metadata": {},
   "source": [
    "### Distribution of test data"
   ]
  },
  {
   "cell_type": "code",
   "execution_count": 13,
   "id": "c242807e-a11b-43e2-82a0-aed22cbdefbc",
   "metadata": {},
   "outputs": [
    {
     "data": {
      "image/png": "[encoded data removed]",
      "text/plain": [
       "<Figure size 720x360 with 1 Axes>"
      ]
     },
     "metadata": {
      "needs_background": "light"
     },
     "output_type": "display_data"
    }
   ],
   "source": [
    "plt.rcParams[\"figure.figsize\"] = [10, 5]\n",
    "plt.hist(Y_validation, 20, alpha = 1, density = False)\n",
    "plt.show()"
   ]
  },
  {
   "cell_type": "markdown",
   "id": "19aa15e5-aee6-46ea-9c52-d1fa077b05dc",
   "metadata": {},
   "source": [
    "# 2. Model Design"
   ]
  },
  {
   "cell_type": "code",
   "execution_count": 14,
   "id": "02a2362d-059a-44b7-94f7-24e03680eef0",
   "metadata": {},
   "outputs": [],
   "source": [
    "'Number of hash tables functions' \n",
    "m = 64"
   ]
  },
  {
   "cell_type": "code",
   "execution_count": 15,
   "id": "6ea1ca10-c9ff-4735-ae80-e03691eb16ba",
   "metadata": {},
   "outputs": [],
   "source": [
    "'Number of bits per hash function' \n",
    "b = 8"
   ]
  },
  {
   "cell_type": "code",
   "execution_count": 16,
   "id": "06478197-071f-4395-804f-cbc171aadbd5",
   "metadata": {},
   "outputs": [
    {
     "data": {
      "text/plain": [
       "512"
      ]
     },
     "execution_count": 16,
     "metadata": {},
     "output_type": "execute_result"
    }
   ],
   "source": [
    "'Size hash vector'\n",
    "size_hash_vector = m * b\n",
    "size_hash_vector"
   ]
  },
  {
   "cell_type": "markdown",
   "id": "0d60851f-b05f-4bc6-80f0-ce736180afe0",
   "metadata": {},
   "source": [
    "## 2.1. Feature learning phase"
   ]
  },
  {
   "cell_type": "code",
   "execution_count": 17,
   "id": "d9893ed6-5d0b-41b2-816b-b410e1c07910",
   "metadata": {},
   "outputs": [],
   "source": [
    "x = Sequential()\n",
    "x.add(Dense(2048, input_dim = X_train['stack_1'].shape[1], activation = 'tanh'))\n",
    "x.add(Dense(1024, activation = 'tanh'))\n",
    "x.add(Dense(size_hash_vector, activation = 'tanh'))\n",
    "shared_model = x"
   ]
  },
  {
   "cell_type": "markdown",
   "id": "279ba874-5ea0-4a94-83a1-f7f7c9ca8e0e",
   "metadata": {},
   "source": [
    "## 2.2. Siamese Model "
   ]
  },
  {
   "cell_type": "code",
   "execution_count": 18,
   "id": "d1d8a570-b1a8-489c-8312-e78dca471a63",
   "metadata": {
    "tags": []
   },
   "outputs": [
    {
     "name": "stdout",
     "output_type": "stream",
     "text": [
      "Model: \"model\"\n",
      "__________________________________________________________________________________________________\n",
      "Layer (type)                    Output Shape         Param #     Connected to                     \n",
      "==================================================================================================\n",
      "input_1 (InputLayer)            [(None, 2249)]       0                                            \n",
      "__________________________________________________________________________________________________\n",
      "input_2 (InputLayer)            [(None, 2249)]       0                                            \n",
      "__________________________________________________________________________________________________\n",
      "sequential (Sequential)         (None, 512)          7230976     input_1[0][0]                    \n",
      "                                                                 input_2[0][0]                    \n",
      "                                                                 input_1[0][0]                    \n",
      "                                                                 input_2[0][0]                    \n",
      "                                                                 input_1[0][0]                    \n",
      "                                                                 input_2[0][0]                    \n",
      "__________________________________________________________________________________________________\n",
      "ham_dist (HamDist)              (None,)              0           sequential[0][0]                 \n",
      "                                                                 sequential[1][0]                 \n",
      "__________________________________________________________________________________________________\n",
      "prod_vec (ProdVec)              ()                   0           sequential[2][0]                 \n",
      "__________________________________________________________________________________________________\n",
      "prod_vec_1 (ProdVec)            ()                   0           sequential[3][0]                 \n",
      "__________________________________________________________________________________________________\n",
      "sum_vec (SumVec)                (None,)              0           sequential[4][0]                 \n",
      "__________________________________________________________________________________________________\n",
      "sum_vec_1 (SumVec)              (None,)              0           sequential[5][0]                 \n",
      "==================================================================================================\n",
      "Total params: 7,230,976\n",
      "Trainable params: 7,230,976\n",
      "Non-trainable params: 0\n",
      "__________________________________________________________________________________________________\n",
      "None\n",
      "Model: \"sequential\"\n",
      "_________________________________________________________________\n",
      "Layer (type)                 Output Shape              Param #   \n",
      "=================================================================\n",
      "dense (Dense)                (None, 2048)              4608000   \n",
      "_________________________________________________________________\n",
      "dense_1 (Dense)              (None, 1024)              2098176   \n",
      "_________________________________________________________________\n",
      "dense_2 (Dense)              (None, 512)               524800    \n",
      "=================================================================\n",
      "Total params: 7,230,976\n",
      "Trainable params: 7,230,976\n",
      "Non-trainable params: 0\n",
      "_________________________________________________________________\n",
      "None\n"
     ]
    }
   ],
   "source": [
    "input_shape = (X_train['stack_1'].shape[1],)\n",
    "model = siamese_model(shared_model, input_shape, b, m, is_sparse = True, print_summary = True)"
   ]
  },
  {
   "cell_type": "markdown",
   "id": "0bb438cf-7efb-4603-aab4-1364b187938f",
   "metadata": {},
   "source": [
    "## 2.3. Model training "
   ]
  },
  {
   "cell_type": "code",
   "execution_count": 19,
   "id": "3c6beca4-2caa-4c8c-8ca9-c3dfaedffbdc",
   "metadata": {},
   "outputs": [
    {
     "name": "stdout",
     "output_type": "stream",
     "text": [
      "Epoch 1/20\n",
      "781/781 [==============================] - 33s 34ms/step - loss: 0.0056 - ham_dist_loss: 0.0056 - prod_vec_loss: 0.0114 - prod_vec_1_loss: 0.0113 - sum_vec_loss: 2.8092e-04 - sum_vec_1_loss: 2.6708e-04 - ham_dist_rmse: 0.0749 - ham_dist_mae: 0.0290 - val_loss: 0.0012 - val_ham_dist_loss: 0.0012 - val_prod_vec_loss: 0.0035 - val_prod_vec_1_loss: 0.0036 - val_sum_vec_loss: 2.0758e-04 - val_sum_vec_1_loss: 1.9215e-04 - val_ham_dist_rmse: 0.0346 - val_ham_dist_mae: 0.0157\n",
      "Epoch 2/20\n",
      "781/781 [==============================] - 25s 32ms/step - loss: 9.3201e-04 - ham_dist_loss: 9.0137e-04 - prod_vec_loss: 0.0026 - prod_vec_1_loss: 0.0027 - sum_vec_loss: 1.5425e-04 - sum_vec_1_loss: 1.5314e-04 - ham_dist_rmse: 0.0300 - ham_dist_mae: 0.0138 - val_loss: 8.6457e-04 - val_ham_dist_loss: 8.4902e-04 - val_prod_vec_loss: 0.0020 - val_prod_vec_1_loss: 0.0021 - val_sum_vec_loss: 1.3906e-04 - val_sum_vec_1_loss: 1.4046e-04 - val_ham_dist_rmse: 0.0291 - val_ham_dist_mae: 0.0126\n",
      "Epoch 3/20\n",
      "781/781 [==============================] - 24s 30ms/step - loss: 6.4554e-04 - ham_dist_loss: 6.2958e-04 - prod_vec_loss: 0.0016 - prod_vec_1_loss: 0.0017 - sum_vec_loss: 1.3399e-04 - sum_vec_1_loss: 1.2655e-04 - ham_dist_rmse: 0.0251 - ham_dist_mae: 0.0114 - val_loss: 7.0124e-04 - val_ham_dist_loss: 6.9789e-04 - val_prod_vec_loss: 0.0013 - val_prod_vec_1_loss: 0.0014 - val_sum_vec_loss: 1.3387e-04 - val_sum_vec_1_loss: 1.3471e-04 - val_ham_dist_rmse: 0.0264 - val_ham_dist_mae: 0.0112\n",
      "Epoch 4/20\n",
      "781/781 [==============================] - 24s 30ms/step - loss: 5.3514e-04 - ham_dist_loss: 5.2818e-04 - prod_vec_loss: 0.0011 - prod_vec_1_loss: 0.0012 - sum_vec_loss: 1.1900e-04 - sum_vec_1_loss: 1.1922e-04 - ham_dist_rmse: 0.0230 - ham_dist_mae: 0.0104 - val_loss: 6.2453e-04 - val_ham_dist_loss: 6.2717e-04 - val_prod_vec_loss: 0.0010 - val_prod_vec_1_loss: 0.0011 - val_sum_vec_loss: 1.0473e-04 - val_sum_vec_1_loss: 1.1026e-04 - val_ham_dist_rmse: 0.0250 - val_ham_dist_mae: 0.0107\n",
      "Epoch 5/20\n",
      "781/781 [==============================] - 24s 30ms/step - loss: 4.7320e-04 - ham_dist_loss: 4.7069e-04 - prod_vec_loss: 8.5667e-04 - prod_vec_1_loss: 9.4518e-04 - sum_vec_loss: 1.2180e-04 - sum_vec_1_loss: 1.1998e-04 - ham_dist_rmse: 0.0217 - ham_dist_mae: 0.0099 - val_loss: 5.8654e-04 - val_ham_dist_loss: 5.9267e-04 - val_prod_vec_loss: 8.2209e-04 - val_prod_vec_1_loss: 8.9771e-04 - val_sum_vec_loss: 1.3513e-04 - val_sum_vec_1_loss: 1.2314e-04 - val_ham_dist_rmse: 0.0243 - val_ham_dist_mae: 0.0102\n",
      "Epoch 6/20\n",
      "781/781 [==============================] - 24s 30ms/step - loss: 4.2776e-04 - ham_dist_loss: 4.2788e-04 - prod_vec_loss: 6.9161e-04 - prod_vec_1_loss: 7.6792e-04 - sum_vec_loss: 1.2648e-04 - sum_vec_1_loss: 1.1781e-04 - ham_dist_rmse: 0.0207 - ham_dist_mae: 0.0094 - val_loss: 5.3105e-04 - val_ham_dist_loss: 5.4070e-04 - val_prod_vec_loss: 6.0219e-04 - val_prod_vec_1_loss: 6.8454e-04 - val_sum_vec_loss: 1.3302e-04 - val_sum_vec_1_loss: 1.2534e-04 - val_ham_dist_rmse: 0.0233 - val_ham_dist_mae: 0.0098\n",
      "Epoch 7/20\n",
      "781/781 [==============================] - 24s 31ms/step - loss: 3.9182e-04 - ham_dist_loss: 3.9395e-04 - prod_vec_loss: 5.6219e-04 - prod_vec_1_loss: 6.3639e-04 - sum_vec_loss: 1.2325e-04 - sum_vec_1_loss: 1.1751e-04 - ham_dist_rmse: 0.0198 - ham_dist_mae: 0.0091 - val_loss: 5.0161e-04 - val_ham_dist_loss: 5.1005e-04 - val_prod_vec_loss: 5.8295e-04 - val_prod_vec_1_loss: 6.5674e-04 - val_sum_vec_loss: 1.3039e-04 - val_sum_vec_1_loss: 1.2979e-04 - val_ham_dist_rmse: 0.0226 - val_ham_dist_mae: 0.0097\n",
      "Epoch 8/20\n",
      "781/781 [==============================] - 24s 30ms/step - loss: 3.7863e-04 - ham_dist_loss: 3.8179e-04 - prod_vec_loss: 4.9859e-04 - prod_vec_1_loss: 5.7687e-04 - sum_vec_loss: 1.2674e-04 - sum_vec_1_loss: 1.2222e-04 - ham_dist_rmse: 0.0195 - ham_dist_mae: 0.0090 - val_loss: 4.6634e-04 - val_ham_dist_loss: 4.7795e-04 - val_prod_vec_loss: 4.3179e-04 - val_prod_vec_1_loss: 5.0415e-04 - val_sum_vec_loss: 1.1706e-04 - val_sum_vec_1_loss: 1.1605e-04 - val_ham_dist_rmse: 0.0219 - val_ham_dist_mae: 0.0093\n",
      "Epoch 9/20\n",
      "781/781 [==============================] - 23s 29ms/step - loss: 3.4056e-04 - ham_dist_loss: 3.4460e-04 - prod_vec_loss: 4.0694e-04 - prod_vec_1_loss: 4.7892e-04 - sum_vec_loss: 1.1744e-04 - sum_vec_1_loss: 1.1645e-04 - ham_dist_rmse: 0.0186 - ham_dist_mae: 0.0086 - val_loss: 4.4670e-04 - val_ham_dist_loss: 4.5768e-04 - val_prod_vec_loss: 4.1798e-04 - val_prod_vec_1_loss: 4.8089e-04 - val_sum_vec_loss: 1.1361e-04 - val_sum_vec_1_loss: 1.1557e-04 - val_ham_dist_rmse: 0.0214 - val_ham_dist_mae: 0.0092\n",
      "Epoch 10/20\n",
      "781/781 [==============================] - 22s 29ms/step - loss: 3.2552e-04 - ham_dist_loss: 3.3043e-04 - prod_vec_loss: 3.5869e-04 - prod_vec_1_loss: 4.2453e-04 - sum_vec_loss: 1.1160e-04 - sum_vec_1_loss: 1.1275e-04 - ham_dist_rmse: 0.0182 - ham_dist_mae: 0.0084 - val_loss: 4.0348e-04 - val_ham_dist_loss: 4.1531e-04 - val_prod_vec_loss: 3.2279e-04 - val_prod_vec_1_loss: 3.7545e-04 - val_sum_vec_loss: 1.0227e-04 - val_sum_vec_1_loss: 1.0360e-04 - val_ham_dist_rmse: 0.0204 - val_ham_dist_mae: 0.0086\n",
      "Epoch 11/20\n",
      "781/781 [==============================] - 22s 28ms/step - loss: 3.0573e-04 - ham_dist_loss: 3.1119e-04 - prod_vec_loss: 3.0923e-04 - prod_vec_1_loss: 3.6450e-04 - sum_vec_loss: 1.0987e-04 - sum_vec_1_loss: 1.1167e-04 - ham_dist_rmse: 0.0176 - ham_dist_mae: 0.0082 - val_loss: 4.0098e-04 - val_ham_dist_loss: 4.1247e-04 - val_prod_vec_loss: 3.1697e-04 - val_prod_vec_1_loss: 3.6199e-04 - val_sum_vec_loss: 1.1706e-04 - val_sum_vec_1_loss: 1.1855e-04 - val_ham_dist_rmse: 0.0203 - val_ham_dist_mae: 0.0087\n",
      "Epoch 12/20\n",
      "781/781 [==============================] - 22s 28ms/step - loss: 2.9213e-04 - ham_dist_loss: 2.9825e-04 - prod_vec_loss: 2.6745e-04 - prod_vec_1_loss: 3.2126e-04 - sum_vec_loss: 1.0743e-04 - sum_vec_1_loss: 1.0517e-04 - ham_dist_rmse: 0.0173 - ham_dist_mae: 0.0080 - val_loss: 3.9542e-04 - val_ham_dist_loss: 4.0829e-04 - val_prod_vec_loss: 2.6657e-04 - val_prod_vec_1_loss: 3.1230e-04 - val_sum_vec_loss: 1.1185e-04 - val_sum_vec_1_loss: 1.1865e-04 - val_ham_dist_rmse: 0.0202 - val_ham_dist_mae: 0.0085\n",
      "Epoch 13/20\n",
      "781/781 [==============================] - 22s 29ms/step - loss: 2.8153e-04 - ham_dist_loss: 2.8786e-04 - prod_vec_loss: 2.3905e-04 - prod_vec_1_loss: 2.9324e-04 - sum_vec_loss: 1.0668e-04 - sum_vec_1_loss: 1.0750e-04 - ham_dist_rmse: 0.0170 - ham_dist_mae: 0.0078 - val_loss: 3.6716e-04 - val_ham_dist_loss: 3.7958e-04 - val_prod_vec_loss: 2.3252e-04 - val_prod_vec_1_loss: 2.9082e-04 - val_sum_vec_loss: 9.6356e-05 - val_sum_vec_1_loss: 1.0339e-04 - val_ham_dist_rmse: 0.0195 - val_ham_dist_mae: 0.0083\n",
      "Epoch 14/20\n",
      "781/781 [==============================] - 23s 29ms/step - loss: 2.7032e-04 - ham_dist_loss: 2.7722e-04 - prod_vec_loss: 2.1144e-04 - prod_vec_1_loss: 2.6447e-04 - sum_vec_loss: 9.3368e-05 - sum_vec_1_loss: 9.7831e-05 - ham_dist_rmse: 0.0166 - ham_dist_mae: 0.0077 - val_loss: 3.5693e-04 - val_ham_dist_loss: 3.6979e-04 - val_prod_vec_loss: 2.0747e-04 - val_prod_vec_1_loss: 2.6438e-04 - val_sum_vec_loss: 8.9377e-05 - val_sum_vec_1_loss: 9.5010e-05 - val_ham_dist_rmse: 0.0192 - val_ham_dist_mae: 0.0082\n",
      "Epoch 15/20\n",
      "781/781 [==============================] - 22s 29ms/step - loss: 2.6024e-04 - ham_dist_loss: 2.6730e-04 - prod_vec_loss: 1.8818e-04 - prod_vec_1_loss: 2.3757e-04 - sum_vec_loss: 9.3004e-05 - sum_vec_1_loss: 9.8446e-05 - ham_dist_rmse: 0.0163 - ham_dist_mae: 0.0076 - val_loss: 3.4994e-04 - val_ham_dist_loss: 3.6294e-04 - val_prod_vec_loss: 1.9033e-04 - val_prod_vec_1_loss: 2.3794e-04 - val_sum_vec_loss: 9.1219e-05 - val_sum_vec_1_loss: 1.0030e-04 - val_ham_dist_rmse: 0.0191 - val_ham_dist_mae: 0.0080\n",
      "Epoch 16/20\n",
      "781/781 [==============================] - 22s 29ms/step - loss: 2.5006e-04 - ham_dist_loss: 2.5713e-04 - prod_vec_loss: 1.6884e-04 - prod_vec_1_loss: 2.1560e-04 - sum_vec_loss: 9.4578e-05 - sum_vec_1_loss: 9.6818e-05 - ham_dist_rmse: 0.0160 - ham_dist_mae: 0.0074 - val_loss: 3.4074e-04 - val_ham_dist_loss: 3.5390e-04 - val_prod_vec_loss: 1.6874e-04 - val_prod_vec_1_loss: 2.0992e-04 - val_sum_vec_loss: 9.5994e-05 - val_sum_vec_1_loss: 9.8568e-05 - val_ham_dist_rmse: 0.0188 - val_ham_dist_mae: 0.0080\n",
      "Epoch 17/20\n",
      "781/781 [==============================] - 22s 28ms/step - loss: 2.4430e-04 - ham_dist_loss: 2.5149e-04 - prod_vec_loss: 1.5081e-04 - prod_vec_1_loss: 1.9480e-04 - sum_vec_loss: 1.0005e-04 - sum_vec_1_loss: 9.9779e-05 - ham_dist_rmse: 0.0159 - ham_dist_mae: 0.0073 - val_loss: 3.4989e-04 - val_ham_dist_loss: 3.6401e-04 - val_prod_vec_loss: 1.5486e-04 - val_prod_vec_1_loss: 2.0218e-04 - val_sum_vec_loss: 9.7263e-05 - val_sum_vec_1_loss: 9.8169e-05 - val_ham_dist_rmse: 0.0191 - val_ham_dist_mae: 0.0080\n",
      "Epoch 18/20\n",
      "781/781 [==============================] - 22s 28ms/step - loss: 2.3741e-04 - ham_dist_loss: 2.4465e-04 - prod_vec_loss: 1.4543e-04 - prod_vec_1_loss: 1.8641e-04 - sum_vec_loss: 9.3047e-05 - sum_vec_1_loss: 9.0451e-05 - ham_dist_rmse: 0.0156 - ham_dist_mae: 0.0072 - val_loss: 3.2977e-04 - val_ham_dist_loss: 3.4306e-04 - val_prod_vec_loss: 1.5029e-04 - val_prod_vec_1_loss: 1.9510e-04 - val_sum_vec_loss: 9.3068e-05 - val_sum_vec_1_loss: 8.2843e-05 - val_ham_dist_rmse: 0.0185 - val_ham_dist_mae: 0.0076\n",
      "Epoch 19/20\n",
      "781/781 [==============================] - 22s 28ms/step - loss: 2.3180e-04 - ham_dist_loss: 2.3884e-04 - prod_vec_loss: 1.3748e-04 - prod_vec_1_loss: 1.7876e-04 - sum_vec_loss: 9.4564e-05 - sum_vec_1_loss: 9.3651e-05 - ham_dist_rmse: 0.0155 - ham_dist_mae: 0.0071 - val_loss: 3.2724e-04 - val_ham_dist_loss: 3.4070e-04 - val_prod_vec_loss: 1.3778e-04 - val_prod_vec_1_loss: 1.8690e-04 - val_sum_vec_loss: 8.2775e-05 - val_sum_vec_1_loss: 9.3749e-05 - val_ham_dist_rmse: 0.0185 - val_ham_dist_mae: 0.0077\n",
      "Epoch 20/20\n",
      "781/781 [==============================] - 22s 29ms/step - loss: 2.2612e-04 - ham_dist_loss: 2.3315e-04 - prod_vec_loss: 1.3180e-04 - prod_vec_1_loss: 1.7049e-04 - sum_vec_loss: 8.8861e-05 - sum_vec_1_loss: 9.1506e-05 - ham_dist_rmse: 0.0153 - ham_dist_mae: 0.0071 - val_loss: 3.1749e-04 - val_ham_dist_loss: 3.3112e-04 - val_prod_vec_loss: 1.2051e-04 - val_prod_vec_1_loss: 1.5540e-04 - val_sum_vec_loss: 8.7171e-05 - val_sum_vec_1_loss: 8.8903e-05 - val_ham_dist_rmse: 0.0182 - val_ham_dist_mae: 0.0076\n"
     ]
    }
   ],
   "source": [
    "siamese_model = train_siamese_model(model, X_train, X_validation, Y_train, Y_validation, batch_size = 512, epochs = 20)"
   ]
  },
  {
   "cell_type": "markdown",
   "id": "8de2153c-d75d-41be-848b-d503f6c36239",
   "metadata": {},
   "source": [
    "# 3. Model Evaluation"
   ]
  },
  {
   "cell_type": "code",
   "execution_count": 20,
   "id": "70c8adc8-2869-4868-b036-a328d003da67",
   "metadata": {},
   "outputs": [
    {
     "data": {
      "text/plain": [
       "[<tensorflow.python.keras.engine.input_layer.InputLayer at 0x7fed85afe610>,\n",
       " <tensorflow.python.keras.engine.input_layer.InputLayer at 0x7fed85ab3410>,\n",
       " <tensorflow.python.keras.engine.sequential.Sequential at 0x7fed85afe690>,\n",
       " <deep_hashing_models.HamDist at 0x7fed85b78190>,\n",
       " <deep_hashing_models.ProdVec at 0x7fed85a60b10>,\n",
       " <deep_hashing_models.ProdVec at 0x7fed854bdf50>,\n",
       " <deep_hashing_models.SumVec at 0x7fed85491cd0>,\n",
       " <deep_hashing_models.SumVec at 0x7fed85471d90>]"
      ]
     },
     "execution_count": 20,
     "metadata": {},
     "output_type": "execute_result"
    }
   ],
   "source": [
    "model.layers"
   ]
  },
  {
   "cell_type": "markdown",
   "id": "6e08e438-f7db-4ffd-a703-c050649eed80",
   "metadata": {},
   "source": [
    "## 3.1. Loss functions"
   ]
  },
  {
   "cell_type": "markdown",
   "id": "2ba523e6-4b29-4979-9739-3840a9d279e5",
   "metadata": {},
   "source": [
    "#### 3.1.1. MSE of $\\mathcal{L}_{DeepLSH}$"
   ]
  },
  {
   "cell_type": "code",
   "execution_count": 24,
   "id": "78fa1d12-53e0-4b18-bd6d-b49e0ac5a173",
   "metadata": {},
   "outputs": [
    {
     "data": {
      "text/plain": [
       "<matplotlib.legend.Legend at 0x7fe8e824f350>"
      ]
     },
     "execution_count": 24,
     "metadata": {},
     "output_type": "execute_result"
    },
    {
     "data": {
      "image/png": "[encoded data removed]",
      "text/plain": [
       "<Figure size 324x288 with 1 Axes>"
      ]
     },
     "metadata": {
      "needs_background": "light"
     },
     "output_type": "display_data"
    }
   ],
   "source": [
    "plt.rcParams[\"figure.figsize\"] = (4.5,4)\n",
    "plt.plot(siamese_model.history['loss'], linewidth = 2.5)\n",
    "plt.plot(siamese_model.history['val_loss'], linewidth = 2.5)\n",
    "plt.title('TfIdf (DeepLSH)', fontsize = 18)\n",
    "plt.ylabel('MSE (Model)', fontsize = 13)\n",
    "plt.xlabel('Epochs', fontsize = 13)\n",
    "plt.xticks(fontsize= 12)\n",
    "plt.yticks(fontsize= 12)\n",
    "plt.ticklabel_format(axis = 'y', style='', scilimits=(0,0))\n",
    "plt.savefig('Results/DeepLSH/loss-MSE.png', bbox_inches='tight')\n",
    "plt.legend(['Train', 'Validation'], loc='upper right', fontsize=15)"
   ]
  },
  {
   "cell_type": "markdown",
   "id": "05afb4e6-9037-456a-9663-060eb611c0b8",
   "metadata": {},
   "source": [
    "#### 3.1.2. RMSE of LSH preserving loss"
   ]
  },
  {
   "cell_type": "code",
   "execution_count": 22,
   "id": "9cd1cda5-36b1-41ab-8dc3-2ebfe56fd4d9",
   "metadata": {},
   "outputs": [
    {
     "data": {
      "text/plain": [
       "<matplotlib.legend.Legend at 0x7fcf9564a410>"
      ]
     },
     "execution_count": 22,
     "metadata": {},
     "output_type": "execute_result"
    },
    {
     "data": {
      "image/png": "[encoded data removed]",
      "text/plain": [
       "<Figure size 576x360 with 1 Axes>"
      ]
     },
     "metadata": {
      "needs_background": "light"
     },
     "output_type": "display_data"
    }
   ],
   "source": [
    "plt.rcParams[\"figure.figsize\"] = (8,5)\n",
    "plt.plot(siamese_model.history[model.layers[3].name + '_rmse'], linewidth = 2)\n",
    "plt.plot(siamese_model.history['val_' + model.layers[3].name + '_rmse'], linewidth = 2)\n",
    "plt.title('TfIdf (DeepLSH)', fontsize = 20)\n",
    "plt.ylabel('RMSE (LSH-preserving)', fontsize = 12)\n",
    "plt.xlabel('Epochs', fontsize = 12)\n",
    "plt.ticklabel_format(style='', scilimits=(0,0))\n",
    "plt.legend(['Train', 'Validation'], loc='upper right', fontsize=15)"
   ]
  },
  {
   "cell_type": "markdown",
   "id": "ac94472b-7465-4ab0-99dd-c042b4a32572",
   "metadata": {},
   "source": [
    "#### 3.1.3. MAE of LSH preserving loss"
   ]
  },
  {
   "cell_type": "code",
   "execution_count": 23,
   "id": "c4c8e448-e36f-4a8d-8d5f-a5da5c4d5019",
   "metadata": {},
   "outputs": [
    {
     "data": {
      "text/plain": [
       "<matplotlib.legend.Legend at 0x7fcf955e0e90>"
      ]
     },
     "execution_count": 23,
     "metadata": {},
     "output_type": "execute_result"
    },
    {
     "data": {
      "image/png": "[encoded data removed]",
      "text/plain": [
       "<Figure size 576x360 with 1 Axes>"
      ]
     },
     "metadata": {
      "needs_background": "light"
     },
     "output_type": "display_data"
    }
   ],
   "source": [
    "plt.rcParams[\"figure.figsize\"] = (8,5)\n",
    "plt.plot(siamese_model.history[model.layers[3].name + '_mae'], linewidth = 2)\n",
    "plt.plot(siamese_model.history['val_' + model.layers[3].name + '_mae'], linewidth = 2)\n",
    "plt.title('TfIdf (DeepLSH)', fontsize = 20)\n",
    "plt.ylabel('MAE (LSH-preserving)', fontsize = 12)\n",
    "plt.xlabel('Epochs', fontsize = 12)\n",
    "plt.ticklabel_format(style='', scilimits=(0,0))\n",
    "plt.legend(['Train', 'Validation'], loc='upper right', fontsize=15)"
   ]
  },
  {
   "cell_type": "markdown",
   "id": "f8f7f1d0-62b0-4612-ab39-9c38fad06a4c",
   "metadata": {},
   "source": [
    "## 3.2. Model Predictions"
   ]
  },
  {
   "cell_type": "code",
   "execution_count": 24,
   "id": "1f089e9c-7bbd-40fb-90f3-3e4c7a2798d2",
   "metadata": {},
   "outputs": [],
   "source": [
    "predictions = predict(model, X_validation)"
   ]
  },
  {
   "cell_type": "markdown",
   "id": "19834dba-ff8b-45fa-aead-ac2e6d099273",
   "metadata": {},
   "source": [
    "### 3.2.1. Examples"
   ]
  },
  {
   "cell_type": "code",
   "execution_count": 25,
   "id": "eade347d-6ee3-4fa3-ba1a-c5298f94c96e",
   "metadata": {},
   "outputs": [
    {
     "data": {
      "text/plain": [
       "array([0.259, 0.   , 0.   , 0.   , 0.078, 0.   , 0.063, 0.   , 0.   ,\n",
       "       0.   , 0.172, 0.049, 0.   , 0.   , 0.031, 0.   , 0.   , 0.   ,\n",
       "       0.014, 0.047, 0.   , 0.093, 0.   , 0.049, 0.   , 0.047, 0.   ,\n",
       "       0.   , 0.011, 0.018, 0.063, 0.   , 0.341, 0.571, 0.   , 0.016,\n",
       "       0.166, 0.   , 0.   , 0.   , 0.   , 0.165, 0.078, 0.016, 0.   ,\n",
       "       0.   , 0.   , 0.   , 0.058, 0.   ], dtype=float32)"
      ]
     },
     "execution_count": 25,
     "metadata": {},
     "output_type": "execute_result"
    }
   ],
   "source": [
    "np.around(predictions[0][:50],3) "
   ]
  },
  {
   "cell_type": "code",
   "execution_count": 26,
   "id": "8f18d2a7-c115-4a7c-9492-facb302c578b",
   "metadata": {},
   "outputs": [
    {
     "data": {
      "text/plain": [
       "array([0.267, 0.   , 0.   , 0.   , 0.057, 0.   , 0.055, 0.   , 0.   ,\n",
       "       0.   , 0.187, 0.039, 0.   , 0.   , 0.029, 0.   , 0.   , 0.   ,\n",
       "       0.   , 0.046, 0.   , 0.068, 0.   , 0.041, 0.   , 0.037, 0.   ,\n",
       "       0.   , 0.   , 0.017, 0.063, 0.   , 0.287, 0.566, 0.   , 0.   ,\n",
       "       0.15 , 0.   , 0.   , 0.   , 0.   , 0.09 , 0.079, 0.   , 0.   ,\n",
       "       0.   , 0.   , 0.   , 0.047, 0.   ])"
      ]
     },
     "execution_count": 26,
     "metadata": {},
     "output_type": "execute_result"
    }
   ],
   "source": [
    "np.around(Y_validation[:50],3) "
   ]
  },
  {
   "cell_type": "markdown",
   "id": "98409488-ca93-4cd3-b71c-547fa4baa6ef",
   "metadata": {},
   "source": [
    "### 3.2.2. Spearman $\\rho$ and Kendall $\\tau$ correlation"
   ]
  },
  {
   "cell_type": "code",
   "execution_count": 27,
   "id": "01573553-5d50-49eb-aa52-c480c0de67f0",
   "metadata": {},
   "outputs": [
    {
     "data": {
      "image/png": "[encoded data removed]",
      "text/plain": [
       "<Figure size 288x288 with 1 Axes>"
      ]
     },
     "metadata": {
      "needs_background": "light"
     },
     "output_type": "display_data"
    }
   ],
   "source": [
    "plt.rcParams[\"figure.figsize\"] = (4,4)\n",
    "plt.scatter(Y_validation, predictions[0], alpha = 0.5, marker = 'x', c = '#227093')\n",
    "plt.title('TfIdf (DeepLSH)', fontsize = 16)\n",
    "plt.xlabel(\"TfIdf similarity values\", fontsize = 12)\n",
    "plt.ylabel(\"Collision probability\", fontsize = 12)\n",
    "plt.savefig('Results/DeepLSH/TfIdf-correlation', bbox_inches='tight')\n",
    "plt.show()"
   ]
  },
  {
   "cell_type": "code",
   "execution_count": 28,
   "id": "f80a43e7-b4b5-4956-9b3d-6a1457a6ee92",
   "metadata": {},
   "outputs": [
    {
     "data": {
      "text/plain": [
       "0.9110785221273022"
      ]
     },
     "execution_count": 28,
     "metadata": {},
     "output_type": "execute_result"
    }
   ],
   "source": [
    "rho, p_value = spearman_rho(predictions, Y_validation)\n",
    "rho"
   ]
  },
  {
   "cell_type": "code",
   "execution_count": 29,
   "id": "33fc1f59-7dc1-46b4-9d29-73b87b11c5a5",
   "metadata": {},
   "outputs": [
    {
     "data": {
      "text/plain": [
       "0.8247069812490603"
      ]
     },
     "execution_count": 29,
     "metadata": {},
     "output_type": "execute_result"
    }
   ],
   "source": [
    "tau, p_value = kendall_tau(predictions, Y_validation)\n",
    "tau"
   ]
  },
  {
   "cell_type": "markdown",
   "id": "895fc952-6e22-451a-abd2-86de43e87328",
   "metadata": {},
   "source": [
    "## 3.3. Approximate Hamming Evaluation"
   ]
  },
  {
   "cell_type": "code",
   "execution_count": 30,
   "id": "6b9edd91-5e15-4aa8-8a05-4985b8623897",
   "metadata": {},
   "outputs": [
    {
     "data": {
      "text/plain": [
       "<tensorflow.python.keras.engine.sequential.Sequential at 0x7fd44edd7cd0>"
      ]
     },
     "execution_count": 30,
     "metadata": {},
     "output_type": "execute_result"
    }
   ],
   "source": [
    "output_layer = 2\n",
    "model.layers[output_layer]"
   ]
  },
  {
   "cell_type": "code",
   "execution_count": 31,
   "id": "acaf1823-ca3b-4d6c-9a71-a6c9acf5e1f5",
   "metadata": {},
   "outputs": [],
   "source": [
    "intermediate_model = intermediate_model_trained(shared_model, output_layer)"
   ]
  },
  {
   "cell_type": "code",
   "execution_count": 32,
   "id": "65d36caa-a208-4095-93eb-9522c8f72717",
   "metadata": {},
   "outputs": [
    {
     "name": "stdout",
     "output_type": "stream",
     "text": [
      "WARNING:tensorflow:Compiled the loaded model, but the compiled metrics have yet to be built. `model.compile_metrics` will be empty until you train or evaluate the model.\n",
      "INFO:tensorflow:Assets written to: Models/model-deep-lsh.model/assets\n"
     ]
    }
   ],
   "source": [
    "intermediate_model.save('Models/model-deep-lsh.model')"
   ]
  },
  {
   "cell_type": "code",
   "execution_count": 33,
   "id": "69700249-f347-4949-be04-d9ff8f058288",
   "metadata": {},
   "outputs": [],
   "source": [
    "#intermediate_model = keras.models.load_model('Models/model-deep-lsh.model')"
   ]
  },
  {
   "cell_type": "markdown",
   "id": "b4d1758f-ff99-49fc-b85c-4fe66560da40",
   "metadata": {},
   "source": [
    "### 3.3.1. Example of a hash vector provided by the model (in the last epoch)"
   ]
  },
  {
   "cell_type": "code",
   "execution_count": 34,
   "id": "ec686420-c52a-4925-852f-939cfe007904",
   "metadata": {},
   "outputs": [
    {
     "data": {
      "text/plain": [
       "array([-1.        ,  1.        ,  1.        , -1.        ,  1.        ,\n",
       "       -1.        , -1.        ,  1.        ,  1.        , -1.        ,\n",
       "       -1.        ,  1.        , -1.        , -1.        , -1.        ,\n",
       "        1.        ,  0.99999785, -1.        , -0.9976283 ,  1.        ,\n",
       "       -1.        ,  1.        ,  1.        , -0.99948376,  0.99953276,\n",
       "       -1.        , -0.9999973 , -1.        , -1.        ,  1.        ,\n",
       "        1.        ,  1.        ], dtype=float32)"
      ]
     },
     "execution_count": 34,
     "metadata": {},
     "output_type": "execute_result"
    }
   ],
   "source": [
    "intermediate_model.predict(df_bag_of_frames.iloc[[10]])[0][:32]"
   ]
  },
  {
   "cell_type": "markdown",
   "id": "4ec939b1-4814-49cd-80ff-ee2bad747358",
   "metadata": {},
   "source": [
    "### 3.3.2. Average value of the absolute hash values"
   ]
  },
  {
   "cell_type": "code",
   "execution_count": 35,
   "id": "f54a9180-f4a4-4e0c-94ed-e36df291b072",
   "metadata": {},
   "outputs": [],
   "source": [
    "hash_vectors = intermediate_model.predict(df_bag_of_frames)"
   ]
  },
  {
   "cell_type": "code",
   "execution_count": 36,
   "id": "0fd308c0-f913-4d55-b45b-01f976a62e0b",
   "metadata": {},
   "outputs": [
    {
     "data": {
      "text/plain": [
       "0.9935572"
      ]
     },
     "execution_count": 36,
     "metadata": {},
     "output_type": "execute_result"
    }
   ],
   "source": [
    "np.mean(np.abs(hash_vectors))"
   ]
  },
  {
   "cell_type": "markdown",
   "id": "2ca2d6a3-75da-472a-99bb-b25ece9df8a7",
   "metadata": {},
   "source": [
    "### 3.3.3. Ratio of binary values from hash vectors provided by the model"
   ]
  },
  {
   "cell_type": "code",
   "execution_count": 37,
   "id": "5bb9bdd7-c931-4db2-8a89-b20c7fb92d9e",
   "metadata": {},
   "outputs": [
    {
     "data": {
      "text/plain": [
       "0.836265625"
      ]
     },
     "execution_count": 37,
     "metadata": {},
     "output_type": "execute_result"
    }
   ],
   "source": [
    "hash_vectors[(hash_vectors == 1) | (hash_vectors == -1)].size / hash_vectors.size"
   ]
  },
  {
   "cell_type": "markdown",
   "id": "5a606dc1-dd06-4376-9f33-1254286c701d",
   "metadata": {},
   "source": [
    "### 3.3.4. Comparison between approximate hamming and real hamming"
   ]
  },
  {
   "cell_type": "code",
   "execution_count": 38,
   "id": "03dd89e8-82d7-47c2-8c33-a0652d3ec536",
   "metadata": {},
   "outputs": [],
   "source": [
    "df_hamming = compare_hamming(X_validation, intermediate_model, b, size_hash_vector)"
   ]
  },
  {
   "cell_type": "code",
   "execution_count": 39,
   "id": "3fdc0913-64e8-4b05-a1fd-75f20c1a418a",
   "metadata": {},
   "outputs": [
    {
     "data": {
      "image/png": "[encoded data removed]",
      "text/plain": [
       "<Figure size 288x288 with 1 Axes>"
      ]
     },
     "metadata": {
      "needs_background": "light"
     },
     "output_type": "display_data"
    }
   ],
   "source": [
    "plt.rcParams[\"figure.figsize\"] = (4,4)\n",
    "plt.scatter(predictions[0], df_hamming['hamming'], alpha = 0.5, marker = 'x', c = '#b33939')\n",
    "plt.xlabel(\"Approximate Hamming Similariy\", fontsize = 12)\n",
    "plt.ylabel(\"Hamming Similarity\", fontsize = 12)\n",
    "plt.title('TfIdf (DeepLSH)', fontsize = 16)\n",
    "plt.savefig('Results/DeepLSH/TfIdf-hamming-comparison', bbox_inches='tight')\n",
    "plt.show()"
   ]
  },
  {
   "cell_type": "markdown",
   "id": "b030832c-7872-45da-8698-a0bbf16fe3cb",
   "metadata": {},
   "source": [
    "# 4. Locality Sensitive Hashing"
   ]
  },
  {
   "cell_type": "code",
   "execution_count": 40,
   "id": "2aacdd9c-73d0-4257-af38-1768e9f4aa05",
   "metadata": {},
   "outputs": [],
   "source": [
    "hash_vectors_hamming = convert_to_hamming(hash_vectors)"
   ]
  },
  {
   "cell_type": "code",
   "execution_count": 41,
   "id": "f3bb826f-5e0d-4d6e-8356-d1f3315d6ebd",
   "metadata": {},
   "outputs": [
    {
     "data": {
      "text/plain": [
       "[(1, 64), (2, 32), (4, 16), (8, 8), (16, 4), (32, 2), (64, 1)]"
      ]
     },
     "execution_count": 41,
     "metadata": {},
     "output_type": "execute_result"
    }
   ],
   "source": [
    "params = lsh_hyperparams(m)\n",
    "'(K,L)'\n",
    "params "
   ]
  },
  {
   "cell_type": "markdown",
   "id": "b2cb60ba-44ee-4fee-854d-b2bcd66a0be4",
   "metadata": {},
   "source": [
    "## 4.1. Choose the best combination (L, K)\n"
   ]
  },
  {
   "cell_type": "code",
   "execution_count": 42,
   "id": "1aeac3ba-cb08-4e8a-913b-1dbd0529c782",
   "metadata": {},
   "outputs": [
    {
     "data": {
      "text/plain": [
       "<matplotlib.legend.Legend at 0x7fcf954c9150>"
      ]
     },
     "execution_count": 42,
     "metadata": {},
     "output_type": "execute_result"
    },
    {
     "data": {
      "image/png": "[encoded data removed]",
      "text/plain": [
       "<Figure size 648x360 with 1 Axes>"
      ]
     },
     "metadata": {
      "needs_background": "light"
     },
     "output_type": "display_data"
    }
   ],
   "source": [
    "plt.rcParams[\"figure.figsize\"] = [9, 5]\n",
    "x = np.linspace(0, 1, 100)\n",
    "for param in params:\n",
    "    y = 1 - (1 - (x)**param[1])**param[0]\n",
    "    plt.plot(x, y, label = 'L = %d, r = %d' %param)\n",
    "plt.xlabel(\"similarity values\", fontsize = 12)\n",
    "plt.ylabel(\"hash probability in at least 1 bucket\", fontsize = 12)\n",
    "plt.title('Probability-similarity relation', fontsize = 18)\n",
    "plt.legend()"
   ]
  },
  {
   "cell_type": "code",
   "execution_count": 43,
   "id": "06b7f958-6f44-44dd-9a8b-2cf92d2c8c62",
   "metadata": {},
   "outputs": [],
   "source": [
    "df_probLSH = mean_prob_hashing_smallest_elt(n_stacks, params, hash_vectors_hamming, b, df_measures, 'TfIdf', trace = False)"
   ]
  },
  {
   "cell_type": "code",
   "execution_count": 44,
   "id": "f5942f20-20c8-4df4-9b65-7a62cf73558f",
   "metadata": {},
   "outputs": [
    {
     "data": {
      "image/png": "[encoded data removed]",
      "text/plain": [
       "<Figure size 432x288 with 1 Axes>"
      ]
     },
     "metadata": {
      "needs_background": "light"
     },
     "output_type": "display_data"
    }
   ],
   "source": [
    "f, ax = plt.subplots(figsize=(6, 4))\n",
    "ax = sns.boxplot(data = df_probLSH, palette=\"Set3\")\n",
    "plt.xlabel(\"Hyperparameters of LSH (L,K)\", fontsize = 12)\n",
    "plt.ylabel(\"Prob hashing smallest elt in buckets\", fontsize = 12)\n",
    "plt.title('TfIdf (DeepLSH) [Relation Prob-Sim]', fontsize = 16)\n",
    "plt.savefig('Results/DeepLSH/TfIdf-Relation-Prob-Sim', bbox_inches='tight')\n",
    "plt.show()"
   ]
  },
  {
   "cell_type": "code",
   "execution_count": 45,
   "id": "2a7ec7db-5e03-44f5-a6f5-e404fd3948a1",
   "metadata": {},
   "outputs": [
    {
     "data": {
      "text/plain": [
       "(8, 8)"
      ]
     },
     "execution_count": 45,
     "metadata": {},
     "output_type": "execute_result"
    }
   ],
   "source": [
    "'Exemple, L = K = 8'\n",
    "L, K = params[3]\n",
    "L, K"
   ]
  },
  {
   "cell_type": "code",
   "execution_count": 46,
   "id": "907cec1c-86df-4db5-b5c0-627379841a4d",
   "metadata": {},
   "outputs": [
    {
     "data": {
      "text/plain": [
       "0.5423372438830616"
      ]
     },
     "execution_count": 46,
     "metadata": {},
     "output_type": "execute_result"
    }
   ],
   "source": [
    "df_probLSH.mean()['(8, 8)']"
   ]
  },
  {
   "cell_type": "code",
   "execution_count": 47,
   "id": "944eda14-5c69-4d49-b682-3c57ad9fe47f",
   "metadata": {},
   "outputs": [
    {
     "data": {
      "text/plain": [
       "0.4962392783443653"
      ]
     },
     "execution_count": 47,
     "metadata": {},
     "output_type": "execute_result"
    }
   ],
   "source": [
    "df_probLSH.median()['(8, 8)']"
   ]
  },
  {
   "cell_type": "markdown",
   "id": "6ebdb37a-a88b-46f1-8a22-1c0f872f6cd6",
   "metadata": {},
   "source": [
    "## 4.2. Build hash tables with binary hash vectors w.r.t $K$ and $L$"
   ]
  },
  {
   "cell_type": "code",
   "execution_count": 48,
   "id": "fb84b5ab-519b-4dd1-bb5e-5ced695bf3a4",
   "metadata": {},
   "outputs": [],
   "source": [
    "hash_tables = create_hash_tables(L, K, b, hash_vectors_hamming)"
   ]
  },
  {
   "cell_type": "code",
   "execution_count": 49,
   "id": "b8ed4c9f-cf0f-4137-8a32-3d839f64c86e",
   "metadata": {},
   "outputs": [],
   "source": [
    "with open('Hash-Tables/hash_tables_deeplsh.pkl', 'wb') as f:\n",
    "    pickle.dump(hash_tables, f)"
   ]
  },
  {
   "cell_type": "markdown",
   "id": "70f264b8-e59e-4995-b416-f8966cfc4d8f",
   "metadata": {},
   "source": [
    "## 4.3. Search for approximate nearest neighbors (this procedure need to be explained in the paper) "
   ]
  },
  {
   "cell_type": "code",
   "execution_count": 50,
   "id": "46bdb33d-c680-4242-919e-cd2dfd73e353",
   "metadata": {},
   "outputs": [
    {
     "data": {
      "text/plain": [
       "663"
      ]
     },
     "execution_count": 50,
     "metadata": {},
     "output_type": "execute_result"
    }
   ],
   "source": [
    "'pointer to the stack trace'\n",
    "index = random.randint(0,n_stacks)\n",
    "index"
   ]
  },
  {
   "cell_type": "code",
   "execution_count": 51,
   "id": "ce6258ad-9458-4e9b-867a-d3b4fc675966",
   "metadata": {},
   "outputs": [
    {
     "data": {
      "text/plain": [
       "{199, 552, 663}"
      ]
     },
     "execution_count": 51,
     "metadata": {},
     "output_type": "execute_result"
    }
   ],
   "source": [
    "set_near_duplicates = near_duplicates(L, K, b, index, hash_vectors_hamming, hash_tables)\n",
    "set_near_duplicates"
   ]
  },
  {
   "cell_type": "code",
   "execution_count": 52,
   "id": "d3c836e7-fc34-47cd-9889-f76db2bc71a2",
   "metadata": {},
   "outputs": [],
   "source": [
    "list_near_duplicate_pairs = near_duplicate_pairs(index, set_near_duplicates, n_stacks)\n",
    "n_duplicate_pairs = len(list_near_duplicate_pairs)"
   ]
  },
  {
   "cell_type": "code",
   "execution_count": 53,
   "id": "561cd65b-4aa5-4f8c-b4a2-423baa352721",
   "metadata": {},
   "outputs": [
    {
     "data": {
      "text/plain": [
       "399482    0.795700\n",
       "179563    0.781358\n",
       "Name: TfIdf, dtype: float64"
      ]
     },
     "execution_count": 53,
     "metadata": {},
     "output_type": "execute_result"
    }
   ],
   "source": [
    "near_duplicates_sim = df_measures['TfIdf'][list_near_duplicate_pairs].sort_values(ascending = False)\n",
    "near_duplicates_sim"
   ]
  },
  {
   "cell_type": "code",
   "execution_count": 54,
   "id": "6510bce7-6663-4db3-8455-0b846720c6f1",
   "metadata": {
    "tags": []
   },
   "outputs": [
    {
     "data": {
      "text/plain": [
       "{199, 552}"
      ]
     },
     "execution_count": 54,
     "metadata": {},
     "output_type": "execute_result"
    }
   ],
   "source": [
    "set_real_nns, real_nns_sim = real_nns(index, df_measures, 'TfIdf', n_stacks, n_duplicate_pairs)\n",
    "set_real_nns"
   ]
  },
  {
   "cell_type": "code",
   "execution_count": 55,
   "id": "0c2d9881-6df4-463f-9dd1-7d02a9fd1347",
   "metadata": {},
   "outputs": [
    {
     "data": {
      "text/plain": [
       "399482    0.795700\n",
       "179563    0.781358\n",
       "dtype: float64"
      ]
     },
     "execution_count": 55,
     "metadata": {},
     "output_type": "execute_result"
    }
   ],
   "source": [
    "real_nns_sim[:n_duplicate_pairs]"
   ]
  },
  {
   "cell_type": "markdown",
   "id": "78b9f9fc-d7c0-46a0-afc0-9d6295866fbf",
   "metadata": {},
   "source": [
    "## 4.4. Metrics"
   ]
  },
  {
   "cell_type": "markdown",
   "id": "afd58871-f8ad-400a-bcc4-335221388b4c",
   "metadata": {},
   "source": [
    "### 4.4.1. Ratio of finding the $k$ real nearest neighbor with the Least $L$ (Recal rate at $k$ first positions)"
   ]
  },
  {
   "cell_type": "code",
   "execution_count": 57,
   "id": "11514265-e84c-4f88-bd7a-b41e9f4ce8ed",
   "metadata": {
    "tags": []
   },
   "outputs": [
    {
     "data": {
      "text/plain": [
       "0.757"
      ]
     },
     "execution_count": 57,
     "metadata": {},
     "output_type": "execute_result"
    }
   ],
   "source": [
    "'All params'\n",
    "k_first_positions = 1\n",
    "recal_rate(n_stacks, params, hash_vectors_hamming, b, df_measures, k_first_positions, 'TfIdf')"
   ]
  },
  {
   "cell_type": "code",
   "execution_count": 58,
   "id": "92bc121e-7e28-48ba-b9a4-c66ebc610bf5",
   "metadata": {},
   "outputs": [
    {
     "data": {
      "text/plain": [
       "0.9285714285714286"
      ]
     },
     "execution_count": 58,
     "metadata": {},
     "output_type": "execute_result"
    }
   ],
   "source": [
    "'Best param'\n",
    "k_first_positions = 1\n",
    "recal_rate_one_param(n_stacks, params[4], hash_vectors_hamming, b, df_measures, k_first_positions, 'TfIdf')"
   ]
  },
  {
   "cell_type": "markdown",
   "id": "5a3cd969-cb8f-4c45-bbb1-13717ce0f321",
   "metadata": {},
   "source": [
    "-----------------------------------------------------------------"
   ]
  },
  {
   "cell_type": "code",
   "execution_count": 59,
   "id": "36dc56b0-9354-43c9-b42d-c77c878291d7",
   "metadata": {},
   "outputs": [
    {
     "data": {
      "text/plain": [
       "0.8523333333333334"
      ]
     },
     "execution_count": 59,
     "metadata": {},
     "output_type": "execute_result"
    }
   ],
   "source": [
    "'All params'\n",
    "k_first_positions = 3\n",
    "recal_rate(n_stacks, params, hash_vectors_hamming, b, df_measures, k_first_positions, 'TfIdf')"
   ]
  },
  {
   "cell_type": "code",
   "execution_count": 60,
   "id": "e8fef90e-3dcf-42fe-ad7f-e33f73eff4fe",
   "metadata": {},
   "outputs": [
    {
     "data": {
      "text/plain": [
       "0.8220338983050851"
      ]
     },
     "execution_count": 60,
     "metadata": {},
     "output_type": "execute_result"
    }
   ],
   "source": [
    "'Best param'\n",
    "k_first_positions = 3\n",
    "recal_rate_one_param(n_stacks, params[2], hash_vectors_hamming, b, df_measures, k_first_positions, 'TfIdf')"
   ]
  },
  {
   "cell_type": "markdown",
   "id": "936a4e3c-3d4e-457d-bc8f-3488076a55c6",
   "metadata": {},
   "source": [
    "-----------------------------------------------------------------"
   ]
  },
  {
   "cell_type": "code",
   "execution_count": 61,
   "id": "03343cce-b8fa-4353-80d4-bd56fa2ec809",
   "metadata": {},
   "outputs": [
    {
     "data": {
      "text/plain": [
       "0.8829999999999997"
      ]
     },
     "execution_count": 61,
     "metadata": {},
     "output_type": "execute_result"
    }
   ],
   "source": [
    "'All params'\n",
    "k_first_positions = 5\n",
    "recal_rate(n_stacks, params, hash_vectors_hamming, b, df_measures, k_first_positions, 'TfIdf')"
   ]
  },
  {
   "cell_type": "code",
   "execution_count": 62,
   "id": "5cff951e-a903-4729-ab28-3e232f554fb3",
   "metadata": {},
   "outputs": [
    {
     "data": {
      "text/plain": [
       "0.8365384615384612"
      ]
     },
     "execution_count": 62,
     "metadata": {},
     "output_type": "execute_result"
    }
   ],
   "source": [
    "'Best param'\n",
    "k_first_positions = 5\n",
    "recal_rate_one_param(n_stacks, params[2], hash_vectors_hamming, b, df_measures, k_first_positions, 'TfIdf')"
   ]
  },
  {
   "cell_type": "markdown",
   "id": "fdc20355-d0fa-40ff-b7b0-63b70fa0c691",
   "metadata": {},
   "source": [
    "### 4.4.2. Accuracy of finding the real nearest neighbors (Generalized MRR)"
   ]
  },
  {
   "cell_type": "markdown",
   "id": "331b8c3a-a410-4389-bce9-69d0583b6f8a",
   "metadata": {},
   "source": [
    "$ \\frac{1}{|\\mathcal{R}_i|} \\sum_{s' \\in \\mathcal{R}_i} \\frac{\\text{rank}(s',\\mathcal{R}_i)}{\\text{rank}(s',NNs(s_i))} $"
   ]
  },
  {
   "cell_type": "code",
   "execution_count": 63,
   "id": "665d3af5-6e98-4bc5-901c-11d2cc918e97",
   "metadata": {},
   "outputs": [
    {
     "data": {
      "text/plain": [
       "1.0"
      ]
     },
     "execution_count": 63,
     "metadata": {},
     "output_type": "execute_result"
    }
   ],
   "source": [
    "generalized_mrr(near_duplicates_sim, real_nns_sim)"
   ]
  },
  {
   "cell_type": "code",
   "execution_count": 64,
   "id": "cf196055-9efb-4c91-852e-fe4544a2d43d",
   "metadata": {},
   "outputs": [
    {
     "name": "stdout",
     "output_type": "stream",
     "text": [
      "(1, 64)\n",
      "0\n",
      "100\n",
      "200\n",
      "300\n",
      "400\n",
      "500\n",
      "600\n",
      "700\n",
      "800\n",
      "900\n",
      "-----------------------------\n",
      "(2, 32)\n",
      "0\n",
      "100\n",
      "200\n",
      "300\n",
      "400\n",
      "500\n",
      "600\n",
      "700\n",
      "800\n",
      "900\n",
      "-----------------------------\n",
      "(4, 16)\n",
      "0\n",
      "100\n",
      "200\n",
      "300\n",
      "400\n",
      "500\n",
      "600\n",
      "700\n",
      "800\n",
      "900\n",
      "-----------------------------\n",
      "(8, 8)\n",
      "0\n",
      "100\n",
      "200\n",
      "300\n",
      "400\n",
      "500\n",
      "600\n",
      "700\n",
      "800\n",
      "900\n",
      "-----------------------------\n",
      "(16, 4)\n",
      "0\n",
      "100\n",
      "200\n",
      "300\n",
      "400\n",
      "500\n",
      "600\n",
      "700\n",
      "800\n",
      "900\n",
      "-----------------------------\n",
      "(32, 2)\n",
      "0\n",
      "100\n",
      "200\n",
      "300\n",
      "400\n",
      "500\n",
      "600\n",
      "700\n",
      "800\n",
      "900\n",
      "-----------------------------\n",
      "(64, 1)\n",
      "0\n",
      "100\n",
      "200\n",
      "300\n",
      "400\n",
      "500\n",
      "600\n",
      "700\n",
      "800\n",
      "900\n",
      "-----------------------------\n"
     ]
    },
    {
     "data": {
      "text/plain": [
       "(1, 64)    0.889230\n",
       "(2, 32)    0.862530\n",
       "(4, 16)    0.902559\n",
       "(8, 8)     0.938293\n",
       "(16, 4)    0.858577\n",
       "(32, 2)    0.849348\n",
       "(64, 1)    0.991609\n",
       "dtype: float64"
      ]
     },
     "execution_count": 64,
     "metadata": {},
     "output_type": "execute_result"
    }
   ],
   "source": [
    "df_knns = mean_generalized_mrr(n_stacks, params, hash_vectors_hamming, b, df_measures ,'TfIdf', trace = True)\n",
    "df_knns.mean(skipna = True, axis = 0)"
   ]
  },
  {
   "cell_type": "code",
   "execution_count": 65,
   "id": "428fccf1-182e-4a58-86e4-7c2cfc269c21",
   "metadata": {},
   "outputs": [
    {
     "data": {
      "text/plain": [
       "0.9025589126323421"
      ]
     },
     "execution_count": 65,
     "metadata": {},
     "output_type": "execute_result"
    }
   ],
   "source": [
    "df_knns.mean(skipna = True, axis = 0)['(8, 8)']"
   ]
  }
 ],
 "metadata": {
  "kernelspec": {
   "display_name": "split-sd4x",
   "language": "python",
   "name": "split-sd4x"
  },
  "language_info": {
   "codemirror_mode": {
    "name": "ipython",
    "version": 3
   },
   "file_extension": ".py",
   "mimetype": "text/x-python",
   "name": "python",
   "nbconvert_exporter": "python",
   "pygments_lexer": "ipython3",
   "version": "3.7.10"
  }
 },
 "nbformat": 4,
 "nbformat_minor": 5
}
